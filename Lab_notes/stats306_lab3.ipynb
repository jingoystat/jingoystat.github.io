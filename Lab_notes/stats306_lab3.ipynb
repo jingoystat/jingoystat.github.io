{
  "nbformat": 4,
  "nbformat_minor": 0,
  "metadata": {
    "colab": {
      "name": "stats306_lab3.ipynb",
      "provenance": [],
      "collapsed_sections": []
    },
    "kernelspec": {
      "name": "ir",
      "display_name": "R"
    }
  },
  "cells": [
    {
      "cell_type": "markdown",
      "metadata": {
        "id": "N_nBS2Sp8DIF"
      },
      "source": [
        "# **Lab 3: More on dplyr and chaining operators**"
      ]
    },
    {
      "cell_type": "code",
      "metadata": {
        "id": "ZrqhDSvJq7Ah",
        "colab": {
          "base_uri": "https://localhost:8080/"
        },
        "outputId": "13fc3674-b30a-47d5-dad5-4bc11930d8d9"
      },
      "source": [
        "library (tidyverse)"
      ],
      "execution_count": 1,
      "outputs": [
        {
          "output_type": "stream",
          "text": [
            "── \u001b[1mAttaching packages\u001b[22m ─────────────────────────────────────── tidyverse 1.3.0 ──\n",
            "\n",
            "\u001b[32m✔\u001b[39m \u001b[34mggplot2\u001b[39m 3.3.3     \u001b[32m✔\u001b[39m \u001b[34mpurrr  \u001b[39m 0.3.4\n",
            "\u001b[32m✔\u001b[39m \u001b[34mtibble \u001b[39m 3.0.6     \u001b[32m✔\u001b[39m \u001b[34mdplyr  \u001b[39m 1.0.4\n",
            "\u001b[32m✔\u001b[39m \u001b[34mtidyr  \u001b[39m 1.1.2     \u001b[32m✔\u001b[39m \u001b[34mstringr\u001b[39m 1.4.0\n",
            "\u001b[32m✔\u001b[39m \u001b[34mreadr  \u001b[39m 1.4.0     \u001b[32m✔\u001b[39m \u001b[34mforcats\u001b[39m 0.5.1\n",
            "\n",
            "── \u001b[1mConflicts\u001b[22m ────────────────────────────────────────── tidyverse_conflicts() ──\n",
            "\u001b[31m✖\u001b[39m \u001b[34mdplyr\u001b[39m::\u001b[32mfilter()\u001b[39m masks \u001b[34mstats\u001b[39m::filter()\n",
            "\u001b[31m✖\u001b[39m \u001b[34mdplyr\u001b[39m::\u001b[32mlag()\u001b[39m    masks \u001b[34mstats\u001b[39m::lag()\n",
            "\n"
          ],
          "name": "stderr"
        }
      ]
    },
    {
      "cell_type": "code",
      "metadata": {
        "id": "XtbivmNpq7_t",
        "colab": {
          "base_uri": "https://localhost:8080/"
        },
        "outputId": "d1a9f510-173a-47bc-dccc-d69325cba9c0"
      },
      "source": [
        "url <- \"https://raw.githubusercontent.com/Juanets/movie-stats/master/movies.csv\"\n",
        "movies <- read_csv(url)\n",
        "locale <- Sys.setlocale(category = \"LC_ALL\", locale = \"C\")"
      ],
      "execution_count": 2,
      "outputs": [
        {
          "output_type": "stream",
          "text": [
            "\n",
            "\u001b[36m──\u001b[39m \u001b[1m\u001b[1mColumn specification\u001b[1m\u001b[22m \u001b[36m────────────────────────────────────────────────────────\u001b[39m\n",
            "cols(\n",
            "  budget = \u001b[32mcol_double()\u001b[39m,\n",
            "  company = \u001b[31mcol_character()\u001b[39m,\n",
            "  country = \u001b[31mcol_character()\u001b[39m,\n",
            "  director = \u001b[31mcol_character()\u001b[39m,\n",
            "  genre = \u001b[31mcol_character()\u001b[39m,\n",
            "  gross = \u001b[32mcol_double()\u001b[39m,\n",
            "  name = \u001b[31mcol_character()\u001b[39m,\n",
            "  rating = \u001b[31mcol_character()\u001b[39m,\n",
            "  released = \u001b[31mcol_character()\u001b[39m,\n",
            "  runtime = \u001b[32mcol_double()\u001b[39m,\n",
            "  score = \u001b[32mcol_double()\u001b[39m,\n",
            "  star = \u001b[31mcol_character()\u001b[39m,\n",
            "  votes = \u001b[32mcol_double()\u001b[39m,\n",
            "  writer = \u001b[31mcol_character()\u001b[39m,\n",
            "  year = \u001b[32mcol_double()\u001b[39m\n",
            ")\n",
            "\n",
            "\n"
          ],
          "name": "stderr"
        }
      ]
    },
    {
      "cell_type": "markdown",
      "metadata": {
        "id": "5EdepGVTqoc7"
      },
      "source": [
        "## **summarise(): reduce variables to values**\n",
        "\n",
        "summarize() can be used to aggregate data or to compute a summarizing value of interest.\n",
        "\n"
      ]
    },
    {
      "cell_type": "code",
      "metadata": {
        "id": "82T0O0YPrTUO",
        "colab": {
          "base_uri": "https://localhost:8080/",
          "height": 99
        },
        "outputId": "9a90406a-18eb-4f78-d111-73c48d9aa00f"
      },
      "source": [
        "summarise(movies,\n",
        "tot_gross_in_bil = sum(gross)/1e9,\n",
        "mean_gross_in_mil = mean(gross)/1e6,\n",
        ")"
      ],
      "execution_count": null,
      "outputs": [
        {
          "output_type": "display_data",
          "data": {
            "text/plain": [
              "  tot_gross_in_bil mean_gross_in_mil\n",
              "1 228.4552         33.49783         "
            ],
            "text/latex": "A tibble: 1 × 2\n\\begin{tabular}{ll}\n tot\\_gross\\_in\\_bil & mean\\_gross\\_in\\_mil\\\\\n <dbl> & <dbl>\\\\\n\\hline\n\t 228.4552 & 33.49783\\\\\n\\end{tabular}\n",
            "text/markdown": "\nA tibble: 1 × 2\n\n| tot_gross_in_bil &lt;dbl&gt; | mean_gross_in_mil &lt;dbl&gt; |\n|---|---|\n| 228.4552 | 33.49783 |\n\n",
            "text/html": [
              "<table>\n",
              "<caption>A tibble: 1 × 2</caption>\n",
              "<thead>\n",
              "\t<tr><th scope=col>tot_gross_in_bil</th><th scope=col>mean_gross_in_mil</th></tr>\n",
              "\t<tr><th scope=col>&lt;dbl&gt;</th><th scope=col>&lt;dbl&gt;</th></tr>\n",
              "</thead>\n",
              "<tbody>\n",
              "\t<tr><td>228.4552</td><td>33.49783</td></tr>\n",
              "</tbody>\n",
              "</table>\n"
            ]
          },
          "metadata": {
            "tags": []
          }
        }
      ]
    },
    {
      "cell_type": "markdown",
      "metadata": {
        "id": "7tNbF6_9rYtx"
      },
      "source": [
        "summarize() is more useful on data previously grouped by one or\n",
        "more variables using group_by().\n",
        "\n",
        "Grouping allows you to compute summaries for each categories separately:"
      ]
    },
    {
      "cell_type": "code",
      "metadata": {
        "id": "77eFNZkU-HML",
        "colab": {
          "base_uri": "https://localhost:8080/",
          "height": 435
        },
        "outputId": "746111f4-89e5-41b6-cf17-e5f2864bda43"
      },
      "source": [
        "by_genre <- group_by(movies, genre)\n",
        "summarize(by_genre, tot_gross_in_bil = sum(gross)/1e9,\n",
        "mean_gross_in_mil = mean(gross)/1e6)"
      ],
      "execution_count": null,
      "outputs": [
        {
          "output_type": "display_data",
          "data": {
            "text/plain": [
              "   genre     tot_gross_in_bil mean_gross_in_mil\n",
              "1  Action    74.792634664     56.1928134       \n",
              "2  Adventure 20.895092830     53.3038082       \n",
              "3  Animation 25.342203262     91.4880984       \n",
              "4  Biography  8.617526666     24.0042526       \n",
              "5  Comedy    53.543423603     25.7420306       \n",
              "6  Crime     10.217836159     19.5743988       \n",
              "7  Drama     25.204622256     17.4547246       \n",
              "8  Family     0.118110208      8.4364434       \n",
              "9  Fantasy    0.644653115     20.1454098       \n",
              "10 Horror     7.117846856     25.6961980       \n",
              "11 Musical    0.008094993      2.0237483       \n",
              "12 Mystery    1.379951556     36.3145146       \n",
              "13 Romance    0.145764206      9.7176137       \n",
              "14 Sci-Fi     0.307801697     23.6770536       \n",
              "15 Thriller   0.099600218      5.5333454       \n",
              "16 War        0.001509775      0.7548875       \n",
              "17 Western    0.018519094      9.2595470       "
            ],
            "text/latex": "A tibble: 17 × 3\n\\begin{tabular}{lll}\n genre & tot\\_gross\\_in\\_bil & mean\\_gross\\_in\\_mil\\\\\n <chr> & <dbl> & <dbl>\\\\\n\\hline\n\t Action    & 74.792634664 & 56.1928134\\\\\n\t Adventure & 20.895092830 & 53.3038082\\\\\n\t Animation & 25.342203262 & 91.4880984\\\\\n\t Biography &  8.617526666 & 24.0042526\\\\\n\t Comedy    & 53.543423603 & 25.7420306\\\\\n\t Crime     & 10.217836159 & 19.5743988\\\\\n\t Drama     & 25.204622256 & 17.4547246\\\\\n\t Family    &  0.118110208 &  8.4364434\\\\\n\t Fantasy   &  0.644653115 & 20.1454098\\\\\n\t Horror    &  7.117846856 & 25.6961980\\\\\n\t Musical   &  0.008094993 &  2.0237483\\\\\n\t Mystery   &  1.379951556 & 36.3145146\\\\\n\t Romance   &  0.145764206 &  9.7176137\\\\\n\t Sci-Fi    &  0.307801697 & 23.6770536\\\\\n\t Thriller  &  0.099600218 &  5.5333454\\\\\n\t War       &  0.001509775 &  0.7548875\\\\\n\t Western   &  0.018519094 &  9.2595470\\\\\n\\end{tabular}\n",
            "text/markdown": "\nA tibble: 17 × 3\n\n| genre &lt;chr&gt; | tot_gross_in_bil &lt;dbl&gt; | mean_gross_in_mil &lt;dbl&gt; |\n|---|---|---|\n| Action    | 74.792634664 | 56.1928134 |\n| Adventure | 20.895092830 | 53.3038082 |\n| Animation | 25.342203262 | 91.4880984 |\n| Biography |  8.617526666 | 24.0042526 |\n| Comedy    | 53.543423603 | 25.7420306 |\n| Crime     | 10.217836159 | 19.5743988 |\n| Drama     | 25.204622256 | 17.4547246 |\n| Family    |  0.118110208 |  8.4364434 |\n| Fantasy   |  0.644653115 | 20.1454098 |\n| Horror    |  7.117846856 | 25.6961980 |\n| Musical   |  0.008094993 |  2.0237483 |\n| Mystery   |  1.379951556 | 36.3145146 |\n| Romance   |  0.145764206 |  9.7176137 |\n| Sci-Fi    |  0.307801697 | 23.6770536 |\n| Thriller  |  0.099600218 |  5.5333454 |\n| War       |  0.001509775 |  0.7548875 |\n| Western   |  0.018519094 |  9.2595470 |\n\n",
            "text/html": [
              "<table>\n",
              "<caption>A tibble: 17 × 3</caption>\n",
              "<thead>\n",
              "\t<tr><th scope=col>genre</th><th scope=col>tot_gross_in_bil</th><th scope=col>mean_gross_in_mil</th></tr>\n",
              "\t<tr><th scope=col>&lt;chr&gt;</th><th scope=col>&lt;dbl&gt;</th><th scope=col>&lt;dbl&gt;</th></tr>\n",
              "</thead>\n",
              "<tbody>\n",
              "\t<tr><td>Action   </td><td>74.792634664</td><td>56.1928134</td></tr>\n",
              "\t<tr><td>Adventure</td><td>20.895092830</td><td>53.3038082</td></tr>\n",
              "\t<tr><td>Animation</td><td>25.342203262</td><td>91.4880984</td></tr>\n",
              "\t<tr><td>Biography</td><td> 8.617526666</td><td>24.0042526</td></tr>\n",
              "\t<tr><td>Comedy   </td><td>53.543423603</td><td>25.7420306</td></tr>\n",
              "\t<tr><td>Crime    </td><td>10.217836159</td><td>19.5743988</td></tr>\n",
              "\t<tr><td>Drama    </td><td>25.204622256</td><td>17.4547246</td></tr>\n",
              "\t<tr><td>Family   </td><td> 0.118110208</td><td> 8.4364434</td></tr>\n",
              "\t<tr><td>Fantasy  </td><td> 0.644653115</td><td>20.1454098</td></tr>\n",
              "\t<tr><td>Horror   </td><td> 7.117846856</td><td>25.6961980</td></tr>\n",
              "\t<tr><td>Musical  </td><td> 0.008094993</td><td> 2.0237483</td></tr>\n",
              "\t<tr><td>Mystery  </td><td> 1.379951556</td><td>36.3145146</td></tr>\n",
              "\t<tr><td>Romance  </td><td> 0.145764206</td><td> 9.7176137</td></tr>\n",
              "\t<tr><td>Sci-Fi   </td><td> 0.307801697</td><td>23.6770536</td></tr>\n",
              "\t<tr><td>Thriller </td><td> 0.099600218</td><td> 5.5333454</td></tr>\n",
              "\t<tr><td>War      </td><td> 0.001509775</td><td> 0.7548875</td></tr>\n",
              "\t<tr><td>Western  </td><td> 0.018519094</td><td> 9.2595470</td></tr>\n",
              "</tbody>\n",
              "</table>\n"
            ]
          },
          "metadata": {
            "tags": []
          }
        }
      ]
    },
    {
      "cell_type": "markdown",
      "metadata": {
        "id": "xLmOetDB-JAe"
      },
      "source": [
        "## **Elementary but useful summary functions**\n",
        "\n",
        "\n",
        "*   min(x), median(x), max(x), quantile(x, p)\n",
        "*   n(), n_distinct(), sum(x), mean(x)\n",
        "*   sum(x > 10), mean(x > 0)\n",
        "*   sd(x), var(x)\n",
        "\n"
      ]
    },
    {
      "cell_type": "markdown",
      "metadata": {
        "id": "LVID1j8y-oN7"
      },
      "source": [
        "## **Counting observations**\n",
        "\n",
        "tally() function can be used to generate a group frequency table, (number of\n",
        "observations in each category)"
      ]
    },
    {
      "cell_type": "code",
      "metadata": {
        "id": "MDzenX1A-u_p",
        "colab": {
          "base_uri": "https://localhost:8080/",
          "height": 435
        },
        "outputId": "f0b2131d-3794-4def-b31f-9f2167e4829d"
      },
      "source": [
        "tally(group_by(movies, genre))"
      ],
      "execution_count": null,
      "outputs": [
        {
          "output_type": "display_data",
          "data": {
            "text/plain": [
              "   genre     n   \n",
              "1  Action    1331\n",
              "2  Adventure  392\n",
              "3  Animation  277\n",
              "4  Biography  359\n",
              "5  Comedy    2080\n",
              "6  Crime      522\n",
              "7  Drama     1444\n",
              "8  Family      14\n",
              "9  Fantasy     32\n",
              "10 Horror     277\n",
              "11 Musical      4\n",
              "12 Mystery     38\n",
              "13 Romance     15\n",
              "14 Sci-Fi      13\n",
              "15 Thriller    18\n",
              "16 War          2\n",
              "17 Western      2"
            ],
            "text/latex": "A tibble: 17 × 2\n\\begin{tabular}{ll}\n genre & n\\\\\n <chr> & <int>\\\\\n\\hline\n\t Action    & 1331\\\\\n\t Adventure &  392\\\\\n\t Animation &  277\\\\\n\t Biography &  359\\\\\n\t Comedy    & 2080\\\\\n\t Crime     &  522\\\\\n\t Drama     & 1444\\\\\n\t Family    &   14\\\\\n\t Fantasy   &   32\\\\\n\t Horror    &  277\\\\\n\t Musical   &    4\\\\\n\t Mystery   &   38\\\\\n\t Romance   &   15\\\\\n\t Sci-Fi    &   13\\\\\n\t Thriller  &   18\\\\\n\t War       &    2\\\\\n\t Western   &    2\\\\\n\\end{tabular}\n",
            "text/markdown": "\nA tibble: 17 × 2\n\n| genre &lt;chr&gt; | n &lt;int&gt; |\n|---|---|\n| Action    | 1331 |\n| Adventure |  392 |\n| Animation |  277 |\n| Biography |  359 |\n| Comedy    | 2080 |\n| Crime     |  522 |\n| Drama     | 1444 |\n| Family    |   14 |\n| Fantasy   |   32 |\n| Horror    |  277 |\n| Musical   |    4 |\n| Mystery   |   38 |\n| Romance   |   15 |\n| Sci-Fi    |   13 |\n| Thriller  |   18 |\n| War       |    2 |\n| Western   |    2 |\n\n",
            "text/html": [
              "<table>\n",
              "<caption>A tibble: 17 × 2</caption>\n",
              "<thead>\n",
              "\t<tr><th scope=col>genre</th><th scope=col>n</th></tr>\n",
              "\t<tr><th scope=col>&lt;chr&gt;</th><th scope=col>&lt;int&gt;</th></tr>\n",
              "</thead>\n",
              "<tbody>\n",
              "\t<tr><td>Action   </td><td>1331</td></tr>\n",
              "\t<tr><td>Adventure</td><td> 392</td></tr>\n",
              "\t<tr><td>Animation</td><td> 277</td></tr>\n",
              "\t<tr><td>Biography</td><td> 359</td></tr>\n",
              "\t<tr><td>Comedy   </td><td>2080</td></tr>\n",
              "\t<tr><td>Crime    </td><td> 522</td></tr>\n",
              "\t<tr><td>Drama    </td><td>1444</td></tr>\n",
              "\t<tr><td>Family   </td><td>  14</td></tr>\n",
              "\t<tr><td>Fantasy  </td><td>  32</td></tr>\n",
              "\t<tr><td>Horror   </td><td> 277</td></tr>\n",
              "\t<tr><td>Musical  </td><td>   4</td></tr>\n",
              "\t<tr><td>Mystery  </td><td>  38</td></tr>\n",
              "\t<tr><td>Romance  </td><td>  15</td></tr>\n",
              "\t<tr><td>Sci-Fi   </td><td>  13</td></tr>\n",
              "\t<tr><td>Thriller </td><td>  18</td></tr>\n",
              "\t<tr><td>War      </td><td>   2</td></tr>\n",
              "\t<tr><td>Western  </td><td>   2</td></tr>\n",
              "</tbody>\n",
              "</table>\n"
            ]
          },
          "metadata": {
            "tags": []
          }
        }
      ]
    },
    {
      "cell_type": "code",
      "metadata": {
        "id": "RxsZ1tjf-xTo",
        "colab": {
          "base_uri": "https://localhost:8080/",
          "height": 1000
        },
        "outputId": "3d934e29-3c1d-4819-fe2a-085de26a2c72"
      },
      "source": [
        "tally(group_by(movies, genre, country))"
      ],
      "execution_count": null,
      "outputs": [
        {
          "output_type": "display_data",
          "data": {
            "text/plain": [
              "       genre    country        n     \n",
              "1      Action   Aruba           1    \n",
              "2      Action   Australia      12    \n",
              "3      Action   Austria         1    \n",
              "4      Action   Belgium         1    \n",
              "5      Action   Brazil          2    \n",
              "6      Action   Canada         26    \n",
              "7      Action   China          13    \n",
              "8      Action   Czech Republic  1    \n",
              "9      Action   Denmark         2    \n",
              "10     Action   France         41    \n",
              "11     Action   Germany        32    \n",
              "12     Action   Hong Kong      20    \n",
              "13     Action   India           9    \n",
              "14     Action   Indonesia       2    \n",
              "15     Action   Ireland         2    \n",
              "16     Action   Japan          13    \n",
              "17     Action   Malta           1    \n",
              "18     Action   Mexico          2    \n",
              "19     Action   New Zealand     2    \n",
              "20     Action   Norway          2    \n",
              "21     Action   Panama          1    \n",
              "22     Action   Peru            2    \n",
              "23     Action   Romania         1    \n",
              "24     Action   Russia          4    \n",
              "25     Action   South Africa    3    \n",
              "26     Action   South Korea    10    \n",
              "27     Action   Spain           2    \n",
              "28     Action   Sweden          1    \n",
              "29     Action   Taiwan          2    \n",
              "30     Action   Thailand        2    \n",
              "<U+22EE> <U+22EE> <U+22EE>       <U+22EE>\n",
              "209    Horror   Mexico           1   \n",
              "210    Horror   Netherlands      1   \n",
              "211    Horror   Russia           1   \n",
              "212    Horror   South Africa     1   \n",
              "213    Horror   Spain            6   \n",
              "214    Horror   UK              20   \n",
              "215    Horror   USA            213   \n",
              "216    Musical  India            2   \n",
              "217    Musical  USA              2   \n",
              "218    Mystery  Australia        1   \n",
              "219    Mystery  Belgium          1   \n",
              "220    Mystery  Canada           1   \n",
              "221    Mystery  France           2   \n",
              "222    Mystery  Germany          3   \n",
              "223    Mystery  Spain            1   \n",
              "224    Mystery  UK               2   \n",
              "225    Mystery  USA             27   \n",
              "226    Romance  Canada           1   \n",
              "227    Romance  France           2   \n",
              "228    Romance  UK               5   \n",
              "229    Romance  USA              7   \n",
              "230    Sci-Fi   Canada           2   \n",
              "231    Sci-Fi   South Africa     1   \n",
              "232    Sci-Fi   UK               1   \n",
              "233    Sci-Fi   USA              9   \n",
              "234    Thriller Australia        1   \n",
              "235    Thriller UK               4   \n",
              "236    Thriller USA             13   \n",
              "237    War      USA              2   \n",
              "238    Western  UK               2   "
            ],
            "text/latex": "A grouped\\_df: 238 × 3\n\\begin{tabular}{lll}\n genre & country & n\\\\\n <chr> & <chr> & <int>\\\\\n\\hline\n\t Action & Aruba          &  1\\\\\n\t Action & Australia      & 12\\\\\n\t Action & Austria        &  1\\\\\n\t Action & Belgium        &  1\\\\\n\t Action & Brazil         &  2\\\\\n\t Action & Canada         & 26\\\\\n\t Action & China          & 13\\\\\n\t Action & Czech Republic &  1\\\\\n\t Action & Denmark        &  2\\\\\n\t Action & France         & 41\\\\\n\t Action & Germany        & 32\\\\\n\t Action & Hong Kong      & 20\\\\\n\t Action & India          &  9\\\\\n\t Action & Indonesia      &  2\\\\\n\t Action & Ireland        &  2\\\\\n\t Action & Japan          & 13\\\\\n\t Action & Malta          &  1\\\\\n\t Action & Mexico         &  2\\\\\n\t Action & New Zealand    &  2\\\\\n\t Action & Norway         &  2\\\\\n\t Action & Panama         &  1\\\\\n\t Action & Peru           &  2\\\\\n\t Action & Romania        &  1\\\\\n\t Action & Russia         &  4\\\\\n\t Action & South Africa   &  3\\\\\n\t Action & South Korea    & 10\\\\\n\t Action & Spain          &  2\\\\\n\t Action & Sweden         &  1\\\\\n\t Action & Taiwan         &  2\\\\\n\t Action & Thailand       &  2\\\\\n\t ⋮ & ⋮ & ⋮\\\\\n\t Horror   & Mexico       &   1\\\\\n\t Horror   & Netherlands  &   1\\\\\n\t Horror   & Russia       &   1\\\\\n\t Horror   & South Africa &   1\\\\\n\t Horror   & Spain        &   6\\\\\n\t Horror   & UK           &  20\\\\\n\t Horror   & USA          & 213\\\\\n\t Musical  & India        &   2\\\\\n\t Musical  & USA          &   2\\\\\n\t Mystery  & Australia    &   1\\\\\n\t Mystery  & Belgium      &   1\\\\\n\t Mystery  & Canada       &   1\\\\\n\t Mystery  & France       &   2\\\\\n\t Mystery  & Germany      &   3\\\\\n\t Mystery  & Spain        &   1\\\\\n\t Mystery  & UK           &   2\\\\\n\t Mystery  & USA          &  27\\\\\n\t Romance  & Canada       &   1\\\\\n\t Romance  & France       &   2\\\\\n\t Romance  & UK           &   5\\\\\n\t Romance  & USA          &   7\\\\\n\t Sci-Fi   & Canada       &   2\\\\\n\t Sci-Fi   & South Africa &   1\\\\\n\t Sci-Fi   & UK           &   1\\\\\n\t Sci-Fi   & USA          &   9\\\\\n\t Thriller & Australia    &   1\\\\\n\t Thriller & UK           &   4\\\\\n\t Thriller & USA          &  13\\\\\n\t War      & USA          &   2\\\\\n\t Western  & UK           &   2\\\\\n\\end{tabular}\n",
            "text/markdown": "\nA grouped_df: 238 × 3\n\n| genre &lt;chr&gt; | country &lt;chr&gt; | n &lt;int&gt; |\n|---|---|---|\n| Action | Aruba          |  1 |\n| Action | Australia      | 12 |\n| Action | Austria        |  1 |\n| Action | Belgium        |  1 |\n| Action | Brazil         |  2 |\n| Action | Canada         | 26 |\n| Action | China          | 13 |\n| Action | Czech Republic |  1 |\n| Action | Denmark        |  2 |\n| Action | France         | 41 |\n| Action | Germany        | 32 |\n| Action | Hong Kong      | 20 |\n| Action | India          |  9 |\n| Action | Indonesia      |  2 |\n| Action | Ireland        |  2 |\n| Action | Japan          | 13 |\n| Action | Malta          |  1 |\n| Action | Mexico         |  2 |\n| Action | New Zealand    |  2 |\n| Action | Norway         |  2 |\n| Action | Panama         |  1 |\n| Action | Peru           |  2 |\n| Action | Romania        |  1 |\n| Action | Russia         |  4 |\n| Action | South Africa   |  3 |\n| Action | South Korea    | 10 |\n| Action | Spain          |  2 |\n| Action | Sweden         |  1 |\n| Action | Taiwan         |  2 |\n| Action | Thailand       |  2 |\n| ⋮ | ⋮ | ⋮ |\n| Horror   | Mexico       |   1 |\n| Horror   | Netherlands  |   1 |\n| Horror   | Russia       |   1 |\n| Horror   | South Africa |   1 |\n| Horror   | Spain        |   6 |\n| Horror   | UK           |  20 |\n| Horror   | USA          | 213 |\n| Musical  | India        |   2 |\n| Musical  | USA          |   2 |\n| Mystery  | Australia    |   1 |\n| Mystery  | Belgium      |   1 |\n| Mystery  | Canada       |   1 |\n| Mystery  | France       |   2 |\n| Mystery  | Germany      |   3 |\n| Mystery  | Spain        |   1 |\n| Mystery  | UK           |   2 |\n| Mystery  | USA          |  27 |\n| Romance  | Canada       |   1 |\n| Romance  | France       |   2 |\n| Romance  | UK           |   5 |\n| Romance  | USA          |   7 |\n| Sci-Fi   | Canada       |   2 |\n| Sci-Fi   | South Africa |   1 |\n| Sci-Fi   | UK           |   1 |\n| Sci-Fi   | USA          |   9 |\n| Thriller | Australia    |   1 |\n| Thriller | UK           |   4 |\n| Thriller | USA          |  13 |\n| War      | USA          |   2 |\n| Western  | UK           |   2 |\n\n",
            "text/html": [
              "<table>\n",
              "<caption>A grouped_df: 238 × 3</caption>\n",
              "<thead>\n",
              "\t<tr><th scope=col>genre</th><th scope=col>country</th><th scope=col>n</th></tr>\n",
              "\t<tr><th scope=col>&lt;chr&gt;</th><th scope=col>&lt;chr&gt;</th><th scope=col>&lt;int&gt;</th></tr>\n",
              "</thead>\n",
              "<tbody>\n",
              "\t<tr><td>Action</td><td>Aruba         </td><td> 1</td></tr>\n",
              "\t<tr><td>Action</td><td>Australia     </td><td>12</td></tr>\n",
              "\t<tr><td>Action</td><td>Austria       </td><td> 1</td></tr>\n",
              "\t<tr><td>Action</td><td>Belgium       </td><td> 1</td></tr>\n",
              "\t<tr><td>Action</td><td>Brazil        </td><td> 2</td></tr>\n",
              "\t<tr><td>Action</td><td>Canada        </td><td>26</td></tr>\n",
              "\t<tr><td>Action</td><td>China         </td><td>13</td></tr>\n",
              "\t<tr><td>Action</td><td>Czech Republic</td><td> 1</td></tr>\n",
              "\t<tr><td>Action</td><td>Denmark       </td><td> 2</td></tr>\n",
              "\t<tr><td>Action</td><td>France        </td><td>41</td></tr>\n",
              "\t<tr><td>Action</td><td>Germany       </td><td>32</td></tr>\n",
              "\t<tr><td>Action</td><td>Hong Kong     </td><td>20</td></tr>\n",
              "\t<tr><td>Action</td><td>India         </td><td> 9</td></tr>\n",
              "\t<tr><td>Action</td><td>Indonesia     </td><td> 2</td></tr>\n",
              "\t<tr><td>Action</td><td>Ireland       </td><td> 2</td></tr>\n",
              "\t<tr><td>Action</td><td>Japan         </td><td>13</td></tr>\n",
              "\t<tr><td>Action</td><td>Malta         </td><td> 1</td></tr>\n",
              "\t<tr><td>Action</td><td>Mexico        </td><td> 2</td></tr>\n",
              "\t<tr><td>Action</td><td>New Zealand   </td><td> 2</td></tr>\n",
              "\t<tr><td>Action</td><td>Norway        </td><td> 2</td></tr>\n",
              "\t<tr><td>Action</td><td>Panama        </td><td> 1</td></tr>\n",
              "\t<tr><td>Action</td><td>Peru          </td><td> 2</td></tr>\n",
              "\t<tr><td>Action</td><td>Romania       </td><td> 1</td></tr>\n",
              "\t<tr><td>Action</td><td>Russia        </td><td> 4</td></tr>\n",
              "\t<tr><td>Action</td><td>South Africa  </td><td> 3</td></tr>\n",
              "\t<tr><td>Action</td><td>South Korea   </td><td>10</td></tr>\n",
              "\t<tr><td>Action</td><td>Spain         </td><td> 2</td></tr>\n",
              "\t<tr><td>Action</td><td>Sweden        </td><td> 1</td></tr>\n",
              "\t<tr><td>Action</td><td>Taiwan        </td><td> 2</td></tr>\n",
              "\t<tr><td>Action</td><td>Thailand      </td><td> 2</td></tr>\n",
              "\t<tr><td>⋮</td><td>⋮</td><td>⋮</td></tr>\n",
              "\t<tr><td>Horror  </td><td>Mexico      </td><td>  1</td></tr>\n",
              "\t<tr><td>Horror  </td><td>Netherlands </td><td>  1</td></tr>\n",
              "\t<tr><td>Horror  </td><td>Russia      </td><td>  1</td></tr>\n",
              "\t<tr><td>Horror  </td><td>South Africa</td><td>  1</td></tr>\n",
              "\t<tr><td>Horror  </td><td>Spain       </td><td>  6</td></tr>\n",
              "\t<tr><td>Horror  </td><td>UK          </td><td> 20</td></tr>\n",
              "\t<tr><td>Horror  </td><td>USA         </td><td>213</td></tr>\n",
              "\t<tr><td>Musical </td><td>India       </td><td>  2</td></tr>\n",
              "\t<tr><td>Musical </td><td>USA         </td><td>  2</td></tr>\n",
              "\t<tr><td>Mystery </td><td>Australia   </td><td>  1</td></tr>\n",
              "\t<tr><td>Mystery </td><td>Belgium     </td><td>  1</td></tr>\n",
              "\t<tr><td>Mystery </td><td>Canada      </td><td>  1</td></tr>\n",
              "\t<tr><td>Mystery </td><td>France      </td><td>  2</td></tr>\n",
              "\t<tr><td>Mystery </td><td>Germany     </td><td>  3</td></tr>\n",
              "\t<tr><td>Mystery </td><td>Spain       </td><td>  1</td></tr>\n",
              "\t<tr><td>Mystery </td><td>UK          </td><td>  2</td></tr>\n",
              "\t<tr><td>Mystery </td><td>USA         </td><td> 27</td></tr>\n",
              "\t<tr><td>Romance </td><td>Canada      </td><td>  1</td></tr>\n",
              "\t<tr><td>Romance </td><td>France      </td><td>  2</td></tr>\n",
              "\t<tr><td>Romance </td><td>UK          </td><td>  5</td></tr>\n",
              "\t<tr><td>Romance </td><td>USA         </td><td>  7</td></tr>\n",
              "\t<tr><td>Sci-Fi  </td><td>Canada      </td><td>  2</td></tr>\n",
              "\t<tr><td>Sci-Fi  </td><td>South Africa</td><td>  1</td></tr>\n",
              "\t<tr><td>Sci-Fi  </td><td>UK          </td><td>  1</td></tr>\n",
              "\t<tr><td>Sci-Fi  </td><td>USA         </td><td>  9</td></tr>\n",
              "\t<tr><td>Thriller</td><td>Australia   </td><td>  1</td></tr>\n",
              "\t<tr><td>Thriller</td><td>UK          </td><td>  4</td></tr>\n",
              "\t<tr><td>Thriller</td><td>USA         </td><td> 13</td></tr>\n",
              "\t<tr><td>War     </td><td>USA         </td><td>  2</td></tr>\n",
              "\t<tr><td>Western </td><td>UK          </td><td>  2</td></tr>\n",
              "</tbody>\n",
              "</table>\n"
            ]
          },
          "metadata": {
            "tags": []
          }
        }
      ]
    },
    {
      "cell_type": "markdown",
      "metadata": {
        "id": "-VfTYQgg-1DP"
      },
      "source": [
        "## **Window functions**\n",
        "\n",
        "\n",
        "*   Aggregation functions such as mean(), n() return 1 value per group.\n",
        "*   Window functions return multiple values per group, e.g.\n",
        "top_n(), lead and lag or cummean:\n"
      ]
    },
    {
      "cell_type": "code",
      "metadata": {
        "id": "Jjzx_rWY-9bm",
        "colab": {
          "base_uri": "https://localhost:8080/",
          "height": 881
        },
        "outputId": "86d101f9-7f48-4365-cf66-c8af6a434482"
      },
      "source": [
        "# rewrite more simply with the `top_n` function\n",
        "movies2 <- select(movies, name, genre, country, year, budget, gross, rating, score)\n",
        "top2 <- top_n(group_by(movies2, genre), n = 2, wt = score)\n",
        "arrange(top2, genre, year, score)"
      ],
      "execution_count": null,
      "outputs": [
        {
          "output_type": "display_data",
          "data": {
            "text/plain": [
              "   name                                              genre     country     \n",
              "1  The Dark Knight                                   Action    USA         \n",
              "2  Inception                                         Action    USA         \n",
              "3  The Lord of the Rings: The Fellowship of the Ring Adventure New Zealand \n",
              "4  The Lord of the Rings: The Return of the King     Adventure USA         \n",
              "5  The Lion King                                     Animation USA         \n",
              "6  Spirited Away                                     Animation Japan       \n",
              "7  Your name                                         Animation Japan       \n",
              "8  Schindler's List                                  Biography USA         \n",
              "9  The Intouchables                                  Biography France      \n",
              "10 Forrest Gump                                      Comedy    USA         \n",
              "11 Life Is Beautiful                                 Comedy    Italy       \n",
              "12 Pulp Fiction                                      Crime     USA         \n",
              "13 The Shawshank Redemption                          Crime     USA         \n",
              "14 Saving Private Ryan                               Drama     USA         \n",
              "15 Fight Club                                        Drama     USA         \n",
              "16 Nutcracker                                        Family    USA         \n",
              "17 Little Nemo: Adventures in Slumberland            Family    Japan       \n",
              "18 The City of Lost Children                         Fantasy   France      \n",
              "19 Sleepy Hollow                                     Fantasy   USA         \n",
              "20 Los otros                                         Horror    Spain       \n",
              "21 Saw                                               Horror    USA         \n",
              "22 True Stories                                      Musical   USA         \n",
              "23 Devdas                                            Musical   India       \n",
              "24 Memento                                           Mystery   USA         \n",
              "25 Shutter Island                                    Mystery   USA         \n",
              "26 Firelight                                         Romance   UK          \n",
              "27 He Loves Me... He Loves Me Not                    Romance   France      \n",
              "28 The Butterfly Effect                              Sci-Fi    USA         \n",
              "29 Sector 9                                          Sci-Fi    South Africa\n",
              "30 Defense of the Realm                              Thriller  UK          \n",
              "31 The Hitcher                                       Thriller  USA         \n",
              "32 Platoon Leader                                    War       USA         \n",
              "33 The Beast of War                                  War       USA         \n",
              "34 Posse                                             Western   UK          \n",
              "35 Slow West                                         Western   UK          \n",
              "   year budget   gross     rating        score\n",
              "1  2008 1.85e+08 534858444 PG-13         9.0  \n",
              "2  2010 1.60e+08 292576195 PG-13         8.8  \n",
              "3  2001 9.30e+07 315544750 PG-13         8.8  \n",
              "4  2003 9.40e+07 377845905 PG-13         8.9  \n",
              "5  1994 4.50e+07 312900000 G             8.5  \n",
              "6  2001 1.90e+07  10055859 PG            8.6  \n",
              "7  2016 0.00e+00   5017246 PG            8.5  \n",
              "8  1993 2.20e+07  96067179 R             8.9  \n",
              "9  2011 0.00e+00  13182281 R             8.6  \n",
              "10 1994 5.50e+07 330252182 PG-13         8.8  \n",
              "11 1997 2.00e+07  57598247 PG-13         8.6  \n",
              "12 1994 8.00e+06 107928762 R             8.9  \n",
              "13 1994 2.50e+07  28341469 R             9.3  \n",
              "14 1998 7.00e+07 216540909 R             8.6  \n",
              "15 1999 6.30e+07  37030102 R             8.8  \n",
              "16 1986 0.00e+00    781727 G             7.2  \n",
              "17 1989 3.50e+07   1368210 G             7.2  \n",
              "18 1995 1.80e+07   1513028 R             7.7  \n",
              "19 1999 1.00e+08 101071502 R             7.4  \n",
              "20 2001 1.70e+07  96522687 PG-13         7.6  \n",
              "21 2004 1.20e+06  56000369 R             7.7  \n",
              "22 1986 0.00e+00   2545142 PG            7.0  \n",
              "23 2002 0.00e+00   3500000 Not specified 7.6  \n",
              "24 2000 9.00e+06  25544867 R             8.5  \n",
              "25 2010 8.00e+07 128012934 R             8.1  \n",
              "26 1997 0.00e+00    784419 R             7.3  \n",
              "27 2002 0.00e+00   1009827 PG-13         7.2  \n",
              "28 2004 1.30e+07  57938693 R             7.7  \n",
              "29 2009 3.00e+07 115646235 R             8.0  \n",
              "30 1986 0.00e+00    750000 PG            6.6  \n",
              "31 1986 6.00e+06   5844868 R             7.3  \n",
              "32 1988 0.00e+00   1348771 R             5.4  \n",
              "33 1988 0.00e+00    161004 R             7.4  \n",
              "34 1993 1.00e+07  18290000 R             5.5  \n",
              "35 2015 2.00e+06    229094 R             6.9  "
            ],
            "text/latex": "A grouped\\_df: 35 × 8\n\\begin{tabular}{llllllll}\n name & genre & country & year & budget & gross & rating & score\\\\\n <chr> & <chr> & <chr> & <dbl> & <dbl> & <dbl> & <chr> & <dbl>\\\\\n\\hline\n\t The Dark Knight                                   & Action    & USA          & 2008 & 1.85e+08 & 534858444 & PG-13         & 9.0\\\\\n\t Inception                                         & Action    & USA          & 2010 & 1.60e+08 & 292576195 & PG-13         & 8.8\\\\\n\t The Lord of the Rings: The Fellowship of the Ring & Adventure & New Zealand  & 2001 & 9.30e+07 & 315544750 & PG-13         & 8.8\\\\\n\t The Lord of the Rings: The Return of the King     & Adventure & USA          & 2003 & 9.40e+07 & 377845905 & PG-13         & 8.9\\\\\n\t The Lion King                                     & Animation & USA          & 1994 & 4.50e+07 & 312900000 & G             & 8.5\\\\\n\t Spirited Away                                     & Animation & Japan        & 2001 & 1.90e+07 &  10055859 & PG            & 8.6\\\\\n\t Your name                                         & Animation & Japan        & 2016 & 0.00e+00 &   5017246 & PG            & 8.5\\\\\n\t Schindler's List                                  & Biography & USA          & 1993 & 2.20e+07 &  96067179 & R             & 8.9\\\\\n\t The Intouchables                                  & Biography & France       & 2011 & 0.00e+00 &  13182281 & R             & 8.6\\\\\n\t Forrest Gump                                      & Comedy    & USA          & 1994 & 5.50e+07 & 330252182 & PG-13         & 8.8\\\\\n\t Life Is Beautiful                                 & Comedy    & Italy        & 1997 & 2.00e+07 &  57598247 & PG-13         & 8.6\\\\\n\t Pulp Fiction                                      & Crime     & USA          & 1994 & 8.00e+06 & 107928762 & R             & 8.9\\\\\n\t The Shawshank Redemption                          & Crime     & USA          & 1994 & 2.50e+07 &  28341469 & R             & 9.3\\\\\n\t Saving Private Ryan                               & Drama     & USA          & 1998 & 7.00e+07 & 216540909 & R             & 8.6\\\\\n\t Fight Club                                        & Drama     & USA          & 1999 & 6.30e+07 &  37030102 & R             & 8.8\\\\\n\t Nutcracker                                        & Family    & USA          & 1986 & 0.00e+00 &    781727 & G             & 7.2\\\\\n\t Little Nemo: Adventures in Slumberland            & Family    & Japan        & 1989 & 3.50e+07 &   1368210 & G             & 7.2\\\\\n\t The City of Lost Children                         & Fantasy   & France       & 1995 & 1.80e+07 &   1513028 & R             & 7.7\\\\\n\t Sleepy Hollow                                     & Fantasy   & USA          & 1999 & 1.00e+08 & 101071502 & R             & 7.4\\\\\n\t Los otros                                         & Horror    & Spain        & 2001 & 1.70e+07 &  96522687 & PG-13         & 7.6\\\\\n\t Saw                                               & Horror    & USA          & 2004 & 1.20e+06 &  56000369 & R             & 7.7\\\\\n\t True Stories                                      & Musical   & USA          & 1986 & 0.00e+00 &   2545142 & PG            & 7.0\\\\\n\t Devdas                                            & Musical   & India        & 2002 & 0.00e+00 &   3500000 & Not specified & 7.6\\\\\n\t Memento                                           & Mystery   & USA          & 2000 & 9.00e+06 &  25544867 & R             & 8.5\\\\\n\t Shutter Island                                    & Mystery   & USA          & 2010 & 8.00e+07 & 128012934 & R             & 8.1\\\\\n\t Firelight                                         & Romance   & UK           & 1997 & 0.00e+00 &    784419 & R             & 7.3\\\\\n\t He Loves Me... He Loves Me Not                    & Romance   & France       & 2002 & 0.00e+00 &   1009827 & PG-13         & 7.2\\\\\n\t The Butterfly Effect                              & Sci-Fi    & USA          & 2004 & 1.30e+07 &  57938693 & R             & 7.7\\\\\n\t Sector 9                                          & Sci-Fi    & South Africa & 2009 & 3.00e+07 & 115646235 & R             & 8.0\\\\\n\t Defense of the Realm                              & Thriller  & UK           & 1986 & 0.00e+00 &    750000 & PG            & 6.6\\\\\n\t The Hitcher                                       & Thriller  & USA          & 1986 & 6.00e+06 &   5844868 & R             & 7.3\\\\\n\t Platoon Leader                                    & War       & USA          & 1988 & 0.00e+00 &   1348771 & R             & 5.4\\\\\n\t The Beast of War                                  & War       & USA          & 1988 & 0.00e+00 &    161004 & R             & 7.4\\\\\n\t Posse                                             & Western   & UK           & 1993 & 1.00e+07 &  18290000 & R             & 5.5\\\\\n\t Slow West                                         & Western   & UK           & 2015 & 2.00e+06 &    229094 & R             & 6.9\\\\\n\\end{tabular}\n",
            "text/markdown": "\nA grouped_df: 35 × 8\n\n| name &lt;chr&gt; | genre &lt;chr&gt; | country &lt;chr&gt; | year &lt;dbl&gt; | budget &lt;dbl&gt; | gross &lt;dbl&gt; | rating &lt;chr&gt; | score &lt;dbl&gt; |\n|---|---|---|---|---|---|---|---|\n| The Dark Knight                                   | Action    | USA          | 2008 | 1.85e+08 | 534858444 | PG-13         | 9.0 |\n| Inception                                         | Action    | USA          | 2010 | 1.60e+08 | 292576195 | PG-13         | 8.8 |\n| The Lord of the Rings: The Fellowship of the Ring | Adventure | New Zealand  | 2001 | 9.30e+07 | 315544750 | PG-13         | 8.8 |\n| The Lord of the Rings: The Return of the King     | Adventure | USA          | 2003 | 9.40e+07 | 377845905 | PG-13         | 8.9 |\n| The Lion King                                     | Animation | USA          | 1994 | 4.50e+07 | 312900000 | G             | 8.5 |\n| Spirited Away                                     | Animation | Japan        | 2001 | 1.90e+07 |  10055859 | PG            | 8.6 |\n| Your name                                         | Animation | Japan        | 2016 | 0.00e+00 |   5017246 | PG            | 8.5 |\n| Schindler's List                                  | Biography | USA          | 1993 | 2.20e+07 |  96067179 | R             | 8.9 |\n| The Intouchables                                  | Biography | France       | 2011 | 0.00e+00 |  13182281 | R             | 8.6 |\n| Forrest Gump                                      | Comedy    | USA          | 1994 | 5.50e+07 | 330252182 | PG-13         | 8.8 |\n| Life Is Beautiful                                 | Comedy    | Italy        | 1997 | 2.00e+07 |  57598247 | PG-13         | 8.6 |\n| Pulp Fiction                                      | Crime     | USA          | 1994 | 8.00e+06 | 107928762 | R             | 8.9 |\n| The Shawshank Redemption                          | Crime     | USA          | 1994 | 2.50e+07 |  28341469 | R             | 9.3 |\n| Saving Private Ryan                               | Drama     | USA          | 1998 | 7.00e+07 | 216540909 | R             | 8.6 |\n| Fight Club                                        | Drama     | USA          | 1999 | 6.30e+07 |  37030102 | R             | 8.8 |\n| Nutcracker                                        | Family    | USA          | 1986 | 0.00e+00 |    781727 | G             | 7.2 |\n| Little Nemo: Adventures in Slumberland            | Family    | Japan        | 1989 | 3.50e+07 |   1368210 | G             | 7.2 |\n| The City of Lost Children                         | Fantasy   | France       | 1995 | 1.80e+07 |   1513028 | R             | 7.7 |\n| Sleepy Hollow                                     | Fantasy   | USA          | 1999 | 1.00e+08 | 101071502 | R             | 7.4 |\n| Los otros                                         | Horror    | Spain        | 2001 | 1.70e+07 |  96522687 | PG-13         | 7.6 |\n| Saw                                               | Horror    | USA          | 2004 | 1.20e+06 |  56000369 | R             | 7.7 |\n| True Stories                                      | Musical   | USA          | 1986 | 0.00e+00 |   2545142 | PG            | 7.0 |\n| Devdas                                            | Musical   | India        | 2002 | 0.00e+00 |   3500000 | Not specified | 7.6 |\n| Memento                                           | Mystery   | USA          | 2000 | 9.00e+06 |  25544867 | R             | 8.5 |\n| Shutter Island                                    | Mystery   | USA          | 2010 | 8.00e+07 | 128012934 | R             | 8.1 |\n| Firelight                                         | Romance   | UK           | 1997 | 0.00e+00 |    784419 | R             | 7.3 |\n| He Loves Me... He Loves Me Not                    | Romance   | France       | 2002 | 0.00e+00 |   1009827 | PG-13         | 7.2 |\n| The Butterfly Effect                              | Sci-Fi    | USA          | 2004 | 1.30e+07 |  57938693 | R             | 7.7 |\n| Sector 9                                          | Sci-Fi    | South Africa | 2009 | 3.00e+07 | 115646235 | R             | 8.0 |\n| Defense of the Realm                              | Thriller  | UK           | 1986 | 0.00e+00 |    750000 | PG            | 6.6 |\n| The Hitcher                                       | Thriller  | USA          | 1986 | 6.00e+06 |   5844868 | R             | 7.3 |\n| Platoon Leader                                    | War       | USA          | 1988 | 0.00e+00 |   1348771 | R             | 5.4 |\n| The Beast of War                                  | War       | USA          | 1988 | 0.00e+00 |    161004 | R             | 7.4 |\n| Posse                                             | Western   | UK           | 1993 | 1.00e+07 |  18290000 | R             | 5.5 |\n| Slow West                                         | Western   | UK           | 2015 | 2.00e+06 |    229094 | R             | 6.9 |\n\n",
            "text/html": [
              "<table>\n",
              "<caption>A grouped_df: 35 × 8</caption>\n",
              "<thead>\n",
              "\t<tr><th scope=col>name</th><th scope=col>genre</th><th scope=col>country</th><th scope=col>year</th><th scope=col>budget</th><th scope=col>gross</th><th scope=col>rating</th><th scope=col>score</th></tr>\n",
              "\t<tr><th scope=col>&lt;chr&gt;</th><th scope=col>&lt;chr&gt;</th><th scope=col>&lt;chr&gt;</th><th scope=col>&lt;dbl&gt;</th><th scope=col>&lt;dbl&gt;</th><th scope=col>&lt;dbl&gt;</th><th scope=col>&lt;chr&gt;</th><th scope=col>&lt;dbl&gt;</th></tr>\n",
              "</thead>\n",
              "<tbody>\n",
              "\t<tr><td>The Dark Knight                                  </td><td>Action   </td><td>USA         </td><td>2008</td><td>1.85e+08</td><td>534858444</td><td>PG-13        </td><td>9.0</td></tr>\n",
              "\t<tr><td>Inception                                        </td><td>Action   </td><td>USA         </td><td>2010</td><td>1.60e+08</td><td>292576195</td><td>PG-13        </td><td>8.8</td></tr>\n",
              "\t<tr><td>The Lord of the Rings: The Fellowship of the Ring</td><td>Adventure</td><td>New Zealand </td><td>2001</td><td>9.30e+07</td><td>315544750</td><td>PG-13        </td><td>8.8</td></tr>\n",
              "\t<tr><td>The Lord of the Rings: The Return of the King    </td><td>Adventure</td><td>USA         </td><td>2003</td><td>9.40e+07</td><td>377845905</td><td>PG-13        </td><td>8.9</td></tr>\n",
              "\t<tr><td>The Lion King                                    </td><td>Animation</td><td>USA         </td><td>1994</td><td>4.50e+07</td><td>312900000</td><td>G            </td><td>8.5</td></tr>\n",
              "\t<tr><td>Spirited Away                                    </td><td>Animation</td><td>Japan       </td><td>2001</td><td>1.90e+07</td><td> 10055859</td><td>PG           </td><td>8.6</td></tr>\n",
              "\t<tr><td>Your name                                        </td><td>Animation</td><td>Japan       </td><td>2016</td><td>0.00e+00</td><td>  5017246</td><td>PG           </td><td>8.5</td></tr>\n",
              "\t<tr><td>Schindler's List                                 </td><td>Biography</td><td>USA         </td><td>1993</td><td>2.20e+07</td><td> 96067179</td><td>R            </td><td>8.9</td></tr>\n",
              "\t<tr><td>The Intouchables                                 </td><td>Biography</td><td>France      </td><td>2011</td><td>0.00e+00</td><td> 13182281</td><td>R            </td><td>8.6</td></tr>\n",
              "\t<tr><td>Forrest Gump                                     </td><td>Comedy   </td><td>USA         </td><td>1994</td><td>5.50e+07</td><td>330252182</td><td>PG-13        </td><td>8.8</td></tr>\n",
              "\t<tr><td>Life Is Beautiful                                </td><td>Comedy   </td><td>Italy       </td><td>1997</td><td>2.00e+07</td><td> 57598247</td><td>PG-13        </td><td>8.6</td></tr>\n",
              "\t<tr><td>Pulp Fiction                                     </td><td>Crime    </td><td>USA         </td><td>1994</td><td>8.00e+06</td><td>107928762</td><td>R            </td><td>8.9</td></tr>\n",
              "\t<tr><td>The Shawshank Redemption                         </td><td>Crime    </td><td>USA         </td><td>1994</td><td>2.50e+07</td><td> 28341469</td><td>R            </td><td>9.3</td></tr>\n",
              "\t<tr><td>Saving Private Ryan                              </td><td>Drama    </td><td>USA         </td><td>1998</td><td>7.00e+07</td><td>216540909</td><td>R            </td><td>8.6</td></tr>\n",
              "\t<tr><td>Fight Club                                       </td><td>Drama    </td><td>USA         </td><td>1999</td><td>6.30e+07</td><td> 37030102</td><td>R            </td><td>8.8</td></tr>\n",
              "\t<tr><td>Nutcracker                                       </td><td>Family   </td><td>USA         </td><td>1986</td><td>0.00e+00</td><td>   781727</td><td>G            </td><td>7.2</td></tr>\n",
              "\t<tr><td>Little Nemo: Adventures in Slumberland           </td><td>Family   </td><td>Japan       </td><td>1989</td><td>3.50e+07</td><td>  1368210</td><td>G            </td><td>7.2</td></tr>\n",
              "\t<tr><td>The City of Lost Children                        </td><td>Fantasy  </td><td>France      </td><td>1995</td><td>1.80e+07</td><td>  1513028</td><td>R            </td><td>7.7</td></tr>\n",
              "\t<tr><td>Sleepy Hollow                                    </td><td>Fantasy  </td><td>USA         </td><td>1999</td><td>1.00e+08</td><td>101071502</td><td>R            </td><td>7.4</td></tr>\n",
              "\t<tr><td>Los otros                                        </td><td>Horror   </td><td>Spain       </td><td>2001</td><td>1.70e+07</td><td> 96522687</td><td>PG-13        </td><td>7.6</td></tr>\n",
              "\t<tr><td>Saw                                              </td><td>Horror   </td><td>USA         </td><td>2004</td><td>1.20e+06</td><td> 56000369</td><td>R            </td><td>7.7</td></tr>\n",
              "\t<tr><td>True Stories                                     </td><td>Musical  </td><td>USA         </td><td>1986</td><td>0.00e+00</td><td>  2545142</td><td>PG           </td><td>7.0</td></tr>\n",
              "\t<tr><td>Devdas                                           </td><td>Musical  </td><td>India       </td><td>2002</td><td>0.00e+00</td><td>  3500000</td><td>Not specified</td><td>7.6</td></tr>\n",
              "\t<tr><td>Memento                                          </td><td>Mystery  </td><td>USA         </td><td>2000</td><td>9.00e+06</td><td> 25544867</td><td>R            </td><td>8.5</td></tr>\n",
              "\t<tr><td>Shutter Island                                   </td><td>Mystery  </td><td>USA         </td><td>2010</td><td>8.00e+07</td><td>128012934</td><td>R            </td><td>8.1</td></tr>\n",
              "\t<tr><td>Firelight                                        </td><td>Romance  </td><td>UK          </td><td>1997</td><td>0.00e+00</td><td>   784419</td><td>R            </td><td>7.3</td></tr>\n",
              "\t<tr><td>He Loves Me... He Loves Me Not                   </td><td>Romance  </td><td>France      </td><td>2002</td><td>0.00e+00</td><td>  1009827</td><td>PG-13        </td><td>7.2</td></tr>\n",
              "\t<tr><td>The Butterfly Effect                             </td><td>Sci-Fi   </td><td>USA         </td><td>2004</td><td>1.30e+07</td><td> 57938693</td><td>R            </td><td>7.7</td></tr>\n",
              "\t<tr><td>Sector 9                                         </td><td>Sci-Fi   </td><td>South Africa</td><td>2009</td><td>3.00e+07</td><td>115646235</td><td>R            </td><td>8.0</td></tr>\n",
              "\t<tr><td>Defense of the Realm                             </td><td>Thriller </td><td>UK          </td><td>1986</td><td>0.00e+00</td><td>   750000</td><td>PG           </td><td>6.6</td></tr>\n",
              "\t<tr><td>The Hitcher                                      </td><td>Thriller </td><td>USA         </td><td>1986</td><td>6.00e+06</td><td>  5844868</td><td>R            </td><td>7.3</td></tr>\n",
              "\t<tr><td>Platoon Leader                                   </td><td>War      </td><td>USA         </td><td>1988</td><td>0.00e+00</td><td>  1348771</td><td>R            </td><td>5.4</td></tr>\n",
              "\t<tr><td>The Beast of War                                 </td><td>War      </td><td>USA         </td><td>1988</td><td>0.00e+00</td><td>   161004</td><td>R            </td><td>7.4</td></tr>\n",
              "\t<tr><td>Posse                                            </td><td>Western  </td><td>UK          </td><td>1993</td><td>1.00e+07</td><td> 18290000</td><td>R            </td><td>5.5</td></tr>\n",
              "\t<tr><td>Slow West                                        </td><td>Western  </td><td>UK          </td><td>2015</td><td>2.00e+06</td><td>   229094</td><td>R            </td><td>6.9</td></tr>\n",
              "</tbody>\n",
              "</table>\n"
            ]
          },
          "metadata": {
            "tags": []
          }
        }
      ]
    },
    {
      "cell_type": "markdown",
      "metadata": {
        "id": "LDn2Usd0_BxM"
      },
      "source": [
        "## **Other useful functions in dplyr**"
      ]
    },
    {
      "cell_type": "code",
      "metadata": {
        "id": "GxvNdNIh_Efh",
        "colab": {
          "base_uri": "https://localhost:8080/",
          "height": 170
        },
        "outputId": "b097643b-c5b4-4ed3-87bd-b116d09e85ad"
      },
      "source": [
        "# Renaming variables\n",
        "print(rename(movies2, gross_revenue = gross), n = 5)"
      ],
      "execution_count": null,
      "outputs": [
        {
          "output_type": "stream",
          "text": [
            "\u001b[90m# A tibble: 6,820 x 8\u001b[39m\n",
            "  name                 genre    country  year  budget gross_revenue rating score\n",
            "  \u001b[3m\u001b[90m<chr>\u001b[39m\u001b[23m                \u001b[3m\u001b[90m<chr>\u001b[39m\u001b[23m    \u001b[3m\u001b[90m<chr>\u001b[39m\u001b[23m   \u001b[3m\u001b[90m<dbl>\u001b[39m\u001b[23m   \u001b[3m\u001b[90m<dbl>\u001b[39m\u001b[23m         \u001b[3m\u001b[90m<dbl>\u001b[39m\u001b[23m \u001b[3m\u001b[90m<chr>\u001b[39m\u001b[23m  \u001b[3m\u001b[90m<dbl>\u001b[39m\u001b[23m\n",
            "\u001b[90m1\u001b[39m Stand by Me          Adventu~ USA      \u001b[4m1\u001b[24m986  8.00\u001b[90me\u001b[39m6      52\u001b[4m2\u001b[24m\u001b[4m8\u001b[24m\u001b[4m7\u001b[24m414 R        8.1\n",
            "\u001b[90m2\u001b[39m Ferris Bueller's Da~ Comedy   USA      \u001b[4m1\u001b[24m986  6.00\u001b[90me\u001b[39m6      70\u001b[4m1\u001b[24m\u001b[4m3\u001b[24m\u001b[4m6\u001b[24m369 PG-13    7.8\n",
            "\u001b[90m3\u001b[39m Top Gun              Action   USA      \u001b[4m1\u001b[24m986  1.50\u001b[90me\u001b[39m7     179\u001b[4m8\u001b[24m\u001b[4m0\u001b[24m\u001b[4m0\u001b[24m601 PG       6.9\n",
            "\u001b[90m4\u001b[39m Aliens               Action   USA      \u001b[4m1\u001b[24m986  1.85\u001b[90me\u001b[39m7      85\u001b[4m1\u001b[24m\u001b[4m6\u001b[24m\u001b[4m0\u001b[24m248 R        8.4\n",
            "\u001b[90m5\u001b[39m Flight of the Navig~ Adventu~ USA      \u001b[4m1\u001b[24m986  9.00\u001b[90me\u001b[39m6      18\u001b[4m5\u001b[24m\u001b[4m6\u001b[24m\u001b[4m4\u001b[24m613 PG       6.9\n",
            "\u001b[90m# ... with 6,815 more rows\u001b[39m\n"
          ],
          "name": "stdout"
        }
      ]
    },
    {
      "cell_type": "code",
      "metadata": {
        "id": "B-eKowo-_H_n",
        "colab": {
          "base_uri": "https://localhost:8080/",
          "height": 385
        },
        "outputId": "be4479fa-866b-4291-979f-5436d7264a0b"
      },
      "source": [
        "# Unique values\n",
        "distinct(movies2, rating)"
      ],
      "execution_count": null,
      "outputs": [
        {
          "output_type": "display_data",
          "data": {
            "text/plain": [
              "   rating       \n",
              "1  R            \n",
              "2  PG-13        \n",
              "3  PG           \n",
              "4  UNRATED      \n",
              "5  Not specified\n",
              "6  G            \n",
              "7  NC-17        \n",
              "8  NOT RATED    \n",
              "9  TV-PG        \n",
              "10 TV-MA        \n",
              "11 B            \n",
              "12 B15          \n",
              "13 TV-14        "
            ],
            "text/latex": "A spec\\_tbl\\_df: 13 × 1\n\\begin{tabular}{l}\n rating\\\\\n <chr>\\\\\n\\hline\n\t R            \\\\\n\t PG-13        \\\\\n\t PG           \\\\\n\t UNRATED      \\\\\n\t Not specified\\\\\n\t G            \\\\\n\t NC-17        \\\\\n\t NOT RATED    \\\\\n\t TV-PG        \\\\\n\t TV-MA        \\\\\n\t B            \\\\\n\t B15          \\\\\n\t TV-14        \\\\\n\\end{tabular}\n",
            "text/markdown": "\nA spec_tbl_df: 13 × 1\n\n| rating &lt;chr&gt; |\n|---|\n| R             |\n| PG-13         |\n| PG            |\n| UNRATED       |\n| Not specified |\n| G             |\n| NC-17         |\n| NOT RATED     |\n| TV-PG         |\n| TV-MA         |\n| B             |\n| B15           |\n| TV-14         |\n\n",
            "text/html": [
              "<table>\n",
              "<caption>A spec_tbl_df: 13 × 1</caption>\n",
              "<thead>\n",
              "\t<tr><th scope=col>rating</th></tr>\n",
              "\t<tr><th scope=col>&lt;chr&gt;</th></tr>\n",
              "</thead>\n",
              "<tbody>\n",
              "\t<tr><td>R            </td></tr>\n",
              "\t<tr><td>PG-13        </td></tr>\n",
              "\t<tr><td>PG           </td></tr>\n",
              "\t<tr><td>UNRATED      </td></tr>\n",
              "\t<tr><td>Not specified</td></tr>\n",
              "\t<tr><td>G            </td></tr>\n",
              "\t<tr><td>NC-17        </td></tr>\n",
              "\t<tr><td>NOT RATED    </td></tr>\n",
              "\t<tr><td>TV-PG        </td></tr>\n",
              "\t<tr><td>TV-MA        </td></tr>\n",
              "\t<tr><td>B            </td></tr>\n",
              "\t<tr><td>B15          </td></tr>\n",
              "\t<tr><td>TV-14        </td></tr>\n",
              "</tbody>\n",
              "</table>\n"
            ]
          },
          "metadata": {
            "tags": []
          }
        }
      ]
    },
    {
      "cell_type": "code",
      "metadata": {
        "id": "EZ5gqKdH_P2f",
        "colab": {
          "base_uri": "https://localhost:8080/",
          "height": 1000
        },
        "outputId": "38817e72-d606-419b-8917-3b84674cc20d"
      },
      "source": [
        "# Using multiple variables, returns distinct combinations of the variable values\n",
        "distinct(movies2, rating, genre)"
      ],
      "execution_count": null,
      "outputs": [
        {
          "output_type": "display_data",
          "data": {
            "text/plain": [
              "       rating        genre    \n",
              "1      R             Adventure\n",
              "2      PG-13         Comedy   \n",
              "3      PG            Action   \n",
              "4      R             Action   \n",
              "5      PG            Adventure\n",
              "6      R             Drama    \n",
              "7      PG-13         Adventure\n",
              "8      PG-13         Action   \n",
              "9      R             Crime    \n",
              "10     UNRATED       Comedy   \n",
              "11     PG            Comedy   \n",
              "12     Not specified Drama    \n",
              "13     PG            Drama    \n",
              "14     R             Thriller \n",
              "15     R             Horror   \n",
              "16     G             Animation\n",
              "17     R             Biography\n",
              "18     PG-13         Horror   \n",
              "19     R             Comedy   \n",
              "20     UNRATED       Biography\n",
              "21     PG            Animation\n",
              "22     PG            Horror   \n",
              "23     G             Adventure\n",
              "24     PG-13         Sci-Fi   \n",
              "25     Not specified Animation\n",
              "26     NC-17         Drama    \n",
              "27     PG-13         Biography\n",
              "28     PG            Crime    \n",
              "29     Not specified Biography\n",
              "30     UNRATED       Crime    \n",
              "<U+22EE> <U+22EE>      <U+22EE> \n",
              "54     PG            Romance  \n",
              "55     NC-17         Crime    \n",
              "56     NC-17         Comedy   \n",
              "57     NOT RATED     Action   \n",
              "58     NC-17         Biography\n",
              "59     NOT RATED     Biography\n",
              "60     PG            Family   \n",
              "61     PG-13         Thriller \n",
              "62     TV-PG         Drama    \n",
              "63     PG-13         Romance  \n",
              "64     PG-13         Animation\n",
              "65     R             Romance  \n",
              "66     PG-13         Mystery  \n",
              "67     Not specified Action   \n",
              "68     R             Western  \n",
              "69     NOT RATED     Animation\n",
              "70     UNRATED       Horror   \n",
              "71     TV-MA         Drama    \n",
              "72     G             Action   \n",
              "73     G             Biography\n",
              "74     Not specified Adventure\n",
              "75     Not specified Musical  \n",
              "76     B             Action   \n",
              "77     NOT RATED     Horror   \n",
              "78     B15           Drama    \n",
              "79     NOT RATED     Fantasy  \n",
              "80     NOT RATED     Adventure\n",
              "81     UNRATED       Action   \n",
              "82     NOT RATED     Mystery  \n",
              "83     TV-14         Comedy   "
            ],
            "text/latex": "A spec\\_tbl\\_df: 83 × 2\n\\begin{tabular}{ll}\n rating & genre\\\\\n <chr> & <chr>\\\\\n\\hline\n\t R             & Adventure\\\\\n\t PG-13         & Comedy   \\\\\n\t PG            & Action   \\\\\n\t R             & Action   \\\\\n\t PG            & Adventure\\\\\n\t R             & Drama    \\\\\n\t PG-13         & Adventure\\\\\n\t PG-13         & Action   \\\\\n\t R             & Crime    \\\\\n\t UNRATED       & Comedy   \\\\\n\t PG            & Comedy   \\\\\n\t Not specified & Drama    \\\\\n\t PG            & Drama    \\\\\n\t R             & Thriller \\\\\n\t R             & Horror   \\\\\n\t G             & Animation\\\\\n\t R             & Biography\\\\\n\t PG-13         & Horror   \\\\\n\t R             & Comedy   \\\\\n\t UNRATED       & Biography\\\\\n\t PG            & Animation\\\\\n\t PG            & Horror   \\\\\n\t G             & Adventure\\\\\n\t PG-13         & Sci-Fi   \\\\\n\t Not specified & Animation\\\\\n\t NC-17         & Drama    \\\\\n\t PG-13         & Biography\\\\\n\t PG            & Crime    \\\\\n\t Not specified & Biography\\\\\n\t UNRATED       & Crime    \\\\\n\t ⋮ & ⋮\\\\\n\t PG            & Romance  \\\\\n\t NC-17         & Crime    \\\\\n\t NC-17         & Comedy   \\\\\n\t NOT RATED     & Action   \\\\\n\t NC-17         & Biography\\\\\n\t NOT RATED     & Biography\\\\\n\t PG            & Family   \\\\\n\t PG-13         & Thriller \\\\\n\t TV-PG         & Drama    \\\\\n\t PG-13         & Romance  \\\\\n\t PG-13         & Animation\\\\\n\t R             & Romance  \\\\\n\t PG-13         & Mystery  \\\\\n\t Not specified & Action   \\\\\n\t R             & Western  \\\\\n\t NOT RATED     & Animation\\\\\n\t UNRATED       & Horror   \\\\\n\t TV-MA         & Drama    \\\\\n\t G             & Action   \\\\\n\t G             & Biography\\\\\n\t Not specified & Adventure\\\\\n\t Not specified & Musical  \\\\\n\t B             & Action   \\\\\n\t NOT RATED     & Horror   \\\\\n\t B15           & Drama    \\\\\n\t NOT RATED     & Fantasy  \\\\\n\t NOT RATED     & Adventure\\\\\n\t UNRATED       & Action   \\\\\n\t NOT RATED     & Mystery  \\\\\n\t TV-14         & Comedy   \\\\\n\\end{tabular}\n",
            "text/markdown": "\nA spec_tbl_df: 83 × 2\n\n| rating &lt;chr&gt; | genre &lt;chr&gt; |\n|---|---|\n| R             | Adventure |\n| PG-13         | Comedy    |\n| PG            | Action    |\n| R             | Action    |\n| PG            | Adventure |\n| R             | Drama     |\n| PG-13         | Adventure |\n| PG-13         | Action    |\n| R             | Crime     |\n| UNRATED       | Comedy    |\n| PG            | Comedy    |\n| Not specified | Drama     |\n| PG            | Drama     |\n| R             | Thriller  |\n| R             | Horror    |\n| G             | Animation |\n| R             | Biography |\n| PG-13         | Horror    |\n| R             | Comedy    |\n| UNRATED       | Biography |\n| PG            | Animation |\n| PG            | Horror    |\n| G             | Adventure |\n| PG-13         | Sci-Fi    |\n| Not specified | Animation |\n| NC-17         | Drama     |\n| PG-13         | Biography |\n| PG            | Crime     |\n| Not specified | Biography |\n| UNRATED       | Crime     |\n| ⋮ | ⋮ |\n| PG            | Romance   |\n| NC-17         | Crime     |\n| NC-17         | Comedy    |\n| NOT RATED     | Action    |\n| NC-17         | Biography |\n| NOT RATED     | Biography |\n| PG            | Family    |\n| PG-13         | Thriller  |\n| TV-PG         | Drama     |\n| PG-13         | Romance   |\n| PG-13         | Animation |\n| R             | Romance   |\n| PG-13         | Mystery   |\n| Not specified | Action    |\n| R             | Western   |\n| NOT RATED     | Animation |\n| UNRATED       | Horror    |\n| TV-MA         | Drama     |\n| G             | Action    |\n| G             | Biography |\n| Not specified | Adventure |\n| Not specified | Musical   |\n| B             | Action    |\n| NOT RATED     | Horror    |\n| B15           | Drama     |\n| NOT RATED     | Fantasy   |\n| NOT RATED     | Adventure |\n| UNRATED       | Action    |\n| NOT RATED     | Mystery   |\n| TV-14         | Comedy    |\n\n",
            "text/html": [
              "<table>\n",
              "<caption>A spec_tbl_df: 83 × 2</caption>\n",
              "<thead>\n",
              "\t<tr><th scope=col>rating</th><th scope=col>genre</th></tr>\n",
              "\t<tr><th scope=col>&lt;chr&gt;</th><th scope=col>&lt;chr&gt;</th></tr>\n",
              "</thead>\n",
              "<tbody>\n",
              "\t<tr><td>R            </td><td>Adventure</td></tr>\n",
              "\t<tr><td>PG-13        </td><td>Comedy   </td></tr>\n",
              "\t<tr><td>PG           </td><td>Action   </td></tr>\n",
              "\t<tr><td>R            </td><td>Action   </td></tr>\n",
              "\t<tr><td>PG           </td><td>Adventure</td></tr>\n",
              "\t<tr><td>R            </td><td>Drama    </td></tr>\n",
              "\t<tr><td>PG-13        </td><td>Adventure</td></tr>\n",
              "\t<tr><td>PG-13        </td><td>Action   </td></tr>\n",
              "\t<tr><td>R            </td><td>Crime    </td></tr>\n",
              "\t<tr><td>UNRATED      </td><td>Comedy   </td></tr>\n",
              "\t<tr><td>PG           </td><td>Comedy   </td></tr>\n",
              "\t<tr><td>Not specified</td><td>Drama    </td></tr>\n",
              "\t<tr><td>PG           </td><td>Drama    </td></tr>\n",
              "\t<tr><td>R            </td><td>Thriller </td></tr>\n",
              "\t<tr><td>R            </td><td>Horror   </td></tr>\n",
              "\t<tr><td>G            </td><td>Animation</td></tr>\n",
              "\t<tr><td>R            </td><td>Biography</td></tr>\n",
              "\t<tr><td>PG-13        </td><td>Horror   </td></tr>\n",
              "\t<tr><td>R            </td><td>Comedy   </td></tr>\n",
              "\t<tr><td>UNRATED      </td><td>Biography</td></tr>\n",
              "\t<tr><td>PG           </td><td>Animation</td></tr>\n",
              "\t<tr><td>PG           </td><td>Horror   </td></tr>\n",
              "\t<tr><td>G            </td><td>Adventure</td></tr>\n",
              "\t<tr><td>PG-13        </td><td>Sci-Fi   </td></tr>\n",
              "\t<tr><td>Not specified</td><td>Animation</td></tr>\n",
              "\t<tr><td>NC-17        </td><td>Drama    </td></tr>\n",
              "\t<tr><td>PG-13        </td><td>Biography</td></tr>\n",
              "\t<tr><td>PG           </td><td>Crime    </td></tr>\n",
              "\t<tr><td>Not specified</td><td>Biography</td></tr>\n",
              "\t<tr><td>UNRATED      </td><td>Crime    </td></tr>\n",
              "\t<tr><td>⋮</td><td>⋮</td></tr>\n",
              "\t<tr><td>PG           </td><td>Romance  </td></tr>\n",
              "\t<tr><td>NC-17        </td><td>Crime    </td></tr>\n",
              "\t<tr><td>NC-17        </td><td>Comedy   </td></tr>\n",
              "\t<tr><td>NOT RATED    </td><td>Action   </td></tr>\n",
              "\t<tr><td>NC-17        </td><td>Biography</td></tr>\n",
              "\t<tr><td>NOT RATED    </td><td>Biography</td></tr>\n",
              "\t<tr><td>PG           </td><td>Family   </td></tr>\n",
              "\t<tr><td>PG-13        </td><td>Thriller </td></tr>\n",
              "\t<tr><td>TV-PG        </td><td>Drama    </td></tr>\n",
              "\t<tr><td>PG-13        </td><td>Romance  </td></tr>\n",
              "\t<tr><td>PG-13        </td><td>Animation</td></tr>\n",
              "\t<tr><td>R            </td><td>Romance  </td></tr>\n",
              "\t<tr><td>PG-13        </td><td>Mystery  </td></tr>\n",
              "\t<tr><td>Not specified</td><td>Action   </td></tr>\n",
              "\t<tr><td>R            </td><td>Western  </td></tr>\n",
              "\t<tr><td>NOT RATED    </td><td>Animation</td></tr>\n",
              "\t<tr><td>UNRATED      </td><td>Horror   </td></tr>\n",
              "\t<tr><td>TV-MA        </td><td>Drama    </td></tr>\n",
              "\t<tr><td>G            </td><td>Action   </td></tr>\n",
              "\t<tr><td>G            </td><td>Biography</td></tr>\n",
              "\t<tr><td>Not specified</td><td>Adventure</td></tr>\n",
              "\t<tr><td>Not specified</td><td>Musical  </td></tr>\n",
              "\t<tr><td>B            </td><td>Action   </td></tr>\n",
              "\t<tr><td>NOT RATED    </td><td>Horror   </td></tr>\n",
              "\t<tr><td>B15          </td><td>Drama    </td></tr>\n",
              "\t<tr><td>NOT RATED    </td><td>Fantasy  </td></tr>\n",
              "\t<tr><td>NOT RATED    </td><td>Adventure</td></tr>\n",
              "\t<tr><td>UNRATED      </td><td>Action   </td></tr>\n",
              "\t<tr><td>NOT RATED    </td><td>Mystery  </td></tr>\n",
              "\t<tr><td>TV-14        </td><td>Comedy   </td></tr>\n",
              "</tbody>\n",
              "</table>\n"
            ]
          },
          "metadata": {
            "tags": []
          }
        }
      ]
    },
    {
      "cell_type": "markdown",
      "metadata": {
        "id": "-ofLCA9H_Tnq"
      },
      "source": [
        "## **Sampling observations**"
      ]
    },
    {
      "cell_type": "code",
      "metadata": {
        "id": "lDDW1Nwq_V_j",
        "colab": {
          "base_uri": "https://localhost:8080/",
          "height": 252
        },
        "outputId": "0dffc32e-364b-4651-a76a-f7cc1e406b5c"
      },
      "source": [
        "set.seed(210)\n",
        "sample_n(movies, 5)"
      ],
      "execution_count": 11,
      "outputs": [
        {
          "output_type": "display_data",
          "data": {
            "text/plain": [
              "  budget  company                                country director          \n",
              "1 4.0e+06 Incorporated Television Company (ITC)  USA     John Dahl         \n",
              "2 4.5e+07 Universal Pictures                     USA     Oliver Parker     \n",
              "3 0.0e+00 Nippon Television Network (NTV)        Japan   Isao Takahata     \n",
              "4 2.4e+07 Twentieth Century Fox Film Corporation France  Xavier Gens       \n",
              "5 2.5e+07 Warner Bros.                           USA     Andrzej Bartkowiak\n",
              "  genre     gross    name                  rating released   runtime score\n",
              "1 Action      283694 Kill Me Again         R      1989-10-27  94     6.3  \n",
              "2 Action     8305970 Johnny English Reborn PG     2011-10-21 101     6.3  \n",
              "3 Animation   415941 Only Yesterday        PG     2016-02-26 118     7.7  \n",
              "4 Action    39687694 Hitman - Agente 47    R      2007-11-21 100     6.3  \n",
              "5 Action    55973336 Romeo Must Die        R      2000-03-22 115     6.1  \n",
              "  star             votes  writer          year\n",
              "1 Val Kilmer         3576 John Dahl       1989\n",
              "2 Rowan Atkinson    95736 Hamish McColl   2011\n",
              "3 Miki Imai         16144 Hotaru Okamoto  1991\n",
              "4 Timothy Olyphant 146777 Skip Woods      2007\n",
              "5 Jet Li            59814 Mitchell Kapner 2000"
            ],
            "text/latex": "A spec\\_tbl\\_df: 5 × 15\n\\begin{tabular}{lllllllllllllll}\n budget & company & country & director & genre & gross & name & rating & released & runtime & score & star & votes & writer & year\\\\\n <dbl> & <chr> & <chr> & <chr> & <chr> & <dbl> & <chr> & <chr> & <chr> & <dbl> & <dbl> & <chr> & <dbl> & <chr> & <dbl>\\\\\n\\hline\n\t 4.0e+06 & Incorporated Television Company (ITC)  & USA    & John Dahl          & Action    &   283694 & Kill Me Again         & R  & 1989-10-27 &  94 & 6.3 & Val Kilmer       &   3576 & John Dahl       & 1989\\\\\n\t 4.5e+07 & Universal Pictures                     & USA    & Oliver Parker      & Action    &  8305970 & Johnny English Reborn & PG & 2011-10-21 & 101 & 6.3 & Rowan Atkinson   &  95736 & Hamish McColl   & 2011\\\\\n\t 0.0e+00 & Nippon Television Network (NTV)        & Japan  & Isao Takahata      & Animation &   415941 & Only Yesterday        & PG & 2016-02-26 & 118 & 7.7 & Miki Imai        &  16144 & Hotaru Okamoto  & 1991\\\\\n\t 2.4e+07 & Twentieth Century Fox Film Corporation & France & Xavier Gens        & Action    & 39687694 & Hitman - Agente 47    & R  & 2007-11-21 & 100 & 6.3 & Timothy Olyphant & 146777 & Skip Woods      & 2007\\\\\n\t 2.5e+07 & Warner Bros.                           & USA    & Andrzej Bartkowiak & Action    & 55973336 & Romeo Must Die        & R  & 2000-03-22 & 115 & 6.1 & Jet Li           &  59814 & Mitchell Kapner & 2000\\\\\n\\end{tabular}\n",
            "text/markdown": "\nA spec_tbl_df: 5 × 15\n\n| budget &lt;dbl&gt; | company &lt;chr&gt; | country &lt;chr&gt; | director &lt;chr&gt; | genre &lt;chr&gt; | gross &lt;dbl&gt; | name &lt;chr&gt; | rating &lt;chr&gt; | released &lt;chr&gt; | runtime &lt;dbl&gt; | score &lt;dbl&gt; | star &lt;chr&gt; | votes &lt;dbl&gt; | writer &lt;chr&gt; | year &lt;dbl&gt; |\n|---|---|---|---|---|---|---|---|---|---|---|---|---|---|---|\n| 4.0e+06 | Incorporated Television Company (ITC)  | USA    | John Dahl          | Action    |   283694 | Kill Me Again         | R  | 1989-10-27 |  94 | 6.3 | Val Kilmer       |   3576 | John Dahl       | 1989 |\n| 4.5e+07 | Universal Pictures                     | USA    | Oliver Parker      | Action    |  8305970 | Johnny English Reborn | PG | 2011-10-21 | 101 | 6.3 | Rowan Atkinson   |  95736 | Hamish McColl   | 2011 |\n| 0.0e+00 | Nippon Television Network (NTV)        | Japan  | Isao Takahata      | Animation |   415941 | Only Yesterday        | PG | 2016-02-26 | 118 | 7.7 | Miki Imai        |  16144 | Hotaru Okamoto  | 1991 |\n| 2.4e+07 | Twentieth Century Fox Film Corporation | France | Xavier Gens        | Action    | 39687694 | Hitman - Agente 47    | R  | 2007-11-21 | 100 | 6.3 | Timothy Olyphant | 146777 | Skip Woods      | 2007 |\n| 2.5e+07 | Warner Bros.                           | USA    | Andrzej Bartkowiak | Action    | 55973336 | Romeo Must Die        | R  | 2000-03-22 | 115 | 6.1 | Jet Li           |  59814 | Mitchell Kapner | 2000 |\n\n",
            "text/html": [
              "<table class=\"dataframe\">\n",
              "<caption>A spec_tbl_df: 5 × 15</caption>\n",
              "<thead>\n",
              "\t<tr><th scope=col>budget</th><th scope=col>company</th><th scope=col>country</th><th scope=col>director</th><th scope=col>genre</th><th scope=col>gross</th><th scope=col>name</th><th scope=col>rating</th><th scope=col>released</th><th scope=col>runtime</th><th scope=col>score</th><th scope=col>star</th><th scope=col>votes</th><th scope=col>writer</th><th scope=col>year</th></tr>\n",
              "\t<tr><th scope=col>&lt;dbl&gt;</th><th scope=col>&lt;chr&gt;</th><th scope=col>&lt;chr&gt;</th><th scope=col>&lt;chr&gt;</th><th scope=col>&lt;chr&gt;</th><th scope=col>&lt;dbl&gt;</th><th scope=col>&lt;chr&gt;</th><th scope=col>&lt;chr&gt;</th><th scope=col>&lt;chr&gt;</th><th scope=col>&lt;dbl&gt;</th><th scope=col>&lt;dbl&gt;</th><th scope=col>&lt;chr&gt;</th><th scope=col>&lt;dbl&gt;</th><th scope=col>&lt;chr&gt;</th><th scope=col>&lt;dbl&gt;</th></tr>\n",
              "</thead>\n",
              "<tbody>\n",
              "\t<tr><td>4.0e+06</td><td>Incorporated Television Company (ITC) </td><td>USA   </td><td>John Dahl         </td><td>Action   </td><td>  283694</td><td>Kill Me Again        </td><td>R </td><td>1989-10-27</td><td> 94</td><td>6.3</td><td>Val Kilmer      </td><td>  3576</td><td>John Dahl      </td><td>1989</td></tr>\n",
              "\t<tr><td>4.5e+07</td><td>Universal Pictures                    </td><td>USA   </td><td>Oliver Parker     </td><td>Action   </td><td> 8305970</td><td>Johnny English Reborn</td><td>PG</td><td>2011-10-21</td><td>101</td><td>6.3</td><td>Rowan Atkinson  </td><td> 95736</td><td>Hamish McColl  </td><td>2011</td></tr>\n",
              "\t<tr><td>0.0e+00</td><td>Nippon Television Network (NTV)       </td><td>Japan </td><td>Isao Takahata     </td><td>Animation</td><td>  415941</td><td>Only Yesterday       </td><td>PG</td><td>2016-02-26</td><td>118</td><td>7.7</td><td>Miki Imai       </td><td> 16144</td><td>Hotaru Okamoto </td><td>1991</td></tr>\n",
              "\t<tr><td>2.4e+07</td><td>Twentieth Century Fox Film Corporation</td><td>France</td><td>Xavier Gens       </td><td>Action   </td><td>39687694</td><td>Hitman - Agente 47   </td><td>R </td><td>2007-11-21</td><td>100</td><td>6.3</td><td>Timothy Olyphant</td><td>146777</td><td>Skip Woods     </td><td>2007</td></tr>\n",
              "\t<tr><td>2.5e+07</td><td>Warner Bros.                          </td><td>USA   </td><td>Andrzej Bartkowiak</td><td>Action   </td><td>55973336</td><td>Romeo Must Die       </td><td>R </td><td>2000-03-22</td><td>115</td><td>6.1</td><td>Jet Li          </td><td> 59814</td><td>Mitchell Kapner</td><td>2000</td></tr>\n",
              "</tbody>\n",
              "</table>\n"
            ]
          },
          "metadata": {
            "tags": []
          }
        }
      ]
    },
    {
      "cell_type": "code",
      "metadata": {
        "id": "IWOyZP3c_Xvc",
        "colab": {
          "base_uri": "https://localhost:8080/",
          "height": 1000
        },
        "outputId": "46fe6906-2e15-44b1-9ae7-8c5563995bf2"
      },
      "source": [
        "set.seed(1534)\n",
        "sample_frac(movies, 0.005, replace=TRUE) # fraction of rows, with replacement e.g. The Fly II\t"
      ],
      "execution_count": 19,
      "outputs": [
        {
          "output_type": "display_data",
          "data": {
            "text/plain": [
              "   budget   company                                country    \n",
              "1  0.00e+00 Lorimar Film Entertainment             USA        \n",
              "2  6.00e+07 Constantin Film                        Germany    \n",
              "3  0.00e+00 Golan-Globus Productions               USA        \n",
              "4  0.00e+00 Warp Films                             UK         \n",
              "5  9.00e+06 New Line Cinema                        USA        \n",
              "6  5.00e+07 Warner Bros.                           USA        \n",
              "7  8.50e+07 Columbia Pictures Corporation          USA        \n",
              "8  0.00e+00 Indian Paintbrush                      USA        \n",
              "9  0.00e+00 Tre V<e4>nner Produktion AB            Sweden     \n",
              "10 1.85e+08 Paramount Pictures                     USA        \n",
              "11 0.00e+00 No Trace Camping                       USA        \n",
              "12 2.50e+07 Warner Bros.                           USA        \n",
              "13 8.50e+06 Warner Bros.                           USA        \n",
              "14 1.00e+06 Andell Entertainment                   USA        \n",
              "15 7.00e+07 Metro-Goldwyn-Mayer (MGM)              UK         \n",
              "16 1.25e+07 Miramax                                UK         \n",
              "17 0.00e+00 Film Four International                UK         \n",
              "18 1.00e+06 Artisan Entertainment                  USA        \n",
              "19 5.00e+06 WingNut Films                          New Zealand\n",
              "20 2.00e+07 Warner Bros.                           USA        \n",
              "21 0.00e+00 Brooksfilms                            USA        \n",
              "22 0.00e+00 Lawrence Gordon Productions            USA        \n",
              "23 7.50e+07 Warner Bros.                           USA        \n",
              "24 0.00e+00 Element Pictures                       UK         \n",
              "25 5.00e+06 Golan-Globus Productions               USA        \n",
              "26 2.00e+05 Doug Liman Productions                 USA        \n",
              "27 0.00e+00 Twentieth Century Fox Film Corporation USA        \n",
              "28 1.20e+07 The Weinstein Company                  UK         \n",
              "29 3.00e+07 Art Pictures Studio                    Russia     \n",
              "30 5.20e+07 Universal Pictures                     France     \n",
              "31 0.00e+00 Memfis Film                            Sweden     \n",
              "32 6.00e+07 DreamWorks                             USA        \n",
              "33 1.50e+07 Twentieth Century Fox Film Corporation USA        \n",
              "34 0.00e+00 Brooksfilms                            USA        \n",
              "   director            genre     gross    \n",
              "1  Susan Seidelman     Comedy      1869417\n",
              "2  Paul W.S. Anderson  Action     60128566\n",
              "3  William Tannen      Action      5301200\n",
              "4  Shane Meadows       Crime        327919\n",
              "5  F. Gary Gray        Action     36049108\n",
              "6  Barbet Schroeder    Crime      31874869\n",
              "7  Nora Ephron         Comedy     62252415\n",
              "8  Alan Ball           Drama        371446\n",
              "9  Daniel Espinosa     Action       188870\n",
              "10 Steven Spielberg    Action    317101119\n",
              "11 Michael Dowse       Comedy      4168144\n",
              "12 Clint Eastwood      Crime      90135191\n",
              "13 Mario Van Peebles   Action     47624253\n",
              "14 John Hamburg        Comedy        21210\n",
              "15 Michael Caton-Jones Drama       5971336\n",
              "16 Mark Herman         Drama       9030581\n",
              "17 Stephen Poliakoff   Drama        135893\n",
              "18 Henry Bromell       Comedy       779137\n",
              "19 Peter Jackson       Biography   3049135\n",
              "20 Jon Amiel           Action     13801755\n",
              "21 Chris Walas         Horror     20021322\n",
              "22 Penny Marshall      Comedy     25587804\n",
              "23 Richard Donner      Action     75982834\n",
              "24 Lenny Abrahamson    Comedy       644906\n",
              "25 Jerry Schatzberg    Crime       1119112\n",
              "26 Doug Liman          Comedy      4505922\n",
              "27 Phillip Borsos      Adventure  11642946\n",
              "28 Stephen Frears      Biography  37707719\n",
              "29 Fedor Bondarchuk    Action      1013945\n",
              "30 Martin Scorsese     Crime      42438300\n",
              "31 Lukas Moodysson     Crime        181655\n",
              "32 Steven Spielberg    Comedy     77872883\n",
              "33 Oliver Stone        Crime      43848100\n",
              "34 Chris Walas         Horror     20021322\n",
              "   name                                               rating  released  \n",
              "1  Cookie                                             R       1989-08-23\n",
              "2  Resident Evil: Afterlife                           R       2010-09-10\n",
              "3  Hero and the Terror                                R       1988-08-26\n",
              "4  This Is England                                    UNRATED 2007-04-27\n",
              "5  Set It Off                                         R       1996-11-06\n",
              "6  Murder by Numbers                                  R       2002-04-19\n",
              "7  Bewitched                                          PG-13   2005-06-24\n",
              "8  Towelhead                                          R       2008-09-26\n",
              "9  Easy Money                                         R       2010-01-15\n",
              "10 Indiana Jones and the Kingdom of the Crystal Skull PG-13   2008-05-22\n",
              "11 Goon                                               R       2012-02-24\n",
              "12 Mystic River                                       R       2003-10-15\n",
              "13 New Jack City                                      R       1991-03-08\n",
              "14 Safe Men                                           R       1998-08-07\n",
              "15 Basic Instinct 2                                   R       2006-03-31\n",
              "16 The Boy in the Striped Pajamas                     PG-13   2008-11-26\n",
              "17 Close My Eyes                                      R       1991-11-22\n",
              "18 Panic                                              R       2001-10-19\n",
              "19 Criaturas celestiales                              R       1998-03-27\n",
              "20 The Man Who Knew Too Little                        PG      1997-11-14\n",
              "21 The Fly II                                         R       1989-02-10\n",
              "22 Jumpin' Jack Flash                                 R       1986-10-10\n",
              "23 Conspiracy Theory                                  R       1997-08-08\n",
              "24 Frank                                              R       2014-09-05\n",
              "25 Street Smart                                       R       1987-03-20\n",
              "26 Swingers                                           R       1997-04-11\n",
              "27 Far from Home: The Adventures of Yellow Dog        PG      1995-01-13\n",
              "28 Philomena                                          PG-13   2013-11-27\n",
              "29 Stalingrad                                         R       2013-10-10\n",
              "30 Casino                                             R       1995-11-22\n",
              "31 Lilya 4-Ever                                       R       2002-08-23\n",
              "32 The Terminal                                       PG-13   2004-06-18\n",
              "33 Wall Street                                        R       1987-12-11\n",
              "34 The Fly II                                         R       1989-02-10\n",
              "   runtime score star                votes  writer             year\n",
              "1   94     5.2   Peter Falk             929 Nora Ephron        1989\n",
              "2   96     5.9   Milla Jovovich      143707 Paul W.S. Anderson 2010\n",
              "3   96     5.2   Chuck Norris          2626 Michael Blodgett   1988\n",
              "4  101     7.7   Thomas Turgoose     104084 Shane Meadows      2006\n",
              "5  123     6.8   Jada Pinkett Smith   11203 Takashi Bufford    1996\n",
              "6  115     6.1   Sandra Bullock       46166 Tony Gayton        2002\n",
              "7  102     4.8   Nicole Kidman        61436 Nora Ephron        2005\n",
              "8  116     7.0   Summer Bishil        10669 Alan Ball          2007\n",
              "9  124     6.7   Joel Kinnaman        14513 Daniel Espinosa    2010\n",
              "10 122     6.2   Harrison Ford       358563 David Koepp        2008\n",
              "11  92     6.8   Seann William Scott  75386 Jay Baruchel       2011\n",
              "12 138     8.0   Sean Penn           361466 Brian Helgeland    2003\n",
              "13  97     6.6   Wesley Snipes        25867 Thomas Lee Wright  1991\n",
              "14  88     6.0   Sam Rockwell          2851 John Hamburg       1998\n",
              "15 114     4.2   Sharon Stone         32861 Leora Barish       2006\n",
              "16  94     7.8   Asa Butterfield     149511 John Boyne         2008\n",
              "17 108     6.4   Alan Rickman          2538 Stephen Poliakoff  1991\n",
              "18  88     6.8   William H. Macy       7413 Henry Bromell      2000\n",
              "19  99     7.4   Melanie Lynskey      52852 Fran Walsh         1994\n",
              "20  94     6.6   Bill Murray          25388 Robert Farrar      1997\n",
              "21 105     4.9   Eric Stoltz          18023 Mick Garris        1989\n",
              "22 105     5.8   Whoopi Goldberg      15703 David Franzoni     1986\n",
              "23 135     6.7   Mel Gibson           81477 Brian Helgeland    1997\n",
              "24  95     7.0   Michael Fassbender   62768 Jon Ronson         2014\n",
              "25  97     6.4   Christopher Reeve     2096 David Freeman      1987\n",
              "26  96     7.3   Vince Vaughn         67289 Jon Favreau        1996\n",
              "27  81     6.4   Jesse Bradford        2182 Phillip Borsos     1995\n",
              "28  98     7.6   Judi Dench           82660 Steve Coogan       2013\n",
              "29 131     5.6   Mariya Smolnikova    13238 Sergey Snezhkin    2013\n",
              "30 178     8.2   Robert De Niro      367532 Nicholas Pileggi   1995\n",
              "31 109     7.9   Oksana Akinshina     37477 Lukas Moodysson    2002\n",
              "32 128     7.3   Tom Hanks           330983 Andrew Niccol      2004\n",
              "33 126     7.4   Charlie Sheen       126195 Stanley Weiser     1987\n",
              "34 105     4.9   Eric Stoltz          18023 Mick Garris        1989"
            ],
            "text/latex": "A spec\\_tbl\\_df: 34 × 15\n\\begin{tabular}{lllllllllllllll}\n budget & company & country & director & genre & gross & name & rating & released & runtime & score & star & votes & writer & year\\\\\n <dbl> & <chr> & <chr> & <chr> & <chr> & <dbl> & <chr> & <chr> & <chr> & <dbl> & <dbl> & <chr> & <dbl> & <chr> & <dbl>\\\\\n\\hline\n\t 0.00e+00 & Lorimar Film Entertainment             & USA         & Susan Seidelman     & Comedy    &   1869417 & Cookie                                             & R       & 1989-08-23 &  94 & 5.2 & Peter Falk          &    929 & Nora Ephron        & 1989\\\\\n\t 6.00e+07 & Constantin Film                        & Germany     & Paul W.S. Anderson  & Action    &  60128566 & Resident Evil: Afterlife                           & R       & 2010-09-10 &  96 & 5.9 & Milla Jovovich      & 143707 & Paul W.S. Anderson & 2010\\\\\n\t 0.00e+00 & Golan-Globus Productions               & USA         & William Tannen      & Action    &   5301200 & Hero and the Terror                                & R       & 1988-08-26 &  96 & 5.2 & Chuck Norris        &   2626 & Michael Blodgett   & 1988\\\\\n\t 0.00e+00 & Warp Films                             & UK          & Shane Meadows       & Crime     &    327919 & This Is England                                    & UNRATED & 2007-04-27 & 101 & 7.7 & Thomas Turgoose     & 104084 & Shane Meadows      & 2006\\\\\n\t 9.00e+06 & New Line Cinema                        & USA         & F. Gary Gray        & Action    &  36049108 & Set It Off                                         & R       & 1996-11-06 & 123 & 6.8 & Jada Pinkett Smith  &  11203 & Takashi Bufford    & 1996\\\\\n\t 5.00e+07 & Warner Bros.                           & USA         & Barbet Schroeder    & Crime     &  31874869 & Murder by Numbers                                  & R       & 2002-04-19 & 115 & 6.1 & Sandra Bullock      &  46166 & Tony Gayton        & 2002\\\\\n\t 8.50e+07 & Columbia Pictures Corporation          & USA         & Nora Ephron         & Comedy    &  62252415 & Bewitched                                          & PG-13   & 2005-06-24 & 102 & 4.8 & Nicole Kidman       &  61436 & Nora Ephron        & 2005\\\\\n\t 0.00e+00 & Indian Paintbrush                      & USA         & Alan Ball           & Drama     &    371446 & Towelhead                                          & R       & 2008-09-26 & 116 & 7.0 & Summer Bishil       &  10669 & Alan Ball          & 2007\\\\\n\t 0.00e+00 & Tre V<e4>nner Produktion AB            & Sweden      & Daniel Espinosa     & Action    &    188870 & Easy Money                                         & R       & 2010-01-15 & 124 & 6.7 & Joel Kinnaman       &  14513 & Daniel Espinosa    & 2010\\\\\n\t 1.85e+08 & Paramount Pictures                     & USA         & Steven Spielberg    & Action    & 317101119 & Indiana Jones and the Kingdom of the Crystal Skull & PG-13   & 2008-05-22 & 122 & 6.2 & Harrison Ford       & 358563 & David Koepp        & 2008\\\\\n\t 0.00e+00 & No Trace Camping                       & USA         & Michael Dowse       & Comedy    &   4168144 & Goon                                               & R       & 2012-02-24 &  92 & 6.8 & Seann William Scott &  75386 & Jay Baruchel       & 2011\\\\\n\t 2.50e+07 & Warner Bros.                           & USA         & Clint Eastwood      & Crime     &  90135191 & Mystic River                                       & R       & 2003-10-15 & 138 & 8.0 & Sean Penn           & 361466 & Brian Helgeland    & 2003\\\\\n\t 8.50e+06 & Warner Bros.                           & USA         & Mario Van Peebles   & Action    &  47624253 & New Jack City                                      & R       & 1991-03-08 &  97 & 6.6 & Wesley Snipes       &  25867 & Thomas Lee Wright  & 1991\\\\\n\t 1.00e+06 & Andell Entertainment                   & USA         & John Hamburg        & Comedy    &     21210 & Safe Men                                           & R       & 1998-08-07 &  88 & 6.0 & Sam Rockwell        &   2851 & John Hamburg       & 1998\\\\\n\t 7.00e+07 & Metro-Goldwyn-Mayer (MGM)              & UK          & Michael Caton-Jones & Drama     &   5971336 & Basic Instinct 2                                   & R       & 2006-03-31 & 114 & 4.2 & Sharon Stone        &  32861 & Leora Barish       & 2006\\\\\n\t 1.25e+07 & Miramax                                & UK          & Mark Herman         & Drama     &   9030581 & The Boy in the Striped Pajamas                     & PG-13   & 2008-11-26 &  94 & 7.8 & Asa Butterfield     & 149511 & John Boyne         & 2008\\\\\n\t 0.00e+00 & Film Four International                & UK          & Stephen Poliakoff   & Drama     &    135893 & Close My Eyes                                      & R       & 1991-11-22 & 108 & 6.4 & Alan Rickman        &   2538 & Stephen Poliakoff  & 1991\\\\\n\t 1.00e+06 & Artisan Entertainment                  & USA         & Henry Bromell       & Comedy    &    779137 & Panic                                              & R       & 2001-10-19 &  88 & 6.8 & William H. Macy     &   7413 & Henry Bromell      & 2000\\\\\n\t 5.00e+06 & WingNut Films                          & New Zealand & Peter Jackson       & Biography &   3049135 & Criaturas celestiales                              & R       & 1998-03-27 &  99 & 7.4 & Melanie Lynskey     &  52852 & Fran Walsh         & 1994\\\\\n\t 2.00e+07 & Warner Bros.                           & USA         & Jon Amiel           & Action    &  13801755 & The Man Who Knew Too Little                        & PG      & 1997-11-14 &  94 & 6.6 & Bill Murray         &  25388 & Robert Farrar      & 1997\\\\\n\t 0.00e+00 & Brooksfilms                            & USA         & Chris Walas         & Horror    &  20021322 & The Fly II                                         & R       & 1989-02-10 & 105 & 4.9 & Eric Stoltz         &  18023 & Mick Garris        & 1989\\\\\n\t 0.00e+00 & Lawrence Gordon Productions            & USA         & Penny Marshall      & Comedy    &  25587804 & Jumpin' Jack Flash                                 & R       & 1986-10-10 & 105 & 5.8 & Whoopi Goldberg     &  15703 & David Franzoni     & 1986\\\\\n\t 7.50e+07 & Warner Bros.                           & USA         & Richard Donner      & Action    &  75982834 & Conspiracy Theory                                  & R       & 1997-08-08 & 135 & 6.7 & Mel Gibson          &  81477 & Brian Helgeland    & 1997\\\\\n\t 0.00e+00 & Element Pictures                       & UK          & Lenny Abrahamson    & Comedy    &    644906 & Frank                                              & R       & 2014-09-05 &  95 & 7.0 & Michael Fassbender  &  62768 & Jon Ronson         & 2014\\\\\n\t 5.00e+06 & Golan-Globus Productions               & USA         & Jerry Schatzberg    & Crime     &   1119112 & Street Smart                                       & R       & 1987-03-20 &  97 & 6.4 & Christopher Reeve   &   2096 & David Freeman      & 1987\\\\\n\t 2.00e+05 & Doug Liman Productions                 & USA         & Doug Liman          & Comedy    &   4505922 & Swingers                                           & R       & 1997-04-11 &  96 & 7.3 & Vince Vaughn        &  67289 & Jon Favreau        & 1996\\\\\n\t 0.00e+00 & Twentieth Century Fox Film Corporation & USA         & Phillip Borsos      & Adventure &  11642946 & Far from Home: The Adventures of Yellow Dog        & PG      & 1995-01-13 &  81 & 6.4 & Jesse Bradford      &   2182 & Phillip Borsos     & 1995\\\\\n\t 1.20e+07 & The Weinstein Company                  & UK          & Stephen Frears      & Biography &  37707719 & Philomena                                          & PG-13   & 2013-11-27 &  98 & 7.6 & Judi Dench          &  82660 & Steve Coogan       & 2013\\\\\n\t 3.00e+07 & Art Pictures Studio                    & Russia      & Fedor Bondarchuk    & Action    &   1013945 & Stalingrad                                         & R       & 2013-10-10 & 131 & 5.6 & Mariya Smolnikova   &  13238 & Sergey Snezhkin    & 2013\\\\\n\t 5.20e+07 & Universal Pictures                     & France      & Martin Scorsese     & Crime     &  42438300 & Casino                                             & R       & 1995-11-22 & 178 & 8.2 & Robert De Niro      & 367532 & Nicholas Pileggi   & 1995\\\\\n\t 0.00e+00 & Memfis Film                            & Sweden      & Lukas Moodysson     & Crime     &    181655 & Lilya 4-Ever                                       & R       & 2002-08-23 & 109 & 7.9 & Oksana Akinshina    &  37477 & Lukas Moodysson    & 2002\\\\\n\t 6.00e+07 & DreamWorks                             & USA         & Steven Spielberg    & Comedy    &  77872883 & The Terminal                                       & PG-13   & 2004-06-18 & 128 & 7.3 & Tom Hanks           & 330983 & Andrew Niccol      & 2004\\\\\n\t 1.50e+07 & Twentieth Century Fox Film Corporation & USA         & Oliver Stone        & Crime     &  43848100 & Wall Street                                        & R       & 1987-12-11 & 126 & 7.4 & Charlie Sheen       & 126195 & Stanley Weiser     & 1987\\\\\n\t 0.00e+00 & Brooksfilms                            & USA         & Chris Walas         & Horror    &  20021322 & The Fly II                                         & R       & 1989-02-10 & 105 & 4.9 & Eric Stoltz         &  18023 & Mick Garris        & 1989\\\\\n\\end{tabular}\n",
            "text/markdown": "\nA spec_tbl_df: 34 × 15\n\n| budget &lt;dbl&gt; | company &lt;chr&gt; | country &lt;chr&gt; | director &lt;chr&gt; | genre &lt;chr&gt; | gross &lt;dbl&gt; | name &lt;chr&gt; | rating &lt;chr&gt; | released &lt;chr&gt; | runtime &lt;dbl&gt; | score &lt;dbl&gt; | star &lt;chr&gt; | votes &lt;dbl&gt; | writer &lt;chr&gt; | year &lt;dbl&gt; |\n|---|---|---|---|---|---|---|---|---|---|---|---|---|---|---|\n| 0.00e+00 | Lorimar Film Entertainment             | USA         | Susan Seidelman     | Comedy    |   1869417 | Cookie                                             | R       | 1989-08-23 |  94 | 5.2 | Peter Falk          |    929 | Nora Ephron        | 1989 |\n| 6.00e+07 | Constantin Film                        | Germany     | Paul W.S. Anderson  | Action    |  60128566 | Resident Evil: Afterlife                           | R       | 2010-09-10 |  96 | 5.9 | Milla Jovovich      | 143707 | Paul W.S. Anderson | 2010 |\n| 0.00e+00 | Golan-Globus Productions               | USA         | William Tannen      | Action    |   5301200 | Hero and the Terror                                | R       | 1988-08-26 |  96 | 5.2 | Chuck Norris        |   2626 | Michael Blodgett   | 1988 |\n| 0.00e+00 | Warp Films                             | UK          | Shane Meadows       | Crime     |    327919 | This Is England                                    | UNRATED | 2007-04-27 | 101 | 7.7 | Thomas Turgoose     | 104084 | Shane Meadows      | 2006 |\n| 9.00e+06 | New Line Cinema                        | USA         | F. Gary Gray        | Action    |  36049108 | Set It Off                                         | R       | 1996-11-06 | 123 | 6.8 | Jada Pinkett Smith  |  11203 | Takashi Bufford    | 1996 |\n| 5.00e+07 | Warner Bros.                           | USA         | Barbet Schroeder    | Crime     |  31874869 | Murder by Numbers                                  | R       | 2002-04-19 | 115 | 6.1 | Sandra Bullock      |  46166 | Tony Gayton        | 2002 |\n| 8.50e+07 | Columbia Pictures Corporation          | USA         | Nora Ephron         | Comedy    |  62252415 | Bewitched                                          | PG-13   | 2005-06-24 | 102 | 4.8 | Nicole Kidman       |  61436 | Nora Ephron        | 2005 |\n| 0.00e+00 | Indian Paintbrush                      | USA         | Alan Ball           | Drama     |    371446 | Towelhead                                          | R       | 2008-09-26 | 116 | 7.0 | Summer Bishil       |  10669 | Alan Ball          | 2007 |\n| 0.00e+00 | Tre V&lt;e4&gt;nner Produktion AB            | Sweden      | Daniel Espinosa     | Action    |    188870 | Easy Money                                         | R       | 2010-01-15 | 124 | 6.7 | Joel Kinnaman       |  14513 | Daniel Espinosa    | 2010 |\n| 1.85e+08 | Paramount Pictures                     | USA         | Steven Spielberg    | Action    | 317101119 | Indiana Jones and the Kingdom of the Crystal Skull | PG-13   | 2008-05-22 | 122 | 6.2 | Harrison Ford       | 358563 | David Koepp        | 2008 |\n| 0.00e+00 | No Trace Camping                       | USA         | Michael Dowse       | Comedy    |   4168144 | Goon                                               | R       | 2012-02-24 |  92 | 6.8 | Seann William Scott |  75386 | Jay Baruchel       | 2011 |\n| 2.50e+07 | Warner Bros.                           | USA         | Clint Eastwood      | Crime     |  90135191 | Mystic River                                       | R       | 2003-10-15 | 138 | 8.0 | Sean Penn           | 361466 | Brian Helgeland    | 2003 |\n| 8.50e+06 | Warner Bros.                           | USA         | Mario Van Peebles   | Action    |  47624253 | New Jack City                                      | R       | 1991-03-08 |  97 | 6.6 | Wesley Snipes       |  25867 | Thomas Lee Wright  | 1991 |\n| 1.00e+06 | Andell Entertainment                   | USA         | John Hamburg        | Comedy    |     21210 | Safe Men                                           | R       | 1998-08-07 |  88 | 6.0 | Sam Rockwell        |   2851 | John Hamburg       | 1998 |\n| 7.00e+07 | Metro-Goldwyn-Mayer (MGM)              | UK          | Michael Caton-Jones | Drama     |   5971336 | Basic Instinct 2                                   | R       | 2006-03-31 | 114 | 4.2 | Sharon Stone        |  32861 | Leora Barish       | 2006 |\n| 1.25e+07 | Miramax                                | UK          | Mark Herman         | Drama     |   9030581 | The Boy in the Striped Pajamas                     | PG-13   | 2008-11-26 |  94 | 7.8 | Asa Butterfield     | 149511 | John Boyne         | 2008 |\n| 0.00e+00 | Film Four International                | UK          | Stephen Poliakoff   | Drama     |    135893 | Close My Eyes                                      | R       | 1991-11-22 | 108 | 6.4 | Alan Rickman        |   2538 | Stephen Poliakoff  | 1991 |\n| 1.00e+06 | Artisan Entertainment                  | USA         | Henry Bromell       | Comedy    |    779137 | Panic                                              | R       | 2001-10-19 |  88 | 6.8 | William H. Macy     |   7413 | Henry Bromell      | 2000 |\n| 5.00e+06 | WingNut Films                          | New Zealand | Peter Jackson       | Biography |   3049135 | Criaturas celestiales                              | R       | 1998-03-27 |  99 | 7.4 | Melanie Lynskey     |  52852 | Fran Walsh         | 1994 |\n| 2.00e+07 | Warner Bros.                           | USA         | Jon Amiel           | Action    |  13801755 | The Man Who Knew Too Little                        | PG      | 1997-11-14 |  94 | 6.6 | Bill Murray         |  25388 | Robert Farrar      | 1997 |\n| 0.00e+00 | Brooksfilms                            | USA         | Chris Walas         | Horror    |  20021322 | The Fly II                                         | R       | 1989-02-10 | 105 | 4.9 | Eric Stoltz         |  18023 | Mick Garris        | 1989 |\n| 0.00e+00 | Lawrence Gordon Productions            | USA         | Penny Marshall      | Comedy    |  25587804 | Jumpin' Jack Flash                                 | R       | 1986-10-10 | 105 | 5.8 | Whoopi Goldberg     |  15703 | David Franzoni     | 1986 |\n| 7.50e+07 | Warner Bros.                           | USA         | Richard Donner      | Action    |  75982834 | Conspiracy Theory                                  | R       | 1997-08-08 | 135 | 6.7 | Mel Gibson          |  81477 | Brian Helgeland    | 1997 |\n| 0.00e+00 | Element Pictures                       | UK          | Lenny Abrahamson    | Comedy    |    644906 | Frank                                              | R       | 2014-09-05 |  95 | 7.0 | Michael Fassbender  |  62768 | Jon Ronson         | 2014 |\n| 5.00e+06 | Golan-Globus Productions               | USA         | Jerry Schatzberg    | Crime     |   1119112 | Street Smart                                       | R       | 1987-03-20 |  97 | 6.4 | Christopher Reeve   |   2096 | David Freeman      | 1987 |\n| 2.00e+05 | Doug Liman Productions                 | USA         | Doug Liman          | Comedy    |   4505922 | Swingers                                           | R       | 1997-04-11 |  96 | 7.3 | Vince Vaughn        |  67289 | Jon Favreau        | 1996 |\n| 0.00e+00 | Twentieth Century Fox Film Corporation | USA         | Phillip Borsos      | Adventure |  11642946 | Far from Home: The Adventures of Yellow Dog        | PG      | 1995-01-13 |  81 | 6.4 | Jesse Bradford      |   2182 | Phillip Borsos     | 1995 |\n| 1.20e+07 | The Weinstein Company                  | UK          | Stephen Frears      | Biography |  37707719 | Philomena                                          | PG-13   | 2013-11-27 |  98 | 7.6 | Judi Dench          |  82660 | Steve Coogan       | 2013 |\n| 3.00e+07 | Art Pictures Studio                    | Russia      | Fedor Bondarchuk    | Action    |   1013945 | Stalingrad                                         | R       | 2013-10-10 | 131 | 5.6 | Mariya Smolnikova   |  13238 | Sergey Snezhkin    | 2013 |\n| 5.20e+07 | Universal Pictures                     | France      | Martin Scorsese     | Crime     |  42438300 | Casino                                             | R       | 1995-11-22 | 178 | 8.2 | Robert De Niro      | 367532 | Nicholas Pileggi   | 1995 |\n| 0.00e+00 | Memfis Film                            | Sweden      | Lukas Moodysson     | Crime     |    181655 | Lilya 4-Ever                                       | R       | 2002-08-23 | 109 | 7.9 | Oksana Akinshina    |  37477 | Lukas Moodysson    | 2002 |\n| 6.00e+07 | DreamWorks                             | USA         | Steven Spielberg    | Comedy    |  77872883 | The Terminal                                       | PG-13   | 2004-06-18 | 128 | 7.3 | Tom Hanks           | 330983 | Andrew Niccol      | 2004 |\n| 1.50e+07 | Twentieth Century Fox Film Corporation | USA         | Oliver Stone        | Crime     |  43848100 | Wall Street                                        | R       | 1987-12-11 | 126 | 7.4 | Charlie Sheen       | 126195 | Stanley Weiser     | 1987 |\n| 0.00e+00 | Brooksfilms                            | USA         | Chris Walas         | Horror    |  20021322 | The Fly II                                         | R       | 1989-02-10 | 105 | 4.9 | Eric Stoltz         |  18023 | Mick Garris        | 1989 |\n\n",
            "text/html": [
              "<table class=\"dataframe\">\n",
              "<caption>A spec_tbl_df: 34 × 15</caption>\n",
              "<thead>\n",
              "\t<tr><th scope=col>budget</th><th scope=col>company</th><th scope=col>country</th><th scope=col>director</th><th scope=col>genre</th><th scope=col>gross</th><th scope=col>name</th><th scope=col>rating</th><th scope=col>released</th><th scope=col>runtime</th><th scope=col>score</th><th scope=col>star</th><th scope=col>votes</th><th scope=col>writer</th><th scope=col>year</th></tr>\n",
              "\t<tr><th scope=col>&lt;dbl&gt;</th><th scope=col>&lt;chr&gt;</th><th scope=col>&lt;chr&gt;</th><th scope=col>&lt;chr&gt;</th><th scope=col>&lt;chr&gt;</th><th scope=col>&lt;dbl&gt;</th><th scope=col>&lt;chr&gt;</th><th scope=col>&lt;chr&gt;</th><th scope=col>&lt;chr&gt;</th><th scope=col>&lt;dbl&gt;</th><th scope=col>&lt;dbl&gt;</th><th scope=col>&lt;chr&gt;</th><th scope=col>&lt;dbl&gt;</th><th scope=col>&lt;chr&gt;</th><th scope=col>&lt;dbl&gt;</th></tr>\n",
              "</thead>\n",
              "<tbody>\n",
              "\t<tr><td>0.00e+00</td><td>Lorimar Film Entertainment            </td><td>USA        </td><td>Susan Seidelman    </td><td>Comedy   </td><td>  1869417</td><td>Cookie                                            </td><td>R      </td><td>1989-08-23</td><td> 94</td><td>5.2</td><td>Peter Falk         </td><td>   929</td><td>Nora Ephron       </td><td>1989</td></tr>\n",
              "\t<tr><td>6.00e+07</td><td>Constantin Film                       </td><td>Germany    </td><td>Paul W.S. Anderson </td><td>Action   </td><td> 60128566</td><td>Resident Evil: Afterlife                          </td><td>R      </td><td>2010-09-10</td><td> 96</td><td>5.9</td><td>Milla Jovovich     </td><td>143707</td><td>Paul W.S. Anderson</td><td>2010</td></tr>\n",
              "\t<tr><td>0.00e+00</td><td>Golan-Globus Productions              </td><td>USA        </td><td>William Tannen     </td><td>Action   </td><td>  5301200</td><td>Hero and the Terror                               </td><td>R      </td><td>1988-08-26</td><td> 96</td><td>5.2</td><td>Chuck Norris       </td><td>  2626</td><td>Michael Blodgett  </td><td>1988</td></tr>\n",
              "\t<tr><td>0.00e+00</td><td>Warp Films                            </td><td>UK         </td><td>Shane Meadows      </td><td>Crime    </td><td>   327919</td><td>This Is England                                   </td><td>UNRATED</td><td>2007-04-27</td><td>101</td><td>7.7</td><td>Thomas Turgoose    </td><td>104084</td><td>Shane Meadows     </td><td>2006</td></tr>\n",
              "\t<tr><td>9.00e+06</td><td>New Line Cinema                       </td><td>USA        </td><td>F. Gary Gray       </td><td>Action   </td><td> 36049108</td><td>Set It Off                                        </td><td>R      </td><td>1996-11-06</td><td>123</td><td>6.8</td><td>Jada Pinkett Smith </td><td> 11203</td><td>Takashi Bufford   </td><td>1996</td></tr>\n",
              "\t<tr><td>5.00e+07</td><td>Warner Bros.                          </td><td>USA        </td><td>Barbet Schroeder   </td><td>Crime    </td><td> 31874869</td><td>Murder by Numbers                                 </td><td>R      </td><td>2002-04-19</td><td>115</td><td>6.1</td><td>Sandra Bullock     </td><td> 46166</td><td>Tony Gayton       </td><td>2002</td></tr>\n",
              "\t<tr><td>8.50e+07</td><td>Columbia Pictures Corporation         </td><td>USA        </td><td>Nora Ephron        </td><td>Comedy   </td><td> 62252415</td><td>Bewitched                                         </td><td>PG-13  </td><td>2005-06-24</td><td>102</td><td>4.8</td><td>Nicole Kidman      </td><td> 61436</td><td>Nora Ephron       </td><td>2005</td></tr>\n",
              "\t<tr><td>0.00e+00</td><td>Indian Paintbrush                     </td><td>USA        </td><td>Alan Ball          </td><td>Drama    </td><td>   371446</td><td>Towelhead                                         </td><td>R      </td><td>2008-09-26</td><td>116</td><td>7.0</td><td>Summer Bishil      </td><td> 10669</td><td>Alan Ball         </td><td>2007</td></tr>\n",
              "\t<tr><td>0.00e+00</td><td><span style=white-space:pre-wrap>Tre V&lt;e4&gt;nner Produktion AB           </span></td><td><span style=white-space:pre-wrap>Sweden     </span></td><td><span style=white-space:pre-wrap>Daniel Espinosa    </span></td><td><span style=white-space:pre-wrap>Action   </span></td><td><span style=white-space:pre-wrap>   188870</span></td><td><span style=white-space:pre-wrap>Easy Money                                        </span></td><td><span style=white-space:pre-wrap>R      </span></td><td>2010-01-15</td><td>124</td><td>6.7</td><td><span style=white-space:pre-wrap>Joel Kinnaman      </span></td><td> 14513</td><td><span style=white-space:pre-wrap>Daniel Espinosa   </span></td><td>2010</td></tr>\n",
              "\t<tr><td>1.85e+08</td><td>Paramount Pictures                    </td><td>USA        </td><td>Steven Spielberg   </td><td>Action   </td><td>317101119</td><td>Indiana Jones and the Kingdom of the Crystal Skull</td><td>PG-13  </td><td>2008-05-22</td><td>122</td><td>6.2</td><td>Harrison Ford      </td><td>358563</td><td>David Koepp       </td><td>2008</td></tr>\n",
              "\t<tr><td>0.00e+00</td><td>No Trace Camping                      </td><td>USA        </td><td>Michael Dowse      </td><td>Comedy   </td><td>  4168144</td><td>Goon                                              </td><td>R      </td><td>2012-02-24</td><td> 92</td><td>6.8</td><td>Seann William Scott</td><td> 75386</td><td>Jay Baruchel      </td><td>2011</td></tr>\n",
              "\t<tr><td>2.50e+07</td><td>Warner Bros.                          </td><td>USA        </td><td>Clint Eastwood     </td><td>Crime    </td><td> 90135191</td><td>Mystic River                                      </td><td>R      </td><td>2003-10-15</td><td>138</td><td>8.0</td><td>Sean Penn          </td><td>361466</td><td>Brian Helgeland   </td><td>2003</td></tr>\n",
              "\t<tr><td>8.50e+06</td><td>Warner Bros.                          </td><td>USA        </td><td>Mario Van Peebles  </td><td>Action   </td><td> 47624253</td><td>New Jack City                                     </td><td>R      </td><td>1991-03-08</td><td> 97</td><td>6.6</td><td>Wesley Snipes      </td><td> 25867</td><td>Thomas Lee Wright </td><td>1991</td></tr>\n",
              "\t<tr><td>1.00e+06</td><td>Andell Entertainment                  </td><td>USA        </td><td>John Hamburg       </td><td>Comedy   </td><td>    21210</td><td>Safe Men                                          </td><td>R      </td><td>1998-08-07</td><td> 88</td><td>6.0</td><td>Sam Rockwell       </td><td>  2851</td><td>John Hamburg      </td><td>1998</td></tr>\n",
              "\t<tr><td>7.00e+07</td><td>Metro-Goldwyn-Mayer (MGM)             </td><td>UK         </td><td>Michael Caton-Jones</td><td>Drama    </td><td>  5971336</td><td>Basic Instinct 2                                  </td><td>R      </td><td>2006-03-31</td><td>114</td><td>4.2</td><td>Sharon Stone       </td><td> 32861</td><td>Leora Barish      </td><td>2006</td></tr>\n",
              "\t<tr><td>1.25e+07</td><td>Miramax                               </td><td>UK         </td><td>Mark Herman        </td><td>Drama    </td><td>  9030581</td><td>The Boy in the Striped Pajamas                    </td><td>PG-13  </td><td>2008-11-26</td><td> 94</td><td>7.8</td><td>Asa Butterfield    </td><td>149511</td><td>John Boyne        </td><td>2008</td></tr>\n",
              "\t<tr><td>0.00e+00</td><td>Film Four International               </td><td>UK         </td><td>Stephen Poliakoff  </td><td>Drama    </td><td>   135893</td><td>Close My Eyes                                     </td><td>R      </td><td>1991-11-22</td><td>108</td><td>6.4</td><td>Alan Rickman       </td><td>  2538</td><td>Stephen Poliakoff </td><td>1991</td></tr>\n",
              "\t<tr><td>1.00e+06</td><td>Artisan Entertainment                 </td><td>USA        </td><td>Henry Bromell      </td><td>Comedy   </td><td>   779137</td><td>Panic                                             </td><td>R      </td><td>2001-10-19</td><td> 88</td><td>6.8</td><td>William H. Macy    </td><td>  7413</td><td>Henry Bromell     </td><td>2000</td></tr>\n",
              "\t<tr><td>5.00e+06</td><td>WingNut Films                         </td><td>New Zealand</td><td>Peter Jackson      </td><td>Biography</td><td>  3049135</td><td>Criaturas celestiales                             </td><td>R      </td><td>1998-03-27</td><td> 99</td><td>7.4</td><td>Melanie Lynskey    </td><td> 52852</td><td>Fran Walsh        </td><td>1994</td></tr>\n",
              "\t<tr><td>2.00e+07</td><td>Warner Bros.                          </td><td>USA        </td><td>Jon Amiel          </td><td>Action   </td><td> 13801755</td><td>The Man Who Knew Too Little                       </td><td>PG     </td><td>1997-11-14</td><td> 94</td><td>6.6</td><td>Bill Murray        </td><td> 25388</td><td>Robert Farrar     </td><td>1997</td></tr>\n",
              "\t<tr><td>0.00e+00</td><td>Brooksfilms                           </td><td>USA        </td><td>Chris Walas        </td><td>Horror   </td><td> 20021322</td><td>The Fly II                                        </td><td>R      </td><td>1989-02-10</td><td>105</td><td>4.9</td><td>Eric Stoltz        </td><td> 18023</td><td>Mick Garris       </td><td>1989</td></tr>\n",
              "\t<tr><td>0.00e+00</td><td>Lawrence Gordon Productions           </td><td>USA        </td><td>Penny Marshall     </td><td>Comedy   </td><td> 25587804</td><td>Jumpin' Jack Flash                                </td><td>R      </td><td>1986-10-10</td><td>105</td><td>5.8</td><td>Whoopi Goldberg    </td><td> 15703</td><td>David Franzoni    </td><td>1986</td></tr>\n",
              "\t<tr><td>7.50e+07</td><td>Warner Bros.                          </td><td>USA        </td><td>Richard Donner     </td><td>Action   </td><td> 75982834</td><td>Conspiracy Theory                                 </td><td>R      </td><td>1997-08-08</td><td>135</td><td>6.7</td><td>Mel Gibson         </td><td> 81477</td><td>Brian Helgeland   </td><td>1997</td></tr>\n",
              "\t<tr><td>0.00e+00</td><td>Element Pictures                      </td><td>UK         </td><td>Lenny Abrahamson   </td><td>Comedy   </td><td>   644906</td><td>Frank                                             </td><td>R      </td><td>2014-09-05</td><td> 95</td><td>7.0</td><td>Michael Fassbender </td><td> 62768</td><td>Jon Ronson        </td><td>2014</td></tr>\n",
              "\t<tr><td>5.00e+06</td><td>Golan-Globus Productions              </td><td>USA        </td><td>Jerry Schatzberg   </td><td>Crime    </td><td>  1119112</td><td>Street Smart                                      </td><td>R      </td><td>1987-03-20</td><td> 97</td><td>6.4</td><td>Christopher Reeve  </td><td>  2096</td><td>David Freeman     </td><td>1987</td></tr>\n",
              "\t<tr><td>2.00e+05</td><td>Doug Liman Productions                </td><td>USA        </td><td>Doug Liman         </td><td>Comedy   </td><td>  4505922</td><td>Swingers                                          </td><td>R      </td><td>1997-04-11</td><td> 96</td><td>7.3</td><td>Vince Vaughn       </td><td> 67289</td><td>Jon Favreau       </td><td>1996</td></tr>\n",
              "\t<tr><td>0.00e+00</td><td>Twentieth Century Fox Film Corporation</td><td>USA        </td><td>Phillip Borsos     </td><td>Adventure</td><td> 11642946</td><td>Far from Home: The Adventures of Yellow Dog       </td><td>PG     </td><td>1995-01-13</td><td> 81</td><td>6.4</td><td>Jesse Bradford     </td><td>  2182</td><td>Phillip Borsos    </td><td>1995</td></tr>\n",
              "\t<tr><td>1.20e+07</td><td>The Weinstein Company                 </td><td>UK         </td><td>Stephen Frears     </td><td>Biography</td><td> 37707719</td><td>Philomena                                         </td><td>PG-13  </td><td>2013-11-27</td><td> 98</td><td>7.6</td><td>Judi Dench         </td><td> 82660</td><td>Steve Coogan      </td><td>2013</td></tr>\n",
              "\t<tr><td>3.00e+07</td><td>Art Pictures Studio                   </td><td>Russia     </td><td>Fedor Bondarchuk   </td><td>Action   </td><td>  1013945</td><td>Stalingrad                                        </td><td>R      </td><td>2013-10-10</td><td>131</td><td>5.6</td><td>Mariya Smolnikova  </td><td> 13238</td><td>Sergey Snezhkin   </td><td>2013</td></tr>\n",
              "\t<tr><td>5.20e+07</td><td>Universal Pictures                    </td><td>France     </td><td>Martin Scorsese    </td><td>Crime    </td><td> 42438300</td><td>Casino                                            </td><td>R      </td><td>1995-11-22</td><td>178</td><td>8.2</td><td>Robert De Niro     </td><td>367532</td><td>Nicholas Pileggi  </td><td>1995</td></tr>\n",
              "\t<tr><td>0.00e+00</td><td>Memfis Film                           </td><td>Sweden     </td><td>Lukas Moodysson    </td><td>Crime    </td><td>   181655</td><td>Lilya 4-Ever                                      </td><td>R      </td><td>2002-08-23</td><td>109</td><td>7.9</td><td>Oksana Akinshina   </td><td> 37477</td><td>Lukas Moodysson   </td><td>2002</td></tr>\n",
              "\t<tr><td>6.00e+07</td><td>DreamWorks                            </td><td>USA        </td><td>Steven Spielberg   </td><td>Comedy   </td><td> 77872883</td><td>The Terminal                                      </td><td>PG-13  </td><td>2004-06-18</td><td>128</td><td>7.3</td><td>Tom Hanks          </td><td>330983</td><td>Andrew Niccol     </td><td>2004</td></tr>\n",
              "\t<tr><td>1.50e+07</td><td>Twentieth Century Fox Film Corporation</td><td>USA        </td><td>Oliver Stone       </td><td>Crime    </td><td> 43848100</td><td>Wall Street                                       </td><td>R      </td><td>1987-12-11</td><td>126</td><td>7.4</td><td>Charlie Sheen      </td><td>126195</td><td>Stanley Weiser    </td><td>1987</td></tr>\n",
              "\t<tr><td>0.00e+00</td><td>Brooksfilms                           </td><td>USA        </td><td>Chris Walas        </td><td>Horror   </td><td> 20021322</td><td>The Fly II                                        </td><td>R      </td><td>1989-02-10</td><td>105</td><td>4.9</td><td>Eric Stoltz        </td><td> 18023</td><td>Mick Garris       </td><td>1989</td></tr>\n",
              "</tbody>\n",
              "</table>\n"
            ]
          },
          "metadata": {
            "tags": []
          }
        }
      ]
    },
    {
      "cell_type": "markdown",
      "metadata": {
        "id": "p5Xwpso5_iaN"
      },
      "source": [
        "## **Chaining operations**\n",
        "\n",
        "The `magrittr` package provides a “pipe”-like operator, %>%:\n",
        "\n",
        "*   The %>% is used pipe values forward into\n",
        "an expression or function call.\n",
        "*   In the pipe notation, you use x %>% f(y),\n",
        "rather than f(x, y).\n",
        "\n"
      ]
    },
    {
      "cell_type": "markdown",
      "metadata": {
        "id": "9EfFn_uMryQ-"
      },
      "source": [
        " Find movies from USA produced after 2010. Group by genre and compute the group mean gross revenue in million dollars. Then print the genre mean ‘gross’ revenue arranged in a ascending order:"
      ]
    },
    {
      "cell_type": "code",
      "metadata": {
        "id": "kqrSCvb6r3wf",
        "colab": {
          "base_uri": "https://localhost:8080/",
          "height": 500
        },
        "outputId": "0bbaed5d-2f0b-4d3e-d6b3-2aeaf7afd299"
      },
      "source": [
        "# nesting\n",
        "arrange(\n",
        "  summarise(\n",
        "    group_by(\n",
        "      filter(movies,year > 2010, country == \"USA\"), genre\n",
        "    ),\n",
        "    mean_gross = mean(gross)/10^6\n",
        "  ),\n",
        "  mean_gross\n",
        ")"
      ],
      "execution_count": 20,
      "outputs": [
        {
          "output_type": "display_data",
          "data": {
            "text/plain": [
              "   genre     mean_gross\n",
              "1  Thriller    0.016458\n",
              "2  Drama      23.252067\n",
              "3  Horror     27.714873\n",
              "4  Sci-Fi     29.169033\n",
              "5  Fantasy    30.657051\n",
              "6  Crime      32.128370\n",
              "7  Comedy     35.152773\n",
              "8  Biography  40.552788\n",
              "9  Mystery    49.457150\n",
              "10 Romance    62.495645\n",
              "11 Adventure  81.227901\n",
              "12 Action     97.285930\n",
              "13 Animation 151.960486"
            ],
            "text/latex": "A tibble: 13 × 2\n\\begin{tabular}{ll}\n genre & mean\\_gross\\\\\n <chr> & <dbl>\\\\\n\\hline\n\t Thriller  &   0.016458\\\\\n\t Drama     &  23.252067\\\\\n\t Horror    &  27.714873\\\\\n\t Sci-Fi    &  29.169033\\\\\n\t Fantasy   &  30.657051\\\\\n\t Crime     &  32.128370\\\\\n\t Comedy    &  35.152773\\\\\n\t Biography &  40.552788\\\\\n\t Mystery   &  49.457150\\\\\n\t Romance   &  62.495645\\\\\n\t Adventure &  81.227901\\\\\n\t Action    &  97.285930\\\\\n\t Animation & 151.960486\\\\\n\\end{tabular}\n",
            "text/markdown": "\nA tibble: 13 × 2\n\n| genre &lt;chr&gt; | mean_gross &lt;dbl&gt; |\n|---|---|\n| Thriller  |   0.016458 |\n| Drama     |  23.252067 |\n| Horror    |  27.714873 |\n| Sci-Fi    |  29.169033 |\n| Fantasy   |  30.657051 |\n| Crime     |  32.128370 |\n| Comedy    |  35.152773 |\n| Biography |  40.552788 |\n| Mystery   |  49.457150 |\n| Romance   |  62.495645 |\n| Adventure |  81.227901 |\n| Action    |  97.285930 |\n| Animation | 151.960486 |\n\n",
            "text/html": [
              "<table class=\"dataframe\">\n",
              "<caption>A tibble: 13 × 2</caption>\n",
              "<thead>\n",
              "\t<tr><th scope=col>genre</th><th scope=col>mean_gross</th></tr>\n",
              "\t<tr><th scope=col>&lt;chr&gt;</th><th scope=col>&lt;dbl&gt;</th></tr>\n",
              "</thead>\n",
              "<tbody>\n",
              "\t<tr><td>Thriller </td><td>  0.016458</td></tr>\n",
              "\t<tr><td>Drama    </td><td> 23.252067</td></tr>\n",
              "\t<tr><td>Horror   </td><td> 27.714873</td></tr>\n",
              "\t<tr><td>Sci-Fi   </td><td> 29.169033</td></tr>\n",
              "\t<tr><td>Fantasy  </td><td> 30.657051</td></tr>\n",
              "\t<tr><td>Crime    </td><td> 32.128370</td></tr>\n",
              "\t<tr><td>Comedy   </td><td> 35.152773</td></tr>\n",
              "\t<tr><td>Biography</td><td> 40.552788</td></tr>\n",
              "\t<tr><td>Mystery  </td><td> 49.457150</td></tr>\n",
              "\t<tr><td>Romance  </td><td> 62.495645</td></tr>\n",
              "\t<tr><td>Adventure</td><td> 81.227901</td></tr>\n",
              "\t<tr><td>Action   </td><td> 97.285930</td></tr>\n",
              "\t<tr><td>Animation</td><td>151.960486</td></tr>\n",
              "</tbody>\n",
              "</table>\n"
            ]
          },
          "metadata": {
            "tags": []
          }
        }
      ]
    },
    {
      "cell_type": "code",
      "metadata": {
        "id": "Azxt2u3TsATm",
        "colab": {
          "base_uri": "https://localhost:8080/",
          "height": 500
        },
        "outputId": "3faa2169-a6e7-481b-a305-5d8ca66545f5"
      },
      "source": [
        "# chaining\n",
        "movies %>%\n",
        "filter(year > 2010, country == \"USA\") %>%\n",
        "group_by(genre) %>%\n",
        "summarise(mean_gross = mean(gross)/10^6) %>%\n",
        "arrange(mean_gross)"
      ],
      "execution_count": 21,
      "outputs": [
        {
          "output_type": "display_data",
          "data": {
            "text/plain": [
              "   genre     mean_gross\n",
              "1  Thriller    0.016458\n",
              "2  Drama      23.252067\n",
              "3  Horror     27.714873\n",
              "4  Sci-Fi     29.169033\n",
              "5  Fantasy    30.657051\n",
              "6  Crime      32.128370\n",
              "7  Comedy     35.152773\n",
              "8  Biography  40.552788\n",
              "9  Mystery    49.457150\n",
              "10 Romance    62.495645\n",
              "11 Adventure  81.227901\n",
              "12 Action     97.285930\n",
              "13 Animation 151.960486"
            ],
            "text/latex": "A tibble: 13 × 2\n\\begin{tabular}{ll}\n genre & mean\\_gross\\\\\n <chr> & <dbl>\\\\\n\\hline\n\t Thriller  &   0.016458\\\\\n\t Drama     &  23.252067\\\\\n\t Horror    &  27.714873\\\\\n\t Sci-Fi    &  29.169033\\\\\n\t Fantasy   &  30.657051\\\\\n\t Crime     &  32.128370\\\\\n\t Comedy    &  35.152773\\\\\n\t Biography &  40.552788\\\\\n\t Mystery   &  49.457150\\\\\n\t Romance   &  62.495645\\\\\n\t Adventure &  81.227901\\\\\n\t Action    &  97.285930\\\\\n\t Animation & 151.960486\\\\\n\\end{tabular}\n",
            "text/markdown": "\nA tibble: 13 × 2\n\n| genre &lt;chr&gt; | mean_gross &lt;dbl&gt; |\n|---|---|\n| Thriller  |   0.016458 |\n| Drama     |  23.252067 |\n| Horror    |  27.714873 |\n| Sci-Fi    |  29.169033 |\n| Fantasy   |  30.657051 |\n| Crime     |  32.128370 |\n| Comedy    |  35.152773 |\n| Biography |  40.552788 |\n| Mystery   |  49.457150 |\n| Romance   |  62.495645 |\n| Adventure |  81.227901 |\n| Action    |  97.285930 |\n| Animation | 151.960486 |\n\n",
            "text/html": [
              "<table class=\"dataframe\">\n",
              "<caption>A tibble: 13 × 2</caption>\n",
              "<thead>\n",
              "\t<tr><th scope=col>genre</th><th scope=col>mean_gross</th></tr>\n",
              "\t<tr><th scope=col>&lt;chr&gt;</th><th scope=col>&lt;dbl&gt;</th></tr>\n",
              "</thead>\n",
              "<tbody>\n",
              "\t<tr><td>Thriller </td><td>  0.016458</td></tr>\n",
              "\t<tr><td>Drama    </td><td> 23.252067</td></tr>\n",
              "\t<tr><td>Horror   </td><td> 27.714873</td></tr>\n",
              "\t<tr><td>Sci-Fi   </td><td> 29.169033</td></tr>\n",
              "\t<tr><td>Fantasy  </td><td> 30.657051</td></tr>\n",
              "\t<tr><td>Crime    </td><td> 32.128370</td></tr>\n",
              "\t<tr><td>Comedy   </td><td> 35.152773</td></tr>\n",
              "\t<tr><td>Biography</td><td> 40.552788</td></tr>\n",
              "\t<tr><td>Mystery  </td><td> 49.457150</td></tr>\n",
              "\t<tr><td>Romance  </td><td> 62.495645</td></tr>\n",
              "\t<tr><td>Adventure</td><td> 81.227901</td></tr>\n",
              "\t<tr><td>Action   </td><td> 97.285930</td></tr>\n",
              "\t<tr><td>Animation</td><td>151.960486</td></tr>\n",
              "</tbody>\n",
              "</table>\n"
            ]
          },
          "metadata": {
            "tags": []
          }
        }
      ]
    }
  ]
}