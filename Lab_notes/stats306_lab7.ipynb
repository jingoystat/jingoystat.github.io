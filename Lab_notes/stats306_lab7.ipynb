{
  "nbformat": 4,
  "nbformat_minor": 0,
  "metadata": {
    "kernelspec": {
      "display_name": "R",
      "language": "R",
      "name": "ir"
    },
    "language_info": {
      "codemirror_mode": "r",
      "file_extension": ".r",
      "mimetype": "text/x-r-source",
      "name": "R",
      "pygments_lexer": "r",
      "version": "3.6.1"
    },
    "colab": {
      "name": "stats306_lab7.ipynb",
      "provenance": [],
      "collapsed_sections": []
    }
  },
  "cells": [
    {
      "cell_type": "markdown",
      "metadata": {
        "id": "13SPE2mRYah8"
      },
      "source": [
        "# Lab 7: Missing Values and Cleaning the Messy Data"
      ]
    },
    {
      "cell_type": "code",
      "metadata": {
        "colab": {
          "base_uri": "https://localhost:8080/"
        },
        "id": "W8kJxf2uYaiC",
        "outputId": "54d0bd65-583c-41dc-a329-df6221f19bd8"
      },
      "source": [
        "library(tidyverse)"
      ],
      "execution_count": 1,
      "outputs": [
        {
          "output_type": "stream",
          "text": [
            "Warning message in system(\"timedatectl\", intern = TRUE):\n",
            "“running command 'timedatectl' had status 1”\n",
            "── \u001b[1mAttaching packages\u001b[22m ─────────────────────────────────────── tidyverse 1.3.0 ──\n",
            "\n",
            "\u001b[32m✔\u001b[39m \u001b[34mggplot2\u001b[39m 3.3.3     \u001b[32m✔\u001b[39m \u001b[34mpurrr  \u001b[39m 0.3.4\n",
            "\u001b[32m✔\u001b[39m \u001b[34mtibble \u001b[39m 3.1.0     \u001b[32m✔\u001b[39m \u001b[34mdplyr  \u001b[39m 1.0.5\n",
            "\u001b[32m✔\u001b[39m \u001b[34mtidyr  \u001b[39m 1.1.3     \u001b[32m✔\u001b[39m \u001b[34mstringr\u001b[39m 1.4.0\n",
            "\u001b[32m✔\u001b[39m \u001b[34mreadr  \u001b[39m 1.4.0     \u001b[32m✔\u001b[39m \u001b[34mforcats\u001b[39m 0.5.1\n",
            "\n",
            "── \u001b[1mConflicts\u001b[22m ────────────────────────────────────────── tidyverse_conflicts() ──\n",
            "\u001b[31m✖\u001b[39m \u001b[34mdplyr\u001b[39m::\u001b[32mfilter()\u001b[39m masks \u001b[34mstats\u001b[39m::filter()\n",
            "\u001b[31m✖\u001b[39m \u001b[34mdplyr\u001b[39m::\u001b[32mlag()\u001b[39m    masks \u001b[34mstats\u001b[39m::lag()\n",
            "\n"
          ],
          "name": "stderr"
        }
      ]
    },
    {
      "cell_type": "code",
      "metadata": {
        "scrolled": true,
        "colab": {
          "base_uri": "https://localhost:8080/",
          "height": 314
        },
        "id": "G9pIZYBuYaiE",
        "outputId": "62287319-c302-459e-99d1-205105ee5027"
      },
      "source": [
        "(stocks <- tibble(\n",
        "  Year   = c(2015, 2015, 2015, 2015, 2016, 2016, 2016),\n",
        "  Qtr    = c(   1,    2,    3,    4,    2,    3,    4),\n",
        "  Return = c(1.88, 0.59, 0.35,   NA, 0.92, 0.17, 2.66)\n",
        "))"
      ],
      "execution_count": 2,
      "outputs": [
        {
          "output_type": "display_data",
          "data": {
            "text/plain": [
              "  Year Qtr Return\n",
              "1 2015 1   1.88  \n",
              "2 2015 2   0.59  \n",
              "3 2015 3   0.35  \n",
              "4 2015 4     NA  \n",
              "5 2016 2   0.92  \n",
              "6 2016 3   0.17  \n",
              "7 2016 4   2.66  "
            ],
            "text/latex": "A tibble: 7 × 3\n\\begin{tabular}{lll}\n Year & Qtr & Return\\\\\n <dbl> & <dbl> & <dbl>\\\\\n\\hline\n\t 2015 & 1 & 1.88\\\\\n\t 2015 & 2 & 0.59\\\\\n\t 2015 & 3 & 0.35\\\\\n\t 2015 & 4 &   NA\\\\\n\t 2016 & 2 & 0.92\\\\\n\t 2016 & 3 & 0.17\\\\\n\t 2016 & 4 & 2.66\\\\\n\\end{tabular}\n",
            "text/markdown": "\nA tibble: 7 × 3\n\n| Year &lt;dbl&gt; | Qtr &lt;dbl&gt; | Return &lt;dbl&gt; |\n|---|---|---|\n| 2015 | 1 | 1.88 |\n| 2015 | 2 | 0.59 |\n| 2015 | 3 | 0.35 |\n| 2015 | 4 |   NA |\n| 2016 | 2 | 0.92 |\n| 2016 | 3 | 0.17 |\n| 2016 | 4 | 2.66 |\n\n",
            "text/html": [
              "<table class=\"dataframe\">\n",
              "<caption>A tibble: 7 × 3</caption>\n",
              "<thead>\n",
              "\t<tr><th scope=col>Year</th><th scope=col>Qtr</th><th scope=col>Return</th></tr>\n",
              "\t<tr><th scope=col>&lt;dbl&gt;</th><th scope=col>&lt;dbl&gt;</th><th scope=col>&lt;dbl&gt;</th></tr>\n",
              "</thead>\n",
              "<tbody>\n",
              "\t<tr><td>2015</td><td>1</td><td>1.88</td></tr>\n",
              "\t<tr><td>2015</td><td>2</td><td>0.59</td></tr>\n",
              "\t<tr><td>2015</td><td>3</td><td>0.35</td></tr>\n",
              "\t<tr><td>2015</td><td>4</td><td>  NA</td></tr>\n",
              "\t<tr><td>2016</td><td>2</td><td>0.92</td></tr>\n",
              "\t<tr><td>2016</td><td>3</td><td>0.17</td></tr>\n",
              "\t<tr><td>2016</td><td>4</td><td>2.66</td></tr>\n",
              "</tbody>\n",
              "</table>\n"
            ]
          },
          "metadata": {
            "tags": []
          }
        }
      ]
    },
    {
      "cell_type": "markdown",
      "metadata": {
        "id": "VtpL3od3YaiF"
      },
      "source": [
        "## Missing Values\n",
        "Missing values can be:\n",
        "1. *Explicit* (marked as NA in our data)\n",
        "1. *Implicit* (not present in the data)\n",
        "\n",
        "In this example we have one explicitly missing value for the 4th quarter of 2015. Are there any other missing values? Yes, because we do not have an observation for the first quarter of 2016."
      ]
    },
    {
      "cell_type": "markdown",
      "metadata": {
        "id": "nj7jel7YYaiF"
      },
      "source": [
        "`complete`: Turns implicit missing values into explicit missing values."
      ]
    },
    {
      "cell_type": "code",
      "metadata": {
        "colab": {
          "base_uri": "https://localhost:8080/",
          "height": 345
        },
        "id": "q8_qR13zYaiF",
        "outputId": "15dd34dd-9bbe-4607-e4d9-17b70d2cb322"
      },
      "source": [
        "stocks %>% complete(Year, Qtr)"
      ],
      "execution_count": 3,
      "outputs": [
        {
          "output_type": "display_data",
          "data": {
            "text/plain": [
              "  Year Qtr Return\n",
              "1 2015 1   1.88  \n",
              "2 2015 2   0.59  \n",
              "3 2015 3   0.35  \n",
              "4 2015 4     NA  \n",
              "5 2016 1     NA  \n",
              "6 2016 2   0.92  \n",
              "7 2016 3   0.17  \n",
              "8 2016 4   2.66  "
            ],
            "text/latex": "A tibble: 8 × 3\n\\begin{tabular}{lll}\n Year & Qtr & Return\\\\\n <dbl> & <dbl> & <dbl>\\\\\n\\hline\n\t 2015 & 1 & 1.88\\\\\n\t 2015 & 2 & 0.59\\\\\n\t 2015 & 3 & 0.35\\\\\n\t 2015 & 4 &   NA\\\\\n\t 2016 & 1 &   NA\\\\\n\t 2016 & 2 & 0.92\\\\\n\t 2016 & 3 & 0.17\\\\\n\t 2016 & 4 & 2.66\\\\\n\\end{tabular}\n",
            "text/markdown": "\nA tibble: 8 × 3\n\n| Year &lt;dbl&gt; | Qtr &lt;dbl&gt; | Return &lt;dbl&gt; |\n|---|---|---|\n| 2015 | 1 | 1.88 |\n| 2015 | 2 | 0.59 |\n| 2015 | 3 | 0.35 |\n| 2015 | 4 |   NA |\n| 2016 | 1 |   NA |\n| 2016 | 2 | 0.92 |\n| 2016 | 3 | 0.17 |\n| 2016 | 4 | 2.66 |\n\n",
            "text/html": [
              "<table class=\"dataframe\">\n",
              "<caption>A tibble: 8 × 3</caption>\n",
              "<thead>\n",
              "\t<tr><th scope=col>Year</th><th scope=col>Qtr</th><th scope=col>Return</th></tr>\n",
              "\t<tr><th scope=col>&lt;dbl&gt;</th><th scope=col>&lt;dbl&gt;</th><th scope=col>&lt;dbl&gt;</th></tr>\n",
              "</thead>\n",
              "<tbody>\n",
              "\t<tr><td>2015</td><td>1</td><td>1.88</td></tr>\n",
              "\t<tr><td>2015</td><td>2</td><td>0.59</td></tr>\n",
              "\t<tr><td>2015</td><td>3</td><td>0.35</td></tr>\n",
              "\t<tr><td>2015</td><td>4</td><td>  NA</td></tr>\n",
              "\t<tr><td>2016</td><td>1</td><td>  NA</td></tr>\n",
              "\t<tr><td>2016</td><td>2</td><td>0.92</td></tr>\n",
              "\t<tr><td>2016</td><td>3</td><td>0.17</td></tr>\n",
              "\t<tr><td>2016</td><td>4</td><td>2.66</td></tr>\n",
              "</tbody>\n",
              "</table>\n"
            ]
          },
          "metadata": {
            "tags": []
          }
        }
      ]
    },
    {
      "cell_type": "markdown",
      "metadata": {
        "id": "MmOaRyr9YaiG"
      },
      "source": [
        "`fill`: Fills missing values in selected columns using the previous entry."
      ]
    },
    {
      "cell_type": "code",
      "metadata": {
        "scrolled": true,
        "id": "AjEk-mMHYaiG",
        "outputId": "cd0b4710-dba7-4e66-f98f-bfd65ed9db5b"
      },
      "source": [
        "stocks %>% complete(Year, Qtr) %>% fill(Return)"
      ],
      "execution_count": null,
      "outputs": [
        {
          "output_type": "display_data",
          "data": {
            "text/html": [
              "<table>\n",
              "<thead><tr><th scope=col>Year</th><th scope=col>Qtr</th><th scope=col>Return</th></tr></thead>\n",
              "<tbody>\n",
              "\t<tr><td>2015</td><td>1   </td><td>1.88</td></tr>\n",
              "\t<tr><td>2015</td><td>2   </td><td>0.59</td></tr>\n",
              "\t<tr><td>2015</td><td>3   </td><td>0.35</td></tr>\n",
              "\t<tr><td>2015</td><td>4   </td><td>0.35</td></tr>\n",
              "\t<tr><td>2016</td><td>1   </td><td>0.35</td></tr>\n",
              "\t<tr><td>2016</td><td>2   </td><td>0.92</td></tr>\n",
              "\t<tr><td>2016</td><td>3   </td><td>0.17</td></tr>\n",
              "\t<tr><td>2016</td><td>4   </td><td>2.66</td></tr>\n",
              "</tbody>\n",
              "</table>\n"
            ],
            "text/latex": "\\begin{tabular}{r|lll}\n Year & Qtr & Return\\\\\n\\hline\n\t 2015 & 1    & 1.88\\\\\n\t 2015 & 2    & 0.59\\\\\n\t 2015 & 3    & 0.35\\\\\n\t 2015 & 4    & 0.35\\\\\n\t 2016 & 1    & 0.35\\\\\n\t 2016 & 2    & 0.92\\\\\n\t 2016 & 3    & 0.17\\\\\n\t 2016 & 4    & 2.66\\\\\n\\end{tabular}\n",
            "text/markdown": "\n| Year | Qtr | Return |\n|---|---|---|\n| 2015 | 1    | 1.88 |\n| 2015 | 2    | 0.59 |\n| 2015 | 3    | 0.35 |\n| 2015 | 4    | 0.35 |\n| 2016 | 1    | 0.35 |\n| 2016 | 2    | 0.92 |\n| 2016 | 3    | 0.17 |\n| 2016 | 4    | 2.66 |\n\n",
            "text/plain": [
              "  Year Qtr Return\n",
              "1 2015 1   1.88  \n",
              "2 2015 2   0.59  \n",
              "3 2015 3   0.35  \n",
              "4 2015 4   0.35  \n",
              "5 2016 1   0.35  \n",
              "6 2016 2   0.92  \n",
              "7 2016 3   0.17  \n",
              "8 2016 4   2.66  "
            ]
          },
          "metadata": {
            "tags": []
          }
        }
      ]
    },
    {
      "cell_type": "markdown",
      "metadata": {
        "id": "sw2tosHGYaiH"
      },
      "source": [
        "The missing values also become `explicit` if we widen the tibble."
      ]
    },
    {
      "cell_type": "code",
      "metadata": {
        "id": "r7GD_32-YaiH",
        "outputId": "29e7d191-3f81-4bd5-eace-fa33a5b82ca1"
      },
      "source": [
        "stocks_wide = stocks %>% pivot_wider(names_from = Year, values_from = Return)\n",
        "\n",
        "stocks_wide"
      ],
      "execution_count": null,
      "outputs": [
        {
          "output_type": "display_data",
          "data": {
            "text/html": [
              "<table>\n",
              "<thead><tr><th scope=col>Qtr</th><th scope=col>2015</th><th scope=col>2016</th></tr></thead>\n",
              "<tbody>\n",
              "\t<tr><td>1   </td><td>1.88</td><td>  NA</td></tr>\n",
              "\t<tr><td>2   </td><td>0.59</td><td>0.92</td></tr>\n",
              "\t<tr><td>3   </td><td>0.35</td><td>0.17</td></tr>\n",
              "\t<tr><td>4   </td><td>  NA</td><td>2.66</td></tr>\n",
              "</tbody>\n",
              "</table>\n"
            ],
            "text/latex": "\\begin{tabular}{r|lll}\n Qtr & 2015 & 2016\\\\\n\\hline\n\t 1    & 1.88 &   NA\\\\\n\t 2    & 0.59 & 0.92\\\\\n\t 3    & 0.35 & 0.17\\\\\n\t 4    &   NA & 2.66\\\\\n\\end{tabular}\n",
            "text/markdown": "\n| Qtr | 2015 | 2016 |\n|---|---|---|\n| 1    | 1.88 |   NA |\n| 2    | 0.59 | 0.92 |\n| 3    | 0.35 | 0.17 |\n| 4    |   NA | 2.66 |\n\n",
            "text/plain": [
              "  Qtr 2015 2016\n",
              "1 1   1.88   NA\n",
              "2 2   0.59 0.92\n",
              "3 3   0.35 0.17\n",
              "4 4     NA 2.66"
            ]
          },
          "metadata": {
            "tags": []
          }
        }
      ]
    },
    {
      "cell_type": "markdown",
      "metadata": {
        "id": "tKDtap61YaiH"
      },
      "source": [
        "`pivot_longer` will keep all these explicitly missing values by default."
      ]
    },
    {
      "cell_type": "code",
      "metadata": {
        "id": "Hj67tcBXYaiI",
        "outputId": "80cb2ab1-53ac-4dca-c364-5bdd03687cf0"
      },
      "source": [
        "stocks_wide %>% pivot_longer(cols = `2015`:`2016`, names_to = 'Year') %>%\n",
        "arrange(Year)"
      ],
      "execution_count": null,
      "outputs": [
        {
          "output_type": "display_data",
          "data": {
            "text/html": [
              "<table>\n",
              "<thead><tr><th scope=col>Qtr</th><th scope=col>Year</th><th scope=col>value</th></tr></thead>\n",
              "<tbody>\n",
              "\t<tr><td>1   </td><td>2015</td><td>1.88</td></tr>\n",
              "\t<tr><td>2   </td><td>2015</td><td>0.59</td></tr>\n",
              "\t<tr><td>3   </td><td>2015</td><td>0.35</td></tr>\n",
              "\t<tr><td>4   </td><td>2015</td><td>  NA</td></tr>\n",
              "\t<tr><td>1   </td><td>2016</td><td>  NA</td></tr>\n",
              "\t<tr><td>2   </td><td>2016</td><td>0.92</td></tr>\n",
              "\t<tr><td>3   </td><td>2016</td><td>0.17</td></tr>\n",
              "\t<tr><td>4   </td><td>2016</td><td>2.66</td></tr>\n",
              "</tbody>\n",
              "</table>\n"
            ],
            "text/latex": "\\begin{tabular}{r|lll}\n Qtr & Year & value\\\\\n\\hline\n\t 1    & 2015 & 1.88\\\\\n\t 2    & 2015 & 0.59\\\\\n\t 3    & 2015 & 0.35\\\\\n\t 4    & 2015 &   NA\\\\\n\t 1    & 2016 &   NA\\\\\n\t 2    & 2016 & 0.92\\\\\n\t 3    & 2016 & 0.17\\\\\n\t 4    & 2016 & 2.66\\\\\n\\end{tabular}\n",
            "text/markdown": "\n| Qtr | Year | value |\n|---|---|---|\n| 1    | 2015 | 1.88 |\n| 2    | 2015 | 0.59 |\n| 3    | 2015 | 0.35 |\n| 4    | 2015 |   NA |\n| 1    | 2016 |   NA |\n| 2    | 2016 | 0.92 |\n| 3    | 2016 | 0.17 |\n| 4    | 2016 | 2.66 |\n\n",
            "text/plain": [
              "  Qtr Year value\n",
              "1 1   2015 1.88 \n",
              "2 2   2015 0.59 \n",
              "3 3   2015 0.35 \n",
              "4 4   2015   NA \n",
              "5 1   2016   NA \n",
              "6 2   2016 0.92 \n",
              "7 3   2016 0.17 \n",
              "8 4   2016 2.66 "
            ]
          },
          "metadata": {
            "tags": []
          }
        }
      ]
    },
    {
      "cell_type": "markdown",
      "metadata": {
        "id": "r9arG3BVYaiI"
      },
      "source": [
        "## Cleaning the messy data"
      ]
    },
    {
      "cell_type": "code",
      "metadata": {
        "id": "eaDaVF5VYaiI"
      },
      "source": [
        "datacamp_url = \"https://assets.datacamp.com/production/repositories/34/datasets/b3c1036d9a60a9dfe0f99051d2474a54f76055ea/weather.rds\"\n",
        "weather = readRDS(url(datacamp_url))"
      ],
      "execution_count": null,
      "outputs": []
    },
    {
      "cell_type": "code",
      "metadata": {
        "id": "vOgAOw1sYaiI",
        "outputId": "28ff0d56-e621-4686-e87d-b7e50aabbbca"
      },
      "source": [
        "weather %>% glimpse"
      ],
      "execution_count": null,
      "outputs": [
        {
          "output_type": "stream",
          "text": [
            "Observations: 286\n",
            "Variables: 35\n",
            "$ X       <int> 1, 2, 3, 4, 5, 6, 7, 8, 9, 10, 11, 12, 13, 14, 15, 16, 17, 18…\n",
            "$ year    <int> 2014, 2014, 2014, 2014, 2014, 2014, 2014, 2014, 2014, 2014, 2…\n",
            "$ month   <int> 12, 12, 12, 12, 12, 12, 12, 12, 12, 12, 12, 12, 12, 12, 12, 1…\n",
            "$ measure <chr> \"Max.TemperatureF\", \"Mean.TemperatureF\", \"Min.TemperatureF\", …\n",
            "$ X1      <chr> \"64\", \"52\", \"39\", \"46\", \"40\", \"26\", \"74\", \"63\", \"52\", \"30.45\"…\n",
            "$ X2      <chr> \"42\", \"38\", \"33\", \"40\", \"27\", \"17\", \"92\", \"72\", \"51\", \"30.71\"…\n",
            "$ X3      <chr> \"51\", \"44\", \"37\", \"49\", \"42\", \"24\", \"100\", \"79\", \"57\", \"30.4\"…\n",
            "$ X4      <chr> \"43\", \"37\", \"30\", \"24\", \"21\", \"13\", \"69\", \"54\", \"39\", \"30.56\"…\n",
            "$ X5      <chr> \"42\", \"34\", \"26\", \"37\", \"25\", \"12\", \"85\", \"66\", \"47\", \"30.68\"…\n",
            "$ X6      <chr> \"45\", \"42\", \"38\", \"45\", \"40\", \"36\", \"100\", \"93\", \"85\", \"30.42…\n",
            "$ X7      <chr> \"38\", \"30\", \"21\", \"36\", \"20\", \"-3\", \"92\", \"61\", \"29\", \"30.69\"…\n",
            "$ X8      <chr> \"29\", \"24\", \"18\", \"28\", \"16\", \"3\", \"92\", \"70\", \"47\", \"30.77\",…\n",
            "$ X9      <chr> \"49\", \"39\", \"29\", \"49\", \"41\", \"28\", \"100\", \"93\", \"86\", \"30.51…\n",
            "$ X10     <chr> \"48\", \"43\", \"38\", \"45\", \"39\", \"37\", \"100\", \"95\", \"89\", \"29.58…\n",
            "$ X11     <chr> \"39\", \"36\", \"32\", \"37\", \"31\", \"27\", \"92\", \"87\", \"82\", \"29.81\"…\n",
            "$ X12     <chr> \"39\", \"35\", \"31\", \"28\", \"27\", \"25\", \"85\", \"75\", \"64\", \"29.88\"…\n",
            "$ X13     <chr> \"42\", \"37\", \"32\", \"28\", \"26\", \"24\", \"75\", \"65\", \"55\", \"29.86\"…\n",
            "$ X14     <chr> \"45\", \"39\", \"33\", \"29\", \"27\", \"25\", \"82\", \"68\", \"53\", \"29.91\"…\n",
            "$ X15     <chr> \"42\", \"37\", \"32\", \"33\", \"29\", \"27\", \"89\", \"75\", \"60\", \"30.15\"…\n",
            "$ X16     <chr> \"44\", \"40\", \"35\", \"42\", \"36\", \"30\", \"96\", \"85\", \"73\", \"30.17\"…\n",
            "$ X17     <chr> \"49\", \"45\", \"41\", \"46\", \"41\", \"32\", \"100\", \"85\", \"70\", \"29.91…\n",
            "$ X18     <chr> \"44\", \"40\", \"36\", \"34\", \"30\", \"26\", \"89\", \"73\", \"57\", \"29.87\"…\n",
            "$ X19     <chr> \"37\", \"33\", \"29\", \"25\", \"22\", \"20\", \"69\", \"63\", \"56\", \"30.15\"…\n",
            "$ X20     <chr> \"36\", \"32\", \"27\", \"30\", \"24\", \"20\", \"89\", \"79\", \"69\", \"30.31\"…\n",
            "$ X21     <chr> \"36\", \"33\", \"30\", \"30\", \"27\", \"25\", \"85\", \"77\", \"69\", \"30.37\"…\n",
            "$ X22     <chr> \"44\", \"39\", \"33\", \"39\", \"34\", \"25\", \"89\", \"79\", \"69\", \"30.4\",…\n",
            "$ X23     <chr> \"47\", \"45\", \"42\", \"45\", \"42\", \"37\", \"100\", \"91\", \"82\", \"30.31…\n",
            "$ X24     <chr> \"46\", \"44\", \"41\", \"46\", \"44\", \"41\", \"100\", \"98\", \"96\", \"30.13…\n",
            "$ X25     <chr> \"59\", \"52\", \"44\", \"58\", \"43\", \"29\", \"100\", \"75\", \"49\", \"29.96…\n",
            "$ X26     <chr> \"50\", \"44\", \"37\", \"31\", \"29\", \"28\", \"70\", \"60\", \"49\", \"30.16\"…\n",
            "$ X27     <chr> \"52\", \"45\", \"38\", \"34\", \"31\", \"29\", \"70\", \"60\", \"50\", \"30.22\"…\n",
            "$ X28     <chr> \"52\", \"46\", \"40\", \"42\", \"35\", \"27\", \"76\", \"65\", \"53\", \"29.99\"…\n",
            "$ X29     <chr> \"41\", \"36\", \"30\", \"26\", \"20\", \"10\", \"64\", \"51\", \"37\", \"30.22\"…\n",
            "$ X30     <chr> \"30\", \"26\", \"22\", \"10\", \"4\", \"-6\", \"50\", \"38\", \"26\", \"30.36\",…\n",
            "$ X31     <chr> \"30\", \"25\", \"20\", \"8\", \"5\", \"1\", \"57\", \"44\", \"31\", \"30.32\", \"…\n"
          ],
          "name": "stdout"
        }
      ]
    },
    {
      "cell_type": "code",
      "metadata": {
        "scrolled": true,
        "id": "P5jWTJn5YaiJ",
        "outputId": "a2c82ebb-98b1-4e7a-ec26-efaf19abeeca"
      },
      "source": [
        "weather %>% head"
      ],
      "execution_count": null,
      "outputs": [
        {
          "output_type": "display_data",
          "data": {
            "text/html": [
              "<table>\n",
              "<thead><tr><th scope=col>X</th><th scope=col>year</th><th scope=col>month</th><th scope=col>measure</th><th scope=col>X1</th><th scope=col>X2</th><th scope=col>X3</th><th scope=col>X4</th><th scope=col>X5</th><th scope=col>X6</th><th scope=col>...</th><th scope=col>X22</th><th scope=col>X23</th><th scope=col>X24</th><th scope=col>X25</th><th scope=col>X26</th><th scope=col>X27</th><th scope=col>X28</th><th scope=col>X29</th><th scope=col>X30</th><th scope=col>X31</th></tr></thead>\n",
              "<tbody>\n",
              "\t<tr><td>1                </td><td>2014             </td><td>12               </td><td>Max.TemperatureF </td><td>64               </td><td>42               </td><td>51               </td><td>43               </td><td>42               </td><td>45               </td><td>...              </td><td>44               </td><td>47               </td><td>46               </td><td>59               </td><td>50               </td><td>52               </td><td>52               </td><td>41               </td><td>30               </td><td>30               </td></tr>\n",
              "\t<tr><td>2                </td><td>2014             </td><td>12               </td><td>Mean.TemperatureF</td><td>52               </td><td>38               </td><td>44               </td><td>37               </td><td>34               </td><td>42               </td><td>...              </td><td>39               </td><td>45               </td><td>44               </td><td>52               </td><td>44               </td><td>45               </td><td>46               </td><td>36               </td><td>26               </td><td>25               </td></tr>\n",
              "\t<tr><td>3                </td><td>2014             </td><td>12               </td><td>Min.TemperatureF </td><td>39               </td><td>33               </td><td>37               </td><td>30               </td><td>26               </td><td>38               </td><td>...              </td><td>33               </td><td>42               </td><td>41               </td><td>44               </td><td>37               </td><td>38               </td><td>40               </td><td>30               </td><td>22               </td><td>20               </td></tr>\n",
              "\t<tr><td>4                </td><td>2014             </td><td>12               </td><td>Max.Dew.PointF   </td><td>46               </td><td>40               </td><td>49               </td><td>24               </td><td>37               </td><td>45               </td><td>...              </td><td>39               </td><td>45               </td><td>46               </td><td>58               </td><td>31               </td><td>34               </td><td>42               </td><td>26               </td><td>10               </td><td>8                </td></tr>\n",
              "\t<tr><td>5                </td><td>2014             </td><td>12               </td><td>MeanDew.PointF   </td><td>40               </td><td>27               </td><td>42               </td><td>21               </td><td>25               </td><td>40               </td><td>...              </td><td>34               </td><td>42               </td><td>44               </td><td>43               </td><td>29               </td><td>31               </td><td>35               </td><td>20               </td><td>4                </td><td>5                </td></tr>\n",
              "\t<tr><td>6                </td><td>2014             </td><td>12               </td><td>Min.DewpointF    </td><td>26               </td><td>17               </td><td>24               </td><td>13               </td><td>12               </td><td>36               </td><td>...              </td><td>25               </td><td>37               </td><td>41               </td><td>29               </td><td>28               </td><td>29               </td><td>27               </td><td>10               </td><td>-6               </td><td>1                </td></tr>\n",
              "</tbody>\n",
              "</table>\n"
            ],
            "text/latex": "\\begin{tabular}{r|lllllllllllllllllllllllllllllllllll}\n X & year & month & measure & X1 & X2 & X3 & X4 & X5 & X6 & ... & X22 & X23 & X24 & X25 & X26 & X27 & X28 & X29 & X30 & X31\\\\\n\\hline\n\t 1                 & 2014              & 12                & Max.TemperatureF  & 64                & 42                & 51                & 43                & 42                & 45                & ...               & 44                & 47                & 46                & 59                & 50                & 52                & 52                & 41                & 30                & 30               \\\\\n\t 2                 & 2014              & 12                & Mean.TemperatureF & 52                & 38                & 44                & 37                & 34                & 42                & ...               & 39                & 45                & 44                & 52                & 44                & 45                & 46                & 36                & 26                & 25               \\\\\n\t 3                 & 2014              & 12                & Min.TemperatureF  & 39                & 33                & 37                & 30                & 26                & 38                & ...               & 33                & 42                & 41                & 44                & 37                & 38                & 40                & 30                & 22                & 20               \\\\\n\t 4                 & 2014              & 12                & Max.Dew.PointF    & 46                & 40                & 49                & 24                & 37                & 45                & ...               & 39                & 45                & 46                & 58                & 31                & 34                & 42                & 26                & 10                & 8                \\\\\n\t 5                 & 2014              & 12                & MeanDew.PointF    & 40                & 27                & 42                & 21                & 25                & 40                & ...               & 34                & 42                & 44                & 43                & 29                & 31                & 35                & 20                & 4                 & 5                \\\\\n\t 6                 & 2014              & 12                & Min.DewpointF     & 26                & 17                & 24                & 13                & 12                & 36                & ...               & 25                & 37                & 41                & 29                & 28                & 29                & 27                & 10                & -6                & 1                \\\\\n\\end{tabular}\n",
            "text/markdown": "\n| X | year | month | measure | X1 | X2 | X3 | X4 | X5 | X6 | ... | X22 | X23 | X24 | X25 | X26 | X27 | X28 | X29 | X30 | X31 |\n|---|---|---|---|---|---|---|---|---|---|---|---|---|---|---|---|---|---|---|---|---|\n| 1                 | 2014              | 12                | Max.TemperatureF  | 64                | 42                | 51                | 43                | 42                | 45                | ...               | 44                | 47                | 46                | 59                | 50                | 52                | 52                | 41                | 30                | 30                |\n| 2                 | 2014              | 12                | Mean.TemperatureF | 52                | 38                | 44                | 37                | 34                | 42                | ...               | 39                | 45                | 44                | 52                | 44                | 45                | 46                | 36                | 26                | 25                |\n| 3                 | 2014              | 12                | Min.TemperatureF  | 39                | 33                | 37                | 30                | 26                | 38                | ...               | 33                | 42                | 41                | 44                | 37                | 38                | 40                | 30                | 22                | 20                |\n| 4                 | 2014              | 12                | Max.Dew.PointF    | 46                | 40                | 49                | 24                | 37                | 45                | ...               | 39                | 45                | 46                | 58                | 31                | 34                | 42                | 26                | 10                | 8                 |\n| 5                 | 2014              | 12                | MeanDew.PointF    | 40                | 27                | 42                | 21                | 25                | 40                | ...               | 34                | 42                | 44                | 43                | 29                | 31                | 35                | 20                | 4                 | 5                 |\n| 6                 | 2014              | 12                | Min.DewpointF     | 26                | 17                | 24                | 13                | 12                | 36                | ...               | 25                | 37                | 41                | 29                | 28                | 29                | 27                | 10                | -6                | 1                 |\n\n",
            "text/plain": [
              "  X year month measure           X1 X2 X3 X4 X5 X6 ... X22 X23 X24 X25 X26 X27\n",
              "1 1 2014 12    Max.TemperatureF  64 42 51 43 42 45 ... 44  47  46  59  50  52 \n",
              "2 2 2014 12    Mean.TemperatureF 52 38 44 37 34 42 ... 39  45  44  52  44  45 \n",
              "3 3 2014 12    Min.TemperatureF  39 33 37 30 26 38 ... 33  42  41  44  37  38 \n",
              "4 4 2014 12    Max.Dew.PointF    46 40 49 24 37 45 ... 39  45  46  58  31  34 \n",
              "5 5 2014 12    MeanDew.PointF    40 27 42 21 25 40 ... 34  42  44  43  29  31 \n",
              "6 6 2014 12    Min.DewpointF     26 17 24 13 12 36 ... 25  37  41  29  28  29 \n",
              "  X28 X29 X30 X31\n",
              "1 52  41  30  30 \n",
              "2 46  36  26  25 \n",
              "3 40  30  22  20 \n",
              "4 42  26  10  8  \n",
              "5 35  20  4   5  \n",
              "6 27  10  -6  1  "
            ]
          },
          "metadata": {
            "tags": []
          }
        }
      ]
    },
    {
      "cell_type": "markdown",
      "metadata": {
        "id": "c4y48JEUYaiJ"
      },
      "source": [
        "The first row is for row number, let's ignore that"
      ]
    },
    {
      "cell_type": "code",
      "metadata": {
        "id": "QgaGu4YuYaiJ"
      },
      "source": [
        "weather = weather %>% select(-X)"
      ],
      "execution_count": null,
      "outputs": []
    },
    {
      "cell_type": "markdown",
      "metadata": {
        "id": "H_RDtl2BYaiK"
      },
      "source": [
        "It looks like the values for the weather measurements (column 3) for each day of the month are stored in the columns `X1` to `X31`. From `tidy data` perspective, the data set is messy because:\n",
        "* column names are values (`X1` to `X31`)\n",
        "* variable names are represented as values (column 3 - `measure`)\n",
        "\n",
        "We can correct it by using `pivot_longer`"
      ]
    },
    {
      "cell_type": "code",
      "metadata": {
        "id": "bMClv-CmYaiK",
        "outputId": "c198236b-cc71-415f-e789-818b62f66a51"
      },
      "source": [
        "tidy_weather = weather %>% \n",
        "pivot_longer(cols = `X1`:`X31`, names_to = 'day', values_to = \"value\") %>%\n",
        "select(year, month, day, everything())\n",
        "\n",
        "head(tidy_weather)"
      ],
      "execution_count": null,
      "outputs": [
        {
          "output_type": "display_data",
          "data": {
            "text/html": [
              "<table>\n",
              "<thead><tr><th scope=col>year</th><th scope=col>month</th><th scope=col>day</th><th scope=col>measure</th><th scope=col>value</th></tr></thead>\n",
              "<tbody>\n",
              "\t<tr><td>2014            </td><td>12              </td><td>X1              </td><td>Max.TemperatureF</td><td>64              </td></tr>\n",
              "\t<tr><td>2014            </td><td>12              </td><td>X2              </td><td>Max.TemperatureF</td><td>42              </td></tr>\n",
              "\t<tr><td>2014            </td><td>12              </td><td>X3              </td><td>Max.TemperatureF</td><td>51              </td></tr>\n",
              "\t<tr><td>2014            </td><td>12              </td><td>X4              </td><td>Max.TemperatureF</td><td>43              </td></tr>\n",
              "\t<tr><td>2014            </td><td>12              </td><td>X5              </td><td>Max.TemperatureF</td><td>42              </td></tr>\n",
              "\t<tr><td>2014            </td><td>12              </td><td>X6              </td><td>Max.TemperatureF</td><td>45              </td></tr>\n",
              "</tbody>\n",
              "</table>\n"
            ],
            "text/latex": "\\begin{tabular}{r|lllll}\n year & month & day & measure & value\\\\\n\\hline\n\t 2014             & 12               & X1               & Max.TemperatureF & 64              \\\\\n\t 2014             & 12               & X2               & Max.TemperatureF & 42              \\\\\n\t 2014             & 12               & X3               & Max.TemperatureF & 51              \\\\\n\t 2014             & 12               & X4               & Max.TemperatureF & 43              \\\\\n\t 2014             & 12               & X5               & Max.TemperatureF & 42              \\\\\n\t 2014             & 12               & X6               & Max.TemperatureF & 45              \\\\\n\\end{tabular}\n",
            "text/markdown": "\n| year | month | day | measure | value |\n|---|---|---|---|---|\n| 2014             | 12               | X1               | Max.TemperatureF | 64               |\n| 2014             | 12               | X2               | Max.TemperatureF | 42               |\n| 2014             | 12               | X3               | Max.TemperatureF | 51               |\n| 2014             | 12               | X4               | Max.TemperatureF | 43               |\n| 2014             | 12               | X5               | Max.TemperatureF | 42               |\n| 2014             | 12               | X6               | Max.TemperatureF | 45               |\n\n",
            "text/plain": [
              "  year month day measure          value\n",
              "1 2014 12    X1  Max.TemperatureF 64   \n",
              "2 2014 12    X2  Max.TemperatureF 42   \n",
              "3 2014 12    X3  Max.TemperatureF 51   \n",
              "4 2014 12    X4  Max.TemperatureF 43   \n",
              "5 2014 12    X5  Max.TemperatureF 42   \n",
              "6 2014 12    X6  Max.TemperatureF 45   "
            ]
          },
          "metadata": {
            "tags": []
          }
        }
      ]
    },
    {
      "cell_type": "markdown",
      "metadata": {
        "id": "cjdc2vhgYaiK"
      },
      "source": [
        "The values in the column `measure` of the weather dataset should be variables."
      ]
    },
    {
      "cell_type": "code",
      "metadata": {
        "id": "zDqrNOPIYaiK",
        "outputId": "a6915dd6-7f37-4c23-e2c8-306e9ab8698b"
      },
      "source": [
        "tidy_weather = tidy_weather %>% pivot_wider(names_from = measure, values_from = value)\n",
        "\n",
        "head(tidy_weather)"
      ],
      "execution_count": null,
      "outputs": [
        {
          "output_type": "display_data",
          "data": {
            "text/html": [
              "<table>\n",
              "<thead><tr><th scope=col>year</th><th scope=col>month</th><th scope=col>day</th><th scope=col>Max.TemperatureF</th><th scope=col>Mean.TemperatureF</th><th scope=col>Min.TemperatureF</th><th scope=col>Max.Dew.PointF</th><th scope=col>MeanDew.PointF</th><th scope=col>Min.DewpointF</th><th scope=col>Max.Humidity</th><th scope=col>...</th><th scope=col>Max.VisibilityMiles</th><th scope=col>Mean.VisibilityMiles</th><th scope=col>Min.VisibilityMiles</th><th scope=col>Max.Wind.SpeedMPH</th><th scope=col>Mean.Wind.SpeedMPH</th><th scope=col>Max.Gust.SpeedMPH</th><th scope=col>PrecipitationIn</th><th scope=col>CloudCover</th><th scope=col>Events</th><th scope=col>WindDirDegrees</th></tr></thead>\n",
              "<tbody>\n",
              "\t<tr><td>2014     </td><td>12       </td><td>X1       </td><td>64       </td><td>52       </td><td>39       </td><td>46       </td><td>40       </td><td>26       </td><td>74       </td><td>...      </td><td>10       </td><td>10       </td><td>10       </td><td>22       </td><td>13       </td><td>29       </td><td>0.01     </td><td>6        </td><td>Rain     </td><td>268      </td></tr>\n",
              "\t<tr><td>2014     </td><td>12       </td><td>X2       </td><td>42       </td><td>38       </td><td>33       </td><td>40       </td><td>27       </td><td>17       </td><td>92       </td><td>...      </td><td>10       </td><td>8        </td><td>2        </td><td>24       </td><td>15       </td><td>29       </td><td>0.10     </td><td>7        </td><td>Rain-Snow</td><td>62       </td></tr>\n",
              "\t<tr><td>2014     </td><td>12       </td><td>X3       </td><td>51       </td><td>44       </td><td>37       </td><td>49       </td><td>42       </td><td>24       </td><td>100      </td><td>...      </td><td>10       </td><td>5        </td><td>1        </td><td>29       </td><td>12       </td><td>38       </td><td>0.44     </td><td>8        </td><td>Rain     </td><td>254      </td></tr>\n",
              "\t<tr><td>2014     </td><td>12       </td><td>X4       </td><td>43       </td><td>37       </td><td>30       </td><td>24       </td><td>21       </td><td>13       </td><td>69       </td><td>...      </td><td>10       </td><td>10       </td><td>10       </td><td>25       </td><td>12       </td><td>33       </td><td>0.00     </td><td>3        </td><td>         </td><td>292      </td></tr>\n",
              "\t<tr><td>2014     </td><td>12       </td><td>X5       </td><td>42       </td><td>34       </td><td>26       </td><td>37       </td><td>25       </td><td>12       </td><td>85       </td><td>...      </td><td>10       </td><td>10       </td><td>5        </td><td>22       </td><td>10       </td><td>26       </td><td>0.11     </td><td>5        </td><td>Rain     </td><td>61       </td></tr>\n",
              "\t<tr><td>2014     </td><td>12       </td><td>X6       </td><td>45       </td><td>42       </td><td>38       </td><td>45       </td><td>40       </td><td>36       </td><td>100      </td><td>...      </td><td>10       </td><td>4        </td><td>0        </td><td>22       </td><td>8        </td><td>25       </td><td>1.09     </td><td>8        </td><td>Rain     </td><td>313      </td></tr>\n",
              "</tbody>\n",
              "</table>\n"
            ],
            "text/latex": "\\begin{tabular}{r|lllllllllllllllllllllllll}\n year & month & day & Max.TemperatureF & Mean.TemperatureF & Min.TemperatureF & Max.Dew.PointF & MeanDew.PointF & Min.DewpointF & Max.Humidity & ... & Max.VisibilityMiles & Mean.VisibilityMiles & Min.VisibilityMiles & Max.Wind.SpeedMPH & Mean.Wind.SpeedMPH & Max.Gust.SpeedMPH & PrecipitationIn & CloudCover & Events & WindDirDegrees\\\\\n\\hline\n\t 2014      & 12        & X1        & 64        & 52        & 39        & 46        & 40        & 26        & 74        & ...       & 10        & 10        & 10        & 22        & 13        & 29        & 0.01      & 6         & Rain      & 268      \\\\\n\t 2014      & 12        & X2        & 42        & 38        & 33        & 40        & 27        & 17        & 92        & ...       & 10        & 8         & 2         & 24        & 15        & 29        & 0.10      & 7         & Rain-Snow & 62       \\\\\n\t 2014      & 12        & X3        & 51        & 44        & 37        & 49        & 42        & 24        & 100       & ...       & 10        & 5         & 1         & 29        & 12        & 38        & 0.44      & 8         & Rain      & 254      \\\\\n\t 2014      & 12        & X4        & 43        & 37        & 30        & 24        & 21        & 13        & 69        & ...       & 10        & 10        & 10        & 25        & 12        & 33        & 0.00      & 3         &           & 292      \\\\\n\t 2014      & 12        & X5        & 42        & 34        & 26        & 37        & 25        & 12        & 85        & ...       & 10        & 10        & 5         & 22        & 10        & 26        & 0.11      & 5         & Rain      & 61       \\\\\n\t 2014      & 12        & X6        & 45        & 42        & 38        & 45        & 40        & 36        & 100       & ...       & 10        & 4         & 0         & 22        & 8         & 25        & 1.09      & 8         & Rain      & 313      \\\\\n\\end{tabular}\n",
            "text/markdown": "\n| year | month | day | Max.TemperatureF | Mean.TemperatureF | Min.TemperatureF | Max.Dew.PointF | MeanDew.PointF | Min.DewpointF | Max.Humidity | ... | Max.VisibilityMiles | Mean.VisibilityMiles | Min.VisibilityMiles | Max.Wind.SpeedMPH | Mean.Wind.SpeedMPH | Max.Gust.SpeedMPH | PrecipitationIn | CloudCover | Events | WindDirDegrees |\n|---|---|---|---|---|---|---|---|---|---|---|---|---|---|---|---|---|---|---|---|---|\n| 2014      | 12        | X1        | 64        | 52        | 39        | 46        | 40        | 26        | 74        | ...       | 10        | 10        | 10        | 22        | 13        | 29        | 0.01      | 6         | Rain      | 268       |\n| 2014      | 12        | X2        | 42        | 38        | 33        | 40        | 27        | 17        | 92        | ...       | 10        | 8         | 2         | 24        | 15        | 29        | 0.10      | 7         | Rain-Snow | 62        |\n| 2014      | 12        | X3        | 51        | 44        | 37        | 49        | 42        | 24        | 100       | ...       | 10        | 5         | 1         | 29        | 12        | 38        | 0.44      | 8         | Rain      | 254       |\n| 2014      | 12        | X4        | 43        | 37        | 30        | 24        | 21        | 13        | 69        | ...       | 10        | 10        | 10        | 25        | 12        | 33        | 0.00      | 3         |           | 292       |\n| 2014      | 12        | X5        | 42        | 34        | 26        | 37        | 25        | 12        | 85        | ...       | 10        | 10        | 5         | 22        | 10        | 26        | 0.11      | 5         | Rain      | 61        |\n| 2014      | 12        | X6        | 45        | 42        | 38        | 45        | 40        | 36        | 100       | ...       | 10        | 4         | 0         | 22        | 8         | 25        | 1.09      | 8         | Rain      | 313       |\n\n",
            "text/plain": [
              "  year month day Max.TemperatureF Mean.TemperatureF Min.TemperatureF\n",
              "1 2014 12    X1  64               52                39              \n",
              "2 2014 12    X2  42               38                33              \n",
              "3 2014 12    X3  51               44                37              \n",
              "4 2014 12    X4  43               37                30              \n",
              "5 2014 12    X5  42               34                26              \n",
              "6 2014 12    X6  45               42                38              \n",
              "  Max.Dew.PointF MeanDew.PointF Min.DewpointF Max.Humidity ...\n",
              "1 46             40             26            74           ...\n",
              "2 40             27             17            92           ...\n",
              "3 49             42             24            100          ...\n",
              "4 24             21             13            69           ...\n",
              "5 37             25             12            85           ...\n",
              "6 45             40             36            100          ...\n",
              "  Max.VisibilityMiles Mean.VisibilityMiles Min.VisibilityMiles\n",
              "1 10                  10                   10                 \n",
              "2 10                  8                    2                  \n",
              "3 10                  5                    1                  \n",
              "4 10                  10                   10                 \n",
              "5 10                  10                   5                  \n",
              "6 10                  4                    0                  \n",
              "  Max.Wind.SpeedMPH Mean.Wind.SpeedMPH Max.Gust.SpeedMPH PrecipitationIn\n",
              "1 22                13                 29                0.01           \n",
              "2 24                15                 29                0.10           \n",
              "3 29                12                 38                0.44           \n",
              "4 25                12                 33                0.00           \n",
              "5 22                10                 26                0.11           \n",
              "6 22                8                  25                1.09           \n",
              "  CloudCover Events    WindDirDegrees\n",
              "1 6          Rain      268           \n",
              "2 7          Rain-Snow 62            \n",
              "3 8          Rain      254           \n",
              "4 3                    292           \n",
              "5 5          Rain      61            \n",
              "6 8          Rain      313           "
            ]
          },
          "metadata": {
            "tags": []
          }
        }
      ]
    },
    {
      "cell_type": "code",
      "metadata": {
        "id": "QPj3peGWYaiL",
        "outputId": "587f118f-4fe4-4261-f87a-b7993f0ea444"
      },
      "source": [
        "tidy_weather %>% glimpse"
      ],
      "execution_count": null,
      "outputs": [
        {
          "output_type": "stream",
          "text": [
            "Observations: 403\n",
            "Variables: 25\n",
            "$ year                      <int> 2014, 2014, 2014, 2014, 2014, 2014, 2014, 2…\n",
            "$ month                     <int> 12, 12, 12, 12, 12, 12, 12, 12, 12, 12, 12,…\n",
            "$ day                       <chr> \"X1\", \"X2\", \"X3\", \"X4\", \"X5\", \"X6\", \"X7\", \"…\n",
            "$ Max.TemperatureF          <chr> \"64\", \"42\", \"51\", \"43\", \"42\", \"45\", \"38\", \"…\n",
            "$ Mean.TemperatureF         <chr> \"52\", \"38\", \"44\", \"37\", \"34\", \"42\", \"30\", \"…\n",
            "$ Min.TemperatureF          <chr> \"39\", \"33\", \"37\", \"30\", \"26\", \"38\", \"21\", \"…\n",
            "$ Max.Dew.PointF            <chr> \"46\", \"40\", \"49\", \"24\", \"37\", \"45\", \"36\", \"…\n",
            "$ MeanDew.PointF            <chr> \"40\", \"27\", \"42\", \"21\", \"25\", \"40\", \"20\", \"…\n",
            "$ Min.DewpointF             <chr> \"26\", \"17\", \"24\", \"13\", \"12\", \"36\", \"-3\", \"…\n",
            "$ Max.Humidity              <chr> \"74\", \"92\", \"100\", \"69\", \"85\", \"100\", \"92\",…\n",
            "$ Mean.Humidity             <chr> \"63\", \"72\", \"79\", \"54\", \"66\", \"93\", \"61\", \"…\n",
            "$ Min.Humidity              <chr> \"52\", \"51\", \"57\", \"39\", \"47\", \"85\", \"29\", \"…\n",
            "$ Max.Sea.Level.PressureIn  <chr> \"30.45\", \"30.71\", \"30.4\", \"30.56\", \"30.68\",…\n",
            "$ Mean.Sea.Level.PressureIn <chr> \"30.13\", \"30.59\", \"30.07\", \"30.33\", \"30.59\"…\n",
            "$ Min.Sea.Level.PressureIn  <chr> \"30.01\", \"30.4\", \"29.87\", \"30.09\", \"30.45\",…\n",
            "$ Max.VisibilityMiles       <chr> \"10\", \"10\", \"10\", \"10\", \"10\", \"10\", \"10\", \"…\n",
            "$ Mean.VisibilityMiles      <chr> \"10\", \"8\", \"5\", \"10\", \"10\", \"4\", \"10\", \"8\",…\n",
            "$ Min.VisibilityMiles       <chr> \"10\", \"2\", \"1\", \"10\", \"5\", \"0\", \"5\", \"2\", \"…\n",
            "$ Max.Wind.SpeedMPH         <chr> \"22\", \"24\", \"29\", \"25\", \"22\", \"22\", \"25\", \"…\n",
            "$ Mean.Wind.SpeedMPH        <chr> \"13\", \"15\", \"12\", \"12\", \"10\", \"8\", \"15\", \"1…\n",
            "$ Max.Gust.SpeedMPH         <chr> \"29\", \"29\", \"38\", \"33\", \"26\", \"25\", \"32\", \"…\n",
            "$ PrecipitationIn           <chr> \"0.01\", \"0.10\", \"0.44\", \"0.00\", \"0.11\", \"1.…\n",
            "$ CloudCover                <chr> \"6\", \"7\", \"8\", \"3\", \"5\", \"8\", \"6\", \"8\", \"8\"…\n",
            "$ Events                    <chr> \"Rain\", \"Rain-Snow\", \"Rain\", \"\", \"Rain\", \"R…\n",
            "$ WindDirDegrees            <chr> \"268\", \"62\", \"254\", \"292\", \"61\", \"313\", \"35…\n"
          ],
          "name": "stdout"
        }
      ]
    },
    {
      "cell_type": "markdown",
      "metadata": {
        "id": "5FE4EUgxYaiL"
      },
      "source": [
        "There are couple of things still odd in this dataset. One of them is name of the days. They start with an `X`. We can fix it by `str_replace` function. In following weeks, we are going to cover it in detail when we cover the strings. Let me quickly remind you the usage:"
      ]
    },
    {
      "cell_type": "code",
      "metadata": {
        "scrolled": false,
        "id": "zVG1C20rYaiL",
        "outputId": "f49e8cd6-2bd3-46fe-f729-69350a2aa915"
      },
      "source": [
        "# Replace $ with nothing, so it removes the dollar sign\n",
        "cost = c(\"$8\", \"12.5$\", \"$45\")\n",
        "cost = str_replace_all(cost, \"\\\\$\", \"\")\n",
        "print(cost) \n",
        "\n",
        "#change its type to numeric\n",
        "cost = as.numeric(cost)\n",
        "print(cost)"
      ],
      "execution_count": null,
      "outputs": [
        {
          "output_type": "stream",
          "text": [
            "[1] \"8\"    \"12.5\" \"45\"  \n",
            "[1]  8.0 12.5 45.0\n"
          ],
          "name": "stdout"
        }
      ]
    },
    {
      "cell_type": "markdown",
      "metadata": {
        "id": "XYDP1rHQYaiM"
      },
      "source": [
        "#### Exercise 1: Remove `X` from the `day` entries and change its type to `numeric`"
      ]
    },
    {
      "cell_type": "code",
      "metadata": {
        "scrolled": true,
        "id": "aXX9p46HYaiM",
        "outputId": "457b67b5-6abe-48f9-831b-2df798ef9b06"
      },
      "source": [
        "#as.integer"
      ],
      "execution_count": null,
      "outputs": [
        {
          "output_type": "stream",
          "text": [
            "Observations: 403\n",
            "Variables: 25\n",
            "$ year                      <int> 2014, 2014, 2014, 2014, 2014, 2014, 2014, 2…\n",
            "$ month                     <int> 12, 12, 12, 12, 12, 12, 12, 12, 12, 12, 12,…\n",
            "$ day                       <int> 1, 2, 3, 4, 5, 6, 7, 8, 9, 10, 11, 12, 13, …\n",
            "$ Max.TemperatureF          <chr> \"64\", \"42\", \"51\", \"43\", \"42\", \"45\", \"38\", \"…\n",
            "$ Mean.TemperatureF         <chr> \"52\", \"38\", \"44\", \"37\", \"34\", \"42\", \"30\", \"…\n",
            "$ Min.TemperatureF          <chr> \"39\", \"33\", \"37\", \"30\", \"26\", \"38\", \"21\", \"…\n",
            "$ Max.Dew.PointF            <chr> \"46\", \"40\", \"49\", \"24\", \"37\", \"45\", \"36\", \"…\n",
            "$ MeanDew.PointF            <chr> \"40\", \"27\", \"42\", \"21\", \"25\", \"40\", \"20\", \"…\n",
            "$ Min.DewpointF             <chr> \"26\", \"17\", \"24\", \"13\", \"12\", \"36\", \"-3\", \"…\n",
            "$ Max.Humidity              <chr> \"74\", \"92\", \"100\", \"69\", \"85\", \"100\", \"92\",…\n",
            "$ Mean.Humidity             <chr> \"63\", \"72\", \"79\", \"54\", \"66\", \"93\", \"61\", \"…\n",
            "$ Min.Humidity              <chr> \"52\", \"51\", \"57\", \"39\", \"47\", \"85\", \"29\", \"…\n",
            "$ Max.Sea.Level.PressureIn  <chr> \"30.45\", \"30.71\", \"30.4\", \"30.56\", \"30.68\",…\n",
            "$ Mean.Sea.Level.PressureIn <chr> \"30.13\", \"30.59\", \"30.07\", \"30.33\", \"30.59\"…\n",
            "$ Min.Sea.Level.PressureIn  <chr> \"30.01\", \"30.4\", \"29.87\", \"30.09\", \"30.45\",…\n",
            "$ Max.VisibilityMiles       <chr> \"10\", \"10\", \"10\", \"10\", \"10\", \"10\", \"10\", \"…\n",
            "$ Mean.VisibilityMiles      <chr> \"10\", \"8\", \"5\", \"10\", \"10\", \"4\", \"10\", \"8\",…\n",
            "$ Min.VisibilityMiles       <chr> \"10\", \"2\", \"1\", \"10\", \"5\", \"0\", \"5\", \"2\", \"…\n",
            "$ Max.Wind.SpeedMPH         <chr> \"22\", \"24\", \"29\", \"25\", \"22\", \"22\", \"25\", \"…\n",
            "$ Mean.Wind.SpeedMPH        <chr> \"13\", \"15\", \"12\", \"12\", \"10\", \"8\", \"15\", \"1…\n",
            "$ Max.Gust.SpeedMPH         <chr> \"29\", \"29\", \"38\", \"33\", \"26\", \"25\", \"32\", \"…\n",
            "$ PrecipitationIn           <chr> \"0.01\", \"0.10\", \"0.44\", \"0.00\", \"0.11\", \"1.…\n",
            "$ CloudCover                <chr> \"6\", \"7\", \"8\", \"3\", \"5\", \"8\", \"6\", \"8\", \"8\"…\n",
            "$ Events                    <chr> \"Rain\", \"Rain-Snow\", \"Rain\", \"\", \"Rain\", \"R…\n",
            "$ WindDirDegrees            <chr> \"268\", \"62\", \"254\", \"292\", \"61\", \"313\", \"35…\n"
          ],
          "name": "stdout"
        }
      ]
    },
    {
      "cell_type": "markdown",
      "metadata": {
        "id": "B-nk6GkAYaiM"
      },
      "source": [
        "#### Exercise 2: Combine the year, month, and day columns into a new column called date. Hint: Use `unite` function"
      ]
    },
    {
      "cell_type": "code",
      "metadata": {
        "id": "bVaIoSquYaiM",
        "outputId": "26138bf1-af62-4bf3-ba1a-da42d273f480"
      },
      "source": [
        ""
      ],
      "execution_count": null,
      "outputs": [
        {
          "output_type": "stream",
          "text": [
            "Observations: 403\n",
            "Variables: 23\n",
            "$ date                      <chr> \"2014-12-1\", \"2014-12-2\", \"2014-12-3\", \"201…\n",
            "$ Max.TemperatureF          <chr> \"64\", \"42\", \"51\", \"43\", \"42\", \"45\", \"38\", \"…\n",
            "$ Mean.TemperatureF         <chr> \"52\", \"38\", \"44\", \"37\", \"34\", \"42\", \"30\", \"…\n",
            "$ Min.TemperatureF          <chr> \"39\", \"33\", \"37\", \"30\", \"26\", \"38\", \"21\", \"…\n",
            "$ Max.Dew.PointF            <chr> \"46\", \"40\", \"49\", \"24\", \"37\", \"45\", \"36\", \"…\n",
            "$ MeanDew.PointF            <chr> \"40\", \"27\", \"42\", \"21\", \"25\", \"40\", \"20\", \"…\n",
            "$ Min.DewpointF             <chr> \"26\", \"17\", \"24\", \"13\", \"12\", \"36\", \"-3\", \"…\n",
            "$ Max.Humidity              <chr> \"74\", \"92\", \"100\", \"69\", \"85\", \"100\", \"92\",…\n",
            "$ Mean.Humidity             <chr> \"63\", \"72\", \"79\", \"54\", \"66\", \"93\", \"61\", \"…\n",
            "$ Min.Humidity              <chr> \"52\", \"51\", \"57\", \"39\", \"47\", \"85\", \"29\", \"…\n",
            "$ Max.Sea.Level.PressureIn  <chr> \"30.45\", \"30.71\", \"30.4\", \"30.56\", \"30.68\",…\n",
            "$ Mean.Sea.Level.PressureIn <chr> \"30.13\", \"30.59\", \"30.07\", \"30.33\", \"30.59\"…\n",
            "$ Min.Sea.Level.PressureIn  <chr> \"30.01\", \"30.4\", \"29.87\", \"30.09\", \"30.45\",…\n",
            "$ Max.VisibilityMiles       <chr> \"10\", \"10\", \"10\", \"10\", \"10\", \"10\", \"10\", \"…\n",
            "$ Mean.VisibilityMiles      <chr> \"10\", \"8\", \"5\", \"10\", \"10\", \"4\", \"10\", \"8\",…\n",
            "$ Min.VisibilityMiles       <chr> \"10\", \"2\", \"1\", \"10\", \"5\", \"0\", \"5\", \"2\", \"…\n",
            "$ Max.Wind.SpeedMPH         <chr> \"22\", \"24\", \"29\", \"25\", \"22\", \"22\", \"25\", \"…\n",
            "$ Mean.Wind.SpeedMPH        <chr> \"13\", \"15\", \"12\", \"12\", \"10\", \"8\", \"15\", \"1…\n",
            "$ Max.Gust.SpeedMPH         <chr> \"29\", \"29\", \"38\", \"33\", \"26\", \"25\", \"32\", \"…\n",
            "$ PrecipitationIn           <chr> \"0.01\", \"0.10\", \"0.44\", \"0.00\", \"0.11\", \"1.…\n",
            "$ CloudCover                <chr> \"6\", \"7\", \"8\", \"3\", \"5\", \"8\", \"6\", \"8\", \"8\"…\n",
            "$ Events                    <chr> \"Rain\", \"Rain-Snow\", \"Rain\", \"\", \"Rain\", \"R…\n",
            "$ WindDirDegrees            <chr> \"268\", \"62\", \"254\", \"292\", \"61\", \"313\", \"35…\n"
          ],
          "name": "stdout"
        }
      ]
    },
    {
      "cell_type": "markdown",
      "metadata": {
        "id": "7FsPrIhLYaiN"
      },
      "source": [
        "#### Exercise 3: Move events variable to the second column (Just after the `date`)"
      ]
    },
    {
      "cell_type": "code",
      "metadata": {
        "id": "Zq7QEI3hYaiN"
      },
      "source": [
        ""
      ],
      "execution_count": null,
      "outputs": []
    },
    {
      "cell_type": "markdown",
      "metadata": {
        "id": "_2QWaupuYaiN"
      },
      "source": [
        "#### Exercise 4: `PrecipitationIn` has “T”s (Trace). “Traces” in precipitation are defined as less than 0.005 inch. So, in this case, we need to map “T”s to 0."
      ]
    },
    {
      "cell_type": "code",
      "metadata": {
        "scrolled": true,
        "id": "BPcty6s2YaiN",
        "outputId": "6cb7f97e-8aa5-4a07-fe7a-58bf836cc1fc"
      },
      "source": [
        ""
      ],
      "execution_count": null,
      "outputs": [
        {
          "output_type": "stream",
          "text": [
            "Observations: 403\n",
            "Variables: 23\n",
            "$ date                      <chr> \"2014-12-1\", \"2014-12-2\", \"2014-12-3\", \"201…\n",
            "$ Events                    <chr> \"Rain\", \"Rain-Snow\", \"Rain\", \"\", \"Rain\", \"R…\n",
            "$ Max.TemperatureF          <chr> \"64\", \"42\", \"51\", \"43\", \"42\", \"45\", \"38\", \"…\n",
            "$ Mean.TemperatureF         <chr> \"52\", \"38\", \"44\", \"37\", \"34\", \"42\", \"30\", \"…\n",
            "$ Min.TemperatureF          <chr> \"39\", \"33\", \"37\", \"30\", \"26\", \"38\", \"21\", \"…\n",
            "$ Max.Dew.PointF            <chr> \"46\", \"40\", \"49\", \"24\", \"37\", \"45\", \"36\", \"…\n",
            "$ MeanDew.PointF            <chr> \"40\", \"27\", \"42\", \"21\", \"25\", \"40\", \"20\", \"…\n",
            "$ Min.DewpointF             <chr> \"26\", \"17\", \"24\", \"13\", \"12\", \"36\", \"-3\", \"…\n",
            "$ Max.Humidity              <chr> \"74\", \"92\", \"100\", \"69\", \"85\", \"100\", \"92\",…\n",
            "$ Mean.Humidity             <chr> \"63\", \"72\", \"79\", \"54\", \"66\", \"93\", \"61\", \"…\n",
            "$ Min.Humidity              <chr> \"52\", \"51\", \"57\", \"39\", \"47\", \"85\", \"29\", \"…\n",
            "$ Max.Sea.Level.PressureIn  <chr> \"30.45\", \"30.71\", \"30.4\", \"30.56\", \"30.68\",…\n",
            "$ Mean.Sea.Level.PressureIn <chr> \"30.13\", \"30.59\", \"30.07\", \"30.33\", \"30.59\"…\n",
            "$ Min.Sea.Level.PressureIn  <chr> \"30.01\", \"30.4\", \"29.87\", \"30.09\", \"30.45\",…\n",
            "$ Max.VisibilityMiles       <chr> \"10\", \"10\", \"10\", \"10\", \"10\", \"10\", \"10\", \"…\n",
            "$ Mean.VisibilityMiles      <chr> \"10\", \"8\", \"5\", \"10\", \"10\", \"4\", \"10\", \"8\",…\n",
            "$ Min.VisibilityMiles       <chr> \"10\", \"2\", \"1\", \"10\", \"5\", \"0\", \"5\", \"2\", \"…\n",
            "$ Max.Wind.SpeedMPH         <chr> \"22\", \"24\", \"29\", \"25\", \"22\", \"22\", \"25\", \"…\n",
            "$ Mean.Wind.SpeedMPH        <chr> \"13\", \"15\", \"12\", \"12\", \"10\", \"8\", \"15\", \"1…\n",
            "$ Max.Gust.SpeedMPH         <chr> \"29\", \"29\", \"38\", \"33\", \"26\", \"25\", \"32\", \"…\n",
            "$ PrecipitationIn           <chr> \"0.01\", \"0.10\", \"0.44\", \"0.00\", \"0.11\", \"1.…\n",
            "$ CloudCover                <chr> \"6\", \"7\", \"8\", \"3\", \"5\", \"8\", \"6\", \"8\", \"8\"…\n",
            "$ WindDirDegrees            <chr> \"268\", \"62\", \"254\", \"292\", \"61\", \"313\", \"35…\n"
          ],
          "name": "stdout"
        }
      ]
    },
    {
      "cell_type": "markdown",
      "metadata": {
        "id": "sePgZ4UQYaiO"
      },
      "source": [
        "### Fun exercise: What is happening cell in below?"
      ]
    },
    {
      "cell_type": "code",
      "metadata": {
        "id": "Xo_RX1U9YaiO",
        "outputId": "ad8d3dfd-e514-4173-85df-f02ff90950f8"
      },
      "source": [
        "l = list(as.numeric, sqrt, `+`, c('1','9'))\n",
        "\n",
        "l[[2]](l[[3]](l[[1]](l[[4]])[1], l[[1]](l[[4]])[2]))"
      ],
      "execution_count": null,
      "outputs": [
        {
          "output_type": "display_data",
          "data": {
            "text/html": [
              "3.16227766016838"
            ],
            "text/latex": "3.16227766016838",
            "text/markdown": "3.16227766016838",
            "text/plain": [
              "[1] 3.162278"
            ]
          },
          "metadata": {
            "tags": []
          }
        }
      ]
    },
    {
      "cell_type": "markdown",
      "metadata": {
        "id": "Qv3Fgr5gYaiP"
      },
      "source": [
        "#### Exercise 5: What are the unique events in the dataset"
      ]
    },
    {
      "cell_type": "code",
      "metadata": {
        "scrolled": true,
        "id": "sQ4Lj3G8YaiP",
        "outputId": "e4418158-bb67-45e5-ab6a-ae061ae60826"
      },
      "source": [
        ""
      ],
      "execution_count": null,
      "outputs": [
        {
          "output_type": "display_data",
          "data": {
            "text/html": [
              "<ol class=list-inline>\n",
              "\t<li>'Rain'</li>\n",
              "\t<li>'Rain-Snow'</li>\n",
              "\t<li>''</li>\n",
              "\t<li>'Snow'</li>\n",
              "\t<li>'Fog-Rain'</li>\n",
              "\t<li>'Fog-Snow'</li>\n",
              "\t<li>'Fog-Rain-Snow'</li>\n",
              "\t<li>NA</li>\n",
              "\t<li>'Fog-Rain-Thunderstorm'</li>\n",
              "\t<li>'Fog'</li>\n",
              "\t<li>'Rain-Thunderstorm'</li>\n",
              "\t<li>'Thunderstorm'</li>\n",
              "\t<li>'Fog-Rain-Hail-Thunderstorm'</li>\n",
              "</ol>\n"
            ],
            "text/latex": "\\begin{enumerate*}\n\\item 'Rain'\n\\item 'Rain-Snow'\n\\item ''\n\\item 'Snow'\n\\item 'Fog-Rain'\n\\item 'Fog-Snow'\n\\item 'Fog-Rain-Snow'\n\\item NA\n\\item 'Fog-Rain-Thunderstorm'\n\\item 'Fog'\n\\item 'Rain-Thunderstorm'\n\\item 'Thunderstorm'\n\\item 'Fog-Rain-Hail-Thunderstorm'\n\\end{enumerate*}\n",
            "text/markdown": "1. 'Rain'\n2. 'Rain-Snow'\n3. ''\n4. 'Snow'\n5. 'Fog-Rain'\n6. 'Fog-Snow'\n7. 'Fog-Rain-Snow'\n8. NA\n9. 'Fog-Rain-Thunderstorm'\n10. 'Fog'\n11. 'Rain-Thunderstorm'\n12. 'Thunderstorm'\n13. 'Fog-Rain-Hail-Thunderstorm'\n\n\n",
            "text/plain": [
              " [1] \"Rain\"                       \"Rain-Snow\"                 \n",
              " [3] \"\"                           \"Snow\"                      \n",
              " [5] \"Fog-Rain\"                   \"Fog-Snow\"                  \n",
              " [7] \"Fog-Rain-Snow\"              NA                          \n",
              " [9] \"Fog-Rain-Thunderstorm\"      \"Fog\"                       \n",
              "[11] \"Rain-Thunderstorm\"          \"Thunderstorm\"              \n",
              "[13] \"Fog-Rain-Hail-Thunderstorm\""
            ]
          },
          "metadata": {
            "tags": []
          }
        }
      ]
    },
    {
      "cell_type": "markdown",
      "metadata": {
        "id": "oQNeql58YaiQ"
      },
      "source": [
        "#### Exercise 6: Empty entry means, there is no event. Change it to `Clear`"
      ]
    },
    {
      "cell_type": "code",
      "metadata": {
        "id": "8Rlw7E8NYaiR",
        "outputId": "eb3168d4-953b-4b13-8940-cc659107e37c"
      },
      "source": [
        ""
      ],
      "execution_count": null,
      "outputs": [
        {
          "output_type": "display_data",
          "data": {
            "text/html": [
              "<ol class=list-inline>\n",
              "\t<li>'Rain'</li>\n",
              "\t<li>'Rain-Snow'</li>\n",
              "\t<li>'Clear'</li>\n",
              "\t<li>'Snow'</li>\n",
              "\t<li>'Fog-Rain'</li>\n",
              "\t<li>'Fog-Snow'</li>\n",
              "\t<li>'Fog-Rain-Snow'</li>\n",
              "\t<li>NA</li>\n",
              "\t<li>'Fog-Rain-Thunderstorm'</li>\n",
              "\t<li>'Fog'</li>\n",
              "\t<li>'Rain-Thunderstorm'</li>\n",
              "\t<li>'Thunderstorm'</li>\n",
              "\t<li>'Fog-Rain-Hail-Thunderstorm'</li>\n",
              "</ol>\n"
            ],
            "text/latex": "\\begin{enumerate*}\n\\item 'Rain'\n\\item 'Rain-Snow'\n\\item 'Clear'\n\\item 'Snow'\n\\item 'Fog-Rain'\n\\item 'Fog-Snow'\n\\item 'Fog-Rain-Snow'\n\\item NA\n\\item 'Fog-Rain-Thunderstorm'\n\\item 'Fog'\n\\item 'Rain-Thunderstorm'\n\\item 'Thunderstorm'\n\\item 'Fog-Rain-Hail-Thunderstorm'\n\\end{enumerate*}\n",
            "text/markdown": "1. 'Rain'\n2. 'Rain-Snow'\n3. 'Clear'\n4. 'Snow'\n5. 'Fog-Rain'\n6. 'Fog-Snow'\n7. 'Fog-Rain-Snow'\n8. NA\n9. 'Fog-Rain-Thunderstorm'\n10. 'Fog'\n11. 'Rain-Thunderstorm'\n12. 'Thunderstorm'\n13. 'Fog-Rain-Hail-Thunderstorm'\n\n\n",
            "text/plain": [
              " [1] \"Rain\"                       \"Rain-Snow\"                 \n",
              " [3] \"Clear\"                      \"Snow\"                      \n",
              " [5] \"Fog-Rain\"                   \"Fog-Snow\"                  \n",
              " [7] \"Fog-Rain-Snow\"              NA                          \n",
              " [9] \"Fog-Rain-Thunderstorm\"      \"Fog\"                       \n",
              "[11] \"Rain-Thunderstorm\"          \"Thunderstorm\"              \n",
              "[13] \"Fog-Rain-Hail-Thunderstorm\""
            ]
          },
          "metadata": {
            "tags": []
          }
        }
      ]
    },
    {
      "cell_type": "markdown",
      "metadata": {
        "id": "GFQXK0SuYaiR"
      },
      "source": [
        "Referance: [Cleaning Messy Weather Dataset with tidyverse](https://www.rpubs.com/justinhtet/cleaning-messy-weather-dataset-with-tidyverse)"
      ]
    }
  ]
}