{
  "nbformat": 4,
  "nbformat_minor": 0,
  "metadata": {
    "kernelspec": {
      "display_name": "R",
      "language": "R",
      "name": "ir"
    },
    "language_info": {
      "codemirror_mode": "r",
      "file_extension": ".r",
      "mimetype": "text/x-r-source",
      "name": "R",
      "pygments_lexer": "r",
      "version": "3.6.1"
    },
    "colab": {
      "name": "stats306_lab7_sol.ipynb",
      "provenance": [],
      "collapsed_sections": []
    }
  },
  "cells": [
    {
      "cell_type": "markdown",
      "metadata": {
        "id": "V_CC4FW-Ydv7"
      },
      "source": [
        "# Lab 7: Missing Values and Cleaning the Messy Data"
      ]
    },
    {
      "cell_type": "code",
      "metadata": {
        "colab": {
          "base_uri": "https://localhost:8080/"
        },
        "id": "eL2Iulc3YdwA",
        "outputId": "7fa2134b-78a2-4f11-e2fa-5dedf45ed9b2"
      },
      "source": [
        "library(tidyverse)"
      ],
      "execution_count": 1,
      "outputs": [
        {
          "output_type": "stream",
          "text": [
            "Warning message in system(\"timedatectl\", intern = TRUE):\n",
            "“running command 'timedatectl' had status 1”\n",
            "── \u001b[1mAttaching packages\u001b[22m ─────────────────────────────────────── tidyverse 1.3.0 ──\n",
            "\n",
            "\u001b[32m✔\u001b[39m \u001b[34mggplot2\u001b[39m 3.3.3     \u001b[32m✔\u001b[39m \u001b[34mpurrr  \u001b[39m 0.3.4\n",
            "\u001b[32m✔\u001b[39m \u001b[34mtibble \u001b[39m 3.1.0     \u001b[32m✔\u001b[39m \u001b[34mdplyr  \u001b[39m 1.0.5\n",
            "\u001b[32m✔\u001b[39m \u001b[34mtidyr  \u001b[39m 1.1.3     \u001b[32m✔\u001b[39m \u001b[34mstringr\u001b[39m 1.4.0\n",
            "\u001b[32m✔\u001b[39m \u001b[34mreadr  \u001b[39m 1.4.0     \u001b[32m✔\u001b[39m \u001b[34mforcats\u001b[39m 0.5.1\n",
            "\n",
            "── \u001b[1mConflicts\u001b[22m ────────────────────────────────────────── tidyverse_conflicts() ──\n",
            "\u001b[31m✖\u001b[39m \u001b[34mdplyr\u001b[39m::\u001b[32mfilter()\u001b[39m masks \u001b[34mstats\u001b[39m::filter()\n",
            "\u001b[31m✖\u001b[39m \u001b[34mdplyr\u001b[39m::\u001b[32mlag()\u001b[39m    masks \u001b[34mstats\u001b[39m::lag()\n",
            "\n"
          ],
          "name": "stderr"
        }
      ]
    },
    {
      "cell_type": "code",
      "metadata": {
        "scrolled": true,
        "colab": {
          "base_uri": "https://localhost:8080/",
          "height": 314
        },
        "id": "IOpn6aNLYdwB",
        "outputId": "6e4de49d-5112-4a21-b930-096c00bacbf4"
      },
      "source": [
        "(stocks <- tibble(\n",
        "  Year   = c(2015, 2015, 2015, 2015, 2016, 2016, 2016),\n",
        "  Qtr    = c(   1,    2,    3,    4,    2,    3,    4),\n",
        "  Return = c(1.88, 0.59, 0.35,   NA, 0.92, 0.17, 2.66)\n",
        "))"
      ],
      "execution_count": 2,
      "outputs": [
        {
          "output_type": "display_data",
          "data": {
            "text/plain": [
              "  Year Qtr Return\n",
              "1 2015 1   1.88  \n",
              "2 2015 2   0.59  \n",
              "3 2015 3   0.35  \n",
              "4 2015 4     NA  \n",
              "5 2016 2   0.92  \n",
              "6 2016 3   0.17  \n",
              "7 2016 4   2.66  "
            ],
            "text/latex": "A tibble: 7 × 3\n\\begin{tabular}{lll}\n Year & Qtr & Return\\\\\n <dbl> & <dbl> & <dbl>\\\\\n\\hline\n\t 2015 & 1 & 1.88\\\\\n\t 2015 & 2 & 0.59\\\\\n\t 2015 & 3 & 0.35\\\\\n\t 2015 & 4 &   NA\\\\\n\t 2016 & 2 & 0.92\\\\\n\t 2016 & 3 & 0.17\\\\\n\t 2016 & 4 & 2.66\\\\\n\\end{tabular}\n",
            "text/markdown": "\nA tibble: 7 × 3\n\n| Year &lt;dbl&gt; | Qtr &lt;dbl&gt; | Return &lt;dbl&gt; |\n|---|---|---|\n| 2015 | 1 | 1.88 |\n| 2015 | 2 | 0.59 |\n| 2015 | 3 | 0.35 |\n| 2015 | 4 |   NA |\n| 2016 | 2 | 0.92 |\n| 2016 | 3 | 0.17 |\n| 2016 | 4 | 2.66 |\n\n",
            "text/html": [
              "<table class=\"dataframe\">\n",
              "<caption>A tibble: 7 × 3</caption>\n",
              "<thead>\n",
              "\t<tr><th scope=col>Year</th><th scope=col>Qtr</th><th scope=col>Return</th></tr>\n",
              "\t<tr><th scope=col>&lt;dbl&gt;</th><th scope=col>&lt;dbl&gt;</th><th scope=col>&lt;dbl&gt;</th></tr>\n",
              "</thead>\n",
              "<tbody>\n",
              "\t<tr><td>2015</td><td>1</td><td>1.88</td></tr>\n",
              "\t<tr><td>2015</td><td>2</td><td>0.59</td></tr>\n",
              "\t<tr><td>2015</td><td>3</td><td>0.35</td></tr>\n",
              "\t<tr><td>2015</td><td>4</td><td>  NA</td></tr>\n",
              "\t<tr><td>2016</td><td>2</td><td>0.92</td></tr>\n",
              "\t<tr><td>2016</td><td>3</td><td>0.17</td></tr>\n",
              "\t<tr><td>2016</td><td>4</td><td>2.66</td></tr>\n",
              "</tbody>\n",
              "</table>\n"
            ]
          },
          "metadata": {
            "tags": []
          }
        }
      ]
    },
    {
      "cell_type": "markdown",
      "metadata": {
        "id": "005cYvw-YdwC"
      },
      "source": [
        "## Missing Values\n",
        "Missing values can be:\n",
        "1. *Explicit* (marked as NA in our data)\n",
        "1. *Implicit* (not present in the data)\n",
        "\n",
        "In this example we have one explicitly missing value for the 4th quarter of 2015. Are there any other missing values? Yes, because we do not have an observation for the first quarter of 2016."
      ]
    },
    {
      "cell_type": "markdown",
      "metadata": {
        "id": "fCIRNbpPYdwC"
      },
      "source": [
        "`complete`: Turns implicit missing values into explicit missing values."
      ]
    },
    {
      "cell_type": "code",
      "metadata": {
        "id": "ktbRa68fYdwC"
      },
      "source": [
        "?complete"
      ],
      "execution_count": null,
      "outputs": []
    },
    {
      "cell_type": "code",
      "metadata": {
        "colab": {
          "base_uri": "https://localhost:8080/",
          "height": 345
        },
        "id": "B542IFLGYdwC",
        "outputId": "26284062-a7f3-4120-f17f-a719ad2eb55e"
      },
      "source": [
        "stocks %>% complete(Year, Qtr)"
      ],
      "execution_count": 3,
      "outputs": [
        {
          "output_type": "display_data",
          "data": {
            "text/plain": [
              "  Year Qtr Return\n",
              "1 2015 1   1.88  \n",
              "2 2015 2   0.59  \n",
              "3 2015 3   0.35  \n",
              "4 2015 4     NA  \n",
              "5 2016 1     NA  \n",
              "6 2016 2   0.92  \n",
              "7 2016 3   0.17  \n",
              "8 2016 4   2.66  "
            ],
            "text/latex": "A tibble: 8 × 3\n\\begin{tabular}{lll}\n Year & Qtr & Return\\\\\n <dbl> & <dbl> & <dbl>\\\\\n\\hline\n\t 2015 & 1 & 1.88\\\\\n\t 2015 & 2 & 0.59\\\\\n\t 2015 & 3 & 0.35\\\\\n\t 2015 & 4 &   NA\\\\\n\t 2016 & 1 &   NA\\\\\n\t 2016 & 2 & 0.92\\\\\n\t 2016 & 3 & 0.17\\\\\n\t 2016 & 4 & 2.66\\\\\n\\end{tabular}\n",
            "text/markdown": "\nA tibble: 8 × 3\n\n| Year &lt;dbl&gt; | Qtr &lt;dbl&gt; | Return &lt;dbl&gt; |\n|---|---|---|\n| 2015 | 1 | 1.88 |\n| 2015 | 2 | 0.59 |\n| 2015 | 3 | 0.35 |\n| 2015 | 4 |   NA |\n| 2016 | 1 |   NA |\n| 2016 | 2 | 0.92 |\n| 2016 | 3 | 0.17 |\n| 2016 | 4 | 2.66 |\n\n",
            "text/html": [
              "<table class=\"dataframe\">\n",
              "<caption>A tibble: 8 × 3</caption>\n",
              "<thead>\n",
              "\t<tr><th scope=col>Year</th><th scope=col>Qtr</th><th scope=col>Return</th></tr>\n",
              "\t<tr><th scope=col>&lt;dbl&gt;</th><th scope=col>&lt;dbl&gt;</th><th scope=col>&lt;dbl&gt;</th></tr>\n",
              "</thead>\n",
              "<tbody>\n",
              "\t<tr><td>2015</td><td>1</td><td>1.88</td></tr>\n",
              "\t<tr><td>2015</td><td>2</td><td>0.59</td></tr>\n",
              "\t<tr><td>2015</td><td>3</td><td>0.35</td></tr>\n",
              "\t<tr><td>2015</td><td>4</td><td>  NA</td></tr>\n",
              "\t<tr><td>2016</td><td>1</td><td>  NA</td></tr>\n",
              "\t<tr><td>2016</td><td>2</td><td>0.92</td></tr>\n",
              "\t<tr><td>2016</td><td>3</td><td>0.17</td></tr>\n",
              "\t<tr><td>2016</td><td>4</td><td>2.66</td></tr>\n",
              "</tbody>\n",
              "</table>\n"
            ]
          },
          "metadata": {
            "tags": []
          }
        }
      ]
    },
    {
      "cell_type": "markdown",
      "metadata": {
        "id": "b7lNbKP_YdwD"
      },
      "source": [
        "`fill`: Fills missing values in selected columns using the previous entry."
      ]
    },
    {
      "cell_type": "code",
      "metadata": {
        "scrolled": true,
        "colab": {
          "base_uri": "https://localhost:8080/",
          "height": 345
        },
        "id": "7cZF_dbkYdwD",
        "outputId": "98c5efab-07ee-4d23-e0d6-35687ae9e63d"
      },
      "source": [
        "stocks %>% complete(Year, Qtr) %>% fill(Return)\n",
        "# you can look up imputation methods"
      ],
      "execution_count": 4,
      "outputs": [
        {
          "output_type": "display_data",
          "data": {
            "text/plain": [
              "  Year Qtr Return\n",
              "1 2015 1   1.88  \n",
              "2 2015 2   0.59  \n",
              "3 2015 3   0.35  \n",
              "4 2015 4   0.35  \n",
              "5 2016 1   0.35  \n",
              "6 2016 2   0.92  \n",
              "7 2016 3   0.17  \n",
              "8 2016 4   2.66  "
            ],
            "text/latex": "A tibble: 8 × 3\n\\begin{tabular}{lll}\n Year & Qtr & Return\\\\\n <dbl> & <dbl> & <dbl>\\\\\n\\hline\n\t 2015 & 1 & 1.88\\\\\n\t 2015 & 2 & 0.59\\\\\n\t 2015 & 3 & 0.35\\\\\n\t 2015 & 4 & 0.35\\\\\n\t 2016 & 1 & 0.35\\\\\n\t 2016 & 2 & 0.92\\\\\n\t 2016 & 3 & 0.17\\\\\n\t 2016 & 4 & 2.66\\\\\n\\end{tabular}\n",
            "text/markdown": "\nA tibble: 8 × 3\n\n| Year &lt;dbl&gt; | Qtr &lt;dbl&gt; | Return &lt;dbl&gt; |\n|---|---|---|\n| 2015 | 1 | 1.88 |\n| 2015 | 2 | 0.59 |\n| 2015 | 3 | 0.35 |\n| 2015 | 4 | 0.35 |\n| 2016 | 1 | 0.35 |\n| 2016 | 2 | 0.92 |\n| 2016 | 3 | 0.17 |\n| 2016 | 4 | 2.66 |\n\n",
            "text/html": [
              "<table class=\"dataframe\">\n",
              "<caption>A tibble: 8 × 3</caption>\n",
              "<thead>\n",
              "\t<tr><th scope=col>Year</th><th scope=col>Qtr</th><th scope=col>Return</th></tr>\n",
              "\t<tr><th scope=col>&lt;dbl&gt;</th><th scope=col>&lt;dbl&gt;</th><th scope=col>&lt;dbl&gt;</th></tr>\n",
              "</thead>\n",
              "<tbody>\n",
              "\t<tr><td>2015</td><td>1</td><td>1.88</td></tr>\n",
              "\t<tr><td>2015</td><td>2</td><td>0.59</td></tr>\n",
              "\t<tr><td>2015</td><td>3</td><td>0.35</td></tr>\n",
              "\t<tr><td>2015</td><td>4</td><td>0.35</td></tr>\n",
              "\t<tr><td>2016</td><td>1</td><td>0.35</td></tr>\n",
              "\t<tr><td>2016</td><td>2</td><td>0.92</td></tr>\n",
              "\t<tr><td>2016</td><td>3</td><td>0.17</td></tr>\n",
              "\t<tr><td>2016</td><td>4</td><td>2.66</td></tr>\n",
              "</tbody>\n",
              "</table>\n"
            ]
          },
          "metadata": {
            "tags": []
          }
        }
      ]
    },
    {
      "cell_type": "markdown",
      "metadata": {
        "id": "oOYBHMx0YdwD"
      },
      "source": [
        "The missing values also become `explicit` if we widen the tibble."
      ]
    },
    {
      "cell_type": "code",
      "metadata": {
        "colab": {
          "base_uri": "https://localhost:8080/",
          "height": 221
        },
        "id": "1_i_JAGGYdwE",
        "outputId": "40e70fc1-ec5f-4add-a024-336ebc5b640e"
      },
      "source": [
        "stocks_wide = stocks %>% pivot_wider(names_from = Year, values_from = Return)\n",
        "\n",
        "stocks_wide"
      ],
      "execution_count": 5,
      "outputs": [
        {
          "output_type": "display_data",
          "data": {
            "text/plain": [
              "  Qtr 2015 2016\n",
              "1 1   1.88   NA\n",
              "2 2   0.59 0.92\n",
              "3 3   0.35 0.17\n",
              "4 4     NA 2.66"
            ],
            "text/latex": "A tibble: 4 × 3\n\\begin{tabular}{lll}\n Qtr & 2015 & 2016\\\\\n <dbl> & <dbl> & <dbl>\\\\\n\\hline\n\t 1 & 1.88 &   NA\\\\\n\t 2 & 0.59 & 0.92\\\\\n\t 3 & 0.35 & 0.17\\\\\n\t 4 &   NA & 2.66\\\\\n\\end{tabular}\n",
            "text/markdown": "\nA tibble: 4 × 3\n\n| Qtr &lt;dbl&gt; | 2015 &lt;dbl&gt; | 2016 &lt;dbl&gt; |\n|---|---|---|\n| 1 | 1.88 |   NA |\n| 2 | 0.59 | 0.92 |\n| 3 | 0.35 | 0.17 |\n| 4 |   NA | 2.66 |\n\n",
            "text/html": [
              "<table class=\"dataframe\">\n",
              "<caption>A tibble: 4 × 3</caption>\n",
              "<thead>\n",
              "\t<tr><th scope=col>Qtr</th><th scope=col>2015</th><th scope=col>2016</th></tr>\n",
              "\t<tr><th scope=col>&lt;dbl&gt;</th><th scope=col>&lt;dbl&gt;</th><th scope=col>&lt;dbl&gt;</th></tr>\n",
              "</thead>\n",
              "<tbody>\n",
              "\t<tr><td>1</td><td>1.88</td><td>  NA</td></tr>\n",
              "\t<tr><td>2</td><td>0.59</td><td>0.92</td></tr>\n",
              "\t<tr><td>3</td><td>0.35</td><td>0.17</td></tr>\n",
              "\t<tr><td>4</td><td>  NA</td><td>2.66</td></tr>\n",
              "</tbody>\n",
              "</table>\n"
            ]
          },
          "metadata": {
            "tags": []
          }
        }
      ]
    },
    {
      "cell_type": "markdown",
      "metadata": {
        "id": "3s73TTJIYdwE"
      },
      "source": [
        "`pivot_longer` will keep all these explicitly missing values by default."
      ]
    },
    {
      "cell_type": "code",
      "metadata": {
        "colab": {
          "base_uri": "https://localhost:8080/",
          "height": 345
        },
        "id": "CzoZdcpaYdwE",
        "outputId": "a0257d63-44b5-497d-e18e-98e16b98b396"
      },
      "source": [
        "stocks_wide %>% pivot_longer(cols = `2015`:`2016`, names_to = 'Year') %>%\n",
        "arrange(Year)"
      ],
      "execution_count": 6,
      "outputs": [
        {
          "output_type": "display_data",
          "data": {
            "text/plain": [
              "  Qtr Year value\n",
              "1 1   2015 1.88 \n",
              "2 2   2015 0.59 \n",
              "3 3   2015 0.35 \n",
              "4 4   2015   NA \n",
              "5 1   2016   NA \n",
              "6 2   2016 0.92 \n",
              "7 3   2016 0.17 \n",
              "8 4   2016 2.66 "
            ],
            "text/latex": "A tibble: 8 × 3\n\\begin{tabular}{lll}\n Qtr & Year & value\\\\\n <dbl> & <chr> & <dbl>\\\\\n\\hline\n\t 1 & 2015 & 1.88\\\\\n\t 2 & 2015 & 0.59\\\\\n\t 3 & 2015 & 0.35\\\\\n\t 4 & 2015 &   NA\\\\\n\t 1 & 2016 &   NA\\\\\n\t 2 & 2016 & 0.92\\\\\n\t 3 & 2016 & 0.17\\\\\n\t 4 & 2016 & 2.66\\\\\n\\end{tabular}\n",
            "text/markdown": "\nA tibble: 8 × 3\n\n| Qtr &lt;dbl&gt; | Year &lt;chr&gt; | value &lt;dbl&gt; |\n|---|---|---|\n| 1 | 2015 | 1.88 |\n| 2 | 2015 | 0.59 |\n| 3 | 2015 | 0.35 |\n| 4 | 2015 |   NA |\n| 1 | 2016 |   NA |\n| 2 | 2016 | 0.92 |\n| 3 | 2016 | 0.17 |\n| 4 | 2016 | 2.66 |\n\n",
            "text/html": [
              "<table class=\"dataframe\">\n",
              "<caption>A tibble: 8 × 3</caption>\n",
              "<thead>\n",
              "\t<tr><th scope=col>Qtr</th><th scope=col>Year</th><th scope=col>value</th></tr>\n",
              "\t<tr><th scope=col>&lt;dbl&gt;</th><th scope=col>&lt;chr&gt;</th><th scope=col>&lt;dbl&gt;</th></tr>\n",
              "</thead>\n",
              "<tbody>\n",
              "\t<tr><td>1</td><td>2015</td><td>1.88</td></tr>\n",
              "\t<tr><td>2</td><td>2015</td><td>0.59</td></tr>\n",
              "\t<tr><td>3</td><td>2015</td><td>0.35</td></tr>\n",
              "\t<tr><td>4</td><td>2015</td><td>  NA</td></tr>\n",
              "\t<tr><td>1</td><td>2016</td><td>  NA</td></tr>\n",
              "\t<tr><td>2</td><td>2016</td><td>0.92</td></tr>\n",
              "\t<tr><td>3</td><td>2016</td><td>0.17</td></tr>\n",
              "\t<tr><td>4</td><td>2016</td><td>2.66</td></tr>\n",
              "</tbody>\n",
              "</table>\n"
            ]
          },
          "metadata": {
            "tags": []
          }
        }
      ]
    },
    {
      "cell_type": "markdown",
      "metadata": {
        "id": "MKMVmXyyYdwE"
      },
      "source": [
        "## Cleaning the messy data"
      ]
    },
    {
      "cell_type": "code",
      "metadata": {
        "id": "vs47s73xYdwE"
      },
      "source": [
        "datacamp_url = \"https://assets.datacamp.com/production/repositories/34/datasets/b3c1036d9a60a9dfe0f99051d2474a54f76055ea/weather.rds\"\n",
        "weather = readRDS(url(datacamp_url))"
      ],
      "execution_count": 7,
      "outputs": []
    },
    {
      "cell_type": "code",
      "metadata": {
        "colab": {
          "base_uri": "https://localhost:8080/"
        },
        "id": "0LYAdCyTYdwF",
        "outputId": "b3c1e5ba-5d5b-4f35-99ad-d13b5403b819"
      },
      "source": [
        "weather %>% glimpse"
      ],
      "execution_count": 8,
      "outputs": [
        {
          "output_type": "stream",
          "text": [
            "Rows: 286\n",
            "Columns: 35\n",
            "$ X       \u001b[3m\u001b[90m<int>\u001b[39m\u001b[23m 1, 2, 3, 4, 5, 6, 7, 8, 9, 10, 11, 12, 13, 14, 15, 16, 17, 18,…\n",
            "$ year    \u001b[3m\u001b[90m<int>\u001b[39m\u001b[23m 2014, 2014, 2014, 2014, 2014, 2014, 2014, 2014, 2014, 2014, 20…\n",
            "$ month   \u001b[3m\u001b[90m<int>\u001b[39m\u001b[23m 12, 12, 12, 12, 12, 12, 12, 12, 12, 12, 12, 12, 12, 12, 12, 12…\n",
            "$ measure \u001b[3m\u001b[90m<chr>\u001b[39m\u001b[23m \"Max.TemperatureF\", \"Mean.TemperatureF\", \"Min.TemperatureF\", \"…\n",
            "$ X1      \u001b[3m\u001b[90m<chr>\u001b[39m\u001b[23m \"64\", \"52\", \"39\", \"46\", \"40\", \"26\", \"74\", \"63\", \"52\", \"30.45\",…\n",
            "$ X2      \u001b[3m\u001b[90m<chr>\u001b[39m\u001b[23m \"42\", \"38\", \"33\", \"40\", \"27\", \"17\", \"92\", \"72\", \"51\", \"30.71\",…\n",
            "$ X3      \u001b[3m\u001b[90m<chr>\u001b[39m\u001b[23m \"51\", \"44\", \"37\", \"49\", \"42\", \"24\", \"100\", \"79\", \"57\", \"30.4\",…\n",
            "$ X4      \u001b[3m\u001b[90m<chr>\u001b[39m\u001b[23m \"43\", \"37\", \"30\", \"24\", \"21\", \"13\", \"69\", \"54\", \"39\", \"30.56\",…\n",
            "$ X5      \u001b[3m\u001b[90m<chr>\u001b[39m\u001b[23m \"42\", \"34\", \"26\", \"37\", \"25\", \"12\", \"85\", \"66\", \"47\", \"30.68\",…\n",
            "$ X6      \u001b[3m\u001b[90m<chr>\u001b[39m\u001b[23m \"45\", \"42\", \"38\", \"45\", \"40\", \"36\", \"100\", \"93\", \"85\", \"30.42\"…\n",
            "$ X7      \u001b[3m\u001b[90m<chr>\u001b[39m\u001b[23m \"38\", \"30\", \"21\", \"36\", \"20\", \"-3\", \"92\", \"61\", \"29\", \"30.69\",…\n",
            "$ X8      \u001b[3m\u001b[90m<chr>\u001b[39m\u001b[23m \"29\", \"24\", \"18\", \"28\", \"16\", \"3\", \"92\", \"70\", \"47\", \"30.77\", …\n",
            "$ X9      \u001b[3m\u001b[90m<chr>\u001b[39m\u001b[23m \"49\", \"39\", \"29\", \"49\", \"41\", \"28\", \"100\", \"93\", \"86\", \"30.51\"…\n",
            "$ X10     \u001b[3m\u001b[90m<chr>\u001b[39m\u001b[23m \"48\", \"43\", \"38\", \"45\", \"39\", \"37\", \"100\", \"95\", \"89\", \"29.58\"…\n",
            "$ X11     \u001b[3m\u001b[90m<chr>\u001b[39m\u001b[23m \"39\", \"36\", \"32\", \"37\", \"31\", \"27\", \"92\", \"87\", \"82\", \"29.81\",…\n",
            "$ X12     \u001b[3m\u001b[90m<chr>\u001b[39m\u001b[23m \"39\", \"35\", \"31\", \"28\", \"27\", \"25\", \"85\", \"75\", \"64\", \"29.88\",…\n",
            "$ X13     \u001b[3m\u001b[90m<chr>\u001b[39m\u001b[23m \"42\", \"37\", \"32\", \"28\", \"26\", \"24\", \"75\", \"65\", \"55\", \"29.86\",…\n",
            "$ X14     \u001b[3m\u001b[90m<chr>\u001b[39m\u001b[23m \"45\", \"39\", \"33\", \"29\", \"27\", \"25\", \"82\", \"68\", \"53\", \"29.91\",…\n",
            "$ X15     \u001b[3m\u001b[90m<chr>\u001b[39m\u001b[23m \"42\", \"37\", \"32\", \"33\", \"29\", \"27\", \"89\", \"75\", \"60\", \"30.15\",…\n",
            "$ X16     \u001b[3m\u001b[90m<chr>\u001b[39m\u001b[23m \"44\", \"40\", \"35\", \"42\", \"36\", \"30\", \"96\", \"85\", \"73\", \"30.17\",…\n",
            "$ X17     \u001b[3m\u001b[90m<chr>\u001b[39m\u001b[23m \"49\", \"45\", \"41\", \"46\", \"41\", \"32\", \"100\", \"85\", \"70\", \"29.91\"…\n",
            "$ X18     \u001b[3m\u001b[90m<chr>\u001b[39m\u001b[23m \"44\", \"40\", \"36\", \"34\", \"30\", \"26\", \"89\", \"73\", \"57\", \"29.87\",…\n",
            "$ X19     \u001b[3m\u001b[90m<chr>\u001b[39m\u001b[23m \"37\", \"33\", \"29\", \"25\", \"22\", \"20\", \"69\", \"63\", \"56\", \"30.15\",…\n",
            "$ X20     \u001b[3m\u001b[90m<chr>\u001b[39m\u001b[23m \"36\", \"32\", \"27\", \"30\", \"24\", \"20\", \"89\", \"79\", \"69\", \"30.31\",…\n",
            "$ X21     \u001b[3m\u001b[90m<chr>\u001b[39m\u001b[23m \"36\", \"33\", \"30\", \"30\", \"27\", \"25\", \"85\", \"77\", \"69\", \"30.37\",…\n",
            "$ X22     \u001b[3m\u001b[90m<chr>\u001b[39m\u001b[23m \"44\", \"39\", \"33\", \"39\", \"34\", \"25\", \"89\", \"79\", \"69\", \"30.4\", …\n",
            "$ X23     \u001b[3m\u001b[90m<chr>\u001b[39m\u001b[23m \"47\", \"45\", \"42\", \"45\", \"42\", \"37\", \"100\", \"91\", \"82\", \"30.31\"…\n",
            "$ X24     \u001b[3m\u001b[90m<chr>\u001b[39m\u001b[23m \"46\", \"44\", \"41\", \"46\", \"44\", \"41\", \"100\", \"98\", \"96\", \"30.13\"…\n",
            "$ X25     \u001b[3m\u001b[90m<chr>\u001b[39m\u001b[23m \"59\", \"52\", \"44\", \"58\", \"43\", \"29\", \"100\", \"75\", \"49\", \"29.96\"…\n",
            "$ X26     \u001b[3m\u001b[90m<chr>\u001b[39m\u001b[23m \"50\", \"44\", \"37\", \"31\", \"29\", \"28\", \"70\", \"60\", \"49\", \"30.16\",…\n",
            "$ X27     \u001b[3m\u001b[90m<chr>\u001b[39m\u001b[23m \"52\", \"45\", \"38\", \"34\", \"31\", \"29\", \"70\", \"60\", \"50\", \"30.22\",…\n",
            "$ X28     \u001b[3m\u001b[90m<chr>\u001b[39m\u001b[23m \"52\", \"46\", \"40\", \"42\", \"35\", \"27\", \"76\", \"65\", \"53\", \"29.99\",…\n",
            "$ X29     \u001b[3m\u001b[90m<chr>\u001b[39m\u001b[23m \"41\", \"36\", \"30\", \"26\", \"20\", \"10\", \"64\", \"51\", \"37\", \"30.22\",…\n",
            "$ X30     \u001b[3m\u001b[90m<chr>\u001b[39m\u001b[23m \"30\", \"26\", \"22\", \"10\", \"4\", \"-6\", \"50\", \"38\", \"26\", \"30.36\", …\n",
            "$ X31     \u001b[3m\u001b[90m<chr>\u001b[39m\u001b[23m \"30\", \"25\", \"20\", \"8\", \"5\", \"1\", \"57\", \"44\", \"31\", \"30.32\", \"3…\n"
          ],
          "name": "stdout"
        }
      ]
    },
    {
      "cell_type": "code",
      "metadata": {
        "scrolled": true,
        "colab": {
          "base_uri": "https://localhost:8080/",
          "height": 303
        },
        "id": "RCLkkrDvYdwF",
        "outputId": "442eaaef-d665-4311-9499-2848cf0c94aa"
      },
      "source": [
        "weather %>% head"
      ],
      "execution_count": 10,
      "outputs": [
        {
          "output_type": "display_data",
          "data": {
            "text/plain": [
              "  X year month measure           X1 X2 X3 X4 X5 X6 ⋯ X22 X23 X24 X25 X26 X27\n",
              "1 1 2014 12    Max.TemperatureF  64 42 51 43 42 45 ⋯ 44  47  46  59  50  52 \n",
              "2 2 2014 12    Mean.TemperatureF 52 38 44 37 34 42 ⋯ 39  45  44  52  44  45 \n",
              "3 3 2014 12    Min.TemperatureF  39 33 37 30 26 38 ⋯ 33  42  41  44  37  38 \n",
              "4 4 2014 12    Max.Dew.PointF    46 40 49 24 37 45 ⋯ 39  45  46  58  31  34 \n",
              "5 5 2014 12    MeanDew.PointF    40 27 42 21 25 40 ⋯ 34  42  44  43  29  31 \n",
              "6 6 2014 12    Min.DewpointF     26 17 24 13 12 36 ⋯ 25  37  41  29  28  29 \n",
              "  X28 X29 X30 X31\n",
              "1 52  41  30  30 \n",
              "2 46  36  26  25 \n",
              "3 40  30  22  20 \n",
              "4 42  26  10  8  \n",
              "5 35  20  4   5  \n",
              "6 27  10  -6  1  "
            ],
            "text/latex": "A data.frame: 6 × 35\n\\begin{tabular}{r|lllllllllllllllllllll}\n  & X & year & month & measure & X1 & X2 & X3 & X4 & X5 & X6 & ⋯ & X22 & X23 & X24 & X25 & X26 & X27 & X28 & X29 & X30 & X31\\\\\n  & <int> & <int> & <int> & <chr> & <chr> & <chr> & <chr> & <chr> & <chr> & <chr> & ⋯ & <chr> & <chr> & <chr> & <chr> & <chr> & <chr> & <chr> & <chr> & <chr> & <chr>\\\\\n\\hline\n\t1 & 1 & 2014 & 12 & Max.TemperatureF  & 64 & 42 & 51 & 43 & 42 & 45 & ⋯ & 44 & 47 & 46 & 59 & 50 & 52 & 52 & 41 & 30 & 30\\\\\n\t2 & 2 & 2014 & 12 & Mean.TemperatureF & 52 & 38 & 44 & 37 & 34 & 42 & ⋯ & 39 & 45 & 44 & 52 & 44 & 45 & 46 & 36 & 26 & 25\\\\\n\t3 & 3 & 2014 & 12 & Min.TemperatureF  & 39 & 33 & 37 & 30 & 26 & 38 & ⋯ & 33 & 42 & 41 & 44 & 37 & 38 & 40 & 30 & 22 & 20\\\\\n\t4 & 4 & 2014 & 12 & Max.Dew.PointF    & 46 & 40 & 49 & 24 & 37 & 45 & ⋯ & 39 & 45 & 46 & 58 & 31 & 34 & 42 & 26 & 10 & 8 \\\\\n\t5 & 5 & 2014 & 12 & MeanDew.PointF    & 40 & 27 & 42 & 21 & 25 & 40 & ⋯ & 34 & 42 & 44 & 43 & 29 & 31 & 35 & 20 & 4  & 5 \\\\\n\t6 & 6 & 2014 & 12 & Min.DewpointF     & 26 & 17 & 24 & 13 & 12 & 36 & ⋯ & 25 & 37 & 41 & 29 & 28 & 29 & 27 & 10 & -6 & 1 \\\\\n\\end{tabular}\n",
            "text/markdown": "\nA data.frame: 6 × 35\n\n| <!--/--> | X &lt;int&gt; | year &lt;int&gt; | month &lt;int&gt; | measure &lt;chr&gt; | X1 &lt;chr&gt; | X2 &lt;chr&gt; | X3 &lt;chr&gt; | X4 &lt;chr&gt; | X5 &lt;chr&gt; | X6 &lt;chr&gt; | ⋯ ⋯ | X22 &lt;chr&gt; | X23 &lt;chr&gt; | X24 &lt;chr&gt; | X25 &lt;chr&gt; | X26 &lt;chr&gt; | X27 &lt;chr&gt; | X28 &lt;chr&gt; | X29 &lt;chr&gt; | X30 &lt;chr&gt; | X31 &lt;chr&gt; |\n|---|---|---|---|---|---|---|---|---|---|---|---|---|---|---|---|---|---|---|---|---|---|\n| 1 | 1 | 2014 | 12 | Max.TemperatureF  | 64 | 42 | 51 | 43 | 42 | 45 | ⋯ | 44 | 47 | 46 | 59 | 50 | 52 | 52 | 41 | 30 | 30 |\n| 2 | 2 | 2014 | 12 | Mean.TemperatureF | 52 | 38 | 44 | 37 | 34 | 42 | ⋯ | 39 | 45 | 44 | 52 | 44 | 45 | 46 | 36 | 26 | 25 |\n| 3 | 3 | 2014 | 12 | Min.TemperatureF  | 39 | 33 | 37 | 30 | 26 | 38 | ⋯ | 33 | 42 | 41 | 44 | 37 | 38 | 40 | 30 | 22 | 20 |\n| 4 | 4 | 2014 | 12 | Max.Dew.PointF    | 46 | 40 | 49 | 24 | 37 | 45 | ⋯ | 39 | 45 | 46 | 58 | 31 | 34 | 42 | 26 | 10 | 8  |\n| 5 | 5 | 2014 | 12 | MeanDew.PointF    | 40 | 27 | 42 | 21 | 25 | 40 | ⋯ | 34 | 42 | 44 | 43 | 29 | 31 | 35 | 20 | 4  | 5  |\n| 6 | 6 | 2014 | 12 | Min.DewpointF     | 26 | 17 | 24 | 13 | 12 | 36 | ⋯ | 25 | 37 | 41 | 29 | 28 | 29 | 27 | 10 | -6 | 1  |\n\n",
            "text/html": [
              "<table class=\"dataframe\">\n",
              "<caption>A data.frame: 6 × 35</caption>\n",
              "<thead>\n",
              "\t<tr><th></th><th scope=col>X</th><th scope=col>year</th><th scope=col>month</th><th scope=col>measure</th><th scope=col>X1</th><th scope=col>X2</th><th scope=col>X3</th><th scope=col>X4</th><th scope=col>X5</th><th scope=col>X6</th><th scope=col>⋯</th><th scope=col>X22</th><th scope=col>X23</th><th scope=col>X24</th><th scope=col>X25</th><th scope=col>X26</th><th scope=col>X27</th><th scope=col>X28</th><th scope=col>X29</th><th scope=col>X30</th><th scope=col>X31</th></tr>\n",
              "\t<tr><th></th><th scope=col>&lt;int&gt;</th><th scope=col>&lt;int&gt;</th><th scope=col>&lt;int&gt;</th><th scope=col>&lt;chr&gt;</th><th scope=col>&lt;chr&gt;</th><th scope=col>&lt;chr&gt;</th><th scope=col>&lt;chr&gt;</th><th scope=col>&lt;chr&gt;</th><th scope=col>&lt;chr&gt;</th><th scope=col>&lt;chr&gt;</th><th scope=col>⋯</th><th scope=col>&lt;chr&gt;</th><th scope=col>&lt;chr&gt;</th><th scope=col>&lt;chr&gt;</th><th scope=col>&lt;chr&gt;</th><th scope=col>&lt;chr&gt;</th><th scope=col>&lt;chr&gt;</th><th scope=col>&lt;chr&gt;</th><th scope=col>&lt;chr&gt;</th><th scope=col>&lt;chr&gt;</th><th scope=col>&lt;chr&gt;</th></tr>\n",
              "</thead>\n",
              "<tbody>\n",
              "\t<tr><th scope=row>1</th><td>1</td><td>2014</td><td>12</td><td>Max.TemperatureF </td><td>64</td><td>42</td><td>51</td><td>43</td><td>42</td><td>45</td><td>⋯</td><td>44</td><td>47</td><td>46</td><td>59</td><td>50</td><td>52</td><td>52</td><td>41</td><td>30</td><td>30</td></tr>\n",
              "\t<tr><th scope=row>2</th><td>2</td><td>2014</td><td>12</td><td>Mean.TemperatureF</td><td>52</td><td>38</td><td>44</td><td>37</td><td>34</td><td>42</td><td>⋯</td><td>39</td><td>45</td><td>44</td><td>52</td><td>44</td><td>45</td><td>46</td><td>36</td><td>26</td><td>25</td></tr>\n",
              "\t<tr><th scope=row>3</th><td>3</td><td>2014</td><td>12</td><td>Min.TemperatureF </td><td>39</td><td>33</td><td>37</td><td>30</td><td>26</td><td>38</td><td>⋯</td><td>33</td><td>42</td><td>41</td><td>44</td><td>37</td><td>38</td><td>40</td><td>30</td><td>22</td><td>20</td></tr>\n",
              "\t<tr><th scope=row>4</th><td>4</td><td>2014</td><td>12</td><td>Max.Dew.PointF   </td><td>46</td><td>40</td><td>49</td><td>24</td><td>37</td><td>45</td><td>⋯</td><td>39</td><td>45</td><td>46</td><td>58</td><td>31</td><td>34</td><td>42</td><td>26</td><td>10</td><td>8 </td></tr>\n",
              "\t<tr><th scope=row>5</th><td>5</td><td>2014</td><td>12</td><td>MeanDew.PointF   </td><td>40</td><td>27</td><td>42</td><td>21</td><td>25</td><td>40</td><td>⋯</td><td>34</td><td>42</td><td>44</td><td>43</td><td>29</td><td>31</td><td>35</td><td>20</td><td>4 </td><td>5 </td></tr>\n",
              "\t<tr><th scope=row>6</th><td>6</td><td>2014</td><td>12</td><td>Min.DewpointF    </td><td>26</td><td>17</td><td>24</td><td>13</td><td>12</td><td>36</td><td>⋯</td><td>25</td><td>37</td><td>41</td><td>29</td><td>28</td><td>29</td><td>27</td><td>10</td><td>-6</td><td>1 </td></tr>\n",
              "</tbody>\n",
              "</table>\n"
            ]
          },
          "metadata": {
            "tags": []
          }
        }
      ]
    },
    {
      "cell_type": "markdown",
      "metadata": {
        "id": "AgaUe0ryYdwF"
      },
      "source": [
        "The first row is for row number, let's ignore that"
      ]
    },
    {
      "cell_type": "code",
      "metadata": {
        "id": "v424QSh_YdwF"
      },
      "source": [
        "weather = weather %>% select(-X)"
      ],
      "execution_count": 11,
      "outputs": []
    },
    {
      "cell_type": "markdown",
      "metadata": {
        "id": "sskWvu5uYdwF"
      },
      "source": [
        "It looks like the values for the weather measurements (column 3) for each day of the month are stored in the columns `X1` to `X31`. From `tidy data` perspective, the data set is messy because:\n",
        "* column names are values (`X1` to `X31`)\n",
        "* variable names are represented as values (column 3 - `measure`)\n",
        "\n",
        "We can correct it by using `pivot_longer`"
      ]
    },
    {
      "cell_type": "code",
      "metadata": {
        "scrolled": true,
        "colab": {
          "base_uri": "https://localhost:8080/",
          "height": 283
        },
        "id": "-rqxH_MYYdwG",
        "outputId": "35deb454-9224-4984-ef4c-ffee299a5de9"
      },
      "source": [
        "tidy_weather = weather %>% \n",
        "pivot_longer(cols = `X1`:`X31`, names_to = 'day', values_to = \"value\") %>%\n",
        "select(year, month, day, everything())\n",
        "\n",
        "head(tidy_weather)"
      ],
      "execution_count": 12,
      "outputs": [
        {
          "output_type": "display_data",
          "data": {
            "text/plain": [
              "  year month day measure          value\n",
              "1 2014 12    X1  Max.TemperatureF 64   \n",
              "2 2014 12    X2  Max.TemperatureF 42   \n",
              "3 2014 12    X3  Max.TemperatureF 51   \n",
              "4 2014 12    X4  Max.TemperatureF 43   \n",
              "5 2014 12    X5  Max.TemperatureF 42   \n",
              "6 2014 12    X6  Max.TemperatureF 45   "
            ],
            "text/latex": "A tibble: 6 × 5\n\\begin{tabular}{lllll}\n year & month & day & measure & value\\\\\n <int> & <int> & <chr> & <chr> & <chr>\\\\\n\\hline\n\t 2014 & 12 & X1 & Max.TemperatureF & 64\\\\\n\t 2014 & 12 & X2 & Max.TemperatureF & 42\\\\\n\t 2014 & 12 & X3 & Max.TemperatureF & 51\\\\\n\t 2014 & 12 & X4 & Max.TemperatureF & 43\\\\\n\t 2014 & 12 & X5 & Max.TemperatureF & 42\\\\\n\t 2014 & 12 & X6 & Max.TemperatureF & 45\\\\\n\\end{tabular}\n",
            "text/markdown": "\nA tibble: 6 × 5\n\n| year &lt;int&gt; | month &lt;int&gt; | day &lt;chr&gt; | measure &lt;chr&gt; | value &lt;chr&gt; |\n|---|---|---|---|---|\n| 2014 | 12 | X1 | Max.TemperatureF | 64 |\n| 2014 | 12 | X2 | Max.TemperatureF | 42 |\n| 2014 | 12 | X3 | Max.TemperatureF | 51 |\n| 2014 | 12 | X4 | Max.TemperatureF | 43 |\n| 2014 | 12 | X5 | Max.TemperatureF | 42 |\n| 2014 | 12 | X6 | Max.TemperatureF | 45 |\n\n",
            "text/html": [
              "<table class=\"dataframe\">\n",
              "<caption>A tibble: 6 × 5</caption>\n",
              "<thead>\n",
              "\t<tr><th scope=col>year</th><th scope=col>month</th><th scope=col>day</th><th scope=col>measure</th><th scope=col>value</th></tr>\n",
              "\t<tr><th scope=col>&lt;int&gt;</th><th scope=col>&lt;int&gt;</th><th scope=col>&lt;chr&gt;</th><th scope=col>&lt;chr&gt;</th><th scope=col>&lt;chr&gt;</th></tr>\n",
              "</thead>\n",
              "<tbody>\n",
              "\t<tr><td>2014</td><td>12</td><td>X1</td><td>Max.TemperatureF</td><td>64</td></tr>\n",
              "\t<tr><td>2014</td><td>12</td><td>X2</td><td>Max.TemperatureF</td><td>42</td></tr>\n",
              "\t<tr><td>2014</td><td>12</td><td>X3</td><td>Max.TemperatureF</td><td>51</td></tr>\n",
              "\t<tr><td>2014</td><td>12</td><td>X4</td><td>Max.TemperatureF</td><td>43</td></tr>\n",
              "\t<tr><td>2014</td><td>12</td><td>X5</td><td>Max.TemperatureF</td><td>42</td></tr>\n",
              "\t<tr><td>2014</td><td>12</td><td>X6</td><td>Max.TemperatureF</td><td>45</td></tr>\n",
              "</tbody>\n",
              "</table>\n"
            ]
          },
          "metadata": {
            "tags": []
          }
        }
      ]
    },
    {
      "cell_type": "code",
      "metadata": {
        "colab": {
          "base_uri": "https://localhost:8080/",
          "height": 779
        },
        "id": "U8bh4xO-YdwG",
        "outputId": "803706dc-dae4-4825-f376-7a6202aad9a3"
      },
      "source": [
        "tidy_weather %>% select(measure)%>% unique"
      ],
      "execution_count": 13,
      "outputs": [
        {
          "output_type": "display_data",
          "data": {
            "text/plain": [
              "   measure                  \n",
              "1  Max.TemperatureF         \n",
              "2  Mean.TemperatureF        \n",
              "3  Min.TemperatureF         \n",
              "4  Max.Dew.PointF           \n",
              "5  MeanDew.PointF           \n",
              "6  Min.DewpointF            \n",
              "7  Max.Humidity             \n",
              "8  Mean.Humidity            \n",
              "9  Min.Humidity             \n",
              "10 Max.Sea.Level.PressureIn \n",
              "11 Mean.Sea.Level.PressureIn\n",
              "12 Min.Sea.Level.PressureIn \n",
              "13 Max.VisibilityMiles      \n",
              "14 Mean.VisibilityMiles     \n",
              "15 Min.VisibilityMiles      \n",
              "16 Max.Wind.SpeedMPH        \n",
              "17 Mean.Wind.SpeedMPH       \n",
              "18 Max.Gust.SpeedMPH        \n",
              "19 PrecipitationIn          \n",
              "20 CloudCover               \n",
              "21 Events                   \n",
              "22 WindDirDegrees           "
            ],
            "text/latex": "A tibble: 22 × 1\n\\begin{tabular}{l}\n measure\\\\\n <chr>\\\\\n\\hline\n\t Max.TemperatureF         \\\\\n\t Mean.TemperatureF        \\\\\n\t Min.TemperatureF         \\\\\n\t Max.Dew.PointF           \\\\\n\t MeanDew.PointF           \\\\\n\t Min.DewpointF            \\\\\n\t Max.Humidity             \\\\\n\t Mean.Humidity            \\\\\n\t Min.Humidity             \\\\\n\t Max.Sea.Level.PressureIn \\\\\n\t Mean.Sea.Level.PressureIn\\\\\n\t Min.Sea.Level.PressureIn \\\\\n\t Max.VisibilityMiles      \\\\\n\t Mean.VisibilityMiles     \\\\\n\t Min.VisibilityMiles      \\\\\n\t Max.Wind.SpeedMPH        \\\\\n\t Mean.Wind.SpeedMPH       \\\\\n\t Max.Gust.SpeedMPH        \\\\\n\t PrecipitationIn          \\\\\n\t CloudCover               \\\\\n\t Events                   \\\\\n\t WindDirDegrees           \\\\\n\\end{tabular}\n",
            "text/markdown": "\nA tibble: 22 × 1\n\n| measure &lt;chr&gt; |\n|---|\n| Max.TemperatureF          |\n| Mean.TemperatureF         |\n| Min.TemperatureF          |\n| Max.Dew.PointF            |\n| MeanDew.PointF            |\n| Min.DewpointF             |\n| Max.Humidity              |\n| Mean.Humidity             |\n| Min.Humidity              |\n| Max.Sea.Level.PressureIn  |\n| Mean.Sea.Level.PressureIn |\n| Min.Sea.Level.PressureIn  |\n| Max.VisibilityMiles       |\n| Mean.VisibilityMiles      |\n| Min.VisibilityMiles       |\n| Max.Wind.SpeedMPH         |\n| Mean.Wind.SpeedMPH        |\n| Max.Gust.SpeedMPH         |\n| PrecipitationIn           |\n| CloudCover                |\n| Events                    |\n| WindDirDegrees            |\n\n",
            "text/html": [
              "<table class=\"dataframe\">\n",
              "<caption>A tibble: 22 × 1</caption>\n",
              "<thead>\n",
              "\t<tr><th scope=col>measure</th></tr>\n",
              "\t<tr><th scope=col>&lt;chr&gt;</th></tr>\n",
              "</thead>\n",
              "<tbody>\n",
              "\t<tr><td>Max.TemperatureF         </td></tr>\n",
              "\t<tr><td>Mean.TemperatureF        </td></tr>\n",
              "\t<tr><td>Min.TemperatureF         </td></tr>\n",
              "\t<tr><td>Max.Dew.PointF           </td></tr>\n",
              "\t<tr><td>MeanDew.PointF           </td></tr>\n",
              "\t<tr><td>Min.DewpointF            </td></tr>\n",
              "\t<tr><td>Max.Humidity             </td></tr>\n",
              "\t<tr><td>Mean.Humidity            </td></tr>\n",
              "\t<tr><td>Min.Humidity             </td></tr>\n",
              "\t<tr><td>Max.Sea.Level.PressureIn </td></tr>\n",
              "\t<tr><td>Mean.Sea.Level.PressureIn</td></tr>\n",
              "\t<tr><td>Min.Sea.Level.PressureIn </td></tr>\n",
              "\t<tr><td>Max.VisibilityMiles      </td></tr>\n",
              "\t<tr><td>Mean.VisibilityMiles     </td></tr>\n",
              "\t<tr><td>Min.VisibilityMiles      </td></tr>\n",
              "\t<tr><td>Max.Wind.SpeedMPH        </td></tr>\n",
              "\t<tr><td>Mean.Wind.SpeedMPH       </td></tr>\n",
              "\t<tr><td>Max.Gust.SpeedMPH        </td></tr>\n",
              "\t<tr><td>PrecipitationIn          </td></tr>\n",
              "\t<tr><td>CloudCover               </td></tr>\n",
              "\t<tr><td>Events                   </td></tr>\n",
              "\t<tr><td>WindDirDegrees           </td></tr>\n",
              "</tbody>\n",
              "</table>\n"
            ]
          },
          "metadata": {
            "tags": []
          }
        }
      ]
    },
    {
      "cell_type": "markdown",
      "metadata": {
        "id": "QtyNrE0MYdwG"
      },
      "source": [
        "The values in the column `measure` of the weather dataset should be variables."
      ]
    },
    {
      "cell_type": "code",
      "metadata": {
        "colab": {
          "base_uri": "https://localhost:8080/",
          "height": 320
        },
        "id": "Vg8oDMdnYdwG",
        "outputId": "97797d79-7d2f-4143-eb3f-3c1dc6d83e8a"
      },
      "source": [
        "tidy_weather = tidy_weather %>% pivot_wider(names_from = measure, values_from = value)\n",
        "\n",
        "head(tidy_weather)"
      ],
      "execution_count": 14,
      "outputs": [
        {
          "output_type": "display_data",
          "data": {
            "text/plain": [
              "  year month day Max.TemperatureF Mean.TemperatureF Min.TemperatureF\n",
              "1 2014 12    X1  64               52                39              \n",
              "2 2014 12    X2  42               38                33              \n",
              "3 2014 12    X3  51               44                37              \n",
              "4 2014 12    X4  43               37                30              \n",
              "5 2014 12    X5  42               34                26              \n",
              "6 2014 12    X6  45               42                38              \n",
              "  Max.Dew.PointF MeanDew.PointF Min.DewpointF Max.Humidity ⋯\n",
              "1 46             40             26            74           ⋯\n",
              "2 40             27             17            92           ⋯\n",
              "3 49             42             24            100          ⋯\n",
              "4 24             21             13            69           ⋯\n",
              "5 37             25             12            85           ⋯\n",
              "6 45             40             36            100          ⋯\n",
              "  Max.VisibilityMiles Mean.VisibilityMiles Min.VisibilityMiles\n",
              "1 10                  10                   10                 \n",
              "2 10                  8                    2                  \n",
              "3 10                  5                    1                  \n",
              "4 10                  10                   10                 \n",
              "5 10                  10                   5                  \n",
              "6 10                  4                    0                  \n",
              "  Max.Wind.SpeedMPH Mean.Wind.SpeedMPH Max.Gust.SpeedMPH PrecipitationIn\n",
              "1 22                13                 29                0.01           \n",
              "2 24                15                 29                0.10           \n",
              "3 29                12                 38                0.44           \n",
              "4 25                12                 33                0.00           \n",
              "5 22                10                 26                0.11           \n",
              "6 22                8                  25                1.09           \n",
              "  CloudCover Events    WindDirDegrees\n",
              "1 6          Rain      268           \n",
              "2 7          Rain-Snow 62            \n",
              "3 8          Rain      254           \n",
              "4 3                    292           \n",
              "5 5          Rain      61            \n",
              "6 8          Rain      313           "
            ],
            "text/latex": "A tibble: 6 × 25\n\\begin{tabular}{lllllllllllllllllllll}\n year & month & day & Max.TemperatureF & Mean.TemperatureF & Min.TemperatureF & Max.Dew.PointF & MeanDew.PointF & Min.DewpointF & Max.Humidity & ⋯ & Max.VisibilityMiles & Mean.VisibilityMiles & Min.VisibilityMiles & Max.Wind.SpeedMPH & Mean.Wind.SpeedMPH & Max.Gust.SpeedMPH & PrecipitationIn & CloudCover & Events & WindDirDegrees\\\\\n <int> & <int> & <chr> & <chr> & <chr> & <chr> & <chr> & <chr> & <chr> & <chr> & ⋯ & <chr> & <chr> & <chr> & <chr> & <chr> & <chr> & <chr> & <chr> & <chr> & <chr>\\\\\n\\hline\n\t 2014 & 12 & X1 & 64 & 52 & 39 & 46 & 40 & 26 & 74  & ⋯ & 10 & 10 & 10 & 22 & 13 & 29 & 0.01 & 6 & Rain      & 268\\\\\n\t 2014 & 12 & X2 & 42 & 38 & 33 & 40 & 27 & 17 & 92  & ⋯ & 10 & 8  & 2  & 24 & 15 & 29 & 0.10 & 7 & Rain-Snow & 62 \\\\\n\t 2014 & 12 & X3 & 51 & 44 & 37 & 49 & 42 & 24 & 100 & ⋯ & 10 & 5  & 1  & 29 & 12 & 38 & 0.44 & 8 & Rain      & 254\\\\\n\t 2014 & 12 & X4 & 43 & 37 & 30 & 24 & 21 & 13 & 69  & ⋯ & 10 & 10 & 10 & 25 & 12 & 33 & 0.00 & 3 &           & 292\\\\\n\t 2014 & 12 & X5 & 42 & 34 & 26 & 37 & 25 & 12 & 85  & ⋯ & 10 & 10 & 5  & 22 & 10 & 26 & 0.11 & 5 & Rain      & 61 \\\\\n\t 2014 & 12 & X6 & 45 & 42 & 38 & 45 & 40 & 36 & 100 & ⋯ & 10 & 4  & 0  & 22 & 8  & 25 & 1.09 & 8 & Rain      & 313\\\\\n\\end{tabular}\n",
            "text/markdown": "\nA tibble: 6 × 25\n\n| year &lt;int&gt; | month &lt;int&gt; | day &lt;chr&gt; | Max.TemperatureF &lt;chr&gt; | Mean.TemperatureF &lt;chr&gt; | Min.TemperatureF &lt;chr&gt; | Max.Dew.PointF &lt;chr&gt; | MeanDew.PointF &lt;chr&gt; | Min.DewpointF &lt;chr&gt; | Max.Humidity &lt;chr&gt; | ⋯ ⋯ | Max.VisibilityMiles &lt;chr&gt; | Mean.VisibilityMiles &lt;chr&gt; | Min.VisibilityMiles &lt;chr&gt; | Max.Wind.SpeedMPH &lt;chr&gt; | Mean.Wind.SpeedMPH &lt;chr&gt; | Max.Gust.SpeedMPH &lt;chr&gt; | PrecipitationIn &lt;chr&gt; | CloudCover &lt;chr&gt; | Events &lt;chr&gt; | WindDirDegrees &lt;chr&gt; |\n|---|---|---|---|---|---|---|---|---|---|---|---|---|---|---|---|---|---|---|---|---|\n| 2014 | 12 | X1 | 64 | 52 | 39 | 46 | 40 | 26 | 74  | ⋯ | 10 | 10 | 10 | 22 | 13 | 29 | 0.01 | 6 | Rain      | 268 |\n| 2014 | 12 | X2 | 42 | 38 | 33 | 40 | 27 | 17 | 92  | ⋯ | 10 | 8  | 2  | 24 | 15 | 29 | 0.10 | 7 | Rain-Snow | 62  |\n| 2014 | 12 | X3 | 51 | 44 | 37 | 49 | 42 | 24 | 100 | ⋯ | 10 | 5  | 1  | 29 | 12 | 38 | 0.44 | 8 | Rain      | 254 |\n| 2014 | 12 | X4 | 43 | 37 | 30 | 24 | 21 | 13 | 69  | ⋯ | 10 | 10 | 10 | 25 | 12 | 33 | 0.00 | 3 | <!----> | 292 |\n| 2014 | 12 | X5 | 42 | 34 | 26 | 37 | 25 | 12 | 85  | ⋯ | 10 | 10 | 5  | 22 | 10 | 26 | 0.11 | 5 | Rain      | 61  |\n| 2014 | 12 | X6 | 45 | 42 | 38 | 45 | 40 | 36 | 100 | ⋯ | 10 | 4  | 0  | 22 | 8  | 25 | 1.09 | 8 | Rain      | 313 |\n\n",
            "text/html": [
              "<table class=\"dataframe\">\n",
              "<caption>A tibble: 6 × 25</caption>\n",
              "<thead>\n",
              "\t<tr><th scope=col>year</th><th scope=col>month</th><th scope=col>day</th><th scope=col>Max.TemperatureF</th><th scope=col>Mean.TemperatureF</th><th scope=col>Min.TemperatureF</th><th scope=col>Max.Dew.PointF</th><th scope=col>MeanDew.PointF</th><th scope=col>Min.DewpointF</th><th scope=col>Max.Humidity</th><th scope=col>⋯</th><th scope=col>Max.VisibilityMiles</th><th scope=col>Mean.VisibilityMiles</th><th scope=col>Min.VisibilityMiles</th><th scope=col>Max.Wind.SpeedMPH</th><th scope=col>Mean.Wind.SpeedMPH</th><th scope=col>Max.Gust.SpeedMPH</th><th scope=col>PrecipitationIn</th><th scope=col>CloudCover</th><th scope=col>Events</th><th scope=col>WindDirDegrees</th></tr>\n",
              "\t<tr><th scope=col>&lt;int&gt;</th><th scope=col>&lt;int&gt;</th><th scope=col>&lt;chr&gt;</th><th scope=col>&lt;chr&gt;</th><th scope=col>&lt;chr&gt;</th><th scope=col>&lt;chr&gt;</th><th scope=col>&lt;chr&gt;</th><th scope=col>&lt;chr&gt;</th><th scope=col>&lt;chr&gt;</th><th scope=col>&lt;chr&gt;</th><th scope=col>⋯</th><th scope=col>&lt;chr&gt;</th><th scope=col>&lt;chr&gt;</th><th scope=col>&lt;chr&gt;</th><th scope=col>&lt;chr&gt;</th><th scope=col>&lt;chr&gt;</th><th scope=col>&lt;chr&gt;</th><th scope=col>&lt;chr&gt;</th><th scope=col>&lt;chr&gt;</th><th scope=col>&lt;chr&gt;</th><th scope=col>&lt;chr&gt;</th></tr>\n",
              "</thead>\n",
              "<tbody>\n",
              "\t<tr><td>2014</td><td>12</td><td>X1</td><td>64</td><td>52</td><td>39</td><td>46</td><td>40</td><td>26</td><td>74 </td><td>⋯</td><td>10</td><td>10</td><td>10</td><td>22</td><td>13</td><td>29</td><td>0.01</td><td>6</td><td>Rain     </td><td>268</td></tr>\n",
              "\t<tr><td>2014</td><td>12</td><td>X2</td><td>42</td><td>38</td><td>33</td><td>40</td><td>27</td><td>17</td><td>92 </td><td>⋯</td><td>10</td><td>8 </td><td>2 </td><td>24</td><td>15</td><td>29</td><td>0.10</td><td>7</td><td>Rain-Snow</td><td>62 </td></tr>\n",
              "\t<tr><td>2014</td><td>12</td><td>X3</td><td>51</td><td>44</td><td>37</td><td>49</td><td>42</td><td>24</td><td>100</td><td>⋯</td><td>10</td><td>5 </td><td>1 </td><td>29</td><td>12</td><td>38</td><td>0.44</td><td>8</td><td>Rain     </td><td>254</td></tr>\n",
              "\t<tr><td>2014</td><td>12</td><td>X4</td><td>43</td><td>37</td><td>30</td><td>24</td><td>21</td><td>13</td><td>69 </td><td>⋯</td><td>10</td><td>10</td><td>10</td><td>25</td><td>12</td><td>33</td><td>0.00</td><td>3</td><td>         </td><td>292</td></tr>\n",
              "\t<tr><td>2014</td><td>12</td><td>X5</td><td>42</td><td>34</td><td>26</td><td>37</td><td>25</td><td>12</td><td>85 </td><td>⋯</td><td>10</td><td>10</td><td>5 </td><td>22</td><td>10</td><td>26</td><td>0.11</td><td>5</td><td>Rain     </td><td>61 </td></tr>\n",
              "\t<tr><td>2014</td><td>12</td><td>X6</td><td>45</td><td>42</td><td>38</td><td>45</td><td>40</td><td>36</td><td>100</td><td>⋯</td><td>10</td><td>4 </td><td>0 </td><td>22</td><td>8 </td><td>25</td><td>1.09</td><td>8</td><td>Rain     </td><td>313</td></tr>\n",
              "</tbody>\n",
              "</table>\n"
            ]
          },
          "metadata": {
            "tags": []
          }
        }
      ]
    },
    {
      "cell_type": "code",
      "metadata": {
        "colab": {
          "base_uri": "https://localhost:8080/"
        },
        "id": "_hNx7zn6YdwH",
        "outputId": "15bceb6c-9b44-4b6d-9caf-dcd998e35315"
      },
      "source": [
        "tidy_weather %>% glimpse"
      ],
      "execution_count": 15,
      "outputs": [
        {
          "output_type": "stream",
          "text": [
            "Rows: 403\n",
            "Columns: 25\n",
            "$ year                      \u001b[3m\u001b[90m<int>\u001b[39m\u001b[23m 2014, 2014, 2014, 2014, 2014, 2014, 2014, 20…\n",
            "$ month                     \u001b[3m\u001b[90m<int>\u001b[39m\u001b[23m 12, 12, 12, 12, 12, 12, 12, 12, 12, 12, 12, …\n",
            "$ day                       \u001b[3m\u001b[90m<chr>\u001b[39m\u001b[23m \"X1\", \"X2\", \"X3\", \"X4\", \"X5\", \"X6\", \"X7\", \"X…\n",
            "$ Max.TemperatureF          \u001b[3m\u001b[90m<chr>\u001b[39m\u001b[23m \"64\", \"42\", \"51\", \"43\", \"42\", \"45\", \"38\", \"2…\n",
            "$ Mean.TemperatureF         \u001b[3m\u001b[90m<chr>\u001b[39m\u001b[23m \"52\", \"38\", \"44\", \"37\", \"34\", \"42\", \"30\", \"2…\n",
            "$ Min.TemperatureF          \u001b[3m\u001b[90m<chr>\u001b[39m\u001b[23m \"39\", \"33\", \"37\", \"30\", \"26\", \"38\", \"21\", \"1…\n",
            "$ Max.Dew.PointF            \u001b[3m\u001b[90m<chr>\u001b[39m\u001b[23m \"46\", \"40\", \"49\", \"24\", \"37\", \"45\", \"36\", \"2…\n",
            "$ MeanDew.PointF            \u001b[3m\u001b[90m<chr>\u001b[39m\u001b[23m \"40\", \"27\", \"42\", \"21\", \"25\", \"40\", \"20\", \"1…\n",
            "$ Min.DewpointF             \u001b[3m\u001b[90m<chr>\u001b[39m\u001b[23m \"26\", \"17\", \"24\", \"13\", \"12\", \"36\", \"-3\", \"3…\n",
            "$ Max.Humidity              \u001b[3m\u001b[90m<chr>\u001b[39m\u001b[23m \"74\", \"92\", \"100\", \"69\", \"85\", \"100\", \"92\", …\n",
            "$ Mean.Humidity             \u001b[3m\u001b[90m<chr>\u001b[39m\u001b[23m \"63\", \"72\", \"79\", \"54\", \"66\", \"93\", \"61\", \"7…\n",
            "$ Min.Humidity              \u001b[3m\u001b[90m<chr>\u001b[39m\u001b[23m \"52\", \"51\", \"57\", \"39\", \"47\", \"85\", \"29\", \"4…\n",
            "$ Max.Sea.Level.PressureIn  \u001b[3m\u001b[90m<chr>\u001b[39m\u001b[23m \"30.45\", \"30.71\", \"30.4\", \"30.56\", \"30.68\", …\n",
            "$ Mean.Sea.Level.PressureIn \u001b[3m\u001b[90m<chr>\u001b[39m\u001b[23m \"30.13\", \"30.59\", \"30.07\", \"30.33\", \"30.59\",…\n",
            "$ Min.Sea.Level.PressureIn  \u001b[3m\u001b[90m<chr>\u001b[39m\u001b[23m \"30.01\", \"30.4\", \"29.87\", \"30.09\", \"30.45\", …\n",
            "$ Max.VisibilityMiles       \u001b[3m\u001b[90m<chr>\u001b[39m\u001b[23m \"10\", \"10\", \"10\", \"10\", \"10\", \"10\", \"10\", \"1…\n",
            "$ Mean.VisibilityMiles      \u001b[3m\u001b[90m<chr>\u001b[39m\u001b[23m \"10\", \"8\", \"5\", \"10\", \"10\", \"4\", \"10\", \"8\", …\n",
            "$ Min.VisibilityMiles       \u001b[3m\u001b[90m<chr>\u001b[39m\u001b[23m \"10\", \"2\", \"1\", \"10\", \"5\", \"0\", \"5\", \"2\", \"1…\n",
            "$ Max.Wind.SpeedMPH         \u001b[3m\u001b[90m<chr>\u001b[39m\u001b[23m \"22\", \"24\", \"29\", \"25\", \"22\", \"22\", \"25\", \"2…\n",
            "$ Mean.Wind.SpeedMPH        \u001b[3m\u001b[90m<chr>\u001b[39m\u001b[23m \"13\", \"15\", \"12\", \"12\", \"10\", \"8\", \"15\", \"13…\n",
            "$ Max.Gust.SpeedMPH         \u001b[3m\u001b[90m<chr>\u001b[39m\u001b[23m \"29\", \"29\", \"38\", \"33\", \"26\", \"25\", \"32\", \"2…\n",
            "$ PrecipitationIn           \u001b[3m\u001b[90m<chr>\u001b[39m\u001b[23m \"0.01\", \"0.10\", \"0.44\", \"0.00\", \"0.11\", \"1.0…\n",
            "$ CloudCover                \u001b[3m\u001b[90m<chr>\u001b[39m\u001b[23m \"6\", \"7\", \"8\", \"3\", \"5\", \"8\", \"6\", \"8\", \"8\",…\n",
            "$ Events                    \u001b[3m\u001b[90m<chr>\u001b[39m\u001b[23m \"Rain\", \"Rain-Snow\", \"Rain\", \"\", \"Rain\", \"Ra…\n",
            "$ WindDirDegrees            \u001b[3m\u001b[90m<chr>\u001b[39m\u001b[23m \"268\", \"62\", \"254\", \"292\", \"61\", \"313\", \"350…\n"
          ],
          "name": "stdout"
        }
      ]
    },
    {
      "cell_type": "markdown",
      "metadata": {
        "id": "mtxlx-SeYdwH"
      },
      "source": [
        "There are couple of things still odd in this dataset. One of them is name of the days. They start with an `X`. We can fix it by `str_replace` function. In following weeks, we are going to cover it in detail when we cover the strings. Let me quickly remind you the usage:"
      ]
    },
    {
      "cell_type": "code",
      "metadata": {
        "scrolled": false,
        "colab": {
          "base_uri": "https://localhost:8080/"
        },
        "id": "snboeFI3YdwH",
        "outputId": "e8a00565-a645-49b8-892d-0231a97307bc"
      },
      "source": [
        "# Replace $ with nothing, so it removes the dollar sign\n",
        "cost = c(\"$8\", \"12.5$\", \"$45\")\n",
        "cost = str_replace_all(cost, \"\\\\$\", \"\")\n",
        "print(cost) \n",
        "\n",
        "#change its type to numeric\n",
        "cost = as.numeric(cost)\n",
        "print(cost)"
      ],
      "execution_count": 16,
      "outputs": [
        {
          "output_type": "stream",
          "text": [
            "[1] \"8\"    \"12.5\" \"45\"  \n",
            "[1]  8.0 12.5 45.0\n"
          ],
          "name": "stdout"
        }
      ]
    },
    {
      "cell_type": "markdown",
      "metadata": {
        "id": "5skKnVkKYdwH"
      },
      "source": [
        "#### Exercise 1: Remove `X` from the `day` entries and change its type to `numeric`"
      ]
    },
    {
      "cell_type": "code",
      "metadata": {
        "scrolled": true,
        "colab": {
          "base_uri": "https://localhost:8080/"
        },
        "id": "nX2ezf1aYdwH",
        "outputId": "f3aeaaed-15a3-408f-91af-752905623732"
      },
      "source": [
        "tidy_weather = tidy_weather %>% mutate(day = as.integer(str_replace(day, \"X\", \"\")))\n",
        "tidy_weather %>% glimpse"
      ],
      "execution_count": 17,
      "outputs": [
        {
          "output_type": "stream",
          "text": [
            "Rows: 403\n",
            "Columns: 25\n",
            "$ year                      \u001b[3m\u001b[90m<int>\u001b[39m\u001b[23m 2014, 2014, 2014, 2014, 2014, 2014, 2014, 20…\n",
            "$ month                     \u001b[3m\u001b[90m<int>\u001b[39m\u001b[23m 12, 12, 12, 12, 12, 12, 12, 12, 12, 12, 12, …\n",
            "$ day                       \u001b[3m\u001b[90m<int>\u001b[39m\u001b[23m 1, 2, 3, 4, 5, 6, 7, 8, 9, 10, 11, 12, 13, 1…\n",
            "$ Max.TemperatureF          \u001b[3m\u001b[90m<chr>\u001b[39m\u001b[23m \"64\", \"42\", \"51\", \"43\", \"42\", \"45\", \"38\", \"2…\n",
            "$ Mean.TemperatureF         \u001b[3m\u001b[90m<chr>\u001b[39m\u001b[23m \"52\", \"38\", \"44\", \"37\", \"34\", \"42\", \"30\", \"2…\n",
            "$ Min.TemperatureF          \u001b[3m\u001b[90m<chr>\u001b[39m\u001b[23m \"39\", \"33\", \"37\", \"30\", \"26\", \"38\", \"21\", \"1…\n",
            "$ Max.Dew.PointF            \u001b[3m\u001b[90m<chr>\u001b[39m\u001b[23m \"46\", \"40\", \"49\", \"24\", \"37\", \"45\", \"36\", \"2…\n",
            "$ MeanDew.PointF            \u001b[3m\u001b[90m<chr>\u001b[39m\u001b[23m \"40\", \"27\", \"42\", \"21\", \"25\", \"40\", \"20\", \"1…\n",
            "$ Min.DewpointF             \u001b[3m\u001b[90m<chr>\u001b[39m\u001b[23m \"26\", \"17\", \"24\", \"13\", \"12\", \"36\", \"-3\", \"3…\n",
            "$ Max.Humidity              \u001b[3m\u001b[90m<chr>\u001b[39m\u001b[23m \"74\", \"92\", \"100\", \"69\", \"85\", \"100\", \"92\", …\n",
            "$ Mean.Humidity             \u001b[3m\u001b[90m<chr>\u001b[39m\u001b[23m \"63\", \"72\", \"79\", \"54\", \"66\", \"93\", \"61\", \"7…\n",
            "$ Min.Humidity              \u001b[3m\u001b[90m<chr>\u001b[39m\u001b[23m \"52\", \"51\", \"57\", \"39\", \"47\", \"85\", \"29\", \"4…\n",
            "$ Max.Sea.Level.PressureIn  \u001b[3m\u001b[90m<chr>\u001b[39m\u001b[23m \"30.45\", \"30.71\", \"30.4\", \"30.56\", \"30.68\", …\n",
            "$ Mean.Sea.Level.PressureIn \u001b[3m\u001b[90m<chr>\u001b[39m\u001b[23m \"30.13\", \"30.59\", \"30.07\", \"30.33\", \"30.59\",…\n",
            "$ Min.Sea.Level.PressureIn  \u001b[3m\u001b[90m<chr>\u001b[39m\u001b[23m \"30.01\", \"30.4\", \"29.87\", \"30.09\", \"30.45\", …\n",
            "$ Max.VisibilityMiles       \u001b[3m\u001b[90m<chr>\u001b[39m\u001b[23m \"10\", \"10\", \"10\", \"10\", \"10\", \"10\", \"10\", \"1…\n",
            "$ Mean.VisibilityMiles      \u001b[3m\u001b[90m<chr>\u001b[39m\u001b[23m \"10\", \"8\", \"5\", \"10\", \"10\", \"4\", \"10\", \"8\", …\n",
            "$ Min.VisibilityMiles       \u001b[3m\u001b[90m<chr>\u001b[39m\u001b[23m \"10\", \"2\", \"1\", \"10\", \"5\", \"0\", \"5\", \"2\", \"1…\n",
            "$ Max.Wind.SpeedMPH         \u001b[3m\u001b[90m<chr>\u001b[39m\u001b[23m \"22\", \"24\", \"29\", \"25\", \"22\", \"22\", \"25\", \"2…\n",
            "$ Mean.Wind.SpeedMPH        \u001b[3m\u001b[90m<chr>\u001b[39m\u001b[23m \"13\", \"15\", \"12\", \"12\", \"10\", \"8\", \"15\", \"13…\n",
            "$ Max.Gust.SpeedMPH         \u001b[3m\u001b[90m<chr>\u001b[39m\u001b[23m \"29\", \"29\", \"38\", \"33\", \"26\", \"25\", \"32\", \"2…\n",
            "$ PrecipitationIn           \u001b[3m\u001b[90m<chr>\u001b[39m\u001b[23m \"0.01\", \"0.10\", \"0.44\", \"0.00\", \"0.11\", \"1.0…\n",
            "$ CloudCover                \u001b[3m\u001b[90m<chr>\u001b[39m\u001b[23m \"6\", \"7\", \"8\", \"3\", \"5\", \"8\", \"6\", \"8\", \"8\",…\n",
            "$ Events                    \u001b[3m\u001b[90m<chr>\u001b[39m\u001b[23m \"Rain\", \"Rain-Snow\", \"Rain\", \"\", \"Rain\", \"Ra…\n",
            "$ WindDirDegrees            \u001b[3m\u001b[90m<chr>\u001b[39m\u001b[23m \"268\", \"62\", \"254\", \"292\", \"61\", \"313\", \"350…\n"
          ],
          "name": "stdout"
        }
      ]
    },
    {
      "cell_type": "markdown",
      "metadata": {
        "id": "ZMVTW-EiYdwI"
      },
      "source": [
        "#### Exercise 2: Combine the year, month, and day columns into a new column called date. Hint: Use `unite` function"
      ]
    },
    {
      "cell_type": "code",
      "metadata": {
        "id": "X3ehUj5UcpTi"
      },
      "source": [
        "?unite"
      ],
      "execution_count": 19,
      "outputs": []
    },
    {
      "cell_type": "code",
      "metadata": {
        "colab": {
          "base_uri": "https://localhost:8080/"
        },
        "id": "O5lA73mlYdwI",
        "outputId": "94076171-5e4a-4f86-adfe-21facb0646e8"
      },
      "source": [
        "tidy_weather = tidy_weather %>%\n",
        "unite(col = date, year, month, day, sep = \"-\")\n",
        "\n",
        "tidy_weather %>% glimpse"
      ],
      "execution_count": 18,
      "outputs": [
        {
          "output_type": "stream",
          "text": [
            "Rows: 403\n",
            "Columns: 23\n",
            "$ date                      \u001b[3m\u001b[90m<chr>\u001b[39m\u001b[23m \"2014-12-1\", \"2014-12-2\", \"2014-12-3\", \"2014…\n",
            "$ Max.TemperatureF          \u001b[3m\u001b[90m<chr>\u001b[39m\u001b[23m \"64\", \"42\", \"51\", \"43\", \"42\", \"45\", \"38\", \"2…\n",
            "$ Mean.TemperatureF         \u001b[3m\u001b[90m<chr>\u001b[39m\u001b[23m \"52\", \"38\", \"44\", \"37\", \"34\", \"42\", \"30\", \"2…\n",
            "$ Min.TemperatureF          \u001b[3m\u001b[90m<chr>\u001b[39m\u001b[23m \"39\", \"33\", \"37\", \"30\", \"26\", \"38\", \"21\", \"1…\n",
            "$ Max.Dew.PointF            \u001b[3m\u001b[90m<chr>\u001b[39m\u001b[23m \"46\", \"40\", \"49\", \"24\", \"37\", \"45\", \"36\", \"2…\n",
            "$ MeanDew.PointF            \u001b[3m\u001b[90m<chr>\u001b[39m\u001b[23m \"40\", \"27\", \"42\", \"21\", \"25\", \"40\", \"20\", \"1…\n",
            "$ Min.DewpointF             \u001b[3m\u001b[90m<chr>\u001b[39m\u001b[23m \"26\", \"17\", \"24\", \"13\", \"12\", \"36\", \"-3\", \"3…\n",
            "$ Max.Humidity              \u001b[3m\u001b[90m<chr>\u001b[39m\u001b[23m \"74\", \"92\", \"100\", \"69\", \"85\", \"100\", \"92\", …\n",
            "$ Mean.Humidity             \u001b[3m\u001b[90m<chr>\u001b[39m\u001b[23m \"63\", \"72\", \"79\", \"54\", \"66\", \"93\", \"61\", \"7…\n",
            "$ Min.Humidity              \u001b[3m\u001b[90m<chr>\u001b[39m\u001b[23m \"52\", \"51\", \"57\", \"39\", \"47\", \"85\", \"29\", \"4…\n",
            "$ Max.Sea.Level.PressureIn  \u001b[3m\u001b[90m<chr>\u001b[39m\u001b[23m \"30.45\", \"30.71\", \"30.4\", \"30.56\", \"30.68\", …\n",
            "$ Mean.Sea.Level.PressureIn \u001b[3m\u001b[90m<chr>\u001b[39m\u001b[23m \"30.13\", \"30.59\", \"30.07\", \"30.33\", \"30.59\",…\n",
            "$ Min.Sea.Level.PressureIn  \u001b[3m\u001b[90m<chr>\u001b[39m\u001b[23m \"30.01\", \"30.4\", \"29.87\", \"30.09\", \"30.45\", …\n",
            "$ Max.VisibilityMiles       \u001b[3m\u001b[90m<chr>\u001b[39m\u001b[23m \"10\", \"10\", \"10\", \"10\", \"10\", \"10\", \"10\", \"1…\n",
            "$ Mean.VisibilityMiles      \u001b[3m\u001b[90m<chr>\u001b[39m\u001b[23m \"10\", \"8\", \"5\", \"10\", \"10\", \"4\", \"10\", \"8\", …\n",
            "$ Min.VisibilityMiles       \u001b[3m\u001b[90m<chr>\u001b[39m\u001b[23m \"10\", \"2\", \"1\", \"10\", \"5\", \"0\", \"5\", \"2\", \"1…\n",
            "$ Max.Wind.SpeedMPH         \u001b[3m\u001b[90m<chr>\u001b[39m\u001b[23m \"22\", \"24\", \"29\", \"25\", \"22\", \"22\", \"25\", \"2…\n",
            "$ Mean.Wind.SpeedMPH        \u001b[3m\u001b[90m<chr>\u001b[39m\u001b[23m \"13\", \"15\", \"12\", \"12\", \"10\", \"8\", \"15\", \"13…\n",
            "$ Max.Gust.SpeedMPH         \u001b[3m\u001b[90m<chr>\u001b[39m\u001b[23m \"29\", \"29\", \"38\", \"33\", \"26\", \"25\", \"32\", \"2…\n",
            "$ PrecipitationIn           \u001b[3m\u001b[90m<chr>\u001b[39m\u001b[23m \"0.01\", \"0.10\", \"0.44\", \"0.00\", \"0.11\", \"1.0…\n",
            "$ CloudCover                \u001b[3m\u001b[90m<chr>\u001b[39m\u001b[23m \"6\", \"7\", \"8\", \"3\", \"5\", \"8\", \"6\", \"8\", \"8\",…\n",
            "$ Events                    \u001b[3m\u001b[90m<chr>\u001b[39m\u001b[23m \"Rain\", \"Rain-Snow\", \"Rain\", \"\", \"Rain\", \"Ra…\n",
            "$ WindDirDegrees            \u001b[3m\u001b[90m<chr>\u001b[39m\u001b[23m \"268\", \"62\", \"254\", \"292\", \"61\", \"313\", \"350…\n"
          ],
          "name": "stdout"
        }
      ]
    },
    {
      "cell_type": "markdown",
      "metadata": {
        "id": "JEfHkeYIYdwI"
      },
      "source": [
        "#### Exercise 3: Move events variable to the second column (Just after the `date`)"
      ]
    },
    {
      "cell_type": "code",
      "metadata": {
        "id": "1sl0wsUTYdwI"
      },
      "source": [
        "tidy_weather = tidy_weather %>% \n",
        "select(date, Events, everything())"
      ],
      "execution_count": 20,
      "outputs": []
    },
    {
      "cell_type": "markdown",
      "metadata": {
        "id": "JF1cep8VYdwI"
      },
      "source": [
        "#### Exercise 4: `PrecipitationIn` has “T”s (Trace). “Traces” in precipitation are defined as less than 0.005 inch. So, in this case, we need to map “T”s to 0."
      ]
    },
    {
      "cell_type": "code",
      "metadata": {
        "id": "w1JNYyQ_YdwI"
      },
      "source": [
        "tidy_weather =  tidy_weather %>% \n",
        "mutate(PrecipitationIn = ifelse(PrecipitationIn == \"T\", \"0\", PrecipitationIn))"
      ],
      "execution_count": 21,
      "outputs": []
    },
    {
      "cell_type": "code",
      "metadata": {
        "colab": {
          "base_uri": "https://localhost:8080/"
        },
        "id": "hA5CIupkYdwJ",
        "outputId": "20c13cf4-0400-4c44-9737-1a35630ea327"
      },
      "source": [
        "tidy_weather %>% glimpse"
      ],
      "execution_count": 22,
      "outputs": [
        {
          "output_type": "stream",
          "text": [
            "Rows: 403\n",
            "Columns: 23\n",
            "$ date                      \u001b[3m\u001b[90m<chr>\u001b[39m\u001b[23m \"2014-12-1\", \"2014-12-2\", \"2014-12-3\", \"2014…\n",
            "$ Events                    \u001b[3m\u001b[90m<chr>\u001b[39m\u001b[23m \"Rain\", \"Rain-Snow\", \"Rain\", \"\", \"Rain\", \"Ra…\n",
            "$ Max.TemperatureF          \u001b[3m\u001b[90m<chr>\u001b[39m\u001b[23m \"64\", \"42\", \"51\", \"43\", \"42\", \"45\", \"38\", \"2…\n",
            "$ Mean.TemperatureF         \u001b[3m\u001b[90m<chr>\u001b[39m\u001b[23m \"52\", \"38\", \"44\", \"37\", \"34\", \"42\", \"30\", \"2…\n",
            "$ Min.TemperatureF          \u001b[3m\u001b[90m<chr>\u001b[39m\u001b[23m \"39\", \"33\", \"37\", \"30\", \"26\", \"38\", \"21\", \"1…\n",
            "$ Max.Dew.PointF            \u001b[3m\u001b[90m<chr>\u001b[39m\u001b[23m \"46\", \"40\", \"49\", \"24\", \"37\", \"45\", \"36\", \"2…\n",
            "$ MeanDew.PointF            \u001b[3m\u001b[90m<chr>\u001b[39m\u001b[23m \"40\", \"27\", \"42\", \"21\", \"25\", \"40\", \"20\", \"1…\n",
            "$ Min.DewpointF             \u001b[3m\u001b[90m<chr>\u001b[39m\u001b[23m \"26\", \"17\", \"24\", \"13\", \"12\", \"36\", \"-3\", \"3…\n",
            "$ Max.Humidity              \u001b[3m\u001b[90m<chr>\u001b[39m\u001b[23m \"74\", \"92\", \"100\", \"69\", \"85\", \"100\", \"92\", …\n",
            "$ Mean.Humidity             \u001b[3m\u001b[90m<chr>\u001b[39m\u001b[23m \"63\", \"72\", \"79\", \"54\", \"66\", \"93\", \"61\", \"7…\n",
            "$ Min.Humidity              \u001b[3m\u001b[90m<chr>\u001b[39m\u001b[23m \"52\", \"51\", \"57\", \"39\", \"47\", \"85\", \"29\", \"4…\n",
            "$ Max.Sea.Level.PressureIn  \u001b[3m\u001b[90m<chr>\u001b[39m\u001b[23m \"30.45\", \"30.71\", \"30.4\", \"30.56\", \"30.68\", …\n",
            "$ Mean.Sea.Level.PressureIn \u001b[3m\u001b[90m<chr>\u001b[39m\u001b[23m \"30.13\", \"30.59\", \"30.07\", \"30.33\", \"30.59\",…\n",
            "$ Min.Sea.Level.PressureIn  \u001b[3m\u001b[90m<chr>\u001b[39m\u001b[23m \"30.01\", \"30.4\", \"29.87\", \"30.09\", \"30.45\", …\n",
            "$ Max.VisibilityMiles       \u001b[3m\u001b[90m<chr>\u001b[39m\u001b[23m \"10\", \"10\", \"10\", \"10\", \"10\", \"10\", \"10\", \"1…\n",
            "$ Mean.VisibilityMiles      \u001b[3m\u001b[90m<chr>\u001b[39m\u001b[23m \"10\", \"8\", \"5\", \"10\", \"10\", \"4\", \"10\", \"8\", …\n",
            "$ Min.VisibilityMiles       \u001b[3m\u001b[90m<chr>\u001b[39m\u001b[23m \"10\", \"2\", \"1\", \"10\", \"5\", \"0\", \"5\", \"2\", \"1…\n",
            "$ Max.Wind.SpeedMPH         \u001b[3m\u001b[90m<chr>\u001b[39m\u001b[23m \"22\", \"24\", \"29\", \"25\", \"22\", \"22\", \"25\", \"2…\n",
            "$ Mean.Wind.SpeedMPH        \u001b[3m\u001b[90m<chr>\u001b[39m\u001b[23m \"13\", \"15\", \"12\", \"12\", \"10\", \"8\", \"15\", \"13…\n",
            "$ Max.Gust.SpeedMPH         \u001b[3m\u001b[90m<chr>\u001b[39m\u001b[23m \"29\", \"29\", \"38\", \"33\", \"26\", \"25\", \"32\", \"2…\n",
            "$ PrecipitationIn           \u001b[3m\u001b[90m<chr>\u001b[39m\u001b[23m \"0.01\", \"0.10\", \"0.44\", \"0.00\", \"0.11\", \"1.0…\n",
            "$ CloudCover                \u001b[3m\u001b[90m<chr>\u001b[39m\u001b[23m \"6\", \"7\", \"8\", \"3\", \"5\", \"8\", \"6\", \"8\", \"8\",…\n",
            "$ WindDirDegrees            \u001b[3m\u001b[90m<chr>\u001b[39m\u001b[23m \"268\", \"62\", \"254\", \"292\", \"61\", \"313\", \"350…\n"
          ],
          "name": "stdout"
        }
      ]
    },
    {
      "cell_type": "markdown",
      "metadata": {
        "id": "NFBz8kJ9YdwJ"
      },
      "source": [
        "#### Exercise 5: What are the unique events in the dataset"
      ]
    },
    {
      "cell_type": "code",
      "metadata": {
        "scrolled": true,
        "colab": {
          "base_uri": "https://localhost:8080/",
          "height": 483
        },
        "id": "vKZA2soxYdwJ",
        "outputId": "f6d62cfc-5342-40c8-8de0-d736c5c0cac8"
      },
      "source": [
        "tidy_weather %>% select(Events) %>% unique "
      ],
      "execution_count": 27,
      "outputs": [
        {
          "output_type": "display_data",
          "data": {
            "text/plain": [
              "   Events                    \n",
              "1  Rain                      \n",
              "2  Rain-Snow                 \n",
              "3                            \n",
              "4  Snow                      \n",
              "5  Fog-Rain                  \n",
              "6  Fog-Snow                  \n",
              "7  Fog-Rain-Snow             \n",
              "8  NA                        \n",
              "9  Fog-Rain-Thunderstorm     \n",
              "10 Fog                       \n",
              "11 Rain-Thunderstorm         \n",
              "12 Thunderstorm              \n",
              "13 Fog-Rain-Hail-Thunderstorm"
            ],
            "text/latex": "A tibble: 13 × 1\n\\begin{tabular}{l}\n Events\\\\\n <chr>\\\\\n\\hline\n\t Rain                      \\\\\n\t Rain-Snow                 \\\\\n\t                           \\\\\n\t Snow                      \\\\\n\t Fog-Rain                  \\\\\n\t Fog-Snow                  \\\\\n\t Fog-Rain-Snow             \\\\\n\t NA                        \\\\\n\t Fog-Rain-Thunderstorm     \\\\\n\t Fog                       \\\\\n\t Rain-Thunderstorm         \\\\\n\t Thunderstorm              \\\\\n\t Fog-Rain-Hail-Thunderstorm\\\\\n\\end{tabular}\n",
            "text/markdown": "\nA tibble: 13 × 1\n\n| Events &lt;chr&gt; |\n|---|\n| Rain                       |\n| Rain-Snow                  |\n| <!----> |\n| Snow                       |\n| Fog-Rain                   |\n| Fog-Snow                   |\n| Fog-Rain-Snow              |\n| NA                         |\n| Fog-Rain-Thunderstorm      |\n| Fog                        |\n| Rain-Thunderstorm          |\n| Thunderstorm               |\n| Fog-Rain-Hail-Thunderstorm |\n\n",
            "text/html": [
              "<table class=\"dataframe\">\n",
              "<caption>A tibble: 13 × 1</caption>\n",
              "<thead>\n",
              "\t<tr><th scope=col>Events</th></tr>\n",
              "\t<tr><th scope=col>&lt;chr&gt;</th></tr>\n",
              "</thead>\n",
              "<tbody>\n",
              "\t<tr><td>Rain                      </td></tr>\n",
              "\t<tr><td>Rain-Snow                 </td></tr>\n",
              "\t<tr><td>                          </td></tr>\n",
              "\t<tr><td>Snow                      </td></tr>\n",
              "\t<tr><td>Fog-Rain                  </td></tr>\n",
              "\t<tr><td>Fog-Snow                  </td></tr>\n",
              "\t<tr><td>Fog-Rain-Snow             </td></tr>\n",
              "\t<tr><td>NA                        </td></tr>\n",
              "\t<tr><td>Fog-Rain-Thunderstorm     </td></tr>\n",
              "\t<tr><td>Fog                       </td></tr>\n",
              "\t<tr><td>Rain-Thunderstorm         </td></tr>\n",
              "\t<tr><td>Thunderstorm              </td></tr>\n",
              "\t<tr><td>Fog-Rain-Hail-Thunderstorm</td></tr>\n",
              "</tbody>\n",
              "</table>\n"
            ]
          },
          "metadata": {
            "tags": []
          }
        }
      ]
    },
    {
      "cell_type": "markdown",
      "metadata": {
        "id": "He6W8xbYYdwJ"
      },
      "source": [
        "#### Exercise 6: Empty means, there is no event. Change it to `Clear`"
      ]
    },
    {
      "cell_type": "code",
      "metadata": {
        "colab": {
          "base_uri": "https://localhost:8080/",
          "height": 500
        },
        "id": "jnn22_pUYdwK",
        "outputId": "3c554958-1c91-4a82-cca3-264f21427f4d"
      },
      "source": [
        "tidy_weather = tidy_weather %>% \n",
        "mutate(Events = ifelse(Events == \"\", \"Clear\", Events))\n",
        "\n",
        "tidy_weather %>% select(Events) %>% unique "
      ],
      "execution_count": 28,
      "outputs": [
        {
          "output_type": "display_data",
          "data": {
            "text/plain": [
              "   Events                    \n",
              "1  Rain                      \n",
              "2  Rain-Snow                 \n",
              "3  Clear                     \n",
              "4  Snow                      \n",
              "5  Fog-Rain                  \n",
              "6  Fog-Snow                  \n",
              "7  Fog-Rain-Snow             \n",
              "8  NA                        \n",
              "9  Fog-Rain-Thunderstorm     \n",
              "10 Fog                       \n",
              "11 Rain-Thunderstorm         \n",
              "12 Thunderstorm              \n",
              "13 Fog-Rain-Hail-Thunderstorm"
            ],
            "text/latex": "A tibble: 13 × 1\n\\begin{tabular}{l}\n Events\\\\\n <chr>\\\\\n\\hline\n\t Rain                      \\\\\n\t Rain-Snow                 \\\\\n\t Clear                     \\\\\n\t Snow                      \\\\\n\t Fog-Rain                  \\\\\n\t Fog-Snow                  \\\\\n\t Fog-Rain-Snow             \\\\\n\t NA                        \\\\\n\t Fog-Rain-Thunderstorm     \\\\\n\t Fog                       \\\\\n\t Rain-Thunderstorm         \\\\\n\t Thunderstorm              \\\\\n\t Fog-Rain-Hail-Thunderstorm\\\\\n\\end{tabular}\n",
            "text/markdown": "\nA tibble: 13 × 1\n\n| Events &lt;chr&gt; |\n|---|\n| Rain                       |\n| Rain-Snow                  |\n| Clear                      |\n| Snow                       |\n| Fog-Rain                   |\n| Fog-Snow                   |\n| Fog-Rain-Snow              |\n| NA                         |\n| Fog-Rain-Thunderstorm      |\n| Fog                        |\n| Rain-Thunderstorm          |\n| Thunderstorm               |\n| Fog-Rain-Hail-Thunderstorm |\n\n",
            "text/html": [
              "<table class=\"dataframe\">\n",
              "<caption>A tibble: 13 × 1</caption>\n",
              "<thead>\n",
              "\t<tr><th scope=col>Events</th></tr>\n",
              "\t<tr><th scope=col>&lt;chr&gt;</th></tr>\n",
              "</thead>\n",
              "<tbody>\n",
              "\t<tr><td>Rain                      </td></tr>\n",
              "\t<tr><td>Rain-Snow                 </td></tr>\n",
              "\t<tr><td>Clear                     </td></tr>\n",
              "\t<tr><td>Snow                      </td></tr>\n",
              "\t<tr><td>Fog-Rain                  </td></tr>\n",
              "\t<tr><td>Fog-Snow                  </td></tr>\n",
              "\t<tr><td>Fog-Rain-Snow             </td></tr>\n",
              "\t<tr><td>NA                        </td></tr>\n",
              "\t<tr><td>Fog-Rain-Thunderstorm     </td></tr>\n",
              "\t<tr><td>Fog                       </td></tr>\n",
              "\t<tr><td>Rain-Thunderstorm         </td></tr>\n",
              "\t<tr><td>Thunderstorm              </td></tr>\n",
              "\t<tr><td>Fog-Rain-Hail-Thunderstorm</td></tr>\n",
              "</tbody>\n",
              "</table>\n"
            ]
          },
          "metadata": {
            "tags": []
          }
        }
      ]
    },
    {
      "cell_type": "markdown",
      "metadata": {
        "id": "u2uQ5HDMYdwK"
      },
      "source": [
        "Referance: [Cleaning Messy Weather Dataset with tidyverse](https://www.rpubs.com/justinhtet/cleaning-messy-weather-dataset-with-tidyverse)"
      ]
    }
  ]
}