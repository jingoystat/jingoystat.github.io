{
  "nbformat": 4,
  "nbformat_minor": 0,
  "metadata": {
    "kernelspec": {
      "display_name": "R",
      "language": "R",
      "name": "ir"
    },
    "language_info": {
      "codemirror_mode": "r",
      "file_extension": ".r",
      "mimetype": "text/x-r-source",
      "name": "R",
      "pygments_lexer": "r",
      "version": "3.6.1"
    },
    "colab": {
      "name": "stats306_lab10_sol.ipynb",
      "provenance": []
    }
  },
  "cells": [
    {
      "cell_type": "markdown",
      "metadata": {
        "id": "X1MsP4K7zV_F"
      },
      "source": [
        "# Lab 10: Lists, Loops, Functions, Mapping"
      ]
    },
    {
      "cell_type": "code",
      "metadata": {
        "colab": {
          "base_uri": "https://localhost:8080/"
        },
        "id": "ZkGccD_WzV_L",
        "outputId": "732d7605-fc79-45c1-cdae-c029c3c610d8"
      },
      "source": [
        "library(tidyverse)"
      ],
      "execution_count": 13,
      "outputs": [
        {
          "output_type": "stream",
          "text": [
            "Warning message in system(\"timedatectl\", intern = TRUE):\n",
            "“running command 'timedatectl' had status 1”\n",
            "── \u001b[1mAttaching packages\u001b[22m ─────────────────────────────────────── tidyverse 1.3.0 ──\n",
            "\n",
            "\u001b[32m✔\u001b[39m \u001b[34mggplot2\u001b[39m 3.3.3     \u001b[32m✔\u001b[39m \u001b[34mpurrr  \u001b[39m 0.3.4\n",
            "\u001b[32m✔\u001b[39m \u001b[34mtibble \u001b[39m 3.1.0     \u001b[32m✔\u001b[39m \u001b[34mdplyr  \u001b[39m 1.0.5\n",
            "\u001b[32m✔\u001b[39m \u001b[34mtidyr  \u001b[39m 1.1.3     \u001b[32m✔\u001b[39m \u001b[34mstringr\u001b[39m 1.4.0\n",
            "\u001b[32m✔\u001b[39m \u001b[34mreadr  \u001b[39m 1.4.0     \u001b[32m✔\u001b[39m \u001b[34mforcats\u001b[39m 0.5.1\n",
            "\n",
            "── \u001b[1mConflicts\u001b[22m ────────────────────────────────────────── tidyverse_conflicts() ──\n",
            "\u001b[31m✖\u001b[39m \u001b[34mdplyr\u001b[39m::\u001b[32mfilter()\u001b[39m masks \u001b[34mstats\u001b[39m::filter()\n",
            "\u001b[31m✖\u001b[39m \u001b[34mdplyr\u001b[39m::\u001b[32mlag()\u001b[39m    masks \u001b[34mstats\u001b[39m::lag()\n",
            "\n"
          ],
          "name": "stderr"
        }
      ]
    },
    {
      "cell_type": "markdown",
      "metadata": {
        "id": "_f9-gZMHzV_M"
      },
      "source": [
        "## Q1: List operations\n"
      ]
    },
    {
      "cell_type": "markdown",
      "metadata": {
        "id": "MDUJJSPhzV_N"
      },
      "source": [
        "### 1. How does `[[.]]` differ from `[.]` when you are subsetting a list?"
      ]
    },
    {
      "cell_type": "code",
      "metadata": {
        "id": "plGScTBJzV_N"
      },
      "source": [
        "x = list(1,2,3)"
      ],
      "execution_count": null,
      "outputs": []
    },
    {
      "cell_type": "code",
      "metadata": {
        "id": "q9m-VwZ2zV_N",
        "outputId": "d21a48a2-ab15-482d-fbb9-dfd7d81a8915"
      },
      "source": [
        "x[1] # A slice from the list, still a list\n",
        "class(x[1]) "
      ],
      "execution_count": null,
      "outputs": [
        {
          "output_type": "display_data",
          "data": {
            "text/html": [
              "<ol>\n",
              "\t<li>1</li>\n",
              "</ol>\n"
            ],
            "text/latex": "\\begin{enumerate}\n\\item 1\n\\end{enumerate}\n",
            "text/markdown": "1. 1\n\n\n",
            "text/plain": [
              "[[1]]\n",
              "[1] 1\n"
            ]
          },
          "metadata": {
            "tags": []
          }
        },
        {
          "output_type": "display_data",
          "data": {
            "text/html": [
              "'list'"
            ],
            "text/latex": "'list'",
            "text/markdown": "'list'",
            "text/plain": [
              "[1] \"list\""
            ]
          },
          "metadata": {
            "tags": []
          }
        }
      ]
    },
    {
      "cell_type": "code",
      "metadata": {
        "id": "a9SdsHeAzV_O",
        "outputId": "d87a04fd-9813-4bbe-8dae-44744913b31f"
      },
      "source": [
        "x[[1]] # Accessing first element of the list\n",
        "class(x[[1]])"
      ],
      "execution_count": null,
      "outputs": [
        {
          "output_type": "display_data",
          "data": {
            "text/html": [
              "1"
            ],
            "text/latex": "1",
            "text/markdown": "1",
            "text/plain": [
              "[1] 1"
            ]
          },
          "metadata": {
            "tags": []
          }
        },
        {
          "output_type": "display_data",
          "data": {
            "text/html": [
              "'numeric'"
            ],
            "text/latex": "'numeric'",
            "text/markdown": "'numeric'",
            "text/plain": [
              "[1] \"numeric\""
            ]
          },
          "metadata": {
            "tags": []
          }
        }
      ]
    },
    {
      "cell_type": "markdown",
      "metadata": {
        "id": "fWJw8yRqzV_O"
      },
      "source": [
        "### 2. How do you extract the last value of an atomic vector?\n"
      ]
    },
    {
      "cell_type": "code",
      "metadata": {
        "id": "P08MPTHZzV_P",
        "outputId": "11eb0b2c-b12f-4611-ed17-ca1172fcd9ce"
      },
      "source": [
        "x  = c(-3,-2,-1)\n",
        "x[length(x)]"
      ],
      "execution_count": null,
      "outputs": [
        {
          "output_type": "display_data",
          "data": {
            "text/html": [
              "-1"
            ],
            "text/latex": "-1",
            "text/markdown": "-1",
            "text/plain": [
              "[1] -1"
            ]
          },
          "metadata": {
            "tags": []
          }
        }
      ]
    },
    {
      "cell_type": "markdown",
      "metadata": {
        "id": "jWX2FT5-zV_P"
      },
      "source": [
        "### 3. How do you extract every value but the last value of an atomic vector?"
      ]
    },
    {
      "cell_type": "code",
      "metadata": {
        "id": "1R237yhUzV_P",
        "outputId": "56ec6a0b-9cbf-45e9-99ed-2621a3385301"
      },
      "source": [
        "x[-length(x)]"
      ],
      "execution_count": null,
      "outputs": [
        {
          "output_type": "display_data",
          "data": {
            "text/html": [
              "<style>\n",
              ".list-inline {list-style: none; margin:0; padding: 0}\n",
              ".list-inline>li {display: inline-block}\n",
              ".list-inline>li:not(:last-child)::after {content: \"\\00b7\"; padding: 0 .5ex}\n",
              "</style>\n",
              "<ol class=list-inline><li>-3</li><li>-2</li></ol>\n"
            ],
            "text/latex": "\\begin{enumerate*}\n\\item -3\n\\item -2\n\\end{enumerate*}\n",
            "text/markdown": "1. -3\n2. -2\n\n\n",
            "text/plain": [
              "[1] -3 -2"
            ]
          },
          "metadata": {
            "tags": []
          }
        }
      ]
    },
    {
      "cell_type": "markdown",
      "metadata": {
        "id": "Pl7lQ-OCzV_Q"
      },
      "source": [
        "### 4. Why is `x[-which(x > 0)]` not the same as `x[x <= 0]` where `x` is an atomic vector?"
      ]
    },
    {
      "cell_type": "code",
      "metadata": {
        "id": "5NrzRjD-zV_R",
        "outputId": "3ae9bc32-7ac5-4239-8ce3-27cfe8f6fd63"
      },
      "source": [
        "print(x[-which(x > 0)])\n",
        "print(x[x<=0])"
      ],
      "execution_count": null,
      "outputs": [
        {
          "output_type": "stream",
          "text": [
            "numeric(0)\n",
            "[1] -3 -2 -1\n"
          ],
          "name": "stdout"
        }
      ]
    },
    {
      "cell_type": "code",
      "metadata": {
        "id": "mlVzgNREzV_R",
        "outputId": "2436a310-ec23-4abe-a6a1-d84ec3add315"
      },
      "source": [
        "which(x > 0) # returns empty "
      ],
      "execution_count": null,
      "outputs": [
        {
          "output_type": "display_data",
          "data": {
            "text/html": [
              ""
            ],
            "text/latex": "",
            "text/markdown": "",
            "text/plain": [
              "integer(0)"
            ]
          },
          "metadata": {
            "tags": []
          }
        }
      ]
    },
    {
      "cell_type": "code",
      "metadata": {
        "id": "60isKgdfzV_R",
        "outputId": "523df50a-659d-4217-bf10-294322b86117"
      },
      "source": [
        "x<=0"
      ],
      "execution_count": null,
      "outputs": [
        {
          "output_type": "display_data",
          "data": {
            "text/html": [
              "<style>\n",
              ".list-inline {list-style: none; margin:0; padding: 0}\n",
              ".list-inline>li {display: inline-block}\n",
              ".list-inline>li:not(:last-child)::after {content: \"\\00b7\"; padding: 0 .5ex}\n",
              "</style>\n",
              "<ol class=list-inline><li>TRUE</li><li>TRUE</li><li>TRUE</li></ol>\n"
            ],
            "text/latex": "\\begin{enumerate*}\n\\item TRUE\n\\item TRUE\n\\item TRUE\n\\end{enumerate*}\n",
            "text/markdown": "1. TRUE\n2. TRUE\n3. TRUE\n\n\n",
            "text/plain": [
              "[1] TRUE TRUE TRUE"
            ]
          },
          "metadata": {
            "tags": []
          }
        }
      ]
    },
    {
      "cell_type": "markdown",
      "metadata": {
        "id": "fIbyT0PVzV_S"
      },
      "source": [
        "It would work if `which` condition is not empty!"
      ]
    },
    {
      "cell_type": "code",
      "metadata": {
        "id": "CCTUxbAWzV_S",
        "outputId": "f2d4cc12-13ad-4947-8a3c-cc1c3bbc6531"
      },
      "source": [
        "x  = c(-3,-2,-1, 1)\n",
        "print(x[-which(x > 0)])\n",
        "print(x[x<=0])"
      ],
      "execution_count": null,
      "outputs": [
        {
          "output_type": "stream",
          "text": [
            "[1] -3 -2 -1\n",
            "[1] -3 -2 -1\n"
          ],
          "name": "stdout"
        }
      ]
    },
    {
      "cell_type": "markdown",
      "metadata": {
        "id": "iJh8VhC7zV_S"
      },
      "source": [
        "## Q2: While Loops: \n",
        "\n",
        "### 1. Generate random numbers from Normal(0, 1) and stop when you have more positive values than negatives. Write a function that implements above algortihm and returns number of iterations.\n",
        "Algorithm:\n",
        "1. set pc = 0 and nc = 0\n",
        "1. Generate Y~Normal(0,1)\n",
        "1. If Y>0 then pc = pc+1 otherwise nc = nc+1\n",
        "1. Repeat 2-3 until pc>nc"
      ]
    },
    {
      "cell_type": "code",
      "metadata": {
        "id": "Ei6UEAflzV_S"
      },
      "source": [
        "f = function(){\n",
        "    \n",
        "    positive_counter = 0\n",
        "    negative_counter = 0\n",
        "    while(positive_counter<=negative_counter){\n",
        "        x = rnorm(1, 0, 1)\n",
        "        if(x>0){\n",
        "            positive_counter = positive_counter + 1\n",
        "        }else{\n",
        "            negative_counter = negative_counter + 1\n",
        "        }\n",
        "    }\n",
        "\n",
        "    total_iteration = negative_counter + positive_counter\n",
        "    \n",
        "    return(total_iteration)\n",
        "}"
      ],
      "execution_count": 1,
      "outputs": []
    },
    {
      "cell_type": "code",
      "metadata": {
        "colab": {
          "base_uri": "https://localhost:8080/",
          "height": 34
        },
        "id": "66baeN5-zV_T",
        "outputId": "19b46fc2-a187-4285-dc90-82356fbbb4a4"
      },
      "source": [
        "f()"
      ],
      "execution_count": 10,
      "outputs": [
        {
          "output_type": "display_data",
          "data": {
            "text/plain": [
              "[1] 1"
            ],
            "text/latex": "1",
            "text/markdown": "1",
            "text/html": [
              "1"
            ]
          },
          "metadata": {
            "tags": []
          }
        }
      ]
    },
    {
      "cell_type": "markdown",
      "metadata": {
        "id": "b-UbBbk7zV_T"
      },
      "source": [
        "### 2. Call this function 100 times"
      ]
    },
    {
      "cell_type": "code",
      "metadata": {
        "colab": {
          "base_uri": "https://localhost:8080/",
          "height": 51
        },
        "id": "UemQbrsTzV_T",
        "outputId": "05e2a148-0157-40bb-d9c1-fdfaf1d05dcc"
      },
      "source": [
        "x = map_dbl(1:100, ~f())\n",
        "x"
      ],
      "execution_count": 14,
      "outputs": [
        {
          "output_type": "display_data",
          "data": {
            "text/plain": [
              "  [1]    1    3    1    1    1   17    1   17    5   23    3   45   17  897    1\n",
              " [16]    5    1    3    1    1   37   11    3    1  103    1  663    3    1    1\n",
              " [31]    1    3    5    7    1   19  525    5   45   47  107    1    1    1    9\n",
              " [46]    3    1  513    1    1    1   39 1431   11    3  693    1    1    1    1\n",
              " [61]    5    1    7    1    1    3    1    1    1    5   19    1    5    1  117\n",
              " [76]    3    1    3   57    3    5    1    1    3    5    3    1    3   11    1\n",
              " [91]    1    3    1    3    1   11    5    1    1    7"
            ],
            "text/latex": "\\begin{enumerate*}\n\\item 1\n\\item 3\n\\item 1\n\\item 1\n\\item 1\n\\item 17\n\\item 1\n\\item 17\n\\item 5\n\\item 23\n\\item 3\n\\item 45\n\\item 17\n\\item 897\n\\item 1\n\\item 5\n\\item 1\n\\item 3\n\\item 1\n\\item 1\n\\item 37\n\\item 11\n\\item 3\n\\item 1\n\\item 103\n\\item 1\n\\item 663\n\\item 3\n\\item 1\n\\item 1\n\\item 1\n\\item 3\n\\item 5\n\\item 7\n\\item 1\n\\item 19\n\\item 525\n\\item 5\n\\item 45\n\\item 47\n\\item 107\n\\item 1\n\\item 1\n\\item 1\n\\item 9\n\\item 3\n\\item 1\n\\item 513\n\\item 1\n\\item 1\n\\item 1\n\\item 39\n\\item 1431\n\\item 11\n\\item 3\n\\item 693\n\\item 1\n\\item 1\n\\item 1\n\\item 1\n\\item 5\n\\item 1\n\\item 7\n\\item 1\n\\item 1\n\\item 3\n\\item 1\n\\item 1\n\\item 1\n\\item 5\n\\item 19\n\\item 1\n\\item 5\n\\item 1\n\\item 117\n\\item 3\n\\item 1\n\\item 3\n\\item 57\n\\item 3\n\\item 5\n\\item 1\n\\item 1\n\\item 3\n\\item 5\n\\item 3\n\\item 1\n\\item 3\n\\item 11\n\\item 1\n\\item 1\n\\item 3\n\\item 1\n\\item 3\n\\item 1\n\\item 11\n\\item 5\n\\item 1\n\\item 1\n\\item 7\n\\end{enumerate*}\n",
            "text/markdown": "1. 1\n2. 3\n3. 1\n4. 1\n5. 1\n6. 17\n7. 1\n8. 17\n9. 5\n10. 23\n11. 3\n12. 45\n13. 17\n14. 897\n15. 1\n16. 5\n17. 1\n18. 3\n19. 1\n20. 1\n21. 37\n22. 11\n23. 3\n24. 1\n25. 103\n26. 1\n27. 663\n28. 3\n29. 1\n30. 1\n31. 1\n32. 3\n33. 5\n34. 7\n35. 1\n36. 19\n37. 525\n38. 5\n39. 45\n40. 47\n41. 107\n42. 1\n43. 1\n44. 1\n45. 9\n46. 3\n47. 1\n48. 513\n49. 1\n50. 1\n51. 1\n52. 39\n53. 1431\n54. 11\n55. 3\n56. 693\n57. 1\n58. 1\n59. 1\n60. 1\n61. 5\n62. 1\n63. 7\n64. 1\n65. 1\n66. 3\n67. 1\n68. 1\n69. 1\n70. 5\n71. 19\n72. 1\n73. 5\n74. 1\n75. 117\n76. 3\n77. 1\n78. 3\n79. 57\n80. 3\n81. 5\n82. 1\n83. 1\n84. 3\n85. 5\n86. 3\n87. 1\n88. 3\n89. 11\n90. 1\n91. 1\n92. 3\n93. 1\n94. 3\n95. 1\n96. 11\n97. 5\n98. 1\n99. 1\n100. 7\n\n\n",
            "text/html": [
              "<style>\n",
              ".list-inline {list-style: none; margin:0; padding: 0}\n",
              ".list-inline>li {display: inline-block}\n",
              ".list-inline>li:not(:last-child)::after {content: \"\\00b7\"; padding: 0 .5ex}\n",
              "</style>\n",
              "<ol class=list-inline><li>1</li><li>3</li><li>1</li><li>1</li><li>1</li><li>17</li><li>1</li><li>17</li><li>5</li><li>23</li><li>3</li><li>45</li><li>17</li><li>897</li><li>1</li><li>5</li><li>1</li><li>3</li><li>1</li><li>1</li><li>37</li><li>11</li><li>3</li><li>1</li><li>103</li><li>1</li><li>663</li><li>3</li><li>1</li><li>1</li><li>1</li><li>3</li><li>5</li><li>7</li><li>1</li><li>19</li><li>525</li><li>5</li><li>45</li><li>47</li><li>107</li><li>1</li><li>1</li><li>1</li><li>9</li><li>3</li><li>1</li><li>513</li><li>1</li><li>1</li><li>1</li><li>39</li><li>1431</li><li>11</li><li>3</li><li>693</li><li>1</li><li>1</li><li>1</li><li>1</li><li>5</li><li>1</li><li>7</li><li>1</li><li>1</li><li>3</li><li>1</li><li>1</li><li>1</li><li>5</li><li>19</li><li>1</li><li>5</li><li>1</li><li>117</li><li>3</li><li>1</li><li>3</li><li>57</li><li>3</li><li>5</li><li>1</li><li>1</li><li>3</li><li>5</li><li>3</li><li>1</li><li>3</li><li>11</li><li>1</li><li>1</li><li>3</li><li>1</li><li>3</li><li>1</li><li>11</li><li>5</li><li>1</li><li>1</li><li>7</li></ol>\n"
            ]
          },
          "metadata": {
            "tags": []
          }
        }
      ]
    },
    {
      "cell_type": "markdown",
      "metadata": {
        "id": "tfX0ZDUuzV_T"
      },
      "source": [
        "## Q3: For Loops"
      ]
    },
    {
      "cell_type": "markdown",
      "metadata": {
        "id": "AbiEaCMUzV_T"
      },
      "source": [
        "### 1. Compute the mean of every column in mtcars with na.rm argument being true"
      ]
    },
    {
      "cell_type": "code",
      "metadata": {
        "colab": {
          "base_uri": "https://localhost:8080/",
          "height": 34
        },
        "id": "HUEKNXyczV_U",
        "outputId": "341ff8d7-7e3c-47b7-8fba-e0d11a77f25e"
      },
      "source": [
        "mtcars_mean = vector('double')\n",
        "for (i in seq_along(mtcars)){\n",
        "    mtcars_mean[i] = mean(mtcars[[i]], na.rm = TRUE)\n",
        "}\n",
        "mtcars_mean"
      ],
      "execution_count": 15,
      "outputs": [
        {
          "output_type": "display_data",
          "data": {
            "text/plain": [
              " [1]  20.090625   6.187500 230.721875 146.687500   3.596563   3.217250\n",
              " [7]  17.848750   0.437500   0.406250   3.687500   2.812500"
            ],
            "text/latex": "\\begin{enumerate*}\n\\item 20.090625\n\\item 6.1875\n\\item 230.721875\n\\item 146.6875\n\\item 3.5965625\n\\item 3.21725\n\\item 17.84875\n\\item 0.4375\n\\item 0.40625\n\\item 3.6875\n\\item 2.8125\n\\end{enumerate*}\n",
            "text/markdown": "1. 20.090625\n2. 6.1875\n3. 230.721875\n4. 146.6875\n5. 3.5965625\n6. 3.21725\n7. 17.84875\n8. 0.4375\n9. 0.40625\n10. 3.6875\n11. 2.8125\n\n\n",
            "text/html": [
              "<style>\n",
              ".list-inline {list-style: none; margin:0; padding: 0}\n",
              ".list-inline>li {display: inline-block}\n",
              ".list-inline>li:not(:last-child)::after {content: \"\\00b7\"; padding: 0 .5ex}\n",
              "</style>\n",
              "<ol class=list-inline><li>20.090625</li><li>6.1875</li><li>230.721875</li><li>146.6875</li><li>3.5965625</li><li>3.21725</li><li>17.84875</li><li>0.4375</li><li>0.40625</li><li>3.6875</li><li>2.8125</li></ol>\n"
            ]
          },
          "metadata": {
            "tags": []
          }
        }
      ]
    },
    {
      "cell_type": "markdown",
      "metadata": {
        "id": "Njtn1xivzV_U"
      },
      "source": [
        "### 2. Determine the type of each column of iris\n"
      ]
    },
    {
      "cell_type": "code",
      "metadata": {
        "colab": {
          "base_uri": "https://localhost:8080/",
          "height": 34
        },
        "id": "k2JQQNUmzV_U",
        "outputId": "510c53bc-7a26-4fb2-cf65-7002c9a8c0f8"
      },
      "source": [
        "ftype = vector('character')\n",
        "for (i in seq_along(iris)){\n",
        "    ftype[i] = typeof(iris[[i]])\n",
        "}\n",
        "ftype"
      ],
      "execution_count": 16,
      "outputs": [
        {
          "output_type": "display_data",
          "data": {
            "text/plain": [
              "[1] \"double\"  \"double\"  \"double\"  \"double\"  \"integer\""
            ],
            "text/latex": "\\begin{enumerate*}\n\\item 'double'\n\\item 'double'\n\\item 'double'\n\\item 'double'\n\\item 'integer'\n\\end{enumerate*}\n",
            "text/markdown": "1. 'double'\n2. 'double'\n3. 'double'\n4. 'double'\n5. 'integer'\n\n\n",
            "text/html": [
              "<style>\n",
              ".list-inline {list-style: none; margin:0; padding: 0}\n",
              ".list-inline>li {display: inline-block}\n",
              ".list-inline>li:not(:last-child)::after {content: \"\\00b7\"; padding: 0 .5ex}\n",
              "</style>\n",
              "<ol class=list-inline><li>'double'</li><li>'double'</li><li>'double'</li><li>'double'</li><li>'integer'</li></ol>\n"
            ]
          },
          "metadata": {
            "tags": []
          }
        }
      ]
    },
    {
      "cell_type": "markdown",
      "metadata": {
        "id": "ODzFBLR5zV_U"
      },
      "source": [
        "### 3. Compute the number of unique values in each column of iris."
      ]
    },
    {
      "cell_type": "code",
      "metadata": {
        "colab": {
          "base_uri": "https://localhost:8080/",
          "height": 34
        },
        "id": "20kBsEDmzV_U",
        "outputId": "d94b245e-cfb7-4dfb-c905-793d8a8bac17"
      },
      "source": [
        "irisuniq = vector('integer')\n",
        "for (i in seq_along(iris)){\n",
        "    irisuniq[i] = length(unique(iris[[i]]))\n",
        "}\n",
        "irisuniq"
      ],
      "execution_count": 17,
      "outputs": [
        {
          "output_type": "display_data",
          "data": {
            "text/plain": [
              "[1] 35 23 43 22  3"
            ],
            "text/latex": "\\begin{enumerate*}\n\\item 35\n\\item 23\n\\item 43\n\\item 22\n\\item 3\n\\end{enumerate*}\n",
            "text/markdown": "1. 35\n2. 23\n3. 43\n4. 22\n5. 3\n\n\n",
            "text/html": [
              "<style>\n",
              ".list-inline {list-style: none; margin:0; padding: 0}\n",
              ".list-inline>li {display: inline-block}\n",
              ".list-inline>li:not(:last-child)::after {content: \"\\00b7\"; padding: 0 .5ex}\n",
              "</style>\n",
              "<ol class=list-inline><li>35</li><li>23</li><li>43</li><li>22</li><li>3</li></ol>\n"
            ]
          },
          "metadata": {
            "tags": []
          }
        }
      ]
    },
    {
      "cell_type": "markdown",
      "metadata": {
        "id": "-cfH9eFKzV_V"
      },
      "source": [
        "## Q4: repeat Q3 with map functions rather than loops and apply:"
      ]
    },
    {
      "cell_type": "code",
      "metadata": {
        "id": "LNh-2YTXzV_V",
        "outputId": "e3fc9612-b507-4c8c-fe71-75838890816f"
      },
      "source": [
        "map_dbl(mtcars, mean, na.rm = T)\n",
        "\n",
        "map_chr(iris, typeof)\n",
        "\n",
        "map_int(iris, ~ length(unique(.)))"
      ],
      "execution_count": null,
      "outputs": [
        {
          "output_type": "display_data",
          "data": {
            "text/html": [
              "<style>\n",
              ".dl-inline {width: auto; margin:0; padding: 0}\n",
              ".dl-inline>dt, .dl-inline>dd {float: none; width: auto; display: inline-block}\n",
              ".dl-inline>dt::after {content: \":\\0020\"; padding-right: .5ex}\n",
              ".dl-inline>dt:not(:first-of-type) {padding-left: .5ex}\n",
              "</style><dl class=dl-inline><dt>mpg</dt><dd>20.090625</dd><dt>cyl</dt><dd>6.1875</dd><dt>disp</dt><dd>230.721875</dd><dt>hp</dt><dd>146.6875</dd><dt>drat</dt><dd>3.5965625</dd><dt>wt</dt><dd>3.21725</dd><dt>qsec</dt><dd>17.84875</dd><dt>vs</dt><dd>0.4375</dd><dt>am</dt><dd>0.40625</dd><dt>gear</dt><dd>3.6875</dd><dt>carb</dt><dd>2.8125</dd></dl>\n"
            ],
            "text/latex": "\\begin{description*}\n\\item[mpg] 20.090625\n\\item[cyl] 6.1875\n\\item[disp] 230.721875\n\\item[hp] 146.6875\n\\item[drat] 3.5965625\n\\item[wt] 3.21725\n\\item[qsec] 17.84875\n\\item[vs] 0.4375\n\\item[am] 0.40625\n\\item[gear] 3.6875\n\\item[carb] 2.8125\n\\end{description*}\n",
            "text/markdown": "mpg\n:   20.090625cyl\n:   6.1875disp\n:   230.721875hp\n:   146.6875drat\n:   3.5965625wt\n:   3.21725qsec\n:   17.84875vs\n:   0.4375am\n:   0.40625gear\n:   3.6875carb\n:   2.8125\n\n",
            "text/plain": [
              "       mpg        cyl       disp         hp       drat         wt       qsec \n",
              " 20.090625   6.187500 230.721875 146.687500   3.596563   3.217250  17.848750 \n",
              "        vs         am       gear       carb \n",
              "  0.437500   0.406250   3.687500   2.812500 "
            ]
          },
          "metadata": {
            "tags": []
          }
        },
        {
          "output_type": "display_data",
          "data": {
            "text/html": [
              "<style>\n",
              ".dl-inline {width: auto; margin:0; padding: 0}\n",
              ".dl-inline>dt, .dl-inline>dd {float: none; width: auto; display: inline-block}\n",
              ".dl-inline>dt::after {content: \":\\0020\"; padding-right: .5ex}\n",
              ".dl-inline>dt:not(:first-of-type) {padding-left: .5ex}\n",
              "</style><dl class=dl-inline><dt>Sepal.Length</dt><dd>'double'</dd><dt>Sepal.Width</dt><dd>'double'</dd><dt>Petal.Length</dt><dd>'double'</dd><dt>Petal.Width</dt><dd>'double'</dd><dt>Species</dt><dd>'integer'</dd></dl>\n"
            ],
            "text/latex": "\\begin{description*}\n\\item[Sepal.Length] 'double'\n\\item[Sepal.Width] 'double'\n\\item[Petal.Length] 'double'\n\\item[Petal.Width] 'double'\n\\item[Species] 'integer'\n\\end{description*}\n",
            "text/markdown": "Sepal.Length\n:   'double'Sepal.Width\n:   'double'Petal.Length\n:   'double'Petal.Width\n:   'double'Species\n:   'integer'\n\n",
            "text/plain": [
              "Sepal.Length  Sepal.Width Petal.Length  Petal.Width      Species \n",
              "    \"double\"     \"double\"     \"double\"     \"double\"    \"integer\" "
            ]
          },
          "metadata": {
            "tags": []
          }
        },
        {
          "output_type": "display_data",
          "data": {
            "text/html": [
              "<style>\n",
              ".dl-inline {width: auto; margin:0; padding: 0}\n",
              ".dl-inline>dt, .dl-inline>dd {float: none; width: auto; display: inline-block}\n",
              ".dl-inline>dt::after {content: \":\\0020\"; padding-right: .5ex}\n",
              ".dl-inline>dt:not(:first-of-type) {padding-left: .5ex}\n",
              "</style><dl class=dl-inline><dt>Sepal.Length</dt><dd>35</dd><dt>Sepal.Width</dt><dd>23</dd><dt>Petal.Length</dt><dd>43</dd><dt>Petal.Width</dt><dd>22</dd><dt>Species</dt><dd>3</dd></dl>\n"
            ],
            "text/latex": "\\begin{description*}\n\\item[Sepal.Length] 35\n\\item[Sepal.Width] 23\n\\item[Petal.Length] 43\n\\item[Petal.Width] 22\n\\item[Species] 3\n\\end{description*}\n",
            "text/markdown": "Sepal.Length\n:   35Sepal.Width\n:   23Petal.Length\n:   43Petal.Width\n:   22Species\n:   3\n\n",
            "text/plain": [
              "Sepal.Length  Sepal.Width Petal.Length  Petal.Width      Species \n",
              "          35           23           43           22            3 "
            ]
          },
          "metadata": {
            "tags": []
          }
        }
      ]
    },
    {
      "cell_type": "markdown",
      "metadata": {
        "id": "VgD93ot3zV_V"
      },
      "source": [
        "## Q5: Writing functions (recursions):"
      ]
    },
    {
      "cell_type": "markdown",
      "metadata": {
        "id": "Lk8se7L_zV_V"
      },
      "source": [
        "Factorials: $n! = n(n-1)(n-2)\\dots1$\\\n",
        "factorial(n) = n*factorial(n-1)\\\n",
        "Base case: factorial(0) = 1"
      ]
    },
    {
      "cell_type": "code",
      "metadata": {
        "id": "Xu0_vUMFzV_V"
      },
      "source": [
        "factorial = function(n){\n",
        "    if(n == 0){\n",
        "        return(1)\n",
        "    }else{\n",
        "        return(n*factorial(n-1))\n",
        "    }\n",
        "}"
      ],
      "execution_count": null,
      "outputs": []
    },
    {
      "cell_type": "code",
      "metadata": {
        "id": "uDo0VimvzV_W",
        "outputId": "be98c17e-0a64-4594-dd62-3170736840ed"
      },
      "source": [
        "factorial(20)"
      ],
      "execution_count": null,
      "outputs": [
        {
          "output_type": "display_data",
          "data": {
            "text/html": [
              "2432902008176640000"
            ],
            "text/latex": "2432902008176640000",
            "text/markdown": "2432902008176640000",
            "text/plain": [
              "[1] 2.432902e+18"
            ]
          },
          "metadata": {
            "tags": []
          }
        }
      ]
    },
    {
      "cell_type": "markdown",
      "metadata": {
        "id": "7nguVxMfzV_W"
      },
      "source": [
        "### 1. Suppose Joe wants to climb n stairs, at each step, Joe can climb 1 stair or 2 stairs; write a function to find out many different ways are there for Joe to climb n stairs. Example: if n=3, then Joe has 3 ways: (1,1,1), (1,2), and (2,1)."
      ]
    },
    {
      "cell_type": "markdown",
      "metadata": {
        "id": "Lz9Cc1NXzV_W"
      },
      "source": [
        "If there are 10 stairs initially after 1 step there could be 9 or 8 stairs ahead. So the process restarts with 9 or 8 stair after one step. Let's suppose we have a function that calculates number of differen ways, call this function `nways`, `nways(10) = nways(9) + nways(8)`. In general `nways(n) = nways(n-1)+nways(n-2)`. How about if only 1 step left? Then there is just 1 way to climb it so `nways(1) = 1`. If it is 2 then, It can be (1,1) or (2). Therefore `nways(2) = 2` and `nways(1) =  1`"
      ]
    },
    {
      "cell_type": "code",
      "metadata": {
        "colab": {
          "base_uri": "https://localhost:8080/",
          "height": 34
        },
        "id": "2NWtBYmCzV_W",
        "outputId": "ffea8e1d-fea4-424d-a856-d68cc983fd9a"
      },
      "source": [
        "nways = function(n){\n",
        "    if (n == 1) return(1)\n",
        "    if (n == 2) return(2)\n",
        "    return(nways(n-1) + nways(n-2))\n",
        "}\n",
        "nways(20)"
      ],
      "execution_count": 18,
      "outputs": [
        {
          "output_type": "display_data",
          "data": {
            "text/plain": [
              "[1] 10946"
            ],
            "text/latex": "10946",
            "text/markdown": "10946",
            "text/html": [
              "10946"
            ]
          },
          "metadata": {
            "tags": []
          }
        }
      ]
    }
  ]
}