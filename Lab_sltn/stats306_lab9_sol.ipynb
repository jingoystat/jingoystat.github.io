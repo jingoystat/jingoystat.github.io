{
  "nbformat": 4,
  "nbformat_minor": 0,
  "metadata": {
    "kernelspec": {
      "display_name": "R",
      "language": "R",
      "name": "ir"
    },
    "language_info": {
      "codemirror_mode": "r",
      "file_extension": ".r",
      "mimetype": "text/x-r-source",
      "name": "R",
      "pygments_lexer": "r",
      "version": "3.6.1"
    },
    "colab": {
      "name": "stats306_lab9_sol.ipynb",
      "provenance": [],
      "collapsed_sections": []
    }
  },
  "cells": [
    {
      "cell_type": "markdown",
      "metadata": {
        "id": "xGocgMTv0cX5"
      },
      "source": [
        "# Lab 9: \tCase Study: Practicing functions with News Headlines and The General Social Survey data"
      ]
    },
    {
      "cell_type": "code",
      "metadata": {
        "scrolled": false,
        "colab": {
          "base_uri": "https://localhost:8080/"
        },
        "id": "WSGKI15m0cX7",
        "outputId": "6da96ea4-3874-4671-b3e1-756cd06baa79"
      },
      "source": [
        "library(tidyverse)\n",
        "library(stringr)\n",
        "library(forcats)\n",
        "library(lubridate)"
      ],
      "execution_count": 1,
      "outputs": [
        {
          "output_type": "stream",
          "text": [
            "Warning message in system(\"timedatectl\", intern = TRUE):\n",
            "“running command 'timedatectl' had status 1”\n",
            "── \u001b[1mAttaching packages\u001b[22m ─────────────────────────────────────── tidyverse 1.3.0 ──\n",
            "\n",
            "\u001b[32m✔\u001b[39m \u001b[34mggplot2\u001b[39m 3.3.3     \u001b[32m✔\u001b[39m \u001b[34mpurrr  \u001b[39m 0.3.4\n",
            "\u001b[32m✔\u001b[39m \u001b[34mtibble \u001b[39m 3.1.0     \u001b[32m✔\u001b[39m \u001b[34mdplyr  \u001b[39m 1.0.5\n",
            "\u001b[32m✔\u001b[39m \u001b[34mtidyr  \u001b[39m 1.1.3     \u001b[32m✔\u001b[39m \u001b[34mstringr\u001b[39m 1.4.0\n",
            "\u001b[32m✔\u001b[39m \u001b[34mreadr  \u001b[39m 1.4.0     \u001b[32m✔\u001b[39m \u001b[34mforcats\u001b[39m 0.5.1\n",
            "\n",
            "── \u001b[1mConflicts\u001b[22m ────────────────────────────────────────── tidyverse_conflicts() ──\n",
            "\u001b[31m✖\u001b[39m \u001b[34mdplyr\u001b[39m::\u001b[32mfilter()\u001b[39m masks \u001b[34mstats\u001b[39m::filter()\n",
            "\u001b[31m✖\u001b[39m \u001b[34mdplyr\u001b[39m::\u001b[32mlag()\u001b[39m    masks \u001b[34mstats\u001b[39m::lag()\n",
            "\n",
            "\n",
            "Attaching package: ‘lubridate’\n",
            "\n",
            "\n",
            "The following objects are masked from ‘package:base’:\n",
            "\n",
            "    date, intersect, setdiff, union\n",
            "\n",
            "\n"
          ],
          "name": "stderr"
        }
      ]
    },
    {
      "cell_type": "markdown",
      "metadata": {
        "id": "pNRcy2A_0cX8"
      },
      "source": [
        "## 1 News Headlines\n",
        "\n",
        "We are going to look through headlines from ABC News. The following loads the dataset we will use.\n"
      ]
    },
    {
      "cell_type": "code",
      "metadata": {
        "colab": {
          "base_uri": "https://localhost:8080/",
          "height": 283
        },
        "id": "6zpRPWs60cX8",
        "outputId": "feff06a8-d325-4935-b52c-bce9882064bd"
      },
      "source": [
        "headlines = read_csv('https://raw.githubusercontent.com/byoungwookjang/stats306_labs/master/lab13/abcnews_2017.csv', \n",
        "                     col_types=list(col_character(), col_character()))\n",
        "head(headlines)"
      ],
      "execution_count": 2,
      "outputs": [
        {
          "output_type": "display_data",
          "data": {
            "text/plain": [
              "  publish_date headline_text                                                   \n",
              "1 20170101     1986 queensland cabinet documents released                      \n",
              "2 20170101     actor william cristopher mash chaplain dead at 84               \n",
              "3 20170101     adelaide hip hop artist dreams becoming influential in australia\n",
              "4 20170101     adelaide's new year's fireworks                                 \n",
              "5 20170101     adelaides new years fireworks                                   \n",
              "6 20170101     ambulances ferry injured to hospital istanbul nightclub attack  "
            ],
            "text/latex": "A tibble: 6 × 2\n\\begin{tabular}{ll}\n publish\\_date & headline\\_text\\\\\n <chr> & <chr>\\\\\n\\hline\n\t 20170101 & 1986 queensland cabinet documents released                      \\\\\n\t 20170101 & actor william cristopher mash chaplain dead at 84               \\\\\n\t 20170101 & adelaide hip hop artist dreams becoming influential in australia\\\\\n\t 20170101 & adelaide's new year's fireworks                                 \\\\\n\t 20170101 & adelaides new years fireworks                                   \\\\\n\t 20170101 & ambulances ferry injured to hospital istanbul nightclub attack  \\\\\n\\end{tabular}\n",
            "text/markdown": "\nA tibble: 6 × 2\n\n| publish_date &lt;chr&gt; | headline_text &lt;chr&gt; |\n|---|---|\n| 20170101 | 1986 queensland cabinet documents released                       |\n| 20170101 | actor william cristopher mash chaplain dead at 84                |\n| 20170101 | adelaide hip hop artist dreams becoming influential in australia |\n| 20170101 | adelaide's new year's fireworks                                  |\n| 20170101 | adelaides new years fireworks                                    |\n| 20170101 | ambulances ferry injured to hospital istanbul nightclub attack   |\n\n",
            "text/html": [
              "<table class=\"dataframe\">\n",
              "<caption>A tibble: 6 × 2</caption>\n",
              "<thead>\n",
              "\t<tr><th scope=col>publish_date</th><th scope=col>headline_text</th></tr>\n",
              "\t<tr><th scope=col>&lt;chr&gt;</th><th scope=col>&lt;chr&gt;</th></tr>\n",
              "</thead>\n",
              "<tbody>\n",
              "\t<tr><td>20170101</td><td>1986 queensland cabinet documents released                      </td></tr>\n",
              "\t<tr><td>20170101</td><td>actor william cristopher mash chaplain dead at 84               </td></tr>\n",
              "\t<tr><td>20170101</td><td>adelaide hip hop artist dreams becoming influential in australia</td></tr>\n",
              "\t<tr><td>20170101</td><td>adelaide's new year's fireworks                                 </td></tr>\n",
              "\t<tr><td>20170101</td><td>adelaides new years fireworks                                   </td></tr>\n",
              "\t<tr><td>20170101</td><td>ambulances ferry injured to hospital istanbul nightclub attack  </td></tr>\n",
              "</tbody>\n",
              "</table>\n"
            ]
          },
          "metadata": {
            "tags": []
          }
        }
      ]
    },
    {
      "cell_type": "markdown",
      "metadata": {
        "id": "JXWBBxwy0cX9"
      },
      "source": [
        "### 1.1\n",
        "\n",
        "Add columns to `headlines` in which `publish_date` is converted the appropriate date format and there is an additional `id` variable that gives each headline a unique id number."
      ]
    },
    {
      "cell_type": "code",
      "metadata": {
        "colab": {
          "base_uri": "https://localhost:8080/",
          "height": 283
        },
        "id": "moRcDDbP0cX9",
        "outputId": "51e19df1-68d9-4b0d-cbe5-3723a9d11c4d"
      },
      "source": [
        "headlines = headlines %>% \n",
        "    mutate(publish_date=ymd(publish_date),\n",
        "           id=row_number())\n",
        "\n",
        "head(headlines)"
      ],
      "execution_count": 3,
      "outputs": [
        {
          "output_type": "display_data",
          "data": {
            "text/plain": [
              "  publish_date headline_text                                                   \n",
              "1 2017-01-01   1986 queensland cabinet documents released                      \n",
              "2 2017-01-01   actor william cristopher mash chaplain dead at 84               \n",
              "3 2017-01-01   adelaide hip hop artist dreams becoming influential in australia\n",
              "4 2017-01-01   adelaide's new year's fireworks                                 \n",
              "5 2017-01-01   adelaides new years fireworks                                   \n",
              "6 2017-01-01   ambulances ferry injured to hospital istanbul nightclub attack  \n",
              "  id\n",
              "1 1 \n",
              "2 2 \n",
              "3 3 \n",
              "4 4 \n",
              "5 5 \n",
              "6 6 "
            ],
            "text/latex": "A tibble: 6 × 3\n\\begin{tabular}{lll}\n publish\\_date & headline\\_text & id\\\\\n <date> & <chr> & <int>\\\\\n\\hline\n\t 2017-01-01 & 1986 queensland cabinet documents released                       & 1\\\\\n\t 2017-01-01 & actor william cristopher mash chaplain dead at 84                & 2\\\\\n\t 2017-01-01 & adelaide hip hop artist dreams becoming influential in australia & 3\\\\\n\t 2017-01-01 & adelaide's new year's fireworks                                  & 4\\\\\n\t 2017-01-01 & adelaides new years fireworks                                    & 5\\\\\n\t 2017-01-01 & ambulances ferry injured to hospital istanbul nightclub attack   & 6\\\\\n\\end{tabular}\n",
            "text/markdown": "\nA tibble: 6 × 3\n\n| publish_date &lt;date&gt; | headline_text &lt;chr&gt; | id &lt;int&gt; |\n|---|---|---|\n| 2017-01-01 | 1986 queensland cabinet documents released                       | 1 |\n| 2017-01-01 | actor william cristopher mash chaplain dead at 84                | 2 |\n| 2017-01-01 | adelaide hip hop artist dreams becoming influential in australia | 3 |\n| 2017-01-01 | adelaide's new year's fireworks                                  | 4 |\n| 2017-01-01 | adelaides new years fireworks                                    | 5 |\n| 2017-01-01 | ambulances ferry injured to hospital istanbul nightclub attack   | 6 |\n\n",
            "text/html": [
              "<table class=\"dataframe\">\n",
              "<caption>A tibble: 6 × 3</caption>\n",
              "<thead>\n",
              "\t<tr><th scope=col>publish_date</th><th scope=col>headline_text</th><th scope=col>id</th></tr>\n",
              "\t<tr><th scope=col>&lt;date&gt;</th><th scope=col>&lt;chr&gt;</th><th scope=col>&lt;int&gt;</th></tr>\n",
              "</thead>\n",
              "<tbody>\n",
              "\t<tr><td>2017-01-01</td><td>1986 queensland cabinet documents released                      </td><td>1</td></tr>\n",
              "\t<tr><td>2017-01-01</td><td>actor william cristopher mash chaplain dead at 84               </td><td>2</td></tr>\n",
              "\t<tr><td>2017-01-01</td><td>adelaide hip hop artist dreams becoming influential in australia</td><td>3</td></tr>\n",
              "\t<tr><td>2017-01-01</td><td>adelaide's new year's fireworks                                 </td><td>4</td></tr>\n",
              "\t<tr><td>2017-01-01</td><td>adelaides new years fireworks                                   </td><td>5</td></tr>\n",
              "\t<tr><td>2017-01-01</td><td>ambulances ferry injured to hospital istanbul nightclub attack  </td><td>6</td></tr>\n",
              "</tbody>\n",
              "</table>\n"
            ]
          },
          "metadata": {
            "tags": []
          }
        }
      ]
    },
    {
      "cell_type": "markdown",
      "metadata": {
        "id": "ZNdO_pN_0cX-"
      },
      "source": [
        "### 1.2\n",
        "\n",
        "Write a function `get_headlines` that takes a string `keyword` as an argument and returns a subset of `headlines` with only rows where the headline contains the given `keyword`. The returned dataframe should contain an additional column titled `keyword` that contains the keyword provided to the function. And make sure your function is not case-sensitive."
      ]
    },
    {
      "cell_type": "code",
      "metadata": {
        "colab": {
          "base_uri": "https://localhost:8080/",
          "height": 145
        },
        "id": "P7QXfScm0cX-",
        "outputId": "2f2f90de-9044-4551-de01-88e5e28a03c5"
      },
      "source": [
        "headlines %>% summarise(sum(id))"
      ],
      "execution_count": 4,
      "outputs": [
        {
          "output_type": "display_data",
          "data": {
            "text/plain": [
              "  sum(id)  \n",
              "1 976046653"
            ],
            "text/latex": "A tibble: 1 × 1\n\\begin{tabular}{l}\n sum(id)\\\\\n <int>\\\\\n\\hline\n\t 976046653\\\\\n\\end{tabular}\n",
            "text/markdown": "\nA tibble: 1 × 1\n\n| sum(id) &lt;int&gt; |\n|---|\n| 976046653 |\n\n",
            "text/html": [
              "<table class=\"dataframe\">\n",
              "<caption>A tibble: 1 × 1</caption>\n",
              "<thead>\n",
              "\t<tr><th scope=col>sum(id)</th></tr>\n",
              "\t<tr><th scope=col>&lt;int&gt;</th></tr>\n",
              "</thead>\n",
              "<tbody>\n",
              "\t<tr><td>976046653</td></tr>\n",
              "</tbody>\n",
              "</table>\n"
            ]
          },
          "metadata": {
            "tags": []
          }
        }
      ]
    },
    {
      "cell_type": "code",
      "metadata": {
        "id": "DKtcG4Zy0cX_",
        "outputId": "c4a10511-f5ec-412c-e517-9a2795ec13e4"
      },
      "source": [
        "summarise(headlines, sum(id))"
      ],
      "execution_count": null,
      "outputs": [
        {
          "output_type": "display_data",
          "data": {
            "text/html": [
              "<table>\n",
              "<caption>A tibble: 1 × 1</caption>\n",
              "<thead>\n",
              "\t<tr><th scope=col>sum(id)</th></tr>\n",
              "\t<tr><th scope=col>&lt;int&gt;</th></tr>\n",
              "</thead>\n",
              "<tbody>\n",
              "\t<tr><td>976046653</td></tr>\n",
              "</tbody>\n",
              "</table>\n"
            ],
            "text/latex": "A tibble: 1 × 1\n\\begin{tabular}{l}\n sum(id)\\\\\n <int>\\\\\n\\hline\n\t 976046653\\\\\n\\end{tabular}\n",
            "text/markdown": "\nA tibble: 1 × 1\n\n| sum(id) &lt;int&gt; |\n|---|\n| 976046653 |\n\n",
            "text/plain": [
              "  sum(id)  \n",
              "1 976046653"
            ]
          },
          "metadata": {
            "tags": []
          }
        }
      ]
    },
    {
      "cell_type": "code",
      "metadata": {
        "scrolled": true,
        "colab": {
          "base_uri": "https://localhost:8080/",
          "height": 283
        },
        "id": "b582El_U0cX_",
        "outputId": "956ad0b4-baaf-48b2-ad39-0697cd63cc8b"
      },
      "source": [
        "get_headlines = function(df, keyword) {\n",
        "    keyword = tolower(keyword)\n",
        "    result =  df%>% \n",
        "        filter(str_detect(headline_text, keyword)) %>%\n",
        "        mutate(keyword=keyword)\n",
        "    return(result)\n",
        "}\n",
        "\n",
        "headlines %>% get_headlines('trump') %>% head"
      ],
      "execution_count": 5,
      "outputs": [
        {
          "output_type": "display_data",
          "data": {
            "text/plain": [
              "  publish_date headline_text                                                   \n",
              "1 2017-01-01   donald trump remains sceptical russia was behind hacking        \n",
              "2 2017-01-02   donald trump indonesian business partner wants run for president\n",
              "3 2017-01-03   donald trump rebecca ferguson inauguration strange fruit        \n",
              "4 2017-01-03   will president trump be the most pro israel president ever      \n",
              "5 2017-01-04   bill and hillary clinton to attend donald trump inauguration    \n",
              "6 2017-01-04   republican led us congress trump era groundwork                 \n",
              "  id  keyword\n",
              "1  22 trump  \n",
              "2  83 trump  \n",
              "3 172 trump  \n",
              "4 261 trump  \n",
              "5 282 trump  \n",
              "6 360 trump  "
            ],
            "text/latex": "A tibble: 6 × 4\n\\begin{tabular}{llll}\n publish\\_date & headline\\_text & id & keyword\\\\\n <date> & <chr> & <int> & <chr>\\\\\n\\hline\n\t 2017-01-01 & donald trump remains sceptical russia was behind hacking         &  22 & trump\\\\\n\t 2017-01-02 & donald trump indonesian business partner wants run for president &  83 & trump\\\\\n\t 2017-01-03 & donald trump rebecca ferguson inauguration strange fruit         & 172 & trump\\\\\n\t 2017-01-03 & will president trump be the most pro israel president ever       & 261 & trump\\\\\n\t 2017-01-04 & bill and hillary clinton to attend donald trump inauguration     & 282 & trump\\\\\n\t 2017-01-04 & republican led us congress trump era groundwork                  & 360 & trump\\\\\n\\end{tabular}\n",
            "text/markdown": "\nA tibble: 6 × 4\n\n| publish_date &lt;date&gt; | headline_text &lt;chr&gt; | id &lt;int&gt; | keyword &lt;chr&gt; |\n|---|---|---|---|\n| 2017-01-01 | donald trump remains sceptical russia was behind hacking         |  22 | trump |\n| 2017-01-02 | donald trump indonesian business partner wants run for president |  83 | trump |\n| 2017-01-03 | donald trump rebecca ferguson inauguration strange fruit         | 172 | trump |\n| 2017-01-03 | will president trump be the most pro israel president ever       | 261 | trump |\n| 2017-01-04 | bill and hillary clinton to attend donald trump inauguration     | 282 | trump |\n| 2017-01-04 | republican led us congress trump era groundwork                  | 360 | trump |\n\n",
            "text/html": [
              "<table class=\"dataframe\">\n",
              "<caption>A tibble: 6 × 4</caption>\n",
              "<thead>\n",
              "\t<tr><th scope=col>publish_date</th><th scope=col>headline_text</th><th scope=col>id</th><th scope=col>keyword</th></tr>\n",
              "\t<tr><th scope=col>&lt;date&gt;</th><th scope=col>&lt;chr&gt;</th><th scope=col>&lt;int&gt;</th><th scope=col>&lt;chr&gt;</th></tr>\n",
              "</thead>\n",
              "<tbody>\n",
              "\t<tr><td>2017-01-01</td><td>donald trump remains sceptical russia was behind hacking        </td><td> 22</td><td>trump</td></tr>\n",
              "\t<tr><td>2017-01-02</td><td>donald trump indonesian business partner wants run for president</td><td> 83</td><td>trump</td></tr>\n",
              "\t<tr><td>2017-01-03</td><td>donald trump rebecca ferguson inauguration strange fruit        </td><td>172</td><td>trump</td></tr>\n",
              "\t<tr><td>2017-01-03</td><td>will president trump be the most pro israel president ever      </td><td>261</td><td>trump</td></tr>\n",
              "\t<tr><td>2017-01-04</td><td>bill and hillary clinton to attend donald trump inauguration    </td><td>282</td><td>trump</td></tr>\n",
              "\t<tr><td>2017-01-04</td><td>republican led us congress trump era groundwork                 </td><td>360</td><td>trump</td></tr>\n",
              "</tbody>\n",
              "</table>\n"
            ]
          },
          "metadata": {
            "tags": []
          }
        }
      ]
    },
    {
      "cell_type": "markdown",
      "metadata": {
        "id": "bhan3g1S0cYA"
      },
      "source": [
        "<hr> \n",
        "<b>Short Lesson</b><br>\n",
        "Mapping: The map functions transform their input by applying a function to each element and returning a vector the same length as the input. Great tool for parallelization\n",
        "\n",
        "https://www.rdocumentation.org/packages/purrr/versions/0.2.5/topics/map"
      ]
    },
    {
      "cell_type": "markdown",
      "metadata": {
        "id": "qP6LGOvS0cYA"
      },
      "source": [
        "Q: How many prime numbers are there in the first n integers?"
      ]
    },
    {
      "cell_type": "markdown",
      "metadata": {
        "id": "Gr70ayq40cYB"
      },
      "source": [
        "#### For loop implementation:"
      ]
    },
    {
      "cell_type": "code",
      "metadata": {
        "id": "GU6_lKib0cYB"
      },
      "source": [
        "# a helper fn\n",
        "is.prime = function(num) {\n",
        "   if (num == 2) {\n",
        "      TRUE\n",
        "   } else if (any(num %% 2:(num-1) == 0)) {\n",
        "      FALSE\n",
        "   } else { \n",
        "      TRUE\n",
        "   }\n",
        "}"
      ],
      "execution_count": 6,
      "outputs": []
    },
    {
      "cell_type": "code",
      "metadata": {
        "id": "6KlBzo4v0cYB"
      },
      "source": [
        "# main function\n",
        "prime.counter = function(n){\n",
        "    total = 0 # start the counter\n",
        "    for(num in 2:n){\n",
        "        total = total + is.prime(num)\n",
        "    }\n",
        "    return(total)\n",
        "}"
      ],
      "execution_count": 7,
      "outputs": []
    },
    {
      "cell_type": "code",
      "metadata": {
        "colab": {
          "base_uri": "https://localhost:8080/",
          "height": 34
        },
        "id": "__hPONwC0cYC",
        "outputId": "cb664dfc-22ff-4e86-c2f1-997145861ce9"
      },
      "source": [
        "# Let's check prime.counter for first 10000 integers\n",
        "prime.counter(10000)"
      ],
      "execution_count": 8,
      "outputs": [
        {
          "output_type": "display_data",
          "data": {
            "text/plain": [
              "[1] 1229"
            ],
            "text/latex": "1229",
            "text/markdown": "1229",
            "text/html": [
              "1229"
            ]
          },
          "metadata": {
            "tags": []
          }
        }
      ]
    },
    {
      "cell_type": "code",
      "metadata": {
        "id": "CfeDmFQq0cYC",
        "outputId": "87868ca3-cbdf-4ee1-b8c1-50871b892af2"
      },
      "source": [
        "# this is how it's done with applyer functions\n",
        "# map_lgl returns a vector of logical values\n",
        "1:10000 %>% map_lgl(is.prime) %>% sum"
      ],
      "execution_count": null,
      "outputs": [
        {
          "output_type": "display_data",
          "data": {
            "text/html": [
              "1229"
            ],
            "text/latex": "1229",
            "text/markdown": "1229",
            "text/plain": [
              "[1] 1229"
            ]
          },
          "metadata": {
            "tags": []
          }
        }
      ]
    },
    {
      "cell_type": "markdown",
      "metadata": {
        "id": "cE2MKMcT0cYD"
      },
      "source": [
        "### 1.3\n",
        "\n",
        "Using `get_headlines`, create a dataframe `headlines2` which, for each country in `country_interest`, contains the headlines associated with that country. The result should be a single dataframe. You should be able to do this with a one-liner."
      ]
    },
    {
      "cell_type": "code",
      "metadata": {
        "colab": {
          "base_uri": "https://localhost:8080/"
        },
        "id": "j8wkkWUL0cYD",
        "outputId": "74f8f40e-4e59-44fa-d47a-374c88fc9e50"
      },
      "source": [
        "country_interest = c('china', 'india', 'russia', 'syria', 'indonesia',\n",
        "                     'japan', 'israel', 'iraq', 'iran', 'philippines',\n",
        "                     'united states', 'france')\n",
        "\n",
        "# map_dfr returns a dataframe created by row binding\n",
        "headlines2 = country_interest %>% \n",
        "map_dfr(~get_headlines(headlines,.))\n",
        "\n",
        "print(headlines2)"
      ],
      "execution_count": 31,
      "outputs": [
        {
          "output_type": "stream",
          "text": [
            "\u001b[90m# A tibble: 1,809 x 4\u001b[39m\n",
            "   publish_date headline_text                                         id keyword\n",
            "   \u001b[3m\u001b[90m<date>\u001b[39m\u001b[23m       \u001b[3m\u001b[90m<chr>\u001b[39m\u001b[23m                                              \u001b[3m\u001b[90m<int>\u001b[39m\u001b[23m \u001b[3m\u001b[90m<chr>\u001b[39m\u001b[23m  \n",
            "\u001b[90m 1\u001b[39m 2017-01-03   human hair and rocket launchers now cheaper to ex…   193 china  \n",
            "\u001b[90m 2\u001b[39m 2017-01-04   two wounded one dead after gun rampage in china      388 china  \n",
            "\u001b[90m 3\u001b[39m 2017-01-05   china to spend $493 billion on renewable fuel by …   424 china  \n",
            "\u001b[90m 4\u001b[39m 2017-01-05   economists fear official uschina trade war as yuan   434 china  \n",
            "\u001b[90m 5\u001b[39m 2017-01-05   wine exporters to benefit from further china tari…   531 china  \n",
            "\u001b[90m 6\u001b[39m 2017-01-06   china harbin ice festival begins with spectacular…   554 china  \n",
            "\u001b[90m 7\u001b[39m 2017-01-07   china's big push towards green power                 673 china  \n",
            "\u001b[90m 8\u001b[39m 2017-01-07   sri lankans protest china port deal                  718 china  \n",
            "\u001b[90m 9\u001b[39m 2017-01-11   taiwan scrambles navy as china enters taiwan stra…  \u001b[4m1\u001b[24m132 china  \n",
            "\u001b[90m10\u001b[39m 2017-01-11   trade war between us and china a major threat to …  \u001b[4m1\u001b[24m140 china  \n",
            "\u001b[90m# … with 1,799 more rows\u001b[39m\n"
          ],
          "name": "stdout"
        }
      ]
    },
    {
      "cell_type": "markdown",
      "metadata": {
        "id": "6Ei38VGq0cYD"
      },
      "source": [
        "### 1.4 Do a country vs Number of headlines plot. Make sure the plot is in descending order of number of headlines"
      ]
    },
    {
      "cell_type": "code",
      "metadata": {
        "scrolled": true,
        "colab": {
          "base_uri": "https://localhost:8080/",
          "height": 437
        },
        "id": "eQxXp-1Q0cYE",
        "outputId": "403bd7e3-8931-4451-e718-7d973e4af792"
      },
      "source": [
        "#options(repr.plot.width=10, repr.plot.height=6)\n",
        "\n",
        "res = headlines2 %>% group_by(keyword) %>% summarize(n=n())\n",
        "\n",
        "ggplot(data=res, aes(x=reorder(keyword, -n), y=n)) + \n",
        "    geom_bar(stat='identity') + \n",
        "    labs(x='Country', y='Number of Headlines') +\n",
        "    theme(axis.text.x = element_text(angle=45, hjust=1))"
      ],
      "execution_count": 16,
      "outputs": [
        {
          "output_type": "display_data",
          "data": {
            "image/png": "[encoded data removed]",
            "text/plain": [
              "plot without title"
            ]
          },
          "metadata": {
            "tags": [],
            "image/png": {
              "width": 420,
              "height": 420
            }
          }
        }
      ]
    },
    {
      "cell_type": "markdown",
      "metadata": {
        "id": "q1Y53J5d0cYE"
      },
      "source": [
        "## 2 The General Social Survey"
      ]
    },
    {
      "cell_type": "code",
      "metadata": {
        "scrolled": true,
        "colab": {
          "base_uri": "https://localhost:8080/",
          "height": 283
        },
        "id": "XEJpOlAv0cYE",
        "outputId": "9a405f55-c653-4cef-f97d-ac8e43d27ef6"
      },
      "source": [
        "head(gss_cat)"
      ],
      "execution_count": 17,
      "outputs": [
        {
          "output_type": "display_data",
          "data": {
            "text/plain": [
              "  year marital       age race  rincome        partyid           \n",
              "1 2000 Never married 26  White $8000 to 9999  Ind,near rep      \n",
              "2 2000 Divorced      48  White $8000 to 9999  Not str republican\n",
              "3 2000 Widowed       67  White Not applicable Independent       \n",
              "4 2000 Never married 39  White Not applicable Ind,near rep      \n",
              "5 2000 Divorced      25  White Not applicable Not str democrat  \n",
              "6 2000 Married       25  White $20000 - 24999 Strong democrat   \n",
              "  relig              denom            tvhours\n",
              "1 Protestant         Southern baptist 12     \n",
              "2 Protestant         Baptist-dk which NA     \n",
              "3 Protestant         No denomination   2     \n",
              "4 Orthodox-christian Not applicable    4     \n",
              "5 None               Not applicable    1     \n",
              "6 Protestant         Southern baptist NA     "
            ],
            "text/latex": "A tibble: 6 × 9\n\\begin{tabular}{lllllllll}\n year & marital & age & race & rincome & partyid & relig & denom & tvhours\\\\\n <int> & <fct> & <int> & <fct> & <fct> & <fct> & <fct> & <fct> & <int>\\\\\n\\hline\n\t 2000 & Never married & 26 & White & \\$8000 to 9999  & Ind,near rep       & Protestant         & Southern baptist & 12\\\\\n\t 2000 & Divorced      & 48 & White & \\$8000 to 9999  & Not str republican & Protestant         & Baptist-dk which & NA\\\\\n\t 2000 & Widowed       & 67 & White & Not applicable & Independent        & Protestant         & No denomination  &  2\\\\\n\t 2000 & Never married & 39 & White & Not applicable & Ind,near rep       & Orthodox-christian & Not applicable   &  4\\\\\n\t 2000 & Divorced      & 25 & White & Not applicable & Not str democrat   & None               & Not applicable   &  1\\\\\n\t 2000 & Married       & 25 & White & \\$20000 - 24999 & Strong democrat    & Protestant         & Southern baptist & NA\\\\\n\\end{tabular}\n",
            "text/markdown": "\nA tibble: 6 × 9\n\n| year &lt;int&gt; | marital &lt;fct&gt; | age &lt;int&gt; | race &lt;fct&gt; | rincome &lt;fct&gt; | partyid &lt;fct&gt; | relig &lt;fct&gt; | denom &lt;fct&gt; | tvhours &lt;int&gt; |\n|---|---|---|---|---|---|---|---|---|\n| 2000 | Never married | 26 | White | $8000 to 9999  | Ind,near rep       | Protestant         | Southern baptist | 12 |\n| 2000 | Divorced      | 48 | White | $8000 to 9999  | Not str republican | Protestant         | Baptist-dk which | NA |\n| 2000 | Widowed       | 67 | White | Not applicable | Independent        | Protestant         | No denomination  |  2 |\n| 2000 | Never married | 39 | White | Not applicable | Ind,near rep       | Orthodox-christian | Not applicable   |  4 |\n| 2000 | Divorced      | 25 | White | Not applicable | Not str democrat   | None               | Not applicable   |  1 |\n| 2000 | Married       | 25 | White | $20000 - 24999 | Strong democrat    | Protestant         | Southern baptist | NA |\n\n",
            "text/html": [
              "<table class=\"dataframe\">\n",
              "<caption>A tibble: 6 × 9</caption>\n",
              "<thead>\n",
              "\t<tr><th scope=col>year</th><th scope=col>marital</th><th scope=col>age</th><th scope=col>race</th><th scope=col>rincome</th><th scope=col>partyid</th><th scope=col>relig</th><th scope=col>denom</th><th scope=col>tvhours</th></tr>\n",
              "\t<tr><th scope=col>&lt;int&gt;</th><th scope=col>&lt;fct&gt;</th><th scope=col>&lt;int&gt;</th><th scope=col>&lt;fct&gt;</th><th scope=col>&lt;fct&gt;</th><th scope=col>&lt;fct&gt;</th><th scope=col>&lt;fct&gt;</th><th scope=col>&lt;fct&gt;</th><th scope=col>&lt;int&gt;</th></tr>\n",
              "</thead>\n",
              "<tbody>\n",
              "\t<tr><td>2000</td><td>Never married</td><td>26</td><td>White</td><td>$8000 to 9999 </td><td>Ind,near rep      </td><td>Protestant        </td><td>Southern baptist</td><td>12</td></tr>\n",
              "\t<tr><td>2000</td><td>Divorced     </td><td>48</td><td>White</td><td>$8000 to 9999 </td><td>Not str republican</td><td>Protestant        </td><td>Baptist-dk which</td><td>NA</td></tr>\n",
              "\t<tr><td>2000</td><td>Widowed      </td><td>67</td><td>White</td><td>Not applicable</td><td>Independent       </td><td>Protestant        </td><td>No denomination </td><td> 2</td></tr>\n",
              "\t<tr><td>2000</td><td>Never married</td><td>39</td><td>White</td><td>Not applicable</td><td>Ind,near rep      </td><td>Orthodox-christian</td><td>Not applicable  </td><td> 4</td></tr>\n",
              "\t<tr><td>2000</td><td>Divorced     </td><td>25</td><td>White</td><td>Not applicable</td><td>Not str democrat  </td><td>None              </td><td>Not applicable  </td><td> 1</td></tr>\n",
              "\t<tr><td>2000</td><td>Married      </td><td>25</td><td>White</td><td>$20000 - 24999</td><td>Strong democrat   </td><td>Protestant        </td><td>Southern baptist</td><td>NA</td></tr>\n",
              "</tbody>\n",
              "</table>\n"
            ]
          },
          "metadata": {
            "tags": []
          }
        }
      ]
    },
    {
      "cell_type": "markdown",
      "metadata": {
        "id": "qnuRXSlF0cYF"
      },
      "source": [
        "### 2.1 What is the median reported age for Jewish respondents?"
      ]
    },
    {
      "cell_type": "code",
      "metadata": {
        "colab": {
          "base_uri": "https://localhost:8080/",
          "height": 34
        },
        "id": "1cDDkRmR0cYF",
        "outputId": "8c9962ab-5e30-4ce0-a356-a8d559faa351"
      },
      "source": [
        "gss_cat %>% filter(relig == 'Jewish') %>% \n",
        "summarize(median(age, na.rm=T)) %>% deframe"
      ],
      "execution_count": 18,
      "outputs": [
        {
          "output_type": "display_data",
          "data": {
            "text/plain": [
              "[1] 53"
            ],
            "text/latex": "53",
            "text/markdown": "53",
            "text/html": [
              "53"
            ]
          },
          "metadata": {
            "tags": []
          }
        }
      ]
    },
    {
      "cell_type": "markdown",
      "metadata": {
        "id": "AgoHxQ9Z0cYF"
      },
      "source": [
        "### 2.2 Write a generalized function for above code. So for a given religion print out median age"
      ]
    },
    {
      "cell_type": "code",
      "metadata": {
        "colab": {
          "base_uri": "https://localhost:8080/",
          "height": 34
        },
        "id": "Tsh12f4K0cYF",
        "outputId": "f828fa72-5276-4b44-f9bf-bb54a31c73ca"
      },
      "source": [
        "f = function(x){\n",
        "    gss_cat %>% filter(relig == x) %>% \n",
        "    summarize(median(age, na.rm=T)) %>% deframe\n",
        "}\n",
        "f('Jewish')"
      ],
      "execution_count": 19,
      "outputs": [
        {
          "output_type": "display_data",
          "data": {
            "text/plain": [
              "[1] 53"
            ],
            "text/latex": "53",
            "text/markdown": "53",
            "text/html": [
              "53"
            ]
          },
          "metadata": {
            "tags": []
          }
        }
      ]
    },
    {
      "cell_type": "code",
      "metadata": {
        "colab": {
          "base_uri": "https://localhost:8080/",
          "height": 562
        },
        "id": "LeeljHag0cYG",
        "outputId": "0753cf33-8f35-4e15-9008-440e4739a902"
      },
      "source": [
        "# Here is the religion list\n",
        "gss_cat %>% select(relig) %>% unique"
      ],
      "execution_count": 20,
      "outputs": [
        {
          "output_type": "display_data",
          "data": {
            "text/plain": [
              "   relig                  \n",
              "1  Protestant             \n",
              "2  Orthodox-christian     \n",
              "3  None                   \n",
              "4  Christian              \n",
              "5  Jewish                 \n",
              "6  Catholic               \n",
              "7  Other                  \n",
              "8  Inter-nondenominational\n",
              "9  Hinduism               \n",
              "10 Native american        \n",
              "11 No answer              \n",
              "12 Buddhism               \n",
              "13 Moslem/islam           \n",
              "14 Other eastern          \n",
              "15 Don't know             "
            ],
            "text/latex": "A tibble: 15 × 1\n\\begin{tabular}{l}\n relig\\\\\n <fct>\\\\\n\\hline\n\t Protestant             \\\\\n\t Orthodox-christian     \\\\\n\t None                   \\\\\n\t Christian              \\\\\n\t Jewish                 \\\\\n\t Catholic               \\\\\n\t Other                  \\\\\n\t Inter-nondenominational\\\\\n\t Hinduism               \\\\\n\t Native american        \\\\\n\t No answer              \\\\\n\t Buddhism               \\\\\n\t Moslem/islam           \\\\\n\t Other eastern          \\\\\n\t Don't know             \\\\\n\\end{tabular}\n",
            "text/markdown": "\nA tibble: 15 × 1\n\n| relig &lt;fct&gt; |\n|---|\n| Protestant              |\n| Orthodox-christian      |\n| None                    |\n| Christian               |\n| Jewish                  |\n| Catholic                |\n| Other                   |\n| Inter-nondenominational |\n| Hinduism                |\n| Native american         |\n| No answer               |\n| Buddhism                |\n| Moslem/islam            |\n| Other eastern           |\n| Don't know              |\n\n",
            "text/html": [
              "<table class=\"dataframe\">\n",
              "<caption>A tibble: 15 × 1</caption>\n",
              "<thead>\n",
              "\t<tr><th scope=col>relig</th></tr>\n",
              "\t<tr><th scope=col>&lt;fct&gt;</th></tr>\n",
              "</thead>\n",
              "<tbody>\n",
              "\t<tr><td>Protestant             </td></tr>\n",
              "\t<tr><td>Orthodox-christian     </td></tr>\n",
              "\t<tr><td>None                   </td></tr>\n",
              "\t<tr><td>Christian              </td></tr>\n",
              "\t<tr><td>Jewish                 </td></tr>\n",
              "\t<tr><td>Catholic               </td></tr>\n",
              "\t<tr><td>Other                  </td></tr>\n",
              "\t<tr><td>Inter-nondenominational</td></tr>\n",
              "\t<tr><td>Hinduism               </td></tr>\n",
              "\t<tr><td>Native american        </td></tr>\n",
              "\t<tr><td>No answer              </td></tr>\n",
              "\t<tr><td>Buddhism               </td></tr>\n",
              "\t<tr><td>Moslem/islam           </td></tr>\n",
              "\t<tr><td>Other eastern          </td></tr>\n",
              "\t<tr><td>Don't know             </td></tr>\n",
              "</tbody>\n",
              "</table>\n"
            ]
          },
          "metadata": {
            "tags": []
          }
        }
      ]
    },
    {
      "cell_type": "code",
      "metadata": {
        "colab": {
          "base_uri": "https://localhost:8080/",
          "height": 68
        },
        "id": "VaCHjyJ80cYG",
        "outputId": "ebd36ddd-e6c6-43b2-996f-fe4474a775ab"
      },
      "source": [
        "f('Protestant'); f('None'); f('Hinduism')"
      ],
      "execution_count": 21,
      "outputs": [
        {
          "output_type": "display_data",
          "data": {
            "text/plain": [
              "[1] 49"
            ],
            "text/latex": "49",
            "text/markdown": "49",
            "text/html": [
              "49"
            ]
          },
          "metadata": {
            "tags": []
          }
        },
        {
          "output_type": "display_data",
          "data": {
            "text/plain": [
              "[1] 38"
            ],
            "text/latex": "38",
            "text/markdown": "38",
            "text/html": [
              "38"
            ]
          },
          "metadata": {
            "tags": []
          }
        },
        {
          "output_type": "display_data",
          "data": {
            "text/plain": [
              "[1] 33"
            ],
            "text/latex": "33",
            "text/markdown": "33",
            "text/html": [
              "33"
            ]
          },
          "metadata": {
            "tags": []
          }
        }
      ]
    },
    {
      "cell_type": "markdown",
      "metadata": {
        "id": "Q5-Zv6In0cYG"
      },
      "source": [
        "### 2.3 Write a generalized function for above code so that your function can work with different statistics such as mean, var etc, but keep median as default option."
      ]
    },
    {
      "cell_type": "code",
      "metadata": {
        "colab": {
          "base_uri": "https://localhost:8080/",
          "height": 68
        },
        "id": "scyGBbP00cYG",
        "outputId": "1ae517a5-80ad-4e31-888a-88d5c88ba1e8"
      },
      "source": [
        "f = function(x, stat = median){\n",
        "    gss_cat %>% filter(relig == x) %>% \n",
        "    summarize(stat(age, na.rm=T)) %>% deframe\n",
        "}\n",
        "f('Jewish', median); f('Jewish', mean); f('Hinduism', sd)"
      ],
      "execution_count": 22,
      "outputs": [
        {
          "output_type": "display_data",
          "data": {
            "text/plain": [
              "[1] 53"
            ],
            "text/latex": "53",
            "text/markdown": "53",
            "text/html": [
              "53"
            ]
          },
          "metadata": {
            "tags": []
          }
        },
        {
          "output_type": "display_data",
          "data": {
            "text/plain": [
              "[1] 52.39535"
            ],
            "text/latex": "52.3953488372093",
            "text/markdown": "52.3953488372093",
            "text/html": [
              "52.3953488372093"
            ]
          },
          "metadata": {
            "tags": []
          }
        },
        {
          "output_type": "display_data",
          "data": {
            "text/plain": [
              "[1] 13.07251"
            ],
            "text/latex": "13.0725084123314",
            "text/markdown": "13.0725084123314",
            "text/html": [
              "13.0725084123314"
            ]
          },
          "metadata": {
            "tags": []
          }
        }
      ]
    },
    {
      "cell_type": "markdown",
      "metadata": {
        "id": "6nEArJ1x0cYH"
      },
      "source": [
        "### 2.4 A millennial is defined to be someone who was 18 or younger in the year 2000. Are the millennials in this survey more likely to identify as atheist (relig =='None') compared to earlier generations?"
      ]
    },
    {
      "cell_type": "code",
      "metadata": {
        "colab": {
          "base_uri": "https://localhost:8080/",
          "height": 159
        },
        "id": "sIumDj_z0cYH",
        "outputId": "f1895636-0878-409e-f3c5-72f989eecf37"
      },
      "source": [
        "gss_cat %>% \n",
        "    filter(!is.na(age)) %>%\n",
        "    mutate(age_2000 = age - (year-2000),\n",
        "           millenial = ifelse(age_2000 > 18, \n",
        "                              'not millenial', 'millenial')) %>%\n",
        "    group_by(millenial) %>%\n",
        "    summarize(Propotion = sum(relig=='None')/n(), religion = 'None')"
      ],
      "execution_count": 26,
      "outputs": [
        {
          "output_type": "display_data",
          "data": {
            "text/plain": [
              "  millenial     Propotion religion\n",
              "1 millenial     0.2920228 None    \n",
              "2 not millenial 0.1501995 None    "
            ],
            "text/latex": "A tibble: 2 × 3\n\\begin{tabular}{lll}\n millenial & Propotion & religion\\\\\n <chr> & <dbl> & <chr>\\\\\n\\hline\n\t millenial     & 0.2920228 & None\\\\\n\t not millenial & 0.1501995 & None\\\\\n\\end{tabular}\n",
            "text/markdown": "\nA tibble: 2 × 3\n\n| millenial &lt;chr&gt; | Propotion &lt;dbl&gt; | religion &lt;chr&gt; |\n|---|---|---|\n| millenial     | 0.2920228 | None |\n| not millenial | 0.1501995 | None |\n\n",
            "text/html": [
              "<table class=\"dataframe\">\n",
              "<caption>A tibble: 2 × 3</caption>\n",
              "<thead>\n",
              "\t<tr><th scope=col>millenial</th><th scope=col>Propotion</th><th scope=col>religion</th></tr>\n",
              "\t<tr><th scope=col>&lt;chr&gt;</th><th scope=col>&lt;dbl&gt;</th><th scope=col>&lt;chr&gt;</th></tr>\n",
              "</thead>\n",
              "<tbody>\n",
              "\t<tr><td>millenial    </td><td>0.2920228</td><td>None</td></tr>\n",
              "\t<tr><td>not millenial</td><td>0.1501995</td><td>None</td></tr>\n",
              "</tbody>\n",
              "</table>\n"
            ]
          },
          "metadata": {
            "tags": []
          }
        }
      ]
    },
    {
      "cell_type": "markdown",
      "metadata": {
        "id": "wYI_wdmP0cYI"
      },
      "source": [
        "### 2.5 Generalize this by writing it for any religion"
      ]
    },
    {
      "cell_type": "code",
      "metadata": {
        "id": "cMfOEJh60cYI"
      },
      "source": [
        "millenials = function(x){\n",
        "    gss_cat %>% \n",
        "    filter(!is.na(age)) %>%\n",
        "    mutate(age_2000 = age - (year-2000),\n",
        "           millenial = ifelse(age_2000 > 18, \n",
        "                              'not millenial', 'millenial')) %>%\n",
        "    group_by(millenial) %>%\n",
        "    summarize(Propotion = sum(relig==x)/n(), religion = x)\n",
        "}"
      ],
      "execution_count": 27,
      "outputs": []
    },
    {
      "cell_type": "code",
      "metadata": {
        "colab": {
          "base_uri": "https://localhost:8080/",
          "height": 159
        },
        "id": "9oK7tbef0cYI",
        "outputId": "38c5d186-4977-4145-8286-5851435a4b2b"
      },
      "source": [
        "millenials('Jewish')"
      ],
      "execution_count": 28,
      "outputs": [
        {
          "output_type": "display_data",
          "data": {
            "text/plain": [
              "  millenial     Propotion  religion\n",
              "1 millenial     0.01044634 Jewish  \n",
              "2 not millenial 0.01891094 Jewish  "
            ],
            "text/latex": "A tibble: 2 × 3\n\\begin{tabular}{lll}\n millenial & Propotion & religion\\\\\n <chr> & <dbl> & <chr>\\\\\n\\hline\n\t millenial     & 0.01044634 & Jewish\\\\\n\t not millenial & 0.01891094 & Jewish\\\\\n\\end{tabular}\n",
            "text/markdown": "\nA tibble: 2 × 3\n\n| millenial &lt;chr&gt; | Propotion &lt;dbl&gt; | religion &lt;chr&gt; |\n|---|---|---|\n| millenial     | 0.01044634 | Jewish |\n| not millenial | 0.01891094 | Jewish |\n\n",
            "text/html": [
              "<table class=\"dataframe\">\n",
              "<caption>A tibble: 2 × 3</caption>\n",
              "<thead>\n",
              "\t<tr><th scope=col>millenial</th><th scope=col>Propotion</th><th scope=col>religion</th></tr>\n",
              "\t<tr><th scope=col>&lt;chr&gt;</th><th scope=col>&lt;dbl&gt;</th><th scope=col>&lt;chr&gt;</th></tr>\n",
              "</thead>\n",
              "<tbody>\n",
              "\t<tr><td>millenial    </td><td>0.01044634</td><td>Jewish</td></tr>\n",
              "\t<tr><td>not millenial</td><td>0.01891094</td><td>Jewish</td></tr>\n",
              "</tbody>\n",
              "</table>\n"
            ]
          },
          "metadata": {
            "tags": []
          }
        }
      ]
    },
    {
      "cell_type": "markdown",
      "metadata": {
        "id": "mlj-dv5-0cYI"
      },
      "source": [
        "### 2.6 By using above function calculate generation trend table for all religions by calculating percent change in propotion"
      ]
    },
    {
      "cell_type": "code",
      "metadata": {
        "scrolled": true,
        "colab": {
          "base_uri": "https://localhost:8080/",
          "height": 1000
        },
        "id": "LEDfzMVR0cYJ",
        "outputId": "1ff58460-9807-4595-d7d1-f165b1b0f26d"
      },
      "source": [
        "relTrend = gss_cat %>% select(relig) %>% unique %>% deframe %>%\n",
        "map_dfr(~millenials(.))\n",
        "# map_dfr(millenials)\n",
        "\n",
        "relTrend "
      ],
      "execution_count": 33,
      "outputs": [
        {
          "output_type": "display_data",
          "data": {
            "text/plain": [
              "   millenial     Propotion    religion               \n",
              "1  millenial     0.3584995252 Protestant             \n",
              "2  not millenial 0.5213201389 Protestant             \n",
              "3  millenial     0.0023741690 Orthodox-christian     \n",
              "4  not millenial 0.0046629708 Orthodox-christian     \n",
              "5  millenial     0.2920227920 None                   \n",
              "6  not millenial 0.1501994715 None                   \n",
              "7  millenial     0.0569800570 Christian              \n",
              "8  not millenial 0.0293767162 Christian              \n",
              "9  millenial     0.0104463438 Jewish                 \n",
              "10 not millenial 0.0189109373 Jewish                 \n",
              "11 millenial     0.2317188984 Catholic               \n",
              "12 not millenial 0.2390031605 Catholic               \n",
              "13 millenial     0.0142450142 Other                  \n",
              "14 not millenial 0.0099476711 Other                  \n",
              "15 millenial     0.0056980057 Inter-nondenominational\n",
              "16 not millenial 0.0050256463 Inter-nondenominational\n",
              "17 millenial     0.0052231719 Hinduism               \n",
              "18 not millenial 0.0030568364 Hinduism               \n",
              "19 millenial     0.0028490028 Native american        \n",
              "20 not millenial 0.0008807834 Native american        \n",
              "21 millenial     0.0018993352 No answer              \n",
              "22 not millenial 0.0041966737 No answer              \n",
              "23 millenial     0.0071225071 Buddhism               \n",
              "24 not millenial 0.0068390239 Buddhism               \n",
              "25 millenial     0.0080721747 Moslem/islam           \n",
              "26 not millenial 0.0044557277 Moslem/islam           \n",
              "27 millenial     0.0018993352 Other eastern          \n",
              "28 not millenial 0.0014507020 Other eastern          \n",
              "29 millenial     0.0009496676 Don't know             \n",
              "30 not millenial 0.0006735402 Don't know             "
            ],
            "text/latex": "A tibble: 30 × 3\n\\begin{tabular}{lll}\n millenial & Propotion & religion\\\\\n <chr> & <dbl> & <fct>\\\\\n\\hline\n\t millenial     & 0.3584995252 & Protestant             \\\\\n\t not millenial & 0.5213201389 & Protestant             \\\\\n\t millenial     & 0.0023741690 & Orthodox-christian     \\\\\n\t not millenial & 0.0046629708 & Orthodox-christian     \\\\\n\t millenial     & 0.2920227920 & None                   \\\\\n\t not millenial & 0.1501994715 & None                   \\\\\n\t millenial     & 0.0569800570 & Christian              \\\\\n\t not millenial & 0.0293767162 & Christian              \\\\\n\t millenial     & 0.0104463438 & Jewish                 \\\\\n\t not millenial & 0.0189109373 & Jewish                 \\\\\n\t millenial     & 0.2317188984 & Catholic               \\\\\n\t not millenial & 0.2390031605 & Catholic               \\\\\n\t millenial     & 0.0142450142 & Other                  \\\\\n\t not millenial & 0.0099476711 & Other                  \\\\\n\t millenial     & 0.0056980057 & Inter-nondenominational\\\\\n\t not millenial & 0.0050256463 & Inter-nondenominational\\\\\n\t millenial     & 0.0052231719 & Hinduism               \\\\\n\t not millenial & 0.0030568364 & Hinduism               \\\\\n\t millenial     & 0.0028490028 & Native american        \\\\\n\t not millenial & 0.0008807834 & Native american        \\\\\n\t millenial     & 0.0018993352 & No answer              \\\\\n\t not millenial & 0.0041966737 & No answer              \\\\\n\t millenial     & 0.0071225071 & Buddhism               \\\\\n\t not millenial & 0.0068390239 & Buddhism               \\\\\n\t millenial     & 0.0080721747 & Moslem/islam           \\\\\n\t not millenial & 0.0044557277 & Moslem/islam           \\\\\n\t millenial     & 0.0018993352 & Other eastern          \\\\\n\t not millenial & 0.0014507020 & Other eastern          \\\\\n\t millenial     & 0.0009496676 & Don't know             \\\\\n\t not millenial & 0.0006735402 & Don't know             \\\\\n\\end{tabular}\n",
            "text/markdown": "\nA tibble: 30 × 3\n\n| millenial &lt;chr&gt; | Propotion &lt;dbl&gt; | religion &lt;fct&gt; |\n|---|---|---|\n| millenial     | 0.3584995252 | Protestant              |\n| not millenial | 0.5213201389 | Protestant              |\n| millenial     | 0.0023741690 | Orthodox-christian      |\n| not millenial | 0.0046629708 | Orthodox-christian      |\n| millenial     | 0.2920227920 | None                    |\n| not millenial | 0.1501994715 | None                    |\n| millenial     | 0.0569800570 | Christian               |\n| not millenial | 0.0293767162 | Christian               |\n| millenial     | 0.0104463438 | Jewish                  |\n| not millenial | 0.0189109373 | Jewish                  |\n| millenial     | 0.2317188984 | Catholic                |\n| not millenial | 0.2390031605 | Catholic                |\n| millenial     | 0.0142450142 | Other                   |\n| not millenial | 0.0099476711 | Other                   |\n| millenial     | 0.0056980057 | Inter-nondenominational |\n| not millenial | 0.0050256463 | Inter-nondenominational |\n| millenial     | 0.0052231719 | Hinduism                |\n| not millenial | 0.0030568364 | Hinduism                |\n| millenial     | 0.0028490028 | Native american         |\n| not millenial | 0.0008807834 | Native american         |\n| millenial     | 0.0018993352 | No answer               |\n| not millenial | 0.0041966737 | No answer               |\n| millenial     | 0.0071225071 | Buddhism                |\n| not millenial | 0.0068390239 | Buddhism                |\n| millenial     | 0.0080721747 | Moslem/islam            |\n| not millenial | 0.0044557277 | Moslem/islam            |\n| millenial     | 0.0018993352 | Other eastern           |\n| not millenial | 0.0014507020 | Other eastern           |\n| millenial     | 0.0009496676 | Don't know              |\n| not millenial | 0.0006735402 | Don't know              |\n\n",
            "text/html": [
              "<table class=\"dataframe\">\n",
              "<caption>A tibble: 30 × 3</caption>\n",
              "<thead>\n",
              "\t<tr><th scope=col>millenial</th><th scope=col>Propotion</th><th scope=col>religion</th></tr>\n",
              "\t<tr><th scope=col>&lt;chr&gt;</th><th scope=col>&lt;dbl&gt;</th><th scope=col>&lt;fct&gt;</th></tr>\n",
              "</thead>\n",
              "<tbody>\n",
              "\t<tr><td>millenial    </td><td>0.3584995252</td><td>Protestant             </td></tr>\n",
              "\t<tr><td>not millenial</td><td>0.5213201389</td><td>Protestant             </td></tr>\n",
              "\t<tr><td>millenial    </td><td>0.0023741690</td><td>Orthodox-christian     </td></tr>\n",
              "\t<tr><td>not millenial</td><td>0.0046629708</td><td>Orthodox-christian     </td></tr>\n",
              "\t<tr><td>millenial    </td><td>0.2920227920</td><td>None                   </td></tr>\n",
              "\t<tr><td>not millenial</td><td>0.1501994715</td><td>None                   </td></tr>\n",
              "\t<tr><td>millenial    </td><td>0.0569800570</td><td>Christian              </td></tr>\n",
              "\t<tr><td>not millenial</td><td>0.0293767162</td><td>Christian              </td></tr>\n",
              "\t<tr><td>millenial    </td><td>0.0104463438</td><td>Jewish                 </td></tr>\n",
              "\t<tr><td>not millenial</td><td>0.0189109373</td><td>Jewish                 </td></tr>\n",
              "\t<tr><td>millenial    </td><td>0.2317188984</td><td>Catholic               </td></tr>\n",
              "\t<tr><td>not millenial</td><td>0.2390031605</td><td>Catholic               </td></tr>\n",
              "\t<tr><td>millenial    </td><td>0.0142450142</td><td>Other                  </td></tr>\n",
              "\t<tr><td>not millenial</td><td>0.0099476711</td><td>Other                  </td></tr>\n",
              "\t<tr><td>millenial    </td><td>0.0056980057</td><td>Inter-nondenominational</td></tr>\n",
              "\t<tr><td>not millenial</td><td>0.0050256463</td><td>Inter-nondenominational</td></tr>\n",
              "\t<tr><td>millenial    </td><td>0.0052231719</td><td>Hinduism               </td></tr>\n",
              "\t<tr><td>not millenial</td><td>0.0030568364</td><td>Hinduism               </td></tr>\n",
              "\t<tr><td>millenial    </td><td>0.0028490028</td><td>Native american        </td></tr>\n",
              "\t<tr><td>not millenial</td><td>0.0008807834</td><td>Native american        </td></tr>\n",
              "\t<tr><td>millenial    </td><td>0.0018993352</td><td>No answer              </td></tr>\n",
              "\t<tr><td>not millenial</td><td>0.0041966737</td><td>No answer              </td></tr>\n",
              "\t<tr><td>millenial    </td><td>0.0071225071</td><td>Buddhism               </td></tr>\n",
              "\t<tr><td>not millenial</td><td>0.0068390239</td><td>Buddhism               </td></tr>\n",
              "\t<tr><td>millenial    </td><td>0.0080721747</td><td>Moslem/islam           </td></tr>\n",
              "\t<tr><td>not millenial</td><td>0.0044557277</td><td>Moslem/islam           </td></tr>\n",
              "\t<tr><td>millenial    </td><td>0.0018993352</td><td>Other eastern          </td></tr>\n",
              "\t<tr><td>not millenial</td><td>0.0014507020</td><td>Other eastern          </td></tr>\n",
              "\t<tr><td>millenial    </td><td>0.0009496676</td><td>Don't know             </td></tr>\n",
              "\t<tr><td>not millenial</td><td>0.0006735402</td><td>Don't know             </td></tr>\n",
              "</tbody>\n",
              "</table>\n"
            ]
          },
          "metadata": {
            "tags": []
          }
        }
      ]
    },
    {
      "cell_type": "code",
      "metadata": {
        "colab": {
          "base_uri": "https://localhost:8080/",
          "height": 982
        },
        "id": "qDpya1bI0cYJ",
        "outputId": "e6ac8d0b-82a5-453f-d650-c946ea09095a"
      },
      "source": [
        "#options(repr.plot.width=10, repr.plot.height=6)\n",
        "\n",
        "relTrend_wide = relTrend %>% \n",
        "pivot_wider(names_from = millenial, values_from = Propotion)\n",
        "\n",
        "relTrend_wide \n",
        "\n",
        "relTrend_wide %>% mutate(change = 100 - 100*(`not millenial`/millenial)) %>%\n",
        "ggplot(aes(x=religion, y = change)) + geom_col() +\n",
        "theme(axis.text.x = element_text(angle = 60, hjust = 1))"
      ],
      "execution_count": 38,
      "outputs": [
        {
          "output_type": "display_data",
          "data": {
            "text/plain": [
              "   religion                millenial    not millenial\n",
              "1  Protestant              0.3584995252 0.5213201389 \n",
              "2  Orthodox-christian      0.0023741690 0.0046629708 \n",
              "3  None                    0.2920227920 0.1501994715 \n",
              "4  Christian               0.0569800570 0.0293767162 \n",
              "5  Jewish                  0.0104463438 0.0189109373 \n",
              "6  Catholic                0.2317188984 0.2390031605 \n",
              "7  Other                   0.0142450142 0.0099476711 \n",
              "8  Inter-nondenominational 0.0056980057 0.0050256463 \n",
              "9  Hinduism                0.0052231719 0.0030568364 \n",
              "10 Native american         0.0028490028 0.0008807834 \n",
              "11 No answer               0.0018993352 0.0041966737 \n",
              "12 Buddhism                0.0071225071 0.0068390239 \n",
              "13 Moslem/islam            0.0080721747 0.0044557277 \n",
              "14 Other eastern           0.0018993352 0.0014507020 \n",
              "15 Don't know              0.0009496676 0.0006735402 "
            ],
            "text/latex": "A tibble: 15 × 3\n\\begin{tabular}{lll}\n religion & millenial & not millenial\\\\\n <fct> & <dbl> & <dbl>\\\\\n\\hline\n\t Protestant              & 0.3584995252 & 0.5213201389\\\\\n\t Orthodox-christian      & 0.0023741690 & 0.0046629708\\\\\n\t None                    & 0.2920227920 & 0.1501994715\\\\\n\t Christian               & 0.0569800570 & 0.0293767162\\\\\n\t Jewish                  & 0.0104463438 & 0.0189109373\\\\\n\t Catholic                & 0.2317188984 & 0.2390031605\\\\\n\t Other                   & 0.0142450142 & 0.0099476711\\\\\n\t Inter-nondenominational & 0.0056980057 & 0.0050256463\\\\\n\t Hinduism                & 0.0052231719 & 0.0030568364\\\\\n\t Native american         & 0.0028490028 & 0.0008807834\\\\\n\t No answer               & 0.0018993352 & 0.0041966737\\\\\n\t Buddhism                & 0.0071225071 & 0.0068390239\\\\\n\t Moslem/islam            & 0.0080721747 & 0.0044557277\\\\\n\t Other eastern           & 0.0018993352 & 0.0014507020\\\\\n\t Don't know              & 0.0009496676 & 0.0006735402\\\\\n\\end{tabular}\n",
            "text/markdown": "\nA tibble: 15 × 3\n\n| religion &lt;fct&gt; | millenial &lt;dbl&gt; | not millenial &lt;dbl&gt; |\n|---|---|---|\n| Protestant              | 0.3584995252 | 0.5213201389 |\n| Orthodox-christian      | 0.0023741690 | 0.0046629708 |\n| None                    | 0.2920227920 | 0.1501994715 |\n| Christian               | 0.0569800570 | 0.0293767162 |\n| Jewish                  | 0.0104463438 | 0.0189109373 |\n| Catholic                | 0.2317188984 | 0.2390031605 |\n| Other                   | 0.0142450142 | 0.0099476711 |\n| Inter-nondenominational | 0.0056980057 | 0.0050256463 |\n| Hinduism                | 0.0052231719 | 0.0030568364 |\n| Native american         | 0.0028490028 | 0.0008807834 |\n| No answer               | 0.0018993352 | 0.0041966737 |\n| Buddhism                | 0.0071225071 | 0.0068390239 |\n| Moslem/islam            | 0.0080721747 | 0.0044557277 |\n| Other eastern           | 0.0018993352 | 0.0014507020 |\n| Don't know              | 0.0009496676 | 0.0006735402 |\n\n",
            "text/html": [
              "<table class=\"dataframe\">\n",
              "<caption>A tibble: 15 × 3</caption>\n",
              "<thead>\n",
              "\t<tr><th scope=col>religion</th><th scope=col>millenial</th><th scope=col>not millenial</th></tr>\n",
              "\t<tr><th scope=col>&lt;fct&gt;</th><th scope=col>&lt;dbl&gt;</th><th scope=col>&lt;dbl&gt;</th></tr>\n",
              "</thead>\n",
              "<tbody>\n",
              "\t<tr><td>Protestant             </td><td>0.3584995252</td><td>0.5213201389</td></tr>\n",
              "\t<tr><td>Orthodox-christian     </td><td>0.0023741690</td><td>0.0046629708</td></tr>\n",
              "\t<tr><td>None                   </td><td>0.2920227920</td><td>0.1501994715</td></tr>\n",
              "\t<tr><td>Christian              </td><td>0.0569800570</td><td>0.0293767162</td></tr>\n",
              "\t<tr><td>Jewish                 </td><td>0.0104463438</td><td>0.0189109373</td></tr>\n",
              "\t<tr><td>Catholic               </td><td>0.2317188984</td><td>0.2390031605</td></tr>\n",
              "\t<tr><td>Other                  </td><td>0.0142450142</td><td>0.0099476711</td></tr>\n",
              "\t<tr><td>Inter-nondenominational</td><td>0.0056980057</td><td>0.0050256463</td></tr>\n",
              "\t<tr><td>Hinduism               </td><td>0.0052231719</td><td>0.0030568364</td></tr>\n",
              "\t<tr><td>Native american        </td><td>0.0028490028</td><td>0.0008807834</td></tr>\n",
              "\t<tr><td>No answer              </td><td>0.0018993352</td><td>0.0041966737</td></tr>\n",
              "\t<tr><td>Buddhism               </td><td>0.0071225071</td><td>0.0068390239</td></tr>\n",
              "\t<tr><td>Moslem/islam           </td><td>0.0080721747</td><td>0.0044557277</td></tr>\n",
              "\t<tr><td>Other eastern          </td><td>0.0018993352</td><td>0.0014507020</td></tr>\n",
              "\t<tr><td>Don't know             </td><td>0.0009496676</td><td>0.0006735402</td></tr>\n",
              "</tbody>\n",
              "</table>\n"
            ]
          },
          "metadata": {
            "tags": []
          }
        },
        {
          "output_type": "display_data",
          "data": {
            "image/png": "[encoded data removed]",
            "text/plain": [
              "plot without title"
            ]
          },
          "metadata": {
            "tags": [],
            "image/png": {
              "width": 420,
              "height": 420
            }
          }
        }
      ]
    }
  ]
}